{
  "cells": [
    {
      "cell_type": "markdown",
      "metadata": {
        "id": "view-in-github",
        "colab_type": "text"
      },
      "source": [
        "<a href=\"https://colab.research.google.com/github/Plusholic/Bayes_study/blob/main/chap04.ipynb\" target=\"_parent\"><img src=\"https://colab.research.google.com/assets/colab-badge.svg\" alt=\"Open In Colab\"/></a>"
      ]
    },
    {
      "cell_type": "markdown",
      "metadata": {
        "id": "HZqjUcFkufjV"
      },
      "source": [
        "# Estimating Proportions"
      ]
    },
    {
      "cell_type": "markdown",
      "metadata": {
        "tags": [],
        "id": "3crPQmZQufjX"
      },
      "source": [
        "Think Bayes, Second Edition\n",
        "\n",
        "Copyright 2020 Allen B. Downey\n",
        "\n",
        "License: [Attribution-NonCommercial-ShareAlike 4.0 International (CC BY-NC-SA 4.0)](https://creativecommons.org/licenses/by-nc-sa/4.0/)"
      ]
    },
    {
      "cell_type": "code",
      "execution_count": 1,
      "metadata": {
        "execution": {
          "iopub.execute_input": "2021-04-16T19:35:15.280090Z",
          "iopub.status.busy": "2021-04-16T19:35:15.279177Z",
          "iopub.status.idle": "2021-04-16T19:35:15.281327Z",
          "shell.execute_reply": "2021-04-16T19:35:15.281733Z"
        },
        "tags": [],
        "id": "xYh8ZpKIufjX",
        "outputId": "1f7b3a45-89eb-44ff-8a9b-f762e9e32a47",
        "colab": {
          "base_uri": "https://localhost:8080/"
        }
      },
      "outputs": [
        {
          "output_type": "stream",
          "name": "stdout",
          "text": [
            "Looking in indexes: https://pypi.org/simple, https://us-python.pkg.dev/colab-wheels/public/simple/\n",
            "Collecting empiricaldist\n",
            "  Downloading empiricaldist-0.6.8.tar.gz (12 kB)\n",
            "  Installing build dependencies ... \u001b[?25l\u001b[?25hdone\n",
            "  Getting requirements to build wheel ... \u001b[?25l\u001b[?25hdone\n",
            "  Preparing metadata (pyproject.toml) ... \u001b[?25l\u001b[?25hdone\n",
            "Building wheels for collected packages: empiricaldist\n",
            "  Building wheel for empiricaldist (pyproject.toml) ... \u001b[?25l\u001b[?25hdone\n",
            "  Created wheel for empiricaldist: filename=empiricaldist-0.6.8-py3-none-any.whl size=12125 sha256=9899f8abfd8c3e3a4af451ba65717063e7258aef64d06c01389ba33c91afb795\n",
            "  Stored in directory: /root/.cache/pip/wheels/c2/3f/cf/74b5adbcea4efaae43ce168e622e3eb8dbc1251d5d730dd245\n",
            "Successfully built empiricaldist\n",
            "Installing collected packages: empiricaldist\n",
            "Successfully installed empiricaldist-0.6.8\n"
          ]
        }
      ],
      "source": [
        "# If we're running on Colab, install empiricaldist\n",
        "# https://pypi.org/project/empiricaldist/\n",
        "\n",
        "import sys\n",
        "IN_COLAB = 'google.colab' in sys.modules\n",
        "\n",
        "if IN_COLAB:\n",
        "    !pip install empiricaldist"
      ]
    },
    {
      "cell_type": "code",
      "execution_count": 2,
      "metadata": {
        "execution": {
          "iopub.execute_input": "2021-04-16T19:35:15.285811Z",
          "iopub.status.busy": "2021-04-16T19:35:15.285365Z",
          "iopub.status.idle": "2021-04-16T19:35:15.287474Z",
          "shell.execute_reply": "2021-04-16T19:35:15.287081Z"
        },
        "tags": [],
        "id": "9_8U2Vd4ufjY",
        "outputId": "e8c03480-153e-4070-87c6-c531f35ea45d",
        "colab": {
          "base_uri": "https://localhost:8080/"
        }
      },
      "outputs": [
        {
          "output_type": "stream",
          "name": "stdout",
          "text": [
            "Downloaded utils.py\n"
          ]
        }
      ],
      "source": [
        "# Get utils.py\n",
        "\n",
        "from os.path import basename, exists\n",
        "\n",
        "def download(url):\n",
        "    filename = basename(url)\n",
        "    if not exists(filename):\n",
        "        from urllib.request import urlretrieve\n",
        "        local, _ = urlretrieve(url, filename)\n",
        "        print('Downloaded ' + local)\n",
        "    \n",
        "download('https://github.com/AllenDowney/ThinkBayes2/raw/master/soln/utils.py')"
      ]
    },
    {
      "cell_type": "code",
      "execution_count": 5,
      "metadata": {
        "execution": {
          "iopub.execute_input": "2021-04-16T19:35:15.291181Z",
          "iopub.status.busy": "2021-04-16T19:35:15.290518Z",
          "iopub.status.idle": "2021-04-16T19:35:15.978391Z",
          "shell.execute_reply": "2021-04-16T19:35:15.977936Z"
        },
        "tags": [],
        "id": "Hl-TXbFbufjY"
      },
      "outputs": [],
      "source": [
        "from utils import set_pyplot_params\n",
        "set_pyplot_params()"
      ]
    },
    {
      "cell_type": "markdown",
      "metadata": {
        "id": "6rpEEhjUufjY"
      },
      "source": [
        "In the previous chapter we solved the 101 Bowls Problem, and I admitted that it is not really about guessing which bowl the cookies came from; it is about estimating proportions.\n",
        "\n",
        "In this chapter, we take another step toward Bayesian statistics by solving the Euro problem.\n",
        "We'll start with the same prior distribution, and we'll see that the update is the same, mathematically.\n",
        "But I will argue that it is a different problem, philosophically, and use it to introduce two defining elements of Bayesian statistics: choosing prior distributions, and using probability to represent the unknown."
      ]
    },
    {
      "cell_type": "markdown",
      "metadata": {
        "id": "X3X2kZnbufjY"
      },
      "source": [
        "## The Euro Problem\n",
        "\n",
        "In *Information Theory, Inference, and Learning Algorithms*, David MacKay poses this problem:\n",
        "\n",
        "\"A statistical statement appeared in *The Guardian* on Friday January 4, 2002:\n",
        "\n",
        "> When spun on edge 250 times, a Belgian one-euro coin came up heads 140 times and tails 110.  \\`It looks very suspicious to me,' said Barry Blight, a statistics lecturer at the London School of Economics.  \\`If the coin were unbiased, the chance of getting a result as extreme as that would be less than 7%.'\n",
        "\n",
        "\"But [MacKay asks] do these data give evidence that the coin is biased rather than fair?\"\n",
        "\n",
        "To answer that question, we'll proceed in two steps.\n",
        "First we'll use the binomial distribution to see where that 7% came from; then we'll use Bayes's Theorem to estimate the probability that this coin comes up heads.\n"
      ]
    },
    {
      "cell_type": "markdown",
      "metadata": {
        "id": "gESC3lK1ufjZ"
      },
      "source": [
        "## The Binomial Distribution\n",
        "\n",
        "Suppose I tell you that a coin is \"fair\", that is, the probability of heads is 50%.  If you spin it twice, there are four outcomes: `HH`, `HT`, `TH`, and `TT`.  All four outcomes have the same probability, 25%.\n",
        "\n",
        "If we add up the total number of heads, there are three possible results: 0, 1, or 2.  The probabilities of 0 and 2 are 25%, and the probability of 1 is 50%.\n",
        "\n",
        "More generally, suppose the probability of heads is $p$ and we spin the coin $n$ times.  The probability that we get a total of $k$ heads is given by the [binomial distribution](https://en.wikipedia.org/wiki/Binomial_distribution):\n",
        "\n",
        "$$\\binom{n}{k} p^k (1-p)^{n-k}$$\n",
        "\n",
        "for any value of $k$ from 0 to $n$, including both.\n",
        "The term $\\binom{n}{k}$ is the [binomial coefficient](https://en.wikipedia.org/wiki/Binomial_coefficient), usually pronounced \"n choose k\".\n",
        "\n",
        "We could evaluate this expression ourselves, but we can also use the SciPy function `binom.pmf`.\n",
        "For example, if we flip a coin `n=2` times and the probability of heads is `p=0.5`, here's the probability of getting `k=1` heads:"
      ]
    },
    {
      "cell_type": "code",
      "execution_count": 6,
      "metadata": {
        "execution": {
          "iopub.execute_input": "2021-04-16T19:35:15.984511Z",
          "iopub.status.busy": "2021-04-16T19:35:15.983985Z",
          "iopub.status.idle": "2021-04-16T19:35:15.986546Z",
          "shell.execute_reply": "2021-04-16T19:35:15.986891Z"
        },
        "id": "yRv5AXO9ufjZ",
        "outputId": "0908d8df-f40c-479e-e216-febd710d0b8c",
        "colab": {
          "base_uri": "https://localhost:8080/"
        }
      },
      "outputs": [
        {
          "output_type": "execute_result",
          "data": {
            "text/plain": [
              "0.5000000000000002"
            ]
          },
          "metadata": {},
          "execution_count": 6
        }
      ],
      "source": [
        "from scipy.stats import binom\n",
        "\n",
        "n = 2\n",
        "p = 0.5\n",
        "k = 1\n",
        "\n",
        "binom.pmf(k, n, p)"
      ]
    },
    {
      "cell_type": "markdown",
      "metadata": {
        "id": "74WjLXX6ufjZ"
      },
      "source": [
        "Instead of providing a single value for `k`, we can also call `binom.pmf` with an array of values."
      ]
    },
    {
      "cell_type": "code",
      "execution_count": 7,
      "metadata": {
        "execution": {
          "iopub.execute_input": "2021-04-16T19:35:15.991484Z",
          "iopub.status.busy": "2021-04-16T19:35:15.990973Z",
          "iopub.status.idle": "2021-04-16T19:35:15.993845Z",
          "shell.execute_reply": "2021-04-16T19:35:15.993471Z"
        },
        "id": "8HrMPEWBufjZ",
        "outputId": "632dd6f7-ea2c-47ff-afd7-9f7266c0493a",
        "colab": {
          "base_uri": "https://localhost:8080/"
        }
      },
      "outputs": [
        {
          "output_type": "execute_result",
          "data": {
            "text/plain": [
              "array([0.25, 0.5 , 0.25])"
            ]
          },
          "metadata": {},
          "execution_count": 7
        }
      ],
      "source": [
        "import numpy as np\n",
        "ks = np.arange(n+1)\n",
        "\n",
        "ps = binom.pmf(ks, n, p)\n",
        "ps"
      ]
    },
    {
      "cell_type": "markdown",
      "metadata": {
        "id": "xjZ9m7bcufjZ"
      },
      "source": [
        "결과값으로 0, 1, 2회의 앞면이 나올 확률에 대한 넘파이 배열이 나온다.\n",
        "\n",
        "If we put these probabilities in a `Pmf`, the result is the distribution of `k` for the given values of `n` and `p`.\n",
        "\n",
        "Here's what it looks like:"
      ]
    },
    {
      "cell_type": "code",
      "execution_count": 8,
      "metadata": {
        "execution": {
          "iopub.execute_input": "2021-04-16T19:35:16.001144Z",
          "iopub.status.busy": "2021-04-16T19:35:15.998718Z",
          "iopub.status.idle": "2021-04-16T19:35:16.004019Z",
          "shell.execute_reply": "2021-04-16T19:35:16.003641Z"
        },
        "id": "iRuFUGSIufjZ",
        "outputId": "cfb75e83-df30-404a-cb5d-eb5f64b8ba01",
        "colab": {
          "base_uri": "https://localhost:8080/",
          "height": 143
        }
      },
      "outputs": [
        {
          "output_type": "execute_result",
          "data": {
            "text/plain": [
              "0    0.25\n",
              "1    0.50\n",
              "2    0.25\n",
              "Name: , dtype: float64"
            ],
            "text/html": [
              "<div>\n",
              "<style scoped>\n",
              "    .dataframe tbody tr th:only-of-type {\n",
              "        vertical-align: middle;\n",
              "    }\n",
              "\n",
              "    .dataframe tbody tr th {\n",
              "        vertical-align: top;\n",
              "    }\n",
              "\n",
              "    .dataframe thead th {\n",
              "        text-align: right;\n",
              "    }\n",
              "</style>\n",
              "<table border=\"1\" class=\"dataframe\">\n",
              "  <thead>\n",
              "    <tr style=\"text-align: right;\">\n",
              "      <th></th>\n",
              "      <th>probs</th>\n",
              "    </tr>\n",
              "  </thead>\n",
              "  <tbody>\n",
              "    <tr>\n",
              "      <th>0</th>\n",
              "      <td>0.25</td>\n",
              "    </tr>\n",
              "    <tr>\n",
              "      <th>1</th>\n",
              "      <td>0.50</td>\n",
              "    </tr>\n",
              "    <tr>\n",
              "      <th>2</th>\n",
              "      <td>0.25</td>\n",
              "    </tr>\n",
              "  </tbody>\n",
              "</table>\n",
              "</div>"
            ]
          },
          "metadata": {},
          "execution_count": 8
        }
      ],
      "source": [
        "from empiricaldist import Pmf\n",
        "\n",
        "pmf_k = Pmf(ps, ks)\n",
        "pmf_k"
      ]
    },
    {
      "cell_type": "markdown",
      "metadata": {
        "id": "HqX33f8fufja"
      },
      "source": [
        "The following function computes the binomial distribution for given values of `n` and `p` and returns a `Pmf` that represents the result."
      ]
    },
    {
      "cell_type": "code",
      "execution_count": 9,
      "metadata": {
        "execution": {
          "iopub.execute_input": "2021-04-16T19:35:16.007619Z",
          "iopub.status.busy": "2021-04-16T19:35:16.007151Z",
          "iopub.status.idle": "2021-04-16T19:35:16.009639Z",
          "shell.execute_reply": "2021-04-16T19:35:16.009210Z"
        },
        "id": "kp-xIpidufja"
      },
      "outputs": [],
      "source": [
        "def make_binomial(n, p):\n",
        "    \"\"\"Make a binomial Pmf.\"\"\"\n",
        "    ks = np.arange(n+1)\n",
        "    ps = binom.pmf(ks, n, p)\n",
        "    return Pmf(ps, ks)"
      ]
    },
    {
      "cell_type": "markdown",
      "metadata": {
        "id": "wvVf-fRxufja"
      },
      "source": [
        "Here's what it looks like with `n=250` and `p=0.5`:"
      ]
    },
    {
      "cell_type": "code",
      "execution_count": 10,
      "metadata": {
        "execution": {
          "iopub.execute_input": "2021-04-16T19:35:16.013574Z",
          "iopub.status.busy": "2021-04-16T19:35:16.013024Z",
          "iopub.status.idle": "2021-04-16T19:35:16.014749Z",
          "shell.execute_reply": "2021-04-16T19:35:16.015091Z"
        },
        "id": "890WF8GEufja"
      },
      "outputs": [],
      "source": [
        "pmf_k = make_binomial(n=250, p=0.5)"
      ]
    },
    {
      "cell_type": "code",
      "execution_count": 11,
      "metadata": {
        "execution": {
          "iopub.execute_input": "2021-04-16T19:35:16.018757Z",
          "iopub.status.busy": "2021-04-16T19:35:16.018090Z",
          "iopub.status.idle": "2021-04-16T19:35:16.199321Z",
          "shell.execute_reply": "2021-04-16T19:35:16.198864Z"
        },
        "tags": [],
        "id": "zDK23HMbufja",
        "outputId": "2e32282a-f66e-40e9-e8ec-e0615d4b0d91",
        "colab": {
          "base_uri": "https://localhost:8080/",
          "height": 297
        }
      },
      "outputs": [
        {
          "output_type": "display_data",
          "data": {
            "text/plain": [
              "<Figure size 432x288 with 1 Axes>"
            ],
            "image/png": "[encoded data removed]"
          },
          "metadata": {
            "needs_background": "light"
          }
        }
      ],
      "source": [
        "from utils import decorate\n",
        "\n",
        "pmf_k.plot(label='n=250, p=0.5')\n",
        "\n",
        "decorate(xlabel='Number of heads (k)',\n",
        "         ylabel='PMF',\n",
        "         title='Binomial distribution')"
      ]
    },
    {
      "cell_type": "markdown",
      "metadata": {
        "id": "IayCqBaWufja"
      },
      "source": [
        "이 분포에서 가장 큰 확률을 가지는 값은 125다."
      ]
    },
    {
      "cell_type": "code",
      "execution_count": 12,
      "metadata": {
        "execution": {
          "iopub.execute_input": "2021-04-16T19:35:16.203545Z",
          "iopub.status.busy": "2021-04-16T19:35:16.202915Z",
          "iopub.status.idle": "2021-04-16T19:35:16.205298Z",
          "shell.execute_reply": "2021-04-16T19:35:16.205727Z"
        },
        "id": "Wv68S240ufja",
        "outputId": "ca0b408e-6007-42df-856e-d375a9794b3e",
        "colab": {
          "base_uri": "https://localhost:8080/"
        }
      },
      "outputs": [
        {
          "output_type": "execute_result",
          "data": {
            "text/plain": [
              "125"
            ]
          },
          "metadata": {},
          "execution_count": 12
        }
      ],
      "source": [
        "pmf_k.max_prob()"
      ]
    },
    {
      "cell_type": "markdown",
      "metadata": {
        "id": "1dQIdVkYufja"
      },
      "source": [
        "하지만 이 값의 확률이 가장 크다고 해도, 125회의 앞면이 나올 확률은 5% 정도밖에 안된다."
      ]
    },
    {
      "cell_type": "code",
      "execution_count": 13,
      "metadata": {
        "execution": {
          "iopub.execute_input": "2021-04-16T19:35:16.209849Z",
          "iopub.status.busy": "2021-04-16T19:35:16.209205Z",
          "iopub.status.idle": "2021-04-16T19:35:16.211552Z",
          "shell.execute_reply": "2021-04-16T19:35:16.211897Z"
        },
        "id": "k6BZ0JLxufja",
        "outputId": "a9609468-fb70-4626-f9b3-e683fbb5c0c1",
        "colab": {
          "base_uri": "https://localhost:8080/"
        }
      },
      "outputs": [
        {
          "output_type": "execute_result",
          "data": {
            "text/plain": [
              "0.050412213147309655"
            ]
          },
          "metadata": {},
          "execution_count": 13
        }
      ],
      "source": [
        "pmf_k[125]"
      ]
    },
    {
      "cell_type": "markdown",
      "metadata": {
        "id": "2VSqpJ4pufja"
      },
      "source": [
        "In MacKay's example, we got 140 heads, which is even less likely than 125:"
      ]
    },
    {
      "cell_type": "code",
      "execution_count": 14,
      "metadata": {
        "execution": {
          "iopub.execute_input": "2021-04-16T19:35:16.215301Z",
          "iopub.status.busy": "2021-04-16T19:35:16.214671Z",
          "iopub.status.idle": "2021-04-16T19:35:16.217481Z",
          "shell.execute_reply": "2021-04-16T19:35:16.216988Z"
        },
        "id": "iBJwgOzBufja",
        "outputId": "407237b9-f65a-40b5-d22e-b803619238bf",
        "colab": {
          "base_uri": "https://localhost:8080/"
        }
      },
      "outputs": [
        {
          "output_type": "execute_result",
          "data": {
            "text/plain": [
              "0.008357181724918204"
            ]
          },
          "metadata": {},
          "execution_count": 14
        }
      ],
      "source": [
        "pmf_k[140]"
      ]
    },
    {
      "cell_type": "markdown",
      "metadata": {
        "id": "sDJzpoCsufja"
      },
      "source": [
        "In the article MacKay quotes, the statistician says, \"If the coin were unbiased the chance of getting a result as extreme as that would be less than 7%.\"\n",
        "\n",
        "We can use the binomial distribution to check his math.  The following function takes a PMF and computes the total probability of quantities greater than or equal to `threshold`. "
      ]
    },
    {
      "cell_type": "code",
      "execution_count": 15,
      "metadata": {
        "execution": {
          "iopub.execute_input": "2021-04-16T19:35:16.220900Z",
          "iopub.status.busy": "2021-04-16T19:35:16.220442Z",
          "iopub.status.idle": "2021-04-16T19:35:16.222508Z",
          "shell.execute_reply": "2021-04-16T19:35:16.222121Z"
        },
        "id": "xn9fVFkqufja"
      },
      "outputs": [],
      "source": [
        "def prob_ge(pmf, threshold):\n",
        "    \"\"\"Probability of quantities greater than threshold.\"\"\"\n",
        "    ge = (pmf.qs >= threshold)\n",
        "    total = pmf[ge].sum()\n",
        "    return total"
      ]
    },
    {
      "cell_type": "markdown",
      "metadata": {
        "id": "Iu-ONis1ufja"
      },
      "source": [
        "140개 이상의 앞면이 나올 확률은 다음과 같다."
      ]
    },
    {
      "cell_type": "code",
      "execution_count": 16,
      "metadata": {
        "execution": {
          "iopub.execute_input": "2021-04-16T19:35:16.226137Z",
          "iopub.status.busy": "2021-04-16T19:35:16.225726Z",
          "iopub.status.idle": "2021-04-16T19:35:16.229538Z",
          "shell.execute_reply": "2021-04-16T19:35:16.229060Z"
        },
        "id": "4GCyyYYKufja",
        "outputId": "a1e97461-9d1f-4899-8ebc-c578c6d1f713",
        "colab": {
          "base_uri": "https://localhost:8080/"
        }
      },
      "outputs": [
        {
          "output_type": "execute_result",
          "data": {
            "text/plain": [
              "0.03321057562002163"
            ]
          },
          "metadata": {},
          "execution_count": 16
        }
      ],
      "source": [
        "prob_ge(pmf_k, 140)"
      ]
    },
    {
      "cell_type": "markdown",
      "metadata": {
        "id": "XqvxvInSufja"
      },
      "source": [
        "`Pmf` provides a method that does the same computation."
      ]
    },
    {
      "cell_type": "code",
      "execution_count": 17,
      "metadata": {
        "execution": {
          "iopub.execute_input": "2021-04-16T19:35:16.233411Z",
          "iopub.status.busy": "2021-04-16T19:35:16.232859Z",
          "iopub.status.idle": "2021-04-16T19:35:16.235708Z",
          "shell.execute_reply": "2021-04-16T19:35:16.235339Z"
        },
        "id": "uZ8TdxCuufjb",
        "outputId": "f33aae07-3337-4f96-83b9-e2a6da06382a",
        "colab": {
          "base_uri": "https://localhost:8080/"
        }
      },
      "outputs": [
        {
          "output_type": "execute_result",
          "data": {
            "text/plain": [
              "0.03321057562002163"
            ]
          },
          "metadata": {},
          "execution_count": 17
        }
      ],
      "source": [
        "pmf_k.prob_ge(140)"
      ]
    },
    {
      "cell_type": "markdown",
      "metadata": {
        "id": "cZHdhOkDufjb"
      },
      "source": [
        "The result is about 3.3%, which is less than the quoted 7%.  The reason for the difference is that the statistician includes all outcomes \"as extreme as\" 140, which includes outcomes less than or equal to 110.\n",
        "\n",
        "To see where that comes from, recall that the expected number of heads is 125.  If we get 140, we've exceeded that expectation by 15.\n",
        "And if we get 110, we have come up short by 15.\n",
        "\n",
        "다음 그림과 같이 7%는 이 양쪽 '꼬리'를 합한 값이다."
      ]
    },
    {
      "cell_type": "code",
      "execution_count": 18,
      "metadata": {
        "execution": {
          "iopub.execute_input": "2021-04-16T19:35:16.240518Z",
          "iopub.status.busy": "2021-04-16T19:35:16.239833Z",
          "iopub.status.idle": "2021-04-16T19:35:16.407998Z",
          "shell.execute_reply": "2021-04-16T19:35:16.408375Z"
        },
        "tags": [],
        "id": "CcRrgKedufjb",
        "outputId": "c08e1d47-87cb-4865-a7db-94846f2b0183",
        "colab": {
          "base_uri": "https://localhost:8080/",
          "height": 297
        }
      },
      "outputs": [
        {
          "output_type": "display_data",
          "data": {
            "text/plain": [
              "<Figure size 432x288 with 1 Axes>"
            ],
            "image/png": "[encoded data removed]"
          },
          "metadata": {
            "needs_background": "light"
          }
        }
      ],
      "source": [
        "import matplotlib.pyplot as plt\n",
        "\n",
        "def fill_below(pmf):\n",
        "    qs = pmf.index\n",
        "    ps = pmf.values\n",
        "    plt.fill_between(qs, ps, 0, color='C5', alpha=0.4)\n",
        "\n",
        "qs = pmf_k.index\n",
        "fill_below(pmf_k[qs>=140])\n",
        "fill_below(pmf_k[qs<=110])\n",
        "pmf_k.plot(label='n=250, p=0.5')\n",
        "\n",
        "decorate(xlabel='Number of heads (k)',\n",
        "         ylabel='PMF',\n",
        "         title='Binomial distribution')"
      ]
    },
    {
      "cell_type": "markdown",
      "metadata": {
        "id": "gp61LgBxufjb"
      },
      "source": [
        "Here's how we compute the total probability of the left tail."
      ]
    },
    {
      "cell_type": "code",
      "execution_count": 19,
      "metadata": {
        "execution": {
          "iopub.execute_input": "2021-04-16T19:35:16.412502Z",
          "iopub.status.busy": "2021-04-16T19:35:16.411979Z",
          "iopub.status.idle": "2021-04-16T19:35:16.414685Z",
          "shell.execute_reply": "2021-04-16T19:35:16.415128Z"
        },
        "id": "PXrOfFU1ufjb",
        "outputId": "fc7bb39f-58da-407d-849b-aeb043925a93",
        "colab": {
          "base_uri": "https://localhost:8080/"
        }
      },
      "outputs": [
        {
          "output_type": "execute_result",
          "data": {
            "text/plain": [
              "0.03321057562002164"
            ]
          },
          "metadata": {},
          "execution_count": 19
        }
      ],
      "source": [
        "pmf_k.prob_le(110)"
      ]
    },
    {
      "cell_type": "markdown",
      "metadata": {
        "id": "B0jLfWvtufjb"
      },
      "source": [
        "결과가 110 보다 작거나 같을 확률 역시 3.3%로, 140처럼 극단적일 총 확률은 6.6% 이다. 이 계산의 핵심은 코인이 공정하다면 극단적인 앖은 나오지 않는다.\n",
        "\n",
        "That's interesting, but it doesn't answer MacKay's question.  Let's see if we can."
      ]
    },
    {
      "cell_type": "markdown",
      "metadata": {
        "id": "rfLWWKXvufjb"
      },
      "source": [
        "## Bayesian Estimation\n",
        "\n",
        "Any given coin has some probability of landing heads up when spun\n",
        "on edge; I'll call this probability `x`.\n",
        "It seems reasonable to believe that `x` depends\n",
        "on physical characteristics of the coin, like the distribution\n",
        "of weight.\n",
        "If a coin is perfectly balanced, we expect `x` to be close to 50%, but\n",
        "for a lopsided coin, `x` might be substantially different.\n",
        "We can use Bayes's theorem and the observed data to estimate `x`.\n",
        "\n",
        "For simplicity, I'll start with a uniform prior, which assumes that all values of `x` are equally likely.\n",
        "That might not be a reasonable assumption, so we'll come back and consider other priors later.\n",
        "\n",
        "We can make a uniform prior like this:"
      ]
    },
    {
      "cell_type": "code",
      "execution_count": 20,
      "metadata": {
        "execution": {
          "iopub.execute_input": "2021-04-16T19:35:16.419440Z",
          "iopub.status.busy": "2021-04-16T19:35:16.418911Z",
          "iopub.status.idle": "2021-04-16T19:35:16.421414Z",
          "shell.execute_reply": "2021-04-16T19:35:16.420923Z"
        },
        "id": "y0KLNR0Vufjb"
      },
      "outputs": [],
      "source": [
        "hypos = np.linspace(0, 1, 101)\n",
        "prior = Pmf(1, hypos)"
      ]
    },
    {
      "cell_type": "code",
      "source": [
        "prior"
      ],
      "metadata": {
        "id": "k8H3XpkFuWt5",
        "outputId": "06f703ad-122a-40c5-f199-7ba0c85b6ee7",
        "colab": {
          "base_uri": "https://localhost:8080/",
          "height": 424
        }
      },
      "execution_count": 23,
      "outputs": [
        {
          "output_type": "execute_result",
          "data": {
            "text/plain": [
              "0.00    1\n",
              "0.01    1\n",
              "0.02    1\n",
              "0.03    1\n",
              "0.04    1\n",
              "       ..\n",
              "0.96    1\n",
              "0.97    1\n",
              "0.98    1\n",
              "0.99    1\n",
              "1.00    1\n",
              "Name: , Length: 101, dtype: int64"
            ],
            "text/html": [
              "<div>\n",
              "<style scoped>\n",
              "    .dataframe tbody tr th:only-of-type {\n",
              "        vertical-align: middle;\n",
              "    }\n",
              "\n",
              "    .dataframe tbody tr th {\n",
              "        vertical-align: top;\n",
              "    }\n",
              "\n",
              "    .dataframe thead th {\n",
              "        text-align: right;\n",
              "    }\n",
              "</style>\n",
              "<table border=\"1\" class=\"dataframe\">\n",
              "  <thead>\n",
              "    <tr style=\"text-align: right;\">\n",
              "      <th></th>\n",
              "      <th>probs</th>\n",
              "    </tr>\n",
              "  </thead>\n",
              "  <tbody>\n",
              "    <tr>\n",
              "      <th>0.00</th>\n",
              "      <td>1</td>\n",
              "    </tr>\n",
              "    <tr>\n",
              "      <th>0.01</th>\n",
              "      <td>1</td>\n",
              "    </tr>\n",
              "    <tr>\n",
              "      <th>0.02</th>\n",
              "      <td>1</td>\n",
              "    </tr>\n",
              "    <tr>\n",
              "      <th>0.03</th>\n",
              "      <td>1</td>\n",
              "    </tr>\n",
              "    <tr>\n",
              "      <th>0.04</th>\n",
              "      <td>1</td>\n",
              "    </tr>\n",
              "    <tr>\n",
              "      <th>...</th>\n",
              "      <td>...</td>\n",
              "    </tr>\n",
              "    <tr>\n",
              "      <th>0.96</th>\n",
              "      <td>1</td>\n",
              "    </tr>\n",
              "    <tr>\n",
              "      <th>0.97</th>\n",
              "      <td>1</td>\n",
              "    </tr>\n",
              "    <tr>\n",
              "      <th>0.98</th>\n",
              "      <td>1</td>\n",
              "    </tr>\n",
              "    <tr>\n",
              "      <th>0.99</th>\n",
              "      <td>1</td>\n",
              "    </tr>\n",
              "    <tr>\n",
              "      <th>1.00</th>\n",
              "      <td>1</td>\n",
              "    </tr>\n",
              "  </tbody>\n",
              "</table>\n",
              "<p>101 rows × 1 columns</p>\n",
              "</div>"
            ]
          },
          "metadata": {},
          "execution_count": 23
        }
      ]
    },
    {
      "cell_type": "markdown",
      "metadata": {
        "id": "muTH_8ahufjb"
      },
      "source": [
        "`hypos` is an array of equally spaced values between 0 and 1.\n",
        "\n",
        "We can use the hypotheses to compute the likelihoods, like this:"
      ]
    },
    {
      "cell_type": "code",
      "execution_count": 21,
      "metadata": {
        "execution": {
          "iopub.execute_input": "2021-04-16T19:35:16.424979Z",
          "iopub.status.busy": "2021-04-16T19:35:16.424456Z",
          "iopub.status.idle": "2021-04-16T19:35:16.426990Z",
          "shell.execute_reply": "2021-04-16T19:35:16.426343Z"
        },
        "id": "Bo0bAkixufjb"
      },
      "outputs": [],
      "source": [
        "likelihood_heads = hypos\n",
        "likelihood_tails = 1 - hypos"
      ]
    },
    {
      "cell_type": "markdown",
      "metadata": {
        "id": "eBmPcUmnufjb"
      },
      "source": [
        "I'll put the likelihoods for heads and tails in a dictionary to make it easier to do the update."
      ]
    },
    {
      "cell_type": "code",
      "execution_count": 22,
      "metadata": {
        "execution": {
          "iopub.execute_input": "2021-04-16T19:35:16.430627Z",
          "iopub.status.busy": "2021-04-16T19:35:16.430082Z",
          "iopub.status.idle": "2021-04-16T19:35:16.431858Z",
          "shell.execute_reply": "2021-04-16T19:35:16.432281Z"
        },
        "id": "H9KnsTy1ufjb"
      },
      "outputs": [],
      "source": [
        "likelihood = {\n",
        "    'H': likelihood_heads,\n",
        "    'T': likelihood_tails\n",
        "}"
      ]
    },
    {
      "cell_type": "markdown",
      "metadata": {
        "id": "MwdjDQDCufjb"
      },
      "source": [
        "`H`를 140번 반복하고 `T`를 110번 반복해서 문자열을 만들어서 데이터를 표현해 보았다."
      ]
    },
    {
      "cell_type": "code",
      "execution_count": 24,
      "metadata": {
        "execution": {
          "iopub.execute_input": "2021-04-16T19:35:16.435992Z",
          "iopub.status.busy": "2021-04-16T19:35:16.435300Z",
          "iopub.status.idle": "2021-04-16T19:35:16.438317Z",
          "shell.execute_reply": "2021-04-16T19:35:16.437680Z"
        },
        "id": "UAcfG6Zhufjb"
      },
      "outputs": [],
      "source": [
        "dataset = 'H' * 140 + 'T' * 110"
      ]
    },
    {
      "cell_type": "markdown",
      "metadata": {
        "id": "3eLm9_Whufjb"
      },
      "source": [
        "The following function does the update."
      ]
    },
    {
      "cell_type": "code",
      "execution_count": 25,
      "metadata": {
        "execution": {
          "iopub.execute_input": "2021-04-16T19:35:16.443376Z",
          "iopub.status.busy": "2021-04-16T19:35:16.442624Z",
          "iopub.status.idle": "2021-04-16T19:35:16.445334Z",
          "shell.execute_reply": "2021-04-16T19:35:16.444773Z"
        },
        "id": "suSsBDKhufjb"
      },
      "outputs": [],
      "source": [
        "def update_euro(pmf, dataset):\n",
        "    \"\"\"Update pmf with a given sequence of H and T.\"\"\"\n",
        "    for data in dataset:\n",
        "        pmf *= likelihood[data]\n",
        "\n",
        "    pmf.normalize()"
      ]
    },
    {
      "cell_type": "markdown",
      "metadata": {
        "id": "rY6QsP53ufjb"
      },
      "source": [
        "The first argument is a `Pmf` that represents the prior.\n",
        "The second argument is a sequence of strings.\n",
        "Each time through the loop, we multiply `pmf` by the likelihood of one outcome, `H` for heads or `T` for tails.\n",
        "\n",
        "Notice that `normalize` is outside the loop, so the posterior distribution only gets normalized once, at the end.\n",
        "That's more efficient than normalizing it after each spin (although we'll see later that it can also cause problems with floating-point arithmetic).\n",
        "\n",
        "Here's how we use `update_euro`."
      ]
    },
    {
      "cell_type": "code",
      "execution_count": 26,
      "metadata": {
        "execution": {
          "iopub.execute_input": "2021-04-16T19:35:16.500780Z",
          "iopub.status.busy": "2021-04-16T19:35:16.500275Z",
          "iopub.status.idle": "2021-04-16T19:35:16.502274Z",
          "shell.execute_reply": "2021-04-16T19:35:16.502659Z"
        },
        "id": "lSqieCwWufjc"
      },
      "outputs": [],
      "source": [
        "posterior = prior.copy()\n",
        "update_euro(posterior, dataset)"
      ]
    },
    {
      "cell_type": "markdown",
      "metadata": {
        "id": "M7M0VnGrufjc"
      },
      "source": [
        "And here's what the posterior looks like."
      ]
    },
    {
      "cell_type": "code",
      "execution_count": 27,
      "metadata": {
        "execution": {
          "iopub.execute_input": "2021-04-16T19:35:16.506448Z",
          "iopub.status.busy": "2021-04-16T19:35:16.505705Z",
          "iopub.status.idle": "2021-04-16T19:35:16.508283Z",
          "shell.execute_reply": "2021-04-16T19:35:16.508696Z"
        },
        "tags": [],
        "id": "8RzYvxJtufjc"
      },
      "outputs": [],
      "source": [
        "def decorate_euro(title):\n",
        "    decorate(xlabel='Proportion of heads (x)',\n",
        "             ylabel='Probability',\n",
        "             title=title)"
      ]
    },
    {
      "cell_type": "code",
      "execution_count": 28,
      "metadata": {
        "execution": {
          "iopub.execute_input": "2021-04-16T19:35:16.525948Z",
          "iopub.status.busy": "2021-04-16T19:35:16.525423Z",
          "iopub.status.idle": "2021-04-16T19:35:16.679678Z",
          "shell.execute_reply": "2021-04-16T19:35:16.679213Z"
        },
        "scrolled": true,
        "tags": [],
        "id": "rSzNg5p4ufjc",
        "outputId": "e92a51cd-8b86-4cf3-d4ac-9b73471253d3",
        "colab": {
          "base_uri": "https://localhost:8080/",
          "height": 297
        }
      },
      "outputs": [
        {
          "output_type": "display_data",
          "data": {
            "text/plain": [
              "<Figure size 432x288 with 1 Axes>"
            ],
            "image/png": "[encoded data removed]"
          },
          "metadata": {
            "needs_background": "light"
          }
        }
      ],
      "source": [
        "posterior.plot(label='140 heads out of 250', color='C4')\n",
        "decorate_euro(title='Posterior distribution of x')"
      ]
    },
    {
      "cell_type": "markdown",
      "metadata": {
        "id": "Zw0_-Ehyufjc"
      },
      "source": [
        "이 그림은 우리가 얻게 될 동전 앞면의 비율 `x`의 사후확률 분포를 나타낸다.\n",
        "\n",
        "사후확률 분포는 데이터를 본 이후의 `x`에 대한 믿음을 나타낸다. 이 그림을 보면 0.4보다 작거나 0.7보다 큰 경우는 거의 없고, 0.5에서 0.6 사이가 가장 가능성 있음을 알 수 있다.\n",
        "\n",
        "실제로 가장 가능성 있는 `x`의 값은 0.56으로, 이는 데이터에서 앞면의 비율로 나왔던 `140/250`이다."
      ]
    },
    {
      "cell_type": "code",
      "execution_count": 29,
      "metadata": {
        "execution": {
          "iopub.execute_input": "2021-04-16T19:35:16.683618Z",
          "iopub.status.busy": "2021-04-16T19:35:16.682978Z",
          "iopub.status.idle": "2021-04-16T19:35:16.685837Z",
          "shell.execute_reply": "2021-04-16T19:35:16.685432Z"
        },
        "scrolled": true,
        "id": "JPfZHLQlufjc",
        "outputId": "d28ccb91-94ae-42e5-c444-b1b89a06a356",
        "colab": {
          "base_uri": "https://localhost:8080/"
        }
      },
      "outputs": [
        {
          "output_type": "execute_result",
          "data": {
            "text/plain": [
              "0.56"
            ]
          },
          "metadata": {},
          "execution_count": 29
        }
      ],
      "source": [
        "posterior.max_prob()"
      ]
    },
    {
      "cell_type": "markdown",
      "metadata": {
        "id": "-r6D7pbFufjc"
      },
      "source": [
        "## Triangle Prior\n",
        "\n",
        "So far we've been using a uniform prior:"
      ]
    },
    {
      "cell_type": "code",
      "execution_count": 30,
      "metadata": {
        "execution": {
          "iopub.execute_input": "2021-04-16T19:35:16.690979Z",
          "iopub.status.busy": "2021-04-16T19:35:16.690312Z",
          "iopub.status.idle": "2021-04-16T19:35:16.693055Z",
          "shell.execute_reply": "2021-04-16T19:35:16.693642Z"
        },
        "tags": [],
        "id": "JrF2tYl8ufjc",
        "outputId": "43a53ce9-796c-492a-e555-5c9c9450a111",
        "colab": {
          "base_uri": "https://localhost:8080/"
        }
      },
      "outputs": [
        {
          "output_type": "execute_result",
          "data": {
            "text/plain": [
              "101"
            ]
          },
          "metadata": {},
          "execution_count": 30
        }
      ],
      "source": [
        "uniform = Pmf(1, hypos, name='uniform')\n",
        "uniform.normalize()"
      ]
    },
    {
      "cell_type": "markdown",
      "metadata": {
        "id": "GV8ZTfUNufjc"
      },
      "source": [
        "하지만 우리가 동전에 대해 알고 있는 지식을 생각해보면 이는 그다지 합리적인 선택지는 아니었다. 만약 동전의 무게가 한 쪽으로 쏠려 있다면, `x`는 0.5에서 다소 벗어났을 수 있다. 그렇다고 해도 `x`가 0.1이다 0.9다 나올 정도로 벨기에 유로 동전이 비뚤어져 있을 것이라고는 생각하기 어렵다.\n",
        "\n",
        "`x`의 값이 0.5에 가까울 수록 높고, 극단적인 값으로 갈 수록 낮은 확률을 갖는 사전분포를 선택하는 게 보다 합리적이다.\n",
        "\n",
        "As an example, let's try a triangle-shaped prior.\n",
        "Here's the code that constructs it:"
      ]
    },
    {
      "cell_type": "code",
      "execution_count": 31,
      "metadata": {
        "execution": {
          "iopub.execute_input": "2021-04-16T19:35:16.701286Z",
          "iopub.status.busy": "2021-04-16T19:35:16.700496Z",
          "iopub.status.idle": "2021-04-16T19:35:16.704290Z",
          "shell.execute_reply": "2021-04-16T19:35:16.703717Z"
        },
        "id": "BXUue61Oufjc",
        "outputId": "4e2b677f-942f-465b-a383-563760a34d37",
        "colab": {
          "base_uri": "https://localhost:8080/"
        }
      },
      "outputs": [
        {
          "output_type": "execute_result",
          "data": {
            "text/plain": [
              "2500"
            ]
          },
          "metadata": {},
          "execution_count": 31
        }
      ],
      "source": [
        "ramp_up = np.arange(50)\n",
        "ramp_down = np.arange(50, -1, -1)\n",
        "\n",
        "a = np.append(ramp_up, ramp_down)\n",
        "\n",
        "triangle = Pmf(a, hypos, name='triangle')\n",
        "triangle.normalize()"
      ]
    },
    {
      "cell_type": "markdown",
      "metadata": {
        "id": "ayZM70L0ufjc"
      },
      "source": [
        "`arange` returns a NumPy array, so we can use `np.append` to append `ramp_down` to the end of `ramp_up`.\n",
        "Then we use `a` and `hypos` to make a `Pmf`.\n",
        "\n",
        "The following figure shows the result, along with the uniform prior."
      ]
    },
    {
      "cell_type": "code",
      "execution_count": 32,
      "metadata": {
        "execution": {
          "iopub.execute_input": "2021-04-16T19:35:16.724091Z",
          "iopub.status.busy": "2021-04-16T19:35:16.723265Z",
          "iopub.status.idle": "2021-04-16T19:35:16.855060Z",
          "shell.execute_reply": "2021-04-16T19:35:16.855591Z"
        },
        "tags": [],
        "id": "gHCiyqVJufjc",
        "outputId": "75fca7de-7aaf-4473-caab-decda5beaf59",
        "colab": {
          "base_uri": "https://localhost:8080/",
          "height": 297
        }
      },
      "outputs": [
        {
          "output_type": "display_data",
          "data": {
            "text/plain": [
              "<Figure size 432x288 with 1 Axes>"
            ],
            "image/png": "[encoded data removed]"
          },
          "metadata": {
            "needs_background": "light"
          }
        }
      ],
      "source": [
        "uniform.plot()\n",
        "triangle.plot()\n",
        "decorate_euro(title='Uniform and triangle prior distributions')"
      ]
    },
    {
      "cell_type": "markdown",
      "metadata": {
        "id": "6IOjt-ktufjc"
      },
      "source": [
        "이제 동일한 데이터를 사용해서 양쪽 사전분포를 갱신할 수 있다."
      ]
    },
    {
      "cell_type": "code",
      "execution_count": 33,
      "metadata": {
        "execution": {
          "iopub.execute_input": "2021-04-16T19:35:16.957511Z",
          "iopub.status.busy": "2021-04-16T19:35:16.956997Z",
          "iopub.status.idle": "2021-04-16T19:35:16.959002Z",
          "shell.execute_reply": "2021-04-16T19:35:16.958623Z"
        },
        "id": "x7E9Oc81ufjc"
      },
      "outputs": [],
      "source": [
        "update_euro(uniform, dataset)\n",
        "update_euro(triangle, dataset)"
      ]
    },
    {
      "cell_type": "markdown",
      "metadata": {
        "id": "jvCkDc7-ufjc"
      },
      "source": [
        "Here are the posteriors."
      ]
    },
    {
      "cell_type": "code",
      "execution_count": 34,
      "metadata": {
        "execution": {
          "iopub.execute_input": "2021-04-16T19:35:16.976351Z",
          "iopub.status.busy": "2021-04-16T19:35:16.975555Z",
          "iopub.status.idle": "2021-04-16T19:35:17.093195Z",
          "shell.execute_reply": "2021-04-16T19:35:17.092653Z"
        },
        "tags": [],
        "id": "TJTZFloiufjc",
        "outputId": "1355ed1f-ffbe-491b-8fe7-b73c61356802",
        "colab": {
          "base_uri": "https://localhost:8080/",
          "height": 297
        }
      },
      "outputs": [
        {
          "output_type": "display_data",
          "data": {
            "text/plain": [
              "<Figure size 432x288 with 1 Axes>"
            ],
            "image/png": "[encoded data removed]"
          },
          "metadata": {
            "needs_background": "light"
          }
        }
      ],
      "source": [
        "uniform.plot()\n",
        "triangle.plot()\n",
        "decorate_euro(title='Posterior distributions')"
      ]
    },
    {
      "cell_type": "markdown",
      "metadata": {
        "id": "D6IO0--Tufjc"
      },
      "source": [
        "사후확률 분포는 보기에 거의 차이가 나지 않고, 실제로 이 차이가 영향을 거의 미치지 않는다.\n",
        "\n",
        "이는 좋은 일이다. 균등분포와 삼각분포 중 어느 사전확률이 더 나은 지를 두고 싸우는 사람도 있을 지 모르는 일이니까 말이다. 각자에게는 각자의 선호에 대한 이유가 있고, 다른 쪽이 설득해서 이를 바꿀 수는 없다.\n",
        "\n",
        "하지만 그들이 데이터로 그들의 믿음을 갱신하는 데는 합의했다고 해보자. 그러면 서로가 구한 사후확률을 비교해 보고, 굳이 이런 걸로 말싸움 할 이유가 없다고 깨닫게 된다.\n",
        "\n",
        "이는 사전분포의 늪(swamping the prior)의 하나의 예다. 데이터가 충분하다면 서로 다른 사전확률로 시작한다고 해도 동일한 사후확률로 수렴하는 경향이 있다."
      ]
    },
    {
      "cell_type": "markdown",
      "metadata": {
        "id": "o4_lb_X4ufjc"
      },
      "source": [
        "## The Binomial Likelihood Function\n",
        "\n",
        "So far we've been computing the updates one spin at a time, so for the Euro problem we have to do 250 updates.\n",
        "\n",
        "A more efficient alternative is to compute the likelihood of the entire dataset at once.\n",
        "For each hypothetical value of `x`, we have to compute the probability of getting 140 heads out of 250 spins.\n",
        "\n",
        "Well, we know how to do that; this is the question the binomial distribution answers.\n",
        "If the probability of heads is $p$, the probability of $k$ heads in $n$ spins is:\n",
        "\n",
        "$$\\binom{n}{k} p^k (1-p)^{n-k}$$\n",
        "\n",
        "And we can use SciPy to compute it.\n",
        "The following function takes a `Pmf` that represents a prior distribution and a tuple of integers that represent the data:"
      ]
    },
    {
      "cell_type": "code",
      "execution_count": 35,
      "metadata": {
        "execution": {
          "iopub.execute_input": "2021-04-16T19:35:17.097450Z",
          "iopub.status.busy": "2021-04-16T19:35:17.096829Z",
          "iopub.status.idle": "2021-04-16T19:35:17.099337Z",
          "shell.execute_reply": "2021-04-16T19:35:17.099695Z"
        },
        "id": "CzF4zmB8ufjd"
      },
      "outputs": [],
      "source": [
        "from scipy.stats import binom\n",
        "\n",
        "def update_binomial(pmf, data):\n",
        "    \"\"\"Update pmf using the binomial distribution.\"\"\"\n",
        "    k, n = data\n",
        "    xs = pmf.qs\n",
        "    likelihood = binom.pmf(k, n, xs)\n",
        "    pmf *= likelihood\n",
        "    pmf.normalize()"
      ]
    },
    {
      "cell_type": "markdown",
      "metadata": {
        "id": "FyJPi9dvufjd"
      },
      "source": [
        "The data are represented with a tuple of values for `k` and `n`, rather than a long string of outcomes.\n",
        "Here's the update."
      ]
    },
    {
      "cell_type": "code",
      "execution_count": 36,
      "metadata": {
        "execution": {
          "iopub.execute_input": "2021-04-16T19:35:17.104492Z",
          "iopub.status.busy": "2021-04-16T19:35:17.103915Z",
          "iopub.status.idle": "2021-04-16T19:35:17.107290Z",
          "shell.execute_reply": "2021-04-16T19:35:17.106925Z"
        },
        "id": "wbhZzfFUufjd"
      },
      "outputs": [],
      "source": [
        "uniform2 = Pmf(1, hypos, name='uniform2')\n",
        "data = 140, 250\n",
        "update_binomial(uniform2, data)"
      ]
    },
    {
      "cell_type": "markdown",
      "metadata": {
        "tags": [],
        "id": "HPkw92A9ufjd"
      },
      "source": [
        "And here's what the posterior looks like."
      ]
    },
    {
      "cell_type": "code",
      "execution_count": 37,
      "metadata": {
        "execution": {
          "iopub.execute_input": "2021-04-16T19:35:17.146117Z",
          "iopub.status.busy": "2021-04-16T19:35:17.122628Z",
          "iopub.status.idle": "2021-04-16T19:35:17.273769Z",
          "shell.execute_reply": "2021-04-16T19:35:17.274124Z"
        },
        "tags": [],
        "id": "MVh01ZdBufjd",
        "outputId": "bf20997d-6f4f-4e6a-9bd2-488c4ccab0f2",
        "colab": {
          "base_uri": "https://localhost:8080/",
          "height": 297
        }
      },
      "outputs": [
        {
          "output_type": "display_data",
          "data": {
            "text/plain": [
              "<Figure size 432x288 with 1 Axes>"
            ],
            "image/png": "[encoded data removed]"
          },
          "metadata": {
            "needs_background": "light"
          }
        }
      ],
      "source": [
        "uniform.plot()\n",
        "uniform2.plot()\n",
        "decorate_euro(title='Posterior distributions computed two ways')"
      ]
    },
    {
      "cell_type": "markdown",
      "metadata": {
        "id": "2O1LCuyiufjd"
      },
      "source": [
        "We can use `allclose` to confirm that the result is the same as in the previous section except for a small floating-point round-off."
      ]
    },
    {
      "cell_type": "code",
      "execution_count": 38,
      "metadata": {
        "execution": {
          "iopub.execute_input": "2021-04-16T19:35:17.277814Z",
          "iopub.status.busy": "2021-04-16T19:35:17.277172Z",
          "iopub.status.idle": "2021-04-16T19:35:17.279940Z",
          "shell.execute_reply": "2021-04-16T19:35:17.279504Z"
        },
        "id": "qmIs6D89ufjd",
        "outputId": "4ba0c5ea-fc3d-4dc3-b6c4-521b915f883e",
        "colab": {
          "base_uri": "https://localhost:8080/"
        }
      },
      "outputs": [
        {
          "output_type": "execute_result",
          "data": {
            "text/plain": [
              "True"
            ]
          },
          "metadata": {},
          "execution_count": 38
        }
      ],
      "source": [
        "np.allclose(uniform, uniform2)"
      ]
    },
    {
      "cell_type": "markdown",
      "metadata": {
        "id": "u8sby6Bxufjd"
      },
      "source": [
        "결과는 같지만 이 방법이 훨씩 효율적이다."
      ]
    },
    {
      "cell_type": "markdown",
      "metadata": {
        "id": "8xWdpb7Tufjd"
      },
      "source": [
        "## Bayesian Statistics\n",
        "\n",
        "You might have noticed similarities between the Euro problem and the 101 Bowls Problem in <<_101Bowls>>.\n",
        "The prior distributions are the same, the likelihoods are the same, and with the same data the results would be the same.\n",
        "But there are two differences.\n",
        "\n",
        "The first is the choice of the prior.\n",
        "With 101 bowls, the uniform prior is implied by the statement of the problem, which says that we choose one of the bowls at random with equal probability.\n",
        "\n",
        "In the Euro problem, the choice of the prior is subjective; that is, reasonable people could disagree, maybe because they have different information about coins or because they interpret the same information differently.\n",
        "\n",
        "Because the priors are subjective, the posteriors are subjective, too.\n",
        "And some people find that problematic."
      ]
    },
    {
      "cell_type": "markdown",
      "metadata": {
        "id": "_x7s8E87ufjd"
      },
      "source": [
        "The other difference is the nature of what we are estimating.\n",
        "In the 101 Bowls problem, we choose the bowl randomly, so it is uncontroversial to compute the probability of choosing each bowl.\n",
        "In the Euro problem, the proportion of heads is a physical property of a given coin.\n",
        "Under some interpretations of probability, that's a problem because physical properties are not considered random.\n",
        "\n",
        "As an example, consider the age of the universe.\n",
        "Currently, our best estimate is 13.80 billion years, but it might be off by 0.02 billion years in either direction (see [here](https://en.wikipedia.org/wiki/Age_of_the_universe)).\n",
        "\n",
        "Now suppose we would like to know the probability that the age of the universe is actually greater than 13.81 billion years.\n",
        "Under some interpretations of probability, we would not be able to answer that question.\n",
        "We would be required to say something like, \"The age of the universe is not a random quantity, so it has no probability of exceeding a particular value.\"\n",
        "\n",
        "Under the Bayesian interpretation of probability, it is meaningful and useful to treat physical quantities as if they were random and compute probabilities about them.\n",
        "\n",
        "In the Euro problem, the prior distribution represents what we believe about coins in general and the posterior distribution represents what we believe about a particular coin after seeing the data.\n",
        "So we can use the posterior distribution to compute probabilities about the coin and its proportion of heads."
      ]
    },
    {
      "cell_type": "markdown",
      "metadata": {
        "id": "upDk3zpqufjd"
      },
      "source": [
        "The subjectivity of the prior and the interpretation of the posterior are key differences between using Bayes's Theorem and doing Bayesian statistics.\n",
        "\n",
        "Bayes's Theorem is a mathematical law of probability; no reasonable person objects to it.\n",
        "But Bayesian statistics is surprisingly controversial.\n",
        "Historically, many people have been bothered by its subjectivity and its use of probability for things that are not random.\n",
        "\n",
        "If you are interested in this history, I recommend Sharon Bertsch McGrayne's book, *[The Theory That Would Not Die](https://yalebooks.yale.edu/book/9780300188226/theory-would-not-die)*."
      ]
    },
    {
      "cell_type": "markdown",
      "metadata": {
        "id": "LVpHdXnHufjd"
      },
      "source": [
        "## Summary\n",
        "\n",
        "In this chapter I posed David MacKay's Euro problem and we started to solve it.\n",
        "Given the data, we computed the posterior distribution for `x`, the probability a Euro coin comes up heads.\n",
        "\n",
        "We tried two different priors, updated them with the same data, and found that the posteriors were nearly the same.\n",
        "This is good news, because it suggests that if two people start with different beliefs and see the same data, their beliefs tend to converge.\n",
        "\n",
        "This chapter introduces the binomial distribution, which we used to compute the posterior distribution more efficiently.\n",
        "And I discussed the differences between applying Bayes's Theorem, as in the 101 Bowls problem, and doing Bayesian statistics, as in the Euro problem.\n",
        "\n",
        "However, we still haven't answered MacKay's question: \"Do these data give evidence that the coin is biased rather than fair?\"\n",
        "I'm going to leave this question hanging a little longer; we'll come back to it in <<_Testing>>.\n",
        "\n",
        "In the next chapter, we'll solve problems related to counting, including trains, tanks, and rabbits.\n",
        "\n",
        "But first you might want to work on these exercises."
      ]
    },
    {
      "cell_type": "markdown",
      "metadata": {
        "id": "rsRtL3GVufjd"
      },
      "source": [
        "## Exercises\n"
      ]
    },
    {
      "cell_type": "markdown",
      "metadata": {
        "id": "zFf9Vlqrufjd"
      },
      "source": [
        "**Exercise:** In Major League Baseball, most players have a batting average between .200 and .330, which means that their probability of getting a hit is between 0.2 and 0.33.\n",
        "\n",
        "Suppose a player appearing in their first game gets 3 hits out of 3 attempts.  What is the posterior distribution for their probability of getting a hit?"
      ]
    },
    {
      "cell_type": "markdown",
      "metadata": {
        "tags": [],
        "id": "oi4VMyR0ufjd"
      },
      "source": [
        "For this exercise, I'll construct the prior distribution by starting with a uniform distribution and updating it with imaginary data until it has a shape that reflects my background knowledge of batting averages.\n",
        "\n",
        "Here's the uniform prior:"
      ]
    },
    {
      "cell_type": "code",
      "execution_count": 39,
      "metadata": {
        "execution": {
          "iopub.execute_input": "2021-04-16T19:35:17.283758Z",
          "iopub.status.busy": "2021-04-16T19:35:17.283292Z",
          "iopub.status.idle": "2021-04-16T19:35:17.285158Z",
          "shell.execute_reply": "2021-04-16T19:35:17.285610Z"
        },
        "tags": [],
        "id": "0HwUfVKOufjd"
      },
      "outputs": [],
      "source": [
        "hypos = np.linspace(0.1, 0.4, 101)\n",
        "prior = Pmf(1, hypos)"
      ]
    },
    {
      "cell_type": "markdown",
      "metadata": {
        "tags": [],
        "id": "sWPqsikyufjd"
      },
      "source": [
        "And here is a dictionary of likelihoods, with `Y` for getting a hit and `N` for not getting a hit."
      ]
    },
    {
      "cell_type": "code",
      "execution_count": 40,
      "metadata": {
        "execution": {
          "iopub.execute_input": "2021-04-16T19:35:17.289657Z",
          "iopub.status.busy": "2021-04-16T19:35:17.288869Z",
          "iopub.status.idle": "2021-04-16T19:35:17.291023Z",
          "shell.execute_reply": "2021-04-16T19:35:17.291465Z"
        },
        "tags": [],
        "id": "PtPbni90ufjd"
      },
      "outputs": [],
      "source": [
        "likelihood = {\n",
        "    'Y': hypos,\n",
        "    'N': 1-hypos\n",
        "}"
      ]
    },
    {
      "cell_type": "markdown",
      "metadata": {
        "tags": [],
        "id": "GTY9uHYLufjd"
      },
      "source": [
        "Here's a dataset that yields a reasonable prior distribution."
      ]
    },
    {
      "cell_type": "code",
      "execution_count": 41,
      "metadata": {
        "execution": {
          "iopub.execute_input": "2021-04-16T19:35:17.295263Z",
          "iopub.status.busy": "2021-04-16T19:35:17.294509Z",
          "iopub.status.idle": "2021-04-16T19:35:17.297194Z",
          "shell.execute_reply": "2021-04-16T19:35:17.296599Z"
        },
        "tags": [],
        "id": "8_W7bDP2ufjd"
      },
      "outputs": [],
      "source": [
        "dataset = 'Y' * 25 + 'N' * 75"
      ]
    },
    {
      "cell_type": "markdown",
      "metadata": {
        "tags": [],
        "id": "81zh-uq3ufjd"
      },
      "source": [
        "And here's the update with the imaginary data."
      ]
    },
    {
      "cell_type": "code",
      "execution_count": 42,
      "metadata": {
        "execution": {
          "iopub.execute_input": "2021-04-16T19:35:17.323777Z",
          "iopub.status.busy": "2021-04-16T19:35:17.323233Z",
          "iopub.status.idle": "2021-04-16T19:35:17.326022Z",
          "shell.execute_reply": "2021-04-16T19:35:17.325651Z"
        },
        "tags": [],
        "id": "nyPbmaLRufjd",
        "outputId": "74fb1e16-208a-4f94-bc3a-d4286f301325",
        "colab": {
          "base_uri": "https://localhost:8080/"
        }
      },
      "outputs": [
        {
          "output_type": "execute_result",
          "data": {
            "text/plain": [
              "1.3596964206970507e-23"
            ]
          },
          "metadata": {},
          "execution_count": 42
        }
      ],
      "source": [
        "for data in dataset:\n",
        "    prior *= likelihood[data]\n",
        "\n",
        "prior.normalize()"
      ]
    },
    {
      "cell_type": "markdown",
      "metadata": {
        "tags": [],
        "id": "7fqz0VJaufje"
      },
      "source": [
        "Finally, here's what the prior looks like."
      ]
    },
    {
      "cell_type": "code",
      "execution_count": 43,
      "metadata": {
        "execution": {
          "iopub.execute_input": "2021-04-16T19:35:17.360812Z",
          "iopub.status.busy": "2021-04-16T19:35:17.348566Z",
          "iopub.status.idle": "2021-04-16T19:35:17.494216Z",
          "shell.execute_reply": "2021-04-16T19:35:17.494588Z"
        },
        "scrolled": true,
        "tags": [],
        "id": "Rx8K5mgSufje",
        "outputId": "8b206bd2-d09c-42cd-a656-fd189e206d2f",
        "colab": {
          "base_uri": "https://localhost:8080/",
          "height": 297
        }
      },
      "outputs": [
        {
          "output_type": "display_data",
          "data": {
            "text/plain": [
              "<Figure size 432x288 with 1 Axes>"
            ],
            "image/png": "[encoded data removed]"
          },
          "metadata": {
            "needs_background": "light"
          }
        }
      ],
      "source": [
        "prior.plot(label='prior')\n",
        "decorate(xlabel='Probability of getting a hit',\n",
        "         ylabel='PMF')"
      ]
    },
    {
      "cell_type": "markdown",
      "metadata": {
        "tags": [],
        "id": "bfVV0N60ufje"
      },
      "source": [
        "메이저 리그에서, 대부분의 선수는 평균 0.2에서 0.33정도 타율이다. 즉 선수들이 안타를 공을 칠 확률이 0.2에서 0.33 사이라는 뜻이다.\n",
        "\n",
        "첫 경기에 등장한 선수가 3번의 시도에서 3번의 안타를 쳤다고 하자. 그러면 안타를 칠 확률에 대한 사후분포는 어떻게 될까?"
      ]
    },
    {
      "cell_type": "code",
      "execution_count": 49,
      "metadata": {
        "execution": {
          "iopub.execute_input": "2021-04-16T19:35:17.500185Z",
          "iopub.status.busy": "2021-04-16T19:35:17.499604Z",
          "iopub.status.idle": "2021-04-16T19:35:17.502036Z",
          "shell.execute_reply": "2021-04-16T19:35:17.502381Z"
        },
        "id": "R2sH5s1dufje",
        "outputId": "4f9ac6cd-9d8f-48ea-821c-53ec26f92c3f",
        "colab": {
          "base_uri": "https://localhost:8080/"
        }
      },
      "outputs": [
        {
          "output_type": "execute_result",
          "data": {
            "text/plain": [
              "0.017944179687707326"
            ]
          },
          "metadata": {},
          "execution_count": 49
        }
      ],
      "source": [
        "posterior = prior.copy()\n",
        "\n",
        "for data in 'YYY':\n",
        "    posterior *= likelihood[data]\n",
        "\n",
        "posterior.normalize()"
      ]
    },
    {
      "cell_type": "code",
      "execution_count": 50,
      "metadata": {
        "execution": {
          "iopub.execute_input": "2021-04-16T19:35:17.523449Z",
          "iopub.status.busy": "2021-04-16T19:35:17.522995Z",
          "iopub.status.idle": "2021-04-16T19:35:17.684121Z",
          "shell.execute_reply": "2021-04-16T19:35:17.684534Z"
        },
        "scrolled": true,
        "id": "53H357fGufje",
        "outputId": "236b5778-aeee-4519-85bd-930fddaff1b7",
        "colab": {
          "base_uri": "https://localhost:8080/",
          "height": 297
        }
      },
      "outputs": [
        {
          "output_type": "display_data",
          "data": {
            "text/plain": [
              "<Figure size 432x288 with 1 Axes>"
            ],
            "image/png": "[encoded data removed]"
          },
          "metadata": {
            "needs_background": "light"
          }
        }
      ],
      "source": [
        "# Solution\n",
        "\n",
        "prior.plot(label='prior')\n",
        "posterior.plot(label='posterior ')\n",
        "decorate(xlabel='Probability of getting a hit',\n",
        "         ylabel='PMF')"
      ]
    },
    {
      "cell_type": "code",
      "execution_count": 51,
      "metadata": {
        "execution": {
          "iopub.execute_input": "2021-04-16T19:35:17.688161Z",
          "iopub.status.busy": "2021-04-16T19:35:17.687600Z",
          "iopub.status.idle": "2021-04-16T19:35:17.690092Z",
          "shell.execute_reply": "2021-04-16T19:35:17.690437Z"
        },
        "id": "OXQaIQOBufje",
        "outputId": "78199bc6-7193-4bdf-aed3-84fd7500598f",
        "colab": {
          "base_uri": "https://localhost:8080/"
        }
      },
      "outputs": [
        {
          "output_type": "execute_result",
          "data": {
            "text/plain": [
              "0.25"
            ]
          },
          "metadata": {},
          "execution_count": 51
        }
      ],
      "source": [
        "# Solution\n",
        "\n",
        "prior.max_prob()"
      ]
    },
    {
      "cell_type": "code",
      "execution_count": 52,
      "metadata": {
        "execution": {
          "iopub.execute_input": "2021-04-16T19:35:17.694582Z",
          "iopub.status.busy": "2021-04-16T19:35:17.694009Z",
          "iopub.status.idle": "2021-04-16T19:35:17.697668Z",
          "shell.execute_reply": "2021-04-16T19:35:17.698042Z"
        },
        "id": "-1VexyDKufje",
        "outputId": "ff8c7043-e6d9-4730-881a-6c3c835b8571",
        "colab": {
          "base_uri": "https://localhost:8080/"
        }
      },
      "outputs": [
        {
          "output_type": "execute_result",
          "data": {
            "text/plain": [
              "0.271"
            ]
          },
          "metadata": {},
          "execution_count": 52
        }
      ],
      "source": [
        "# Solution\n",
        "\n",
        "posterior.max_prob()"
      ]
    },
    {
      "cell_type": "markdown",
      "metadata": {
        "id": "w20wAmNWufje"
      },
      "source": [
        "**Exercise:** Whenever you survey people about sensitive issues, you have to deal with [social desirability bias](https://en.wikipedia.org/wiki/Social_desirability_bias), which is the tendency of people to adjust their answers to show themselves in the most positive light.\n",
        "One way to improve the accuracy of the results is [randomized response](https://en.wikipedia.org/wiki/Randomized_response).\n",
        "\n",
        "As an example, suppose you want to know how many people cheat on their taxes.\n",
        "If you ask them directly, it is likely that some of the cheaters will lie.\n",
        "You can get a more accurate estimate if you ask them indirectly, like this: Ask each person to flip a coin and, without revealing the outcome,\n",
        "\n",
        "* If they get heads, they report YES.\n",
        "\n",
        "* If they get tails, they honestly answer the question \"Do you cheat on your taxes?\"\n",
        "\n",
        "If someone says YES, we don't know whether they actually cheat on their taxes; they might have flipped heads.\n",
        "Knowing this, people might be more willing to answer honestly.\n",
        "\n",
        "Suppose you survey 100 people this way and get 80 YESes and 20 NOs.  Based on this data, what is the posterior distribution for the fraction of people who cheat on their taxes?  What is the most likely quantity in the posterior distribution?"
      ]
    },
    {
      "cell_type": "code",
      "execution_count": null,
      "metadata": {
        "execution": {
          "iopub.execute_input": "2021-04-16T19:35:17.701954Z",
          "iopub.status.busy": "2021-04-16T19:35:17.701456Z",
          "iopub.status.idle": "2021-04-16T19:35:17.703437Z",
          "shell.execute_reply": "2021-04-16T19:35:17.703077Z"
        },
        "id": "nsizvKggufje"
      },
      "outputs": [],
      "source": [
        "# Solution goes here"
      ]
    },
    {
      "cell_type": "code",
      "execution_count": null,
      "metadata": {
        "execution": {
          "iopub.execute_input": "2021-04-16T19:35:17.707694Z",
          "iopub.status.busy": "2021-04-16T19:35:17.706812Z",
          "iopub.status.idle": "2021-04-16T19:35:17.708975Z",
          "shell.execute_reply": "2021-04-16T19:35:17.709522Z"
        },
        "id": "moES21Fjufje"
      },
      "outputs": [],
      "source": [
        "# Solution goes here"
      ]
    },
    {
      "cell_type": "code",
      "execution_count": null,
      "metadata": {
        "execution": {
          "iopub.execute_input": "2021-04-16T19:35:17.735980Z",
          "iopub.status.busy": "2021-04-16T19:35:17.735363Z",
          "iopub.status.idle": "2021-04-16T19:35:17.738088Z",
          "shell.execute_reply": "2021-04-16T19:35:17.737707Z"
        },
        "id": "ocGxz58sufje"
      },
      "outputs": [],
      "source": [
        "# Solution goes here"
      ]
    },
    {
      "cell_type": "code",
      "execution_count": null,
      "metadata": {
        "execution": {
          "iopub.execute_input": "2021-04-16T19:35:17.755673Z",
          "iopub.status.busy": "2021-04-16T19:35:17.755168Z",
          "iopub.status.idle": "2021-04-16T19:35:17.900749Z",
          "shell.execute_reply": "2021-04-16T19:35:17.901148Z"
        },
        "scrolled": true,
        "id": "1FTojUcSufje"
      },
      "outputs": [],
      "source": [
        "# Solution goes here"
      ]
    },
    {
      "cell_type": "code",
      "execution_count": null,
      "metadata": {
        "execution": {
          "iopub.execute_input": "2021-04-16T19:35:17.904654Z",
          "iopub.status.busy": "2021-04-16T19:35:17.904101Z",
          "iopub.status.idle": "2021-04-16T19:35:17.906892Z",
          "shell.execute_reply": "2021-04-16T19:35:17.906493Z"
        },
        "id": "ZcN6Mx9Pufje"
      },
      "outputs": [],
      "source": [
        "# Solution goes here"
      ]
    },
    {
      "cell_type": "markdown",
      "metadata": {
        "id": "4YovZSqKufje"
      },
      "source": [
        "**Exercise:** Suppose you want to test whether a coin is fair, but you don't want to spin it hundreds of times.\n",
        "So you make a machine that spins the coin automatically and uses computer vision to determine the outcome.\n",
        "\n",
        "However, you discover that the machine is not always accurate.  Specifically, suppose the probability is `y=0.2` that an actual heads is reported as tails, or actual tails reported as heads.\n",
        "\n",
        "If we spin a coin 250 times and the machine reports 140 heads, what is the posterior distribution of `x`?\n",
        "What happens as you vary the value of `y`?"
      ]
    },
    {
      "cell_type": "code",
      "execution_count": null,
      "metadata": {
        "execution": {
          "iopub.execute_input": "2021-04-16T19:35:17.910559Z",
          "iopub.status.busy": "2021-04-16T19:35:17.910145Z",
          "iopub.status.idle": "2021-04-16T19:35:17.911871Z",
          "shell.execute_reply": "2021-04-16T19:35:17.912204Z"
        },
        "id": "UPKe22lhufje"
      },
      "outputs": [],
      "source": [
        "# Solution goes here"
      ]
    },
    {
      "cell_type": "code",
      "execution_count": null,
      "metadata": {
        "execution": {
          "iopub.execute_input": "2021-04-16T19:35:18.058061Z",
          "iopub.status.busy": "2021-04-16T19:35:18.057373Z",
          "iopub.status.idle": "2021-04-16T19:35:18.059557Z",
          "shell.execute_reply": "2021-04-16T19:35:18.059098Z"
        },
        "id": "9G_BGej5ufje"
      },
      "outputs": [],
      "source": [
        "# Solution goes here"
      ]
    },
    {
      "cell_type": "code",
      "execution_count": null,
      "metadata": {
        "execution": {
          "iopub.execute_input": "2021-04-16T19:35:18.106563Z",
          "iopub.status.busy": "2021-04-16T19:35:18.078101Z",
          "iopub.status.idle": "2021-04-16T19:35:18.253473Z",
          "shell.execute_reply": "2021-04-16T19:35:18.253983Z"
        },
        "scrolled": true,
        "id": "nSNf1XzSufje"
      },
      "outputs": [],
      "source": [
        "# Solution goes here"
      ]
    },
    {
      "cell_type": "code",
      "execution_count": null,
      "metadata": {
        "execution": {
          "iopub.execute_input": "2021-04-16T19:35:18.257845Z",
          "iopub.status.busy": "2021-04-16T19:35:18.257320Z",
          "iopub.status.idle": "2021-04-16T19:35:18.259642Z",
          "shell.execute_reply": "2021-04-16T19:35:18.259985Z"
        },
        "id": "_8nIF4YPufje"
      },
      "outputs": [],
      "source": [
        "# Solution goes here"
      ]
    },
    {
      "cell_type": "markdown",
      "metadata": {
        "id": "I0Td8fQiufje"
      },
      "source": [
        "**Exercise:** In preparation for an alien invasion, the Earth Defense League (EDL) has been working on new missiles to shoot down space invaders.  Of course, some missile designs are better than others; let's assume that each design has some probability of hitting an alien ship, `x`.\n",
        "\n",
        "Based on previous tests, the distribution of `x` in the population of designs is approximately uniform between 0.1 and 0.4.\n",
        "\n",
        "Now suppose the new ultra-secret Alien Blaster 9000 is being tested.  In a press conference, an EDL general reports that the new design has been tested twice, taking two shots during each test.  The results of the test are confidential, so the general won't say how many targets were hit, but they report: \"The same number of targets were hit in the two tests, so we have reason to think this new design is consistent.\"\n",
        "\n",
        "Is this data good or bad? \n",
        "That is, does it increase or decrease your estimate of `x` for the Alien Blaster 9000?"
      ]
    },
    {
      "cell_type": "markdown",
      "metadata": {
        "tags": [],
        "id": "jZEEXrHFufje"
      },
      "source": [
        "Hint: If the probability of hitting each target is $x$, the probability of hitting one target in both tests\n",
        "is $\\left[2x(1-x)\\right]^2$."
      ]
    },
    {
      "cell_type": "code",
      "execution_count": 44,
      "metadata": {
        "execution": {
          "iopub.execute_input": "2021-04-16T19:35:18.263734Z",
          "iopub.status.busy": "2021-04-16T19:35:18.263241Z",
          "iopub.status.idle": "2021-04-16T19:35:18.265215Z",
          "shell.execute_reply": "2021-04-16T19:35:18.264807Z"
        },
        "id": "gmfDxagWufje"
      },
      "outputs": [],
      "source": [
        "# Solution goes here\n",
        "hypos = np.linspace(0.1, 0.4, 101)\n",
        "prior = Pmf(1, hypos)"
      ]
    },
    {
      "cell_type": "code",
      "execution_count": null,
      "metadata": {
        "execution": {
          "iopub.execute_input": "2021-04-16T19:35:18.268770Z",
          "iopub.status.busy": "2021-04-16T19:35:18.268353Z",
          "iopub.status.idle": "2021-04-16T19:35:18.270094Z",
          "shell.execute_reply": "2021-04-16T19:35:18.270458Z"
        },
        "id": "n82BZfMxufje"
      },
      "outputs": [],
      "source": [
        "# Solution goes here\n",
        "x = hypos\n",
        "likes = [(1-x)**4, (2*x*(1-x))**2, x**4]\n",
        "likelihood = np.sum(likes, axis=0)"
      ]
    },
    {
      "cell_type": "code",
      "execution_count": null,
      "metadata": {
        "execution": {
          "iopub.execute_input": "2021-04-16T19:35:18.275200Z",
          "iopub.status.busy": "2021-04-16T19:35:18.274670Z",
          "iopub.status.idle": "2021-04-16T19:35:18.277168Z",
          "shell.execute_reply": "2021-04-16T19:35:18.276674Z"
        },
        "id": "CEhzdt9gufje"
      },
      "outputs": [],
      "source": [
        "# Solution goes here"
      ]
    },
    {
      "cell_type": "code",
      "execution_count": null,
      "metadata": {
        "execution": {
          "iopub.execute_input": "2021-04-16T19:35:18.348661Z",
          "iopub.status.busy": "2021-04-16T19:35:18.343678Z",
          "iopub.status.idle": "2021-04-16T19:35:18.505383Z",
          "shell.execute_reply": "2021-04-16T19:35:18.504989Z"
        },
        "id": "LWSKRKZ0ufje"
      },
      "outputs": [],
      "source": [
        "# Solution goes here"
      ]
    },
    {
      "cell_type": "code",
      "execution_count": null,
      "metadata": {
        "execution": {
          "iopub.execute_input": "2021-04-16T19:35:18.510299Z",
          "iopub.status.busy": "2021-04-16T19:35:18.509738Z",
          "iopub.status.idle": "2021-04-16T19:35:18.512063Z",
          "shell.execute_reply": "2021-04-16T19:35:18.512428Z"
        },
        "id": "HoEZn-Ihufje"
      },
      "outputs": [],
      "source": [
        "# Solution goes here"
      ]
    },
    {
      "cell_type": "code",
      "execution_count": null,
      "metadata": {
        "execution": {
          "iopub.execute_input": "2021-04-16T19:35:18.549803Z",
          "iopub.status.busy": "2021-04-16T19:35:18.537153Z",
          "iopub.status.idle": "2021-04-16T19:35:18.693519Z",
          "shell.execute_reply": "2021-04-16T19:35:18.693904Z"
        },
        "id": "IYOHpdEhufje"
      },
      "outputs": [],
      "source": [
        "# Solution goes here"
      ]
    },
    {
      "cell_type": "code",
      "execution_count": null,
      "metadata": {
        "execution": {
          "iopub.execute_input": "2021-04-16T19:35:18.696548Z",
          "iopub.status.busy": "2021-04-16T19:35:18.696123Z",
          "iopub.status.idle": "2021-04-16T19:35:18.697927Z",
          "shell.execute_reply": "2021-04-16T19:35:18.698340Z"
        },
        "id": "3FAeOUMpufjf"
      },
      "outputs": [],
      "source": [
        "# Solution goes here"
      ]
    },
    {
      "cell_type": "code",
      "execution_count": null,
      "metadata": {
        "id": "gZeaUb4oufjf"
      },
      "outputs": [],
      "source": []
    }
  ],
  "metadata": {
    "celltoolbar": "Tags",
    "kernelspec": {
      "display_name": "Python 3",
      "language": "python",
      "name": "python3"
    },
    "language_info": {
      "codemirror_mode": {
        "name": "ipython",
        "version": 3
      },
      "file_extension": ".py",
      "mimetype": "text/x-python",
      "name": "python",
      "nbconvert_exporter": "python",
      "pygments_lexer": "ipython3",
      "version": "3.8.8"
    },
    "colab": {
      "provenance": [],
      "include_colab_link": true
    }
  },
  "nbformat": 4,
  "nbformat_minor": 0
}