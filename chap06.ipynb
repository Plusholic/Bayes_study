{
  "cells": [
    {
      "cell_type": "markdown",
      "metadata": {
        "id": "view-in-github",
        "colab_type": "text"
      },
      "source": [
        "<a href=\"https://colab.research.google.com/github/Plusholic/Bayes_study/blob/main/chap06.ipynb\" target=\"_parent\"><img src=\"https://colab.research.google.com/assets/colab-badge.svg\" alt=\"Open In Colab\"/></a>"
      ]
    },
    {
      "cell_type": "markdown",
      "metadata": {
        "id": "kDGrtFSsu1MY"
      },
      "source": [
        "# Odds and Addends"
      ]
    },
    {
      "cell_type": "markdown",
      "metadata": {
        "tags": [],
        "id": "_z6L5J6Xu1Ma"
      },
      "source": [
        "Think Bayes, Second Edition\n",
        "\n",
        "Copyright 2020 Allen B. Downey\n",
        "\n",
        "License: [Attribution-NonCommercial-ShareAlike 4.0 International (CC BY-NC-SA 4.0)](https://creativecommons.org/licenses/by-nc-sa/4.0/)"
      ]
    },
    {
      "cell_type": "code",
      "execution_count": 2,
      "metadata": {
        "execution": {
          "iopub.execute_input": "2021-04-16T19:35:25.054803Z",
          "iopub.status.busy": "2021-04-16T19:35:25.054381Z",
          "iopub.status.idle": "2021-04-16T19:35:25.056675Z",
          "shell.execute_reply": "2021-04-16T19:35:25.056251Z"
        },
        "tags": [],
        "id": "cTYhrblMu1Ma",
        "outputId": "7ce95b7c-a02c-4e71-e385-c188b6a31001",
        "colab": {
          "base_uri": "https://localhost:8080/"
        }
      },
      "outputs": [
        {
          "output_type": "stream",
          "name": "stdout",
          "text": [
            "Looking in indexes: https://pypi.org/simple, https://us-python.pkg.dev/colab-wheels/public/simple/\n",
            "Collecting empiricaldist\n",
            "  Downloading empiricaldist-0.6.8.tar.gz (12 kB)\n",
            "  Installing build dependencies ... \u001b[?25l\u001b[?25hdone\n",
            "  Getting requirements to build wheel ... \u001b[?25l\u001b[?25hdone\n",
            "  Preparing metadata (pyproject.toml) ... \u001b[?25l\u001b[?25hdone\n",
            "Building wheels for collected packages: empiricaldist\n",
            "  Building wheel for empiricaldist (pyproject.toml) ... \u001b[?25l\u001b[?25hdone\n",
            "  Created wheel for empiricaldist: filename=empiricaldist-0.6.8-py3-none-any.whl size=12125 sha256=02a320ba768c1d5ed2a72060de2f62d2472c3ec68db33d4329ea5d317c7409ed\n",
            "  Stored in directory: /root/.cache/pip/wheels/c2/3f/cf/74b5adbcea4efaae43ce168e622e3eb8dbc1251d5d730dd245\n",
            "Successfully built empiricaldist\n",
            "Installing collected packages: empiricaldist\n",
            "Successfully installed empiricaldist-0.6.8\n"
          ]
        }
      ],
      "source": [
        "# If we're running on Colab, install empiricaldist\n",
        "# https://pypi.org/project/empiricaldist/\n",
        "\n",
        "import sys\n",
        "IN_COLAB = 'google.colab' in sys.modules\n",
        "\n",
        "if IN_COLAB:\n",
        "    !pip install empiricaldist"
      ]
    },
    {
      "cell_type": "code",
      "execution_count": 1,
      "metadata": {
        "execution": {
          "iopub.execute_input": "2021-04-16T19:35:25.060363Z",
          "iopub.status.busy": "2021-04-16T19:35:25.059859Z",
          "iopub.status.idle": "2021-04-16T19:35:25.061547Z",
          "shell.execute_reply": "2021-04-16T19:35:25.061891Z"
        },
        "tags": [],
        "id": "ycNnXqK-u1Mb",
        "outputId": "9c24df63-9ba0-4753-dcd3-d436d3721993",
        "colab": {
          "base_uri": "https://localhost:8080/"
        }
      },
      "outputs": [
        {
          "output_type": "stream",
          "name": "stdout",
          "text": [
            "Downloaded utils.py\n"
          ]
        }
      ],
      "source": [
        "# Get utils.py\n",
        "\n",
        "from os.path import basename, exists\n",
        "\n",
        "def download(url):\n",
        "    filename = basename(url)\n",
        "    if not exists(filename):\n",
        "        from urllib.request import urlretrieve\n",
        "        local, _ = urlretrieve(url, filename)\n",
        "        print('Downloaded ' + local)\n",
        "    \n",
        "download('https://github.com/AllenDowney/ThinkBayes2/raw/master/soln/utils.py')"
      ]
    },
    {
      "cell_type": "code",
      "execution_count": 3,
      "metadata": {
        "execution": {
          "iopub.execute_input": "2021-04-16T19:35:25.064750Z",
          "iopub.status.busy": "2021-04-16T19:35:25.064307Z",
          "iopub.status.idle": "2021-04-16T19:35:25.842409Z",
          "shell.execute_reply": "2021-04-16T19:35:25.841954Z"
        },
        "tags": [],
        "id": "1UpziW58u1Mb"
      },
      "outputs": [],
      "source": [
        "from utils import set_pyplot_params\n",
        "set_pyplot_params()"
      ]
    },
    {
      "cell_type": "markdown",
      "metadata": {
        "id": "vXdMOIF2u1Mb"
      },
      "source": [
        "This chapter presents a new way to represent a degree of certainty, **odds**, and a new form of Bayes's Theorem, called **Bayes's Rule**.\n",
        "Bayes's Rule is convenient if you want to do a Bayesian update on paper or in your head.\n",
        "It also sheds light on the important idea of **evidence** and how we can quantify the strength of evidence.\n",
        "\n",
        "The second part of the chapter is about \"addends\", that is, quantities being added, and how we can compute their distributions.\n",
        "We'll define functions that compute the distribution of sums, differences, products, and other operations.\n",
        "Then we'll use those distributions as part of a Bayesian update."
      ]
    },
    {
      "cell_type": "markdown",
      "metadata": {
        "id": "ObGx9zt0u1Mb"
      },
      "source": [
        "## Odds\n",
        "\n",
        "확률을 나타내는 한 가지 방법은 0과 1 사이의 숫자로 나타내는 법이지만, 이것만이 유일한 방법은 아니다.\n",
        "축구나 경마에 돈을 걸어본 적이 잇다면, 아마 **odds** 라고 불리는 확률 표현 방법을 접해봤을 것이다.\n",
        "\n",
        "You might have heard expressions like \"the odds are three to one\", but you might not know what that means.\n",
        "**odds in favor**는 이 사건이 일어날 확률 대 일어나지 않았을 확률의 비율이다.\n",
        "\n",
        "The following function does this calculation."
      ]
    },
    {
      "cell_type": "code",
      "execution_count": 4,
      "metadata": {
        "execution": {
          "iopub.execute_input": "2021-04-16T19:35:25.847175Z",
          "iopub.status.busy": "2021-04-16T19:35:25.846506Z",
          "iopub.status.idle": "2021-04-16T19:35:25.850491Z",
          "shell.execute_reply": "2021-04-16T19:35:25.850052Z"
        },
        "id": "IXumouwJu1Mb"
      },
      "outputs": [],
      "source": [
        "def odds(p):\n",
        "    return p / (1-p)"
      ]
    },
    {
      "cell_type": "markdown",
      "metadata": {
        "id": "-tTAOq0gu1Mc"
      },
      "source": [
        "For example, if my team has a 75% chance of winning, the odds in their favor are three to one, because the chance of winning is three times the chance of losing."
      ]
    },
    {
      "cell_type": "code",
      "execution_count": 5,
      "metadata": {
        "execution": {
          "iopub.execute_input": "2021-04-16T19:35:25.857515Z",
          "iopub.status.busy": "2021-04-16T19:35:25.856721Z",
          "iopub.status.idle": "2021-04-16T19:35:25.859929Z",
          "shell.execute_reply": "2021-04-16T19:35:25.860503Z"
        },
        "id": "b_oNmPB7u1Mc",
        "outputId": "444b7fa5-0aa5-47ab-b6b5-efe988829c85",
        "colab": {
          "base_uri": "https://localhost:8080/"
        }
      },
      "outputs": [
        {
          "output_type": "execute_result",
          "data": {
            "text/plain": [
              "3.0"
            ]
          },
          "metadata": {},
          "execution_count": 5
        }
      ],
      "source": [
        "odds(0.75)"
      ]
    },
    {
      "cell_type": "markdown",
      "metadata": {
        "id": "OBEnXdhzu1Mc"
      },
      "source": [
        "You can write odds in decimal form, but it is also common to\n",
        "write them as a ratio of integers.\n",
        "So \"three to one\" is sometimes written $3:1$.\n",
        "\n",
        "When probabilities are low, it is more common to report the\n",
        "**odds against** rather than the odds in favor.\n",
        "For example, if my horse has a 10% chance of winning, the odds in favor are $1:9$."
      ]
    },
    {
      "cell_type": "code",
      "execution_count": 6,
      "metadata": {
        "execution": {
          "iopub.execute_input": "2021-04-16T19:35:25.864570Z",
          "iopub.status.busy": "2021-04-16T19:35:25.863924Z",
          "iopub.status.idle": "2021-04-16T19:35:25.867151Z",
          "shell.execute_reply": "2021-04-16T19:35:25.866535Z"
        },
        "id": "-UtbMFb5u1Mc",
        "outputId": "8ed2eb42-d014-432b-8b21-a0c48f6f9164",
        "colab": {
          "base_uri": "https://localhost:8080/"
        }
      },
      "outputs": [
        {
          "output_type": "execute_result",
          "data": {
            "text/plain": [
              "0.11111111111111112"
            ]
          },
          "metadata": {},
          "execution_count": 6
        }
      ],
      "source": [
        "odds(0.1)"
      ]
    },
    {
      "cell_type": "markdown",
      "metadata": {
        "id": "btUKtv2Wu1Mc"
      },
      "source": [
        "But in that case it would be more common I to say that the odds against are $9:1$."
      ]
    },
    {
      "cell_type": "code",
      "execution_count": 7,
      "metadata": {
        "execution": {
          "iopub.execute_input": "2021-04-16T19:35:25.871386Z",
          "iopub.status.busy": "2021-04-16T19:35:25.870629Z",
          "iopub.status.idle": "2021-04-16T19:35:25.874421Z",
          "shell.execute_reply": "2021-04-16T19:35:25.873817Z"
        },
        "id": "Ahi7dnNfu1Mc",
        "outputId": "179ead3b-a8f2-462c-f1ea-25ffe58082f4",
        "colab": {
          "base_uri": "https://localhost:8080/"
        }
      },
      "outputs": [
        {
          "output_type": "execute_result",
          "data": {
            "text/plain": [
              "9.000000000000002"
            ]
          },
          "metadata": {},
          "execution_count": 7
        }
      ],
      "source": [
        "odds(0.9)"
      ]
    },
    {
      "cell_type": "markdown",
      "metadata": {
        "id": "r9NH4vbru1Mc"
      },
      "source": [
        "Given the odds in favor, in decimal form, you can convert to probability like this:"
      ]
    },
    {
      "cell_type": "code",
      "execution_count": 8,
      "metadata": {
        "execution": {
          "iopub.execute_input": "2021-04-16T19:35:25.878254Z",
          "iopub.status.busy": "2021-04-16T19:35:25.877499Z",
          "iopub.status.idle": "2021-04-16T19:35:25.879194Z",
          "shell.execute_reply": "2021-04-16T19:35:25.879785Z"
        },
        "id": "l2BNQnI2u1Md"
      },
      "outputs": [],
      "source": [
        "def prob(o):\n",
        "    return o / (o+1)"
      ]
    },
    {
      "cell_type": "markdown",
      "metadata": {
        "id": "Yw87UznXu1Md"
      },
      "source": [
        "For example, if the odds are $3/2$, the corresponding probability is $3/5$:"
      ]
    },
    {
      "cell_type": "code",
      "execution_count": 9,
      "metadata": {
        "execution": {
          "iopub.execute_input": "2021-04-16T19:35:25.884222Z",
          "iopub.status.busy": "2021-04-16T19:35:25.883524Z",
          "iopub.status.idle": "2021-04-16T19:35:25.886020Z",
          "shell.execute_reply": "2021-04-16T19:35:25.886547Z"
        },
        "id": "shRQgfNqu1Md",
        "outputId": "d6d6fe8a-4f64-419e-e7c0-1d107e30e4e6",
        "colab": {
          "base_uri": "https://localhost:8080/"
        }
      },
      "outputs": [
        {
          "output_type": "execute_result",
          "data": {
            "text/plain": [
              "0.6"
            ]
          },
          "metadata": {},
          "execution_count": 9
        }
      ],
      "source": [
        "prob(3/2)"
      ]
    },
    {
      "cell_type": "markdown",
      "metadata": {
        "id": "g01OBNemu1Md"
      },
      "source": [
        "Or if you represent odds with a numerator and denominator, you can convert to probability like this:"
      ]
    },
    {
      "cell_type": "code",
      "execution_count": 10,
      "metadata": {
        "execution": {
          "iopub.execute_input": "2021-04-16T19:35:25.890280Z",
          "iopub.status.busy": "2021-04-16T19:35:25.889753Z",
          "iopub.status.idle": "2021-04-16T19:35:25.891691Z",
          "shell.execute_reply": "2021-04-16T19:35:25.892110Z"
        },
        "id": "59E6wKLgu1Md"
      },
      "outputs": [],
      "source": [
        "def prob2(yes, no):\n",
        "    return yes / (yes + no)"
      ]
    },
    {
      "cell_type": "code",
      "execution_count": 11,
      "metadata": {
        "execution": {
          "iopub.execute_input": "2021-04-16T19:35:25.896932Z",
          "iopub.status.busy": "2021-04-16T19:35:25.896240Z",
          "iopub.status.idle": "2021-04-16T19:35:25.899626Z",
          "shell.execute_reply": "2021-04-16T19:35:25.899181Z"
        },
        "id": "7M0yP8Tau1Md",
        "outputId": "44ee32e2-c421-4be3-a7f9-30d8360d2b1d",
        "colab": {
          "base_uri": "https://localhost:8080/"
        }
      },
      "outputs": [
        {
          "output_type": "execute_result",
          "data": {
            "text/plain": [
              "0.6"
            ]
          },
          "metadata": {},
          "execution_count": 11
        }
      ],
      "source": [
        "prob2(3, 2)"
      ]
    },
    {
      "cell_type": "markdown",
      "metadata": {
        "id": "RAJhRDkTu1Md"
      },
      "source": [
        "확률과 오즈는 동일한 정보를 다르게 표현한다. 이 중 하나가 주어진다면, 다른 형태도 구할 수 있다. 하지만 어떤 계산은 공산을 쓸 때 더 편하다. 이에 대해서는 다음 절에서 살펴보자. 로그 공산을 쓸 때 더 펴한 경우도 있는데, 이는 나중에 살펴보자."
      ]
    },
    {
      "cell_type": "markdown",
      "metadata": {
        "id": "n3sVJqbzu1Md"
      },
      "source": [
        "## Bayes's Rule\n",
        "\n",
        "So far we have worked with Bayes's theorem in the \"probability form\": \n",
        "\n",
        "$$P(H|D) = \\frac{P(H)~P(D|H)}{P(D)}$$\n",
        "\n",
        "Writing $\\mathrm{odds}(A)$ for odds in favor of $A$, we can express Bayes's Theorem in \"odds form\":\n",
        "\n",
        "$$\\mathrm{odds}(A|D) = \\mathrm{odds}(A)~\\frac{P(D|A)}{P(D|B)}$$\n",
        "\n",
        "This is Bayes's Rule, which says that the posterior odds are the prior odds times the likelihood ratio.\n",
        "Bayes's Rule is convenient for computing a Bayesian update on paper or in your head. For example, let's go back to the cookie problem:\n",
        "\n",
        "> Suppose there are two bowls of cookies. Bowl 1 contains 30 vanilla cookies and 10 chocolate cookies. Bowl 2 contains 20 of each. Now suppose you choose one of the bowls at random and, without looking, select a cookie at random. The cookie is vanilla. What is the probability that it came from Bowl 1?\n",
        "\n",
        "The prior probability is 50%, so the prior odds are 1. The likelihood ratio is $\\frac{3}{4} / \\frac{1}{2}$, or $3/2$. So the posterior odds are $3/2$, which corresponds to probability $3/5$."
      ]
    },
    {
      "cell_type": "code",
      "execution_count": null,
      "metadata": {
        "execution": {
          "iopub.execute_input": "2021-04-16T19:35:25.903843Z",
          "iopub.status.busy": "2021-04-16T19:35:25.903087Z",
          "iopub.status.idle": "2021-04-16T19:35:25.905922Z",
          "shell.execute_reply": "2021-04-16T19:35:25.906470Z"
        },
        "id": "U8ULJikFu1Me"
      },
      "outputs": [],
      "source": [
        "prior_odds = 1\n",
        "likelihood_ratio = (3/4) / (1/2)\n",
        "post_odds = prior_odds * likelihood_ratio\n",
        "post_odds"
      ]
    },
    {
      "cell_type": "code",
      "execution_count": null,
      "metadata": {
        "execution": {
          "iopub.execute_input": "2021-04-16T19:35:25.911059Z",
          "iopub.status.busy": "2021-04-16T19:35:25.910422Z",
          "iopub.status.idle": "2021-04-16T19:35:25.913602Z",
          "shell.execute_reply": "2021-04-16T19:35:25.913967Z"
        },
        "id": "hxXc87Lku1Me"
      },
      "outputs": [],
      "source": [
        "post_prob = prob(post_odds)\n",
        "post_prob"
      ]
    },
    {
      "cell_type": "markdown",
      "metadata": {
        "id": "bquRhOr_u1Me"
      },
      "source": [
        "If we draw another cookie and it's chocolate, we can do another update:"
      ]
    },
    {
      "cell_type": "code",
      "execution_count": null,
      "metadata": {
        "execution": {
          "iopub.execute_input": "2021-04-16T19:35:25.918775Z",
          "iopub.status.busy": "2021-04-16T19:35:25.918156Z",
          "iopub.status.idle": "2021-04-16T19:35:25.922078Z",
          "shell.execute_reply": "2021-04-16T19:35:25.921279Z"
        },
        "id": "H8d95Wp0u1Me"
      },
      "outputs": [],
      "source": [
        "likelihood_ratio = (1/4) / (1/2)\n",
        "post_odds *= likelihood_ratio\n",
        "post_odds"
      ]
    },
    {
      "cell_type": "markdown",
      "metadata": {
        "id": "VjObM3JTu1Me"
      },
      "source": [
        "And convert back to probability."
      ]
    },
    {
      "cell_type": "code",
      "execution_count": null,
      "metadata": {
        "execution": {
          "iopub.execute_input": "2021-04-16T19:35:25.926620Z",
          "iopub.status.busy": "2021-04-16T19:35:25.926000Z",
          "iopub.status.idle": "2021-04-16T19:35:25.929931Z",
          "shell.execute_reply": "2021-04-16T19:35:25.930427Z"
        },
        "id": "5dqq-zDZu1Mf"
      },
      "outputs": [],
      "source": [
        "post_prob = prob(post_odds)\n",
        "post_prob"
      ]
    },
    {
      "cell_type": "markdown",
      "metadata": {
        "id": "rts6n0EAu1Mf"
      },
      "source": [
        "## Oliver's Blood\n",
        "\n",
        "I’ll use Bayes’s Rule to solve another problem from MacKay’s\n",
        "[*Information Theory, Inference, and Learning Algorithms*](https://www.inference.org.uk/mackay/itila/):\n",
        "\n",
        "> Two people have left traces of their own blood at the scene of a crime. A suspect, Oliver, is tested and found to have type ‘O’ blood. The blood groups of the two traces are found to be of type ‘O’ (a common type in the local population, having frequency 60%) and of type ‘AB’ (a rare type, with frequency 1%). Do these data \\[the traces found at the scene\\] give evidence in favor of the proposition that Oliver was one of the people \\[who left blood at the scene\\]?\n",
        "\n",
        "To answer this question, we need to think about what it means for data\n",
        "to give evidence in favor of (or against) a hypothesis. Intuitively, we might say that data favor a hypothesis if the hypothesis is more likely in light of the data than it was before.\n",
        "\n",
        "In the cookie problem, the prior odds are 1, which corresponds to probability 50%. The posterior odds are $3/2$, or probability 60%. So the vanilla cookie is evidence in favor of Bowl 1."
      ]
    },
    {
      "cell_type": "markdown",
      "metadata": {
        "id": "l9GenD1Lu1Mf"
      },
      "source": [
        "Bayes's Rule provides a way to make this intuition more precise. Again\n",
        "\n",
        "$$\\mathrm{odds}(A|D) = \\mathrm{odds}(A)~\\frac{P(D|A)}{P(D|B)}$$\n",
        "\n",
        "Dividing through by $\\mathrm{odds}(A)$, we get: \n",
        "\n",
        "$$\\frac{\\mathrm{odds}(A|D)}{\\mathrm{odds}(A)} = \\frac{P(D|A)}{P(D|B)}$$\n",
        "\n",
        "좌항은 사후 공산과 사전 공산의 비다. 우측 항은 가능도비로, 베이즈 요인이라고 한다.\n",
        "베이즈 요인이 1보다 크면, 데이터는 B의 가정보다 A의 가정 하에 존재하는 게 더 가깝다는 뜻이다. 또한 데이터를 반영한 후 전보다 공산이 커졌음을 의미한다.\n",
        "\n",
        "베이즈 요인이 1보다 작다면, 데이터가 A의 가정보다 B의 가정 하에 존재할 가능성이 높다는 뜻이다. 따라서 A의 승산은 낮아진다. 그리고 베이즈 요인이 정확히 1이라면, 데이터는 양쪽 가설 하에서 동일한 가능성을 가지므로, 공산은 변하지 않는다.\n",
        "\n",
        "Finally, if the Bayes factor is exactly 1, the data are equally likely\n",
        "under either hypothesis, so the odds do not change."
      ]
    },
    {
      "cell_type": "markdown",
      "metadata": {
        "id": "qXD3lFvUu1Mf"
      },
      "source": [
        "Let's apply that to the problem at hand. If Oliver is one of the people who left blood at the crime scene, he accounts for the ‘O’ sample; in that case, the probability of the data is the probability that a random member of the population has type ‘AB’ blood, which is 1%.\n",
        "\n",
        "If Oliver did not leave blood at the scene, we have two samples to\n",
        "account for. \n",
        "If we choose two random people from the population, what is the chance of finding one with type ‘O’ and one with type ‘AB’? \n",
        "Well, there are two ways it might happen: \n",
        "\n",
        "* The first person might have ‘O’ and the second ‘AB’, \n",
        "\n",
        "* Or the first person might have ‘AB’ and the second ‘O’.\n",
        "\n",
        "The probability of either combination is $(0.6) (0.01)$, which is 0.6%, so the total probability is twice that, or 1.2%.\n",
        "So the data are a little more likely if Oliver is *not* one of the people who left blood at the scene.\n",
        "\n",
        "We can use these probabilities to compute the likelihood ratio:"
      ]
    },
    {
      "cell_type": "code",
      "execution_count": 12,
      "metadata": {
        "execution": {
          "iopub.execute_input": "2021-04-16T19:35:25.935512Z",
          "iopub.status.busy": "2021-04-16T19:35:25.934799Z",
          "iopub.status.idle": "2021-04-16T19:35:25.940814Z",
          "shell.execute_reply": "2021-04-16T19:35:25.940217Z"
        },
        "id": "n3w2T4fOu1Mf",
        "outputId": "9ae713e5-2b1d-4831-9c1a-322150f4f63b",
        "colab": {
          "base_uri": "https://localhost:8080/"
        }
      },
      "outputs": [
        {
          "output_type": "execute_result",
          "data": {
            "text/plain": [
              "0.8333333333333334"
            ]
          },
          "metadata": {},
          "execution_count": 12
        }
      ],
      "source": [
        "like1 = 0.01\n",
        "like2 = 2 * 0.6 * 0.01\n",
        "\n",
        "likelihood_ratio = like1 / like2\n",
        "likelihood_ratio"
      ]
    },
    {
      "cell_type": "markdown",
      "metadata": {
        "id": "CVBt6km9u1Mf"
      },
      "source": [
        "likelihood ratio가 1보다 작으므로, 혈액형 검사는 올리버가 현장에 혈흔을 남겼다는 가설에 반하는 증거가 된다.\n",
        "\n",
        "하지만 이는 약한 증거다. 예를 들어, prior odds가 1(50%의 확률)이라면, 사후 공산은 45%에 해당하는 0.83이 된다."
      ]
    },
    {
      "cell_type": "code",
      "execution_count": 13,
      "metadata": {
        "execution": {
          "iopub.execute_input": "2021-04-16T19:35:25.943890Z",
          "iopub.status.busy": "2021-04-16T19:35:25.943238Z",
          "iopub.status.idle": "2021-04-16T19:35:25.948722Z",
          "shell.execute_reply": "2021-04-16T19:35:25.949237Z"
        },
        "id": "da0DoR8Nu1Mf",
        "outputId": "016c9602-9540-4ecf-d4e3-95af38753c23",
        "colab": {
          "base_uri": "https://localhost:8080/"
        }
      },
      "outputs": [
        {
          "output_type": "execute_result",
          "data": {
            "text/plain": [
              "0.45454545454545453"
            ]
          },
          "metadata": {},
          "execution_count": 13
        }
      ],
      "source": [
        "post_odds = 1 * like1 / like2\n",
        "prob(post_odds)"
      ]
    },
    {
      "cell_type": "markdown",
      "metadata": {
        "id": "BvuaezkTu1Mf"
      },
      "source": [
        "이 증거는 '판을 뒤집는' 증거는 아니다.\n",
        "\n",
        "이 예제는 조금 억지스럽지만, 가설에 부합하는 데이터가 항상 가설에 유리한 것은 아니라는, 직관에 어긋나는 결과에 대한 예시를 보여준다.\n",
        "\n",
        "If this result still bothers you, this way of thinking might help: the\n",
        "data consist of a common event, type ‘O’ blood, and a rare event, type\n",
        "‘AB’ blood. If Oliver accounts for the common event, that leaves the\n",
        "rare event unexplained. If Oliver doesn’t account for the ‘O’ blood, we\n",
        "have two chances to find someone in the population with ‘AB’ blood. And\n",
        "that factor of two makes the difference."
      ]
    },
    {
      "cell_type": "markdown",
      "metadata": {
        "id": "pHy2M--bu1Mf"
      },
      "source": [
        "**Exercise:** \n",
        "다른 증거를 기반으로 했을 때, 올리버의 유죄에 대한 사전 믿음이 90% 라고 하자. 이 장에서 나온 혈흔 증거가 믿음을 얼마나 바꾸는가? 사전 믿음이 10% 였다면 어땠을까?"
      ]
    },
    {
      "cell_type": "code",
      "execution_count": 16,
      "metadata": {
        "execution": {
          "iopub.execute_input": "2021-04-16T19:35:25.953967Z",
          "iopub.status.busy": "2021-04-16T19:35:25.953380Z",
          "iopub.status.idle": "2021-04-16T19:35:25.956711Z",
          "shell.execute_reply": "2021-04-16T19:35:25.957322Z"
        },
        "id": "tE1HX09Wu1Mf",
        "outputId": "a9efc99f-ae9c-4af0-ed6c-5dfc6212e119",
        "colab": {
          "base_uri": "https://localhost:8080/"
        }
      },
      "outputs": [
        {
          "output_type": "execute_result",
          "data": {
            "text/plain": [
              "0.8823529411764706"
            ]
          },
          "metadata": {},
          "execution_count": 16
        }
      ],
      "source": [
        "# Solution goes here\n",
        "# 사전 믿음이 90% 였다면\n",
        "post_odds = odds(0.9) * like1 / like2\n",
        "prob(post_odds)"
      ]
    },
    {
      "cell_type": "code",
      "execution_count": 17,
      "metadata": {
        "execution": {
          "iopub.execute_input": "2021-04-16T19:35:25.961924Z",
          "iopub.status.busy": "2021-04-16T19:35:25.961197Z",
          "iopub.status.idle": "2021-04-16T19:35:25.965746Z",
          "shell.execute_reply": "2021-04-16T19:35:25.965223Z"
        },
        "id": "uS3YFzzqu1Mf",
        "outputId": "3e83f674-9d05-4624-e15d-72c174862460",
        "colab": {
          "base_uri": "https://localhost:8080/"
        }
      },
      "outputs": [
        {
          "output_type": "execute_result",
          "data": {
            "text/plain": [
              "0.0847457627118644"
            ]
          },
          "metadata": {},
          "execution_count": 17
        }
      ],
      "source": [
        "# Solution goes here\n",
        "# 사전 믿음이 10% 였다면\n",
        "post_odds = odds(0.1) * like1 / like2\n",
        "prob(post_odds)"
      ]
    },
    {
      "cell_type": "markdown",
      "metadata": {
        "id": "p_7SeeP8u1Mf"
      },
      "source": [
        "## Addends\n",
        "\n",
        "The second half of this chapter is about distributions of sums and results of other operations.\n",
        "We'll start with a forward problem, where we are given the inputs and compute the distribution of the output.\n",
        "결과값으로부터 입력값의 분포를 구하는 역산 문제를 살펴보자.\n",
        "\n",
        "첫 번째 예제로, 두 개의 주사위를 굴려서 이 값을 더했다고 해보자. 이 때 이 합의 분포는 어떻게 나타날 것인가? 여기서는 주사위의 가능한 결과를 생성하는 `Pmf`를 만드는 함수를 사용한다."
      ]
    },
    {
      "cell_type": "code",
      "execution_count": 18,
      "metadata": {
        "execution": {
          "iopub.execute_input": "2021-04-16T19:35:25.970626Z",
          "iopub.status.busy": "2021-04-16T19:35:25.969863Z",
          "iopub.status.idle": "2021-04-16T19:35:25.972711Z",
          "shell.execute_reply": "2021-04-16T19:35:25.971836Z"
        },
        "id": "5Aqx6wbuu1Mf"
      },
      "outputs": [],
      "source": [
        "import numpy as np\n",
        "from empiricaldist import Pmf\n",
        "\n",
        "def make_die(sides):\n",
        "    outcomes = np.arange(1, sides+1)\n",
        "    die = Pmf(1/sides, outcomes)\n",
        "    return die"
      ]
    },
    {
      "cell_type": "markdown",
      "metadata": {
        "id": "CDorl2_Gu1Mf"
      },
      "source": [
        "On a six-sided die, the outcomes are 1 through 6, all\n",
        "equally likely."
      ]
    },
    {
      "cell_type": "code",
      "execution_count": 21,
      "metadata": {
        "execution": {
          "iopub.execute_input": "2021-04-16T19:35:25.977624Z",
          "iopub.status.busy": "2021-04-16T19:35:25.976820Z",
          "iopub.status.idle": "2021-04-16T19:35:25.980388Z",
          "shell.execute_reply": "2021-04-16T19:35:25.980927Z"
        },
        "id": "Psvyl6Fgu1Mf",
        "outputId": "1b9d9b05-f64c-4777-ad15-f2adc70813cf",
        "colab": {
          "base_uri": "https://localhost:8080/",
          "height": 238
        }
      },
      "outputs": [
        {
          "output_type": "execute_result",
          "data": {
            "text/plain": [
              "1    0.166667\n",
              "2    0.166667\n",
              "3    0.166667\n",
              "4    0.166667\n",
              "5    0.166667\n",
              "6    0.166667\n",
              "Name: , dtype: float64"
            ],
            "text/html": [
              "<div>\n",
              "<style scoped>\n",
              "    .dataframe tbody tr th:only-of-type {\n",
              "        vertical-align: middle;\n",
              "    }\n",
              "\n",
              "    .dataframe tbody tr th {\n",
              "        vertical-align: top;\n",
              "    }\n",
              "\n",
              "    .dataframe thead th {\n",
              "        text-align: right;\n",
              "    }\n",
              "</style>\n",
              "<table border=\"1\" class=\"dataframe\">\n",
              "  <thead>\n",
              "    <tr style=\"text-align: right;\">\n",
              "      <th></th>\n",
              "      <th>probs</th>\n",
              "    </tr>\n",
              "  </thead>\n",
              "  <tbody>\n",
              "    <tr>\n",
              "      <th>1</th>\n",
              "      <td>0.166667</td>\n",
              "    </tr>\n",
              "    <tr>\n",
              "      <th>2</th>\n",
              "      <td>0.166667</td>\n",
              "    </tr>\n",
              "    <tr>\n",
              "      <th>3</th>\n",
              "      <td>0.166667</td>\n",
              "    </tr>\n",
              "    <tr>\n",
              "      <th>4</th>\n",
              "      <td>0.166667</td>\n",
              "    </tr>\n",
              "    <tr>\n",
              "      <th>5</th>\n",
              "      <td>0.166667</td>\n",
              "    </tr>\n",
              "    <tr>\n",
              "      <th>6</th>\n",
              "      <td>0.166667</td>\n",
              "    </tr>\n",
              "  </tbody>\n",
              "</table>\n",
              "</div>"
            ]
          },
          "metadata": {},
          "execution_count": 21
        }
      ],
      "source": [
        "die = make_die(6)\n",
        "die"
      ]
    },
    {
      "cell_type": "code",
      "execution_count": 22,
      "metadata": {
        "execution": {
          "iopub.execute_input": "2021-04-16T19:35:25.985499Z",
          "iopub.status.busy": "2021-04-16T19:35:25.984796Z",
          "iopub.status.idle": "2021-04-16T19:35:26.189007Z",
          "shell.execute_reply": "2021-04-16T19:35:26.188413Z"
        },
        "tags": [],
        "id": "ejT-Nfqxu1Mf",
        "outputId": "de883fb5-38e1-4dd4-cbbf-1737779f9326",
        "colab": {
          "base_uri": "https://localhost:8080/",
          "height": 297
        }
      },
      "outputs": [
        {
          "output_type": "display_data",
          "data": {
            "text/plain": [
              "<Figure size 432x288 with 1 Axes>"
            ],
            "image/png": "[encoded data removed]"
          },
          "metadata": {
            "needs_background": "light"
          }
        }
      ],
      "source": [
        "from utils import decorate\n",
        "\n",
        "die.bar(alpha=0.4)\n",
        "decorate(xlabel='Outcome',\n",
        "         ylabel='PMF')"
      ]
    },
    {
      "cell_type": "markdown",
      "metadata": {
        "id": "liTl2-6fu1Mf"
      },
      "source": [
        "If we roll two dice and add them up, there are 11 possible outcomes, 2\n",
        "through 12, but they are not equally likely. To compute the distribution\n",
        "of the sum, we have to enumerate the possible outcomes. \n",
        "\n",
        "And that's how this function works:"
      ]
    },
    {
      "cell_type": "code",
      "execution_count": 23,
      "metadata": {
        "execution": {
          "iopub.execute_input": "2021-04-16T19:35:26.193192Z",
          "iopub.status.busy": "2021-04-16T19:35:26.192722Z",
          "iopub.status.idle": "2021-04-16T19:35:26.194939Z",
          "shell.execute_reply": "2021-04-16T19:35:26.194501Z"
        },
        "id": "K_yGRBQeu1Mg"
      },
      "outputs": [],
      "source": [
        "def add_dist(pmf1, pmf2):\n",
        "    \"\"\"Compute the distribution of a sum.\"\"\"\n",
        "    res = Pmf()\n",
        "    for q1, p1 in pmf1.items():\n",
        "        for q2, p2 in pmf2.items():\n",
        "            q = q1 + q2\n",
        "            p = p1 * p2\n",
        "            res[q] = res(q) + p\n",
        "    return res"
      ]
    },
    {
      "cell_type": "markdown",
      "metadata": {
        "id": "qFe7lTGCu1Mg"
      },
      "source": [
        "The parameters are `Pmf` objects representing distributions.\n",
        "\n",
        "The loops iterate though the quantities and probabilities in the `Pmf` objects.\n",
        "Each time through the loop `q` gets the sum of a pair of quantities, and `p` gets the probability of the pair.\n",
        "Because the same sum might appear more than once, we have to add up the total probability for each sum."
      ]
    },
    {
      "cell_type": "markdown",
      "metadata": {
        "id": "eQaQSueFu1Mg"
      },
      "source": [
        "Notice a subtle element of this line:\n",
        "\n",
        "```\n",
        "            res[q] = res(q) + p\n",
        "```\n",
        "\n",
        "I use parentheses on the right side of the assignment, which returns 0 if `q` does not appear yet in `res`.\n",
        "I use brackets on the left side of the assignment to create or update an element in `res`; using parentheses on the left side would not work.\n",
        "\n",
        "`Pmf` provides `add_dist`, which does the same thing.\n",
        "You can call it as a method, like this:"
      ]
    },
    {
      "cell_type": "code",
      "execution_count": 24,
      "metadata": {
        "execution": {
          "iopub.execute_input": "2021-04-16T19:35:26.199932Z",
          "iopub.status.busy": "2021-04-16T19:35:26.199258Z",
          "iopub.status.idle": "2021-04-16T19:35:26.200896Z",
          "shell.execute_reply": "2021-04-16T19:35:26.201275Z"
        },
        "id": "Xh0HYPtnu1Mg"
      },
      "outputs": [],
      "source": [
        "twice = die.add_dist(die)"
      ]
    },
    {
      "cell_type": "markdown",
      "metadata": {
        "id": "wpMM8R5Nu1Mg"
      },
      "source": [
        "Or as a function, like this:"
      ]
    },
    {
      "cell_type": "code",
      "execution_count": 25,
      "metadata": {
        "execution": {
          "iopub.execute_input": "2021-04-16T19:35:26.205592Z",
          "iopub.status.busy": "2021-04-16T19:35:26.205163Z",
          "iopub.status.idle": "2021-04-16T19:35:26.206990Z",
          "shell.execute_reply": "2021-04-16T19:35:26.206626Z"
        },
        "id": "KxTV6AvJu1Mg"
      },
      "outputs": [],
      "source": [
        "twice = Pmf.add_dist(die, die)"
      ]
    },
    {
      "cell_type": "markdown",
      "metadata": {
        "id": "kEYcPhWqu1Mg"
      },
      "source": [
        "And here's what the result looks like:"
      ]
    },
    {
      "cell_type": "code",
      "execution_count": 26,
      "metadata": {
        "execution": {
          "iopub.execute_input": "2021-04-16T19:35:26.210188Z",
          "iopub.status.busy": "2021-04-16T19:35:26.209766Z",
          "iopub.status.idle": "2021-04-16T19:35:26.211302Z",
          "shell.execute_reply": "2021-04-16T19:35:26.211647Z"
        },
        "tags": [],
        "id": "XrUu4BDpu1Mg"
      },
      "outputs": [],
      "source": [
        "from utils import decorate\n",
        "\n",
        "def decorate_dice(title=''):\n",
        "    decorate(xlabel='Outcome',\n",
        "             ylabel='PMF',\n",
        "             title=title)"
      ]
    },
    {
      "cell_type": "code",
      "execution_count": 27,
      "metadata": {
        "execution": {
          "iopub.execute_input": "2021-04-16T19:35:26.239441Z",
          "iopub.status.busy": "2021-04-16T19:35:26.238769Z",
          "iopub.status.idle": "2021-04-16T19:35:26.367977Z",
          "shell.execute_reply": "2021-04-16T19:35:26.368514Z"
        },
        "tags": [],
        "id": "P4RVjBTOu1Mg",
        "outputId": "4291f4e0-2eba-4079-e2b2-c521626e23f8",
        "colab": {
          "base_uri": "https://localhost:8080/",
          "height": 297
        }
      },
      "outputs": [
        {
          "output_type": "display_data",
          "data": {
            "text/plain": [
              "<Figure size 432x288 with 1 Axes>"
            ],
            "image/png": "[encoded data removed]"
          },
          "metadata": {
            "needs_background": "light"
          }
        }
      ],
      "source": [
        "twice = add_dist(die, die)\n",
        "twice.bar(color='C1', alpha=0.5)\n",
        "decorate_dice()"
      ]
    },
    {
      "cell_type": "markdown",
      "metadata": {
        "id": "YgH2-QhJu1Mg"
      },
      "source": [
        "If we have a sequence of `Pmf` objects that represent dice, we can compute the distribution of the sum like this:\n"
      ]
    },
    {
      "cell_type": "code",
      "execution_count": 28,
      "metadata": {
        "execution": {
          "iopub.execute_input": "2021-04-16T19:35:26.371912Z",
          "iopub.status.busy": "2021-04-16T19:35:26.371501Z",
          "iopub.status.idle": "2021-04-16T19:35:26.374367Z",
          "shell.execute_reply": "2021-04-16T19:35:26.374905Z"
        },
        "id": "xdaNz-ymu1Mg"
      },
      "outputs": [],
      "source": [
        "def add_dist_seq(seq):\n",
        "    \"\"\"Compute Pmf of the sum of values from seq.\"\"\"\n",
        "    total = seq[0]\n",
        "    for other in seq[1:]:\n",
        "        total = total.add_dist(other)\n",
        "    return total"
      ]
    },
    {
      "cell_type": "markdown",
      "metadata": {
        "id": "4lgdBPVHu1Mg"
      },
      "source": [
        "As an example, we can make a list of three dice like this:"
      ]
    },
    {
      "cell_type": "code",
      "execution_count": 30,
      "metadata": {
        "execution": {
          "iopub.execute_input": "2021-04-16T19:35:26.378258Z",
          "iopub.status.busy": "2021-04-16T19:35:26.377654Z",
          "iopub.status.idle": "2021-04-16T19:35:26.380487Z",
          "shell.execute_reply": "2021-04-16T19:35:26.380982Z"
        },
        "id": "DM2Icdodu1Mg",
        "outputId": "91a7bc47-ca58-4811-dbdc-995fcf074f61",
        "colab": {
          "base_uri": "https://localhost:8080/"
        }
      },
      "outputs": [
        {
          "output_type": "execute_result",
          "data": {
            "text/plain": [
              "[1    0.166667\n",
              " 2    0.166667\n",
              " 3    0.166667\n",
              " 4    0.166667\n",
              " 5    0.166667\n",
              " 6    0.166667\n",
              " Name: , dtype: float64, 1    0.166667\n",
              " 2    0.166667\n",
              " 3    0.166667\n",
              " 4    0.166667\n",
              " 5    0.166667\n",
              " 6    0.166667\n",
              " Name: , dtype: float64, 1    0.166667\n",
              " 2    0.166667\n",
              " 3    0.166667\n",
              " 4    0.166667\n",
              " 5    0.166667\n",
              " 6    0.166667\n",
              " Name: , dtype: float64]"
            ]
          },
          "metadata": {},
          "execution_count": 30
        }
      ],
      "source": [
        "dice = [die] * 3\n",
        "dice"
      ]
    },
    {
      "cell_type": "markdown",
      "metadata": {
        "id": "9AHHZhABu1Mg"
      },
      "source": [
        "And we can compute the distribution of their sum like this."
      ]
    },
    {
      "cell_type": "code",
      "execution_count": 32,
      "metadata": {
        "execution": {
          "iopub.execute_input": "2021-04-16T19:35:26.385882Z",
          "iopub.status.busy": "2021-04-16T19:35:26.385458Z",
          "iopub.status.idle": "2021-04-16T19:35:26.388695Z",
          "shell.execute_reply": "2021-04-16T19:35:26.389169Z"
        },
        "id": "4x_sXF9lu1Mg",
        "outputId": "fd325935-ac3d-47e9-ff6e-3ae9a4480c63",
        "colab": {
          "base_uri": "https://localhost:8080/",
          "height": 551
        }
      },
      "outputs": [
        {
          "output_type": "execute_result",
          "data": {
            "text/plain": [
              "3     0.004630\n",
              "4     0.013889\n",
              "5     0.027778\n",
              "6     0.046296\n",
              "7     0.069444\n",
              "8     0.097222\n",
              "9     0.115741\n",
              "10    0.125000\n",
              "11    0.125000\n",
              "12    0.115741\n",
              "13    0.097222\n",
              "14    0.069444\n",
              "15    0.046296\n",
              "16    0.027778\n",
              "17    0.013889\n",
              "18    0.004630\n",
              "Name: , dtype: float64"
            ],
            "text/html": [
              "<div>\n",
              "<style scoped>\n",
              "    .dataframe tbody tr th:only-of-type {\n",
              "        vertical-align: middle;\n",
              "    }\n",
              "\n",
              "    .dataframe tbody tr th {\n",
              "        vertical-align: top;\n",
              "    }\n",
              "\n",
              "    .dataframe thead th {\n",
              "        text-align: right;\n",
              "    }\n",
              "</style>\n",
              "<table border=\"1\" class=\"dataframe\">\n",
              "  <thead>\n",
              "    <tr style=\"text-align: right;\">\n",
              "      <th></th>\n",
              "      <th>probs</th>\n",
              "    </tr>\n",
              "  </thead>\n",
              "  <tbody>\n",
              "    <tr>\n",
              "      <th>3</th>\n",
              "      <td>0.004630</td>\n",
              "    </tr>\n",
              "    <tr>\n",
              "      <th>4</th>\n",
              "      <td>0.013889</td>\n",
              "    </tr>\n",
              "    <tr>\n",
              "      <th>5</th>\n",
              "      <td>0.027778</td>\n",
              "    </tr>\n",
              "    <tr>\n",
              "      <th>6</th>\n",
              "      <td>0.046296</td>\n",
              "    </tr>\n",
              "    <tr>\n",
              "      <th>7</th>\n",
              "      <td>0.069444</td>\n",
              "    </tr>\n",
              "    <tr>\n",
              "      <th>8</th>\n",
              "      <td>0.097222</td>\n",
              "    </tr>\n",
              "    <tr>\n",
              "      <th>9</th>\n",
              "      <td>0.115741</td>\n",
              "    </tr>\n",
              "    <tr>\n",
              "      <th>10</th>\n",
              "      <td>0.125000</td>\n",
              "    </tr>\n",
              "    <tr>\n",
              "      <th>11</th>\n",
              "      <td>0.125000</td>\n",
              "    </tr>\n",
              "    <tr>\n",
              "      <th>12</th>\n",
              "      <td>0.115741</td>\n",
              "    </tr>\n",
              "    <tr>\n",
              "      <th>13</th>\n",
              "      <td>0.097222</td>\n",
              "    </tr>\n",
              "    <tr>\n",
              "      <th>14</th>\n",
              "      <td>0.069444</td>\n",
              "    </tr>\n",
              "    <tr>\n",
              "      <th>15</th>\n",
              "      <td>0.046296</td>\n",
              "    </tr>\n",
              "    <tr>\n",
              "      <th>16</th>\n",
              "      <td>0.027778</td>\n",
              "    </tr>\n",
              "    <tr>\n",
              "      <th>17</th>\n",
              "      <td>0.013889</td>\n",
              "    </tr>\n",
              "    <tr>\n",
              "      <th>18</th>\n",
              "      <td>0.004630</td>\n",
              "    </tr>\n",
              "  </tbody>\n",
              "</table>\n",
              "</div>"
            ]
          },
          "metadata": {},
          "execution_count": 32
        }
      ],
      "source": [
        "thrice = add_dist_seq(dice)\n",
        "thrice"
      ]
    },
    {
      "cell_type": "markdown",
      "metadata": {
        "id": "FULewfDGu1Mg"
      },
      "source": [
        "The following figure shows what these three distributions look like:\n",
        "\n",
        "-   한 개의 주사위에서 1부터 6까지 나올 확률은 동일하다.\n",
        "\n",
        "-   두 주사위 눈의 합은 2부터 12까지 삼각분포로 나타난다.\n",
        "\n",
        "-   세 주사위 눈의 합은 3부터 18까지 종 모양 분포로 나타난다."
      ]
    },
    {
      "cell_type": "code",
      "execution_count": 33,
      "metadata": {
        "execution": {
          "iopub.execute_input": "2021-04-16T19:35:26.421840Z",
          "iopub.status.busy": "2021-04-16T19:35:26.406759Z",
          "iopub.status.idle": "2021-04-16T19:35:26.603342Z",
          "shell.execute_reply": "2021-04-16T19:35:26.602970Z"
        },
        "tags": [],
        "id": "N8oKl5ZBu1Mg",
        "outputId": "dfe89b87-88e6-4f01-94a0-c52c2ac91e31",
        "colab": {
          "base_uri": "https://localhost:8080/",
          "height": 297
        }
      },
      "outputs": [
        {
          "output_type": "display_data",
          "data": {
            "text/plain": [
              "<Figure size 432x288 with 1 Axes>"
            ],
            "image/png": "[encoded data removed]"
          },
          "metadata": {
            "needs_background": "light"
          }
        }
      ],
      "source": [
        "import matplotlib.pyplot as plt\n",
        "\n",
        "die.plot(label='once')\n",
        "twice.plot(label='twice', ls='--')\n",
        "thrice.plot(label='thrice', ls=':')\n",
        "\n",
        "plt.xticks([0,3,6,9,12,15,18])\n",
        "decorate_dice(title='Distributions of sums')"
      ]
    },
    {
      "cell_type": "markdown",
      "metadata": {
        "id": "NWr6EiNqu1Mg"
      },
      "source": [
        "여담으로, 이 예는 특정 조건 하에서 합의 분포가 종 모양의 정규분포로 수렴한다는 중심 극한 정리를 보여주고 있다."
      ]
    },
    {
      "cell_type": "markdown",
      "metadata": {
        "id": "w6JgPOa1u1Mg"
      },
      "source": [
        "## Gluten Sensitivity\n",
        "\n",
        "In 2015 I read a paper that tested whether people diagnosed with gluten sensitivity (but not celiac disease) were able to distinguish gluten flour from non-gluten flour in a blind challenge\n",
        "([you can read the paper here](https://onlinelibrary.wiley.com/doi/full/10.1111/apt.13372)).\n",
        "\n",
        "Out of 35 subjects, 12 correctly identified the gluten flour based on\n",
        "resumption of symptoms while they were eating it. Another 17 wrongly\n",
        "identified the gluten-free flour based on their symptoms, and 6 were\n",
        "unable to distinguish.\n",
        "\n",
        "The authors conclude, \"Double-blind gluten challenge induces symptom\n",
        "recurrence in just one-third of patients.\"\n",
        "\n",
        "This conclusion seems odd to me, because if none of the patients were\n",
        "sensitive to gluten, we would expect some of them to identify the gluten flour by chance. \n",
        "So here's the question: based on this data, how many of the subjects are sensitive to gluten and how many are guessing?\n",
        "\n",
        "We can use Bayes's Theorem to answer this question, but first we have to make some modeling decisions. I'll assume:\n",
        "\n",
        "-   People who are sensitive to gluten have a 95% chance of correctly\n",
        "    identifying gluten flour under the challenge conditions, and\n",
        "\n",
        "-   People who are not sensitive have a 40% chance of identifying the\n",
        "    gluten flour by chance (and a 60% chance of either choosing the\n",
        "    other flour or failing to distinguish).\n",
        "\n",
        "These particular values are arbitrary, but the results are not sensitive to these choices.\n",
        "\n",
        "I will solve this problem in two steps. First, assuming that we know how many subjects are sensitive, I will compute the distribution of the data. \n",
        "Then, using the likelihood of the data, I will compute the posterior distribution of the number of sensitive patients.\n",
        "\n",
        "The first is the **forward problem**; the second is the **inverse\n",
        "problem**."
      ]
    },
    {
      "cell_type": "markdown",
      "metadata": {
        "id": "uLXB1mjPu1Mg"
      },
      "source": [
        "## The Forward Problem\n",
        "\n",
        "35명의 피험자 중 10명이 글루텐에 민감하다고 가정하자. 즉 25명은 민감하지 않다는 말이다."
      ]
    },
    {
      "cell_type": "code",
      "execution_count": 34,
      "metadata": {
        "execution": {
          "iopub.execute_input": "2021-04-16T19:35:26.606680Z",
          "iopub.status.busy": "2021-04-16T19:35:26.606215Z",
          "iopub.status.idle": "2021-04-16T19:35:26.607888Z",
          "shell.execute_reply": "2021-04-16T19:35:26.608296Z"
        },
        "id": "XKnHqGRLu1Mg"
      },
      "outputs": [],
      "source": [
        "n = 35\n",
        "num_sensitive = 10\n",
        "num_insensitive = n - num_sensitive"
      ]
    },
    {
      "cell_type": "markdown",
      "metadata": {
        "id": "QmHjRzueu1Mg"
      },
      "source": [
        "민감한 피험자 각각은 글루텐 밀가루를 구분할 수 있는 확률이 95% 이므로, 올바른 판별 결과는 이항분포를 따른다.\n",
        "\n",
        "I'll use `make_binomial`, which we defined in <<_TheBinomialDistribution>>, to make a `Pmf` that represents the binomial distribution."
      ]
    },
    {
      "cell_type": "code",
      "execution_count": 36,
      "metadata": {
        "execution": {
          "iopub.execute_input": "2021-04-16T19:35:26.612684Z",
          "iopub.status.busy": "2021-04-16T19:35:26.612204Z",
          "iopub.status.idle": "2021-04-16T19:35:26.613941Z",
          "shell.execute_reply": "2021-04-16T19:35:26.614305Z"
        },
        "id": "qhMhALj_u1Mg"
      },
      "outputs": [],
      "source": [
        "from utils import make_binomial\n",
        "\n",
        "dist_sensitive = make_binomial(num_sensitive, 0.95)\n",
        "dist_insensitive = make_binomial(num_insensitive, 0.40)"
      ]
    },
    {
      "cell_type": "markdown",
      "metadata": {
        "id": "zxIapFiau1Mh"
      },
      "source": [
        "이 결과는 각 그룹에서 정확하게 글루텐을 분류한 횟수의 분포이.\n",
        "\n",
        "이제 여기에 `add_dist` 를 사용해서 분류한 수의 총 합의 분포를 구하자."
      ]
    },
    {
      "cell_type": "code",
      "execution_count": 37,
      "metadata": {
        "execution": {
          "iopub.execute_input": "2021-04-16T19:35:26.618422Z",
          "iopub.status.busy": "2021-04-16T19:35:26.618001Z",
          "iopub.status.idle": "2021-04-16T19:35:26.620089Z",
          "shell.execute_reply": "2021-04-16T19:35:26.619662Z"
        },
        "id": "f5mezm0Iu1Mh"
      },
      "outputs": [],
      "source": [
        "dist_total = Pmf.add_dist(dist_sensitive, dist_insensitive)"
      ]
    },
    {
      "cell_type": "markdown",
      "metadata": {
        "id": "OpKltT_Iu1Mh"
      },
      "source": [
        "Here are the results:"
      ]
    },
    {
      "cell_type": "code",
      "execution_count": 38,
      "metadata": {
        "execution": {
          "iopub.execute_input": "2021-04-16T19:35:26.644030Z",
          "iopub.status.busy": "2021-04-16T19:35:26.631462Z",
          "iopub.status.idle": "2021-04-16T19:35:26.800922Z",
          "shell.execute_reply": "2021-04-16T19:35:26.800528Z"
        },
        "tags": [],
        "id": "oQWzjgTau1Mh",
        "outputId": "c3938360-5128-4216-ac58-e6601a966370",
        "colab": {
          "base_uri": "https://localhost:8080/",
          "height": 297
        }
      },
      "outputs": [
        {
          "output_type": "display_data",
          "data": {
            "text/plain": [
              "<Figure size 432x288 with 1 Axes>"
            ],
            "image/png": "[encoded data removed]"
          },
          "metadata": {
            "needs_background": "light"
          }
        }
      ],
      "source": [
        "dist_sensitive.plot(label='sensitive', ls=':')\n",
        "dist_insensitive.plot(label='insensitive', ls='--')\n",
        "dist_total.plot(label='total')\n",
        "\n",
        "decorate(xlabel='Number of correct identifications',\n",
        "         ylabel='PMF',\n",
        "         title='Gluten sensitivity')"
      ]
    },
    {
      "cell_type": "markdown",
      "metadata": {
        "id": "I7yjv6-_u1Mh"
      },
      "source": [
        "We expect most of the sensitive subjects to identify the gluten flour correctly.\n",
        "Of the 25 insensitive subjects, we expect about 10 to identify the gluten flour by chance.\n",
        "So we expect about 20 correct identifications in total.\n",
        "\n",
        "This is the answer to the forward problem: given the number of sensitive subjects, we can compute the distribution of the data."
      ]
    },
    {
      "cell_type": "markdown",
      "metadata": {
        "id": "ROijLssbu1Mh"
      },
      "source": [
        "## The Inverse Problem\n",
        "\n",
        "이제 역산 문제를 풀어보자. 주어진 데이터를 가지고 민감한 피험자의 수에 대한 사후분포를 구해보자.\n",
        "\n",
        "방법은 다음과 같다. `num_sensitive` 의 가능한 값에 대해 반복문을 통해 데이터의 분포를 구해보자."
      ]
    },
    {
      "cell_type": "code",
      "execution_count": 39,
      "metadata": {
        "execution": {
          "iopub.execute_input": "2021-04-16T19:35:26.820717Z",
          "iopub.status.busy": "2021-04-16T19:35:26.819593Z",
          "iopub.status.idle": "2021-04-16T19:35:26.868275Z",
          "shell.execute_reply": "2021-04-16T19:35:26.867749Z"
        },
        "id": "7lcVGgr_u1Mh"
      },
      "outputs": [],
      "source": [
        "import pandas as pd\n",
        "\n",
        "table = pd.DataFrame()\n",
        "for num_sensitive in range(0, n+1):\n",
        "    num_insensitive = n - num_sensitive\n",
        "    dist_sensitive = make_binomial(num_sensitive, 0.95)\n",
        "    dist_insensitive = make_binomial(num_insensitive, 0.4)\n",
        "    dist_total = Pmf.add_dist(dist_sensitive, dist_insensitive)    \n",
        "    table[num_sensitive] = dist_total"
      ]
    },
    {
      "cell_type": "markdown",
      "metadata": {
        "id": "Q0c2GVzwu1Mh"
      },
      "source": [
        "The loop enumerates the possible values of `num_sensitive`.\n",
        "For each value, it computes the distribution of the total number of correct identifications, and stores the result as a column in a Pandas `DataFrame`."
      ]
    },
    {
      "cell_type": "code",
      "execution_count": 45,
      "metadata": {
        "execution": {
          "iopub.execute_input": "2021-04-16T19:35:26.872557Z",
          "iopub.status.busy": "2021-04-16T19:35:26.871819Z",
          "iopub.status.idle": "2021-04-16T19:35:26.898135Z",
          "shell.execute_reply": "2021-04-16T19:35:26.897756Z"
        },
        "tags": [],
        "id": "V8NdgHhnu1Mh",
        "outputId": "6da71a1a-5259-4217-91d8-08e02ec2b7ab",
        "colab": {
          "base_uri": "https://localhost:8080/",
          "height": 269
        }
      },
      "outputs": [
        {
          "output_type": "execute_result",
          "data": {
            "text/plain": [
              "             0             1             2             3             4   \\\n",
              "0  1.719071e-08  1.432559e-09  1.193799e-10  9.948326e-12  8.290272e-13   \n",
              "1  4.011165e-07  5.968996e-08  7.162795e-09  7.792856e-10  8.013930e-11   \n",
              "2  4.545987e-06  9.741401e-07  1.709122e-07  2.506426e-08  3.269131e-09   \n",
              "\n",
              "             5             6             7             8             9   ...  \\\n",
              "0  6.908560e-14  5.757133e-15  4.797611e-16  3.998009e-17  3.331674e-18  ...   \n",
              "1  7.944844e-12  7.676178e-13  7.276377e-14  6.796616e-15  6.274653e-16  ...   \n",
              "2  3.940182e-10  4.490244e-11  4.908756e-12  5.197412e-13  5.365476e-14  ...   \n",
              "\n",
              "             26            27            28            29            30  \\\n",
              "0  1.501694e-36  1.251411e-37  1.042843e-38  8.690357e-40  7.241964e-41   \n",
              "1  7.508469e-34  6.486483e-35  5.596590e-36  4.823148e-37  4.152060e-38   \n",
              "2  1.806613e-31  1.620070e-32  1.449030e-33  1.292922e-34  1.151034e-35   \n",
              "\n",
              "             31            32            33            34            35  \n",
              "0  6.034970e-42  5.029142e-43  4.190952e-44  3.492460e-45  2.910383e-46  \n",
              "1  3.570691e-39  3.067777e-40  2.633315e-41  2.258457e-42  1.935405e-43  \n",
              "2  1.022555e-36  9.066202e-38  8.023344e-39  7.088005e-40  6.251357e-41  \n",
              "\n",
              "[3 rows x 36 columns]"
            ],
            "text/html": [
              "\n",
              "  <div id=\"df-fd6fc5e9-76ef-4651-8e6f-2553a0cc9994\">\n",
              "    <div class=\"colab-df-container\">\n",
              "      <div>\n",
              "<style scoped>\n",
              "    .dataframe tbody tr th:only-of-type {\n",
              "        vertical-align: middle;\n",
              "    }\n",
              "\n",
              "    .dataframe tbody tr th {\n",
              "        vertical-align: top;\n",
              "    }\n",
              "\n",
              "    .dataframe thead th {\n",
              "        text-align: right;\n",
              "    }\n",
              "</style>\n",
              "<table border=\"1\" class=\"dataframe\">\n",
              "  <thead>\n",
              "    <tr style=\"text-align: right;\">\n",
              "      <th></th>\n",
              "      <th>0</th>\n",
              "      <th>1</th>\n",
              "      <th>2</th>\n",
              "      <th>3</th>\n",
              "      <th>4</th>\n",
              "      <th>5</th>\n",
              "      <th>6</th>\n",
              "      <th>7</th>\n",
              "      <th>8</th>\n",
              "      <th>9</th>\n",
              "      <th>...</th>\n",
              "      <th>26</th>\n",
              "      <th>27</th>\n",
              "      <th>28</th>\n",
              "      <th>29</th>\n",
              "      <th>30</th>\n",
              "      <th>31</th>\n",
              "      <th>32</th>\n",
              "      <th>33</th>\n",
              "      <th>34</th>\n",
              "      <th>35</th>\n",
              "    </tr>\n",
              "  </thead>\n",
              "  <tbody>\n",
              "    <tr>\n",
              "      <th>0</th>\n",
              "      <td>1.719071e-08</td>\n",
              "      <td>1.432559e-09</td>\n",
              "      <td>1.193799e-10</td>\n",
              "      <td>9.948326e-12</td>\n",
              "      <td>8.290272e-13</td>\n",
              "      <td>6.908560e-14</td>\n",
              "      <td>5.757133e-15</td>\n",
              "      <td>4.797611e-16</td>\n",
              "      <td>3.998009e-17</td>\n",
              "      <td>3.331674e-18</td>\n",
              "      <td>...</td>\n",
              "      <td>1.501694e-36</td>\n",
              "      <td>1.251411e-37</td>\n",
              "      <td>1.042843e-38</td>\n",
              "      <td>8.690357e-40</td>\n",
              "      <td>7.241964e-41</td>\n",
              "      <td>6.034970e-42</td>\n",
              "      <td>5.029142e-43</td>\n",
              "      <td>4.190952e-44</td>\n",
              "      <td>3.492460e-45</td>\n",
              "      <td>2.910383e-46</td>\n",
              "    </tr>\n",
              "    <tr>\n",
              "      <th>1</th>\n",
              "      <td>4.011165e-07</td>\n",
              "      <td>5.968996e-08</td>\n",
              "      <td>7.162795e-09</td>\n",
              "      <td>7.792856e-10</td>\n",
              "      <td>8.013930e-11</td>\n",
              "      <td>7.944844e-12</td>\n",
              "      <td>7.676178e-13</td>\n",
              "      <td>7.276377e-14</td>\n",
              "      <td>6.796616e-15</td>\n",
              "      <td>6.274653e-16</td>\n",
              "      <td>...</td>\n",
              "      <td>7.508469e-34</td>\n",
              "      <td>6.486483e-35</td>\n",
              "      <td>5.596590e-36</td>\n",
              "      <td>4.823148e-37</td>\n",
              "      <td>4.152060e-38</td>\n",
              "      <td>3.570691e-39</td>\n",
              "      <td>3.067777e-40</td>\n",
              "      <td>2.633315e-41</td>\n",
              "      <td>2.258457e-42</td>\n",
              "      <td>1.935405e-43</td>\n",
              "    </tr>\n",
              "    <tr>\n",
              "      <th>2</th>\n",
              "      <td>4.545987e-06</td>\n",
              "      <td>9.741401e-07</td>\n",
              "      <td>1.709122e-07</td>\n",
              "      <td>2.506426e-08</td>\n",
              "      <td>3.269131e-09</td>\n",
              "      <td>3.940182e-10</td>\n",
              "      <td>4.490244e-11</td>\n",
              "      <td>4.908756e-12</td>\n",
              "      <td>5.197412e-13</td>\n",
              "      <td>5.365476e-14</td>\n",
              "      <td>...</td>\n",
              "      <td>1.806613e-31</td>\n",
              "      <td>1.620070e-32</td>\n",
              "      <td>1.449030e-33</td>\n",
              "      <td>1.292922e-34</td>\n",
              "      <td>1.151034e-35</td>\n",
              "      <td>1.022555e-36</td>\n",
              "      <td>9.066202e-38</td>\n",
              "      <td>8.023344e-39</td>\n",
              "      <td>7.088005e-40</td>\n",
              "      <td>6.251357e-41</td>\n",
              "    </tr>\n",
              "  </tbody>\n",
              "</table>\n",
              "<p>3 rows × 36 columns</p>\n",
              "</div>\n",
              "      <button class=\"colab-df-convert\" onclick=\"convertToInteractive('df-fd6fc5e9-76ef-4651-8e6f-2553a0cc9994')\"\n",
              "              title=\"Convert this dataframe to an interactive table.\"\n",
              "              style=\"display:none;\">\n",
              "        \n",
              "  <svg xmlns=\"http://www.w3.org/2000/svg\" height=\"24px\"viewBox=\"0 0 24 24\"\n",
              "       width=\"24px\">\n",
              "    <path d=\"M0 0h24v24H0V0z\" fill=\"none\"/>\n",
              "    <path d=\"M18.56 5.44l.94 2.06.94-2.06 2.06-.94-2.06-.94-.94-2.06-.94 2.06-2.06.94zm-11 1L8.5 8.5l.94-2.06 2.06-.94-2.06-.94L8.5 2.5l-.94 2.06-2.06.94zm10 10l.94 2.06.94-2.06 2.06-.94-2.06-.94-.94-2.06-.94 2.06-2.06.94z\"/><path d=\"M17.41 7.96l-1.37-1.37c-.4-.4-.92-.59-1.43-.59-.52 0-1.04.2-1.43.59L10.3 9.45l-7.72 7.72c-.78.78-.78 2.05 0 2.83L4 21.41c.39.39.9.59 1.41.59.51 0 1.02-.2 1.41-.59l7.78-7.78 2.81-2.81c.8-.78.8-2.07 0-2.86zM5.41 20L4 18.59l7.72-7.72 1.47 1.35L5.41 20z\"/>\n",
              "  </svg>\n",
              "      </button>\n",
              "      \n",
              "  <style>\n",
              "    .colab-df-container {\n",
              "      display:flex;\n",
              "      flex-wrap:wrap;\n",
              "      gap: 12px;\n",
              "    }\n",
              "\n",
              "    .colab-df-convert {\n",
              "      background-color: #E8F0FE;\n",
              "      border: none;\n",
              "      border-radius: 50%;\n",
              "      cursor: pointer;\n",
              "      display: none;\n",
              "      fill: #1967D2;\n",
              "      height: 32px;\n",
              "      padding: 0 0 0 0;\n",
              "      width: 32px;\n",
              "    }\n",
              "\n",
              "    .colab-df-convert:hover {\n",
              "      background-color: #E2EBFA;\n",
              "      box-shadow: 0px 1px 2px rgba(60, 64, 67, 0.3), 0px 1px 3px 1px rgba(60, 64, 67, 0.15);\n",
              "      fill: #174EA6;\n",
              "    }\n",
              "\n",
              "    [theme=dark] .colab-df-convert {\n",
              "      background-color: #3B4455;\n",
              "      fill: #D2E3FC;\n",
              "    }\n",
              "\n",
              "    [theme=dark] .colab-df-convert:hover {\n",
              "      background-color: #434B5C;\n",
              "      box-shadow: 0px 1px 3px 1px rgba(0, 0, 0, 0.15);\n",
              "      filter: drop-shadow(0px 1px 2px rgba(0, 0, 0, 0.3));\n",
              "      fill: #FFFFFF;\n",
              "    }\n",
              "  </style>\n",
              "\n",
              "      <script>\n",
              "        const buttonEl =\n",
              "          document.querySelector('#df-fd6fc5e9-76ef-4651-8e6f-2553a0cc9994 button.colab-df-convert');\n",
              "        buttonEl.style.display =\n",
              "          google.colab.kernel.accessAllowed ? 'block' : 'none';\n",
              "\n",
              "        async function convertToInteractive(key) {\n",
              "          const element = document.querySelector('#df-fd6fc5e9-76ef-4651-8e6f-2553a0cc9994');\n",
              "          const dataTable =\n",
              "            await google.colab.kernel.invokeFunction('convertToInteractive',\n",
              "                                                     [key], {});\n",
              "          if (!dataTable) return;\n",
              "\n",
              "          const docLinkHtml = 'Like what you see? Visit the ' +\n",
              "            '<a target=\"_blank\" href=https://colab.research.google.com/notebooks/data_table.ipynb>data table notebook</a>'\n",
              "            + ' to learn more about interactive tables.';\n",
              "          element.innerHTML = '';\n",
              "          dataTable['output_type'] = 'display_data';\n",
              "          await google.colab.output.renderOutput(dataTable, element);\n",
              "          const docLink = document.createElement('div');\n",
              "          docLink.innerHTML = docLinkHtml;\n",
              "          element.appendChild(docLink);\n",
              "        }\n",
              "      </script>\n",
              "    </div>\n",
              "  </div>\n",
              "  "
            ]
          },
          "metadata": {},
          "execution_count": 45
        }
      ],
      "source": [
        "table.head(3)"
      ]
    },
    {
      "cell_type": "markdown",
      "metadata": {
        "id": "jrFcdlvBu1Mh"
      },
      "source": [
        "The following figure shows selected columns from the `DataFrame`, corresponding to different hypothetical values of `num_sensitive`:"
      ]
    },
    {
      "cell_type": "code",
      "execution_count": 41,
      "metadata": {
        "execution": {
          "iopub.execute_input": "2021-04-16T19:35:26.936312Z",
          "iopub.status.busy": "2021-04-16T19:35:26.919136Z",
          "iopub.status.idle": "2021-04-16T19:35:27.103426Z",
          "shell.execute_reply": "2021-04-16T19:35:27.102967Z"
        },
        "tags": [],
        "id": "QhprRZaiu1Mh",
        "outputId": "caf0f505-15b1-4e21-f3df-aa131c41e06e",
        "colab": {
          "base_uri": "https://localhost:8080/",
          "height": 297
        }
      },
      "outputs": [
        {
          "output_type": "display_data",
          "data": {
            "text/plain": [
              "<Figure size 432x288 with 1 Axes>"
            ],
            "image/png": "[encoded data removed]"
          },
          "metadata": {
            "needs_background": "light"
          }
        }
      ],
      "source": [
        "table[0].plot(label='num_sensitive = 0')\n",
        "table[10].plot(label='num_sensitive = 10')\n",
        "table[20].plot(label='num_sensitive = 20', ls='--')\n",
        "table[30].plot(label='num_sensitive = 30', ls=':')\n",
        "    \n",
        "decorate(xlabel='Number of correct identifications',\n",
        "         ylabel='PMF',\n",
        "         title='Gluten sensitivity')"
      ]
    },
    {
      "cell_type": "markdown",
      "metadata": {
        "id": "58YWzt4Su1Mh"
      },
      "source": [
        "이제 이 테이블을 사용해서 데이터의 likelihood를 구하자."
      ]
    },
    {
      "cell_type": "code",
      "execution_count": 42,
      "metadata": {
        "execution": {
          "iopub.execute_input": "2021-04-16T19:35:27.107058Z",
          "iopub.status.busy": "2021-04-16T19:35:27.106504Z",
          "iopub.status.idle": "2021-04-16T19:35:27.109131Z",
          "shell.execute_reply": "2021-04-16T19:35:27.109567Z"
        },
        "id": "Qs94rEPxu1Mh"
      },
      "outputs": [],
      "source": [
        "likelihood1 = table.loc[12]"
      ]
    },
    {
      "cell_type": "markdown",
      "metadata": {
        "id": "DCw3PqTRu1Mh"
      },
      "source": [
        "`loc`는 데이터 프레임의 한 열을 가져온다. 12번 인덱스의 열은 각 `num_sensitive`의 가설 값에 대한 12개가 제대로 분류된 경우의 확률값이 들어있다. 그리고 이것이 우리가 베이지안 갱신에서 정확히 필요한 likelihood다. 여기서는 `num_sensitive`의 모든 값이 동일하게 발생 가능하다는 균등사전분포를 사용한다."
      ]
    },
    {
      "cell_type": "code",
      "execution_count": 46,
      "metadata": {
        "execution": {
          "iopub.execute_input": "2021-04-16T19:35:27.113201Z",
          "iopub.status.busy": "2021-04-16T19:35:27.112749Z",
          "iopub.status.idle": "2021-04-16T19:35:27.115326Z",
          "shell.execute_reply": "2021-04-16T19:35:27.114769Z"
        },
        "id": "HSn1fiNHu1Mh"
      },
      "outputs": [],
      "source": [
        "hypos = np.arange(n+1)\n",
        "prior = Pmf(1, hypos)"
      ]
    },
    {
      "cell_type": "markdown",
      "metadata": {
        "id": "tSHKmqobu1Mh"
      },
      "source": [
        "And here's the update:\n"
      ]
    },
    {
      "cell_type": "code",
      "execution_count": 48,
      "metadata": {
        "execution": {
          "iopub.execute_input": "2021-04-16T19:35:27.119898Z",
          "iopub.status.busy": "2021-04-16T19:35:27.119367Z",
          "iopub.status.idle": "2021-04-16T19:35:27.127041Z",
          "shell.execute_reply": "2021-04-16T19:35:27.126620Z"
        },
        "tags": [],
        "id": "5n3vek34u1Mh",
        "outputId": "00f2639a-bcac-4fdd-eb1e-f4234e98a806",
        "colab": {
          "base_uri": "https://localhost:8080/"
        }
      },
      "outputs": [
        {
          "output_type": "execute_result",
          "data": {
            "text/plain": [
              "0.4754741648615132"
            ]
          },
          "metadata": {},
          "execution_count": 48
        }
      ],
      "source": [
        "posterior1 = prior * likelihood1\n",
        "posterior1.normalize()"
      ]
    },
    {
      "cell_type": "markdown",
      "metadata": {
        "id": "LVr79MA2u1Mh"
      },
      "source": [
        "비교를 위해, 다른 가능한 결괏값인, 20개가 제대로 분류된 경우의 사후분포도 같이 구해보도록 하자."
      ]
    },
    {
      "cell_type": "code",
      "execution_count": 49,
      "metadata": {
        "execution": {
          "iopub.execute_input": "2021-04-16T19:35:27.132181Z",
          "iopub.status.busy": "2021-04-16T19:35:27.131596Z",
          "iopub.status.idle": "2021-04-16T19:35:27.133996Z",
          "shell.execute_reply": "2021-04-16T19:35:27.134357Z"
        },
        "tags": [],
        "id": "q3IiRpdQu1Mh",
        "outputId": "5b5c54f4-470e-461a-9c87-87d1e7f005ca",
        "colab": {
          "base_uri": "https://localhost:8080/"
        }
      },
      "outputs": [
        {
          "output_type": "execute_result",
          "data": {
            "text/plain": [
              "1.7818649765887375"
            ]
          },
          "metadata": {},
          "execution_count": 49
        }
      ],
      "source": [
        "likelihood2 = table.loc[20]\n",
        "posterior2 = prior * likelihood2\n",
        "posterior2.normalize()"
      ]
    },
    {
      "cell_type": "markdown",
      "metadata": {
        "id": "J9612HCGu1Mh"
      },
      "source": [
        "The following figure shows posterior distributions of `num_sensitive` based on the actual data, 12 correct identifications, and the other possible outcome, 20 correct identifications."
      ]
    },
    {
      "cell_type": "code",
      "execution_count": 50,
      "metadata": {
        "execution": {
          "iopub.execute_input": "2021-04-16T19:35:27.180198Z",
          "iopub.status.busy": "2021-04-16T19:35:27.174890Z",
          "iopub.status.idle": "2021-04-16T19:35:27.299021Z",
          "shell.execute_reply": "2021-04-16T19:35:27.298634Z"
        },
        "tags": [],
        "id": "boYJlvOiu1Mh",
        "outputId": "d25f6c7d-ccfa-43cb-b6d9-7ccfeec34fa2",
        "colab": {
          "base_uri": "https://localhost:8080/",
          "height": 297
        }
      },
      "outputs": [
        {
          "output_type": "display_data",
          "data": {
            "text/plain": [
              "<Figure size 432x288 with 1 Axes>"
            ],
            "image/png": "[encoded data removed]"
          },
          "metadata": {
            "needs_background": "light"
          }
        }
      ],
      "source": [
        "posterior1.plot(label='posterior with 12 correct', color='C4')\n",
        "posterior2.plot(label='posterior with 20 correct', color='C1')\n",
        "\n",
        "decorate(xlabel='Number of sensitive subjects',\n",
        "         ylabel='PMF',\n",
        "         title='Posterior distributions')"
      ]
    },
    {
      "cell_type": "markdown",
      "metadata": {
        "id": "gfkuH4QKu1Mh"
      },
      "source": [
        "12개가 정확히 분류된 경우, 어떤 피험자도 글루텐에 민감하지 않다는 가장 가능성 있는 결론이 도출된다.\n",
        "\n",
        "만약 20개가 정확히 분류되었다면, 가장 가능성 있는 결론은 11명 ~ 12명의 피험자가 민감한 것이다."
      ]
    },
    {
      "cell_type": "code",
      "execution_count": 51,
      "metadata": {
        "execution": {
          "iopub.execute_input": "2021-04-16T19:35:27.302382Z",
          "iopub.status.busy": "2021-04-16T19:35:27.301973Z",
          "iopub.status.idle": "2021-04-16T19:35:27.306032Z",
          "shell.execute_reply": "2021-04-16T19:35:27.306511Z"
        },
        "id": "17VkRkrOu1Mh",
        "outputId": "8cd5a502-a706-4702-c455-c712536b9fec",
        "colab": {
          "base_uri": "https://localhost:8080/"
        }
      },
      "outputs": [
        {
          "output_type": "execute_result",
          "data": {
            "text/plain": [
              "0"
            ]
          },
          "metadata": {},
          "execution_count": 51
        }
      ],
      "source": [
        "posterior1.max_prob()"
      ]
    },
    {
      "cell_type": "code",
      "execution_count": 52,
      "metadata": {
        "execution": {
          "iopub.execute_input": "2021-04-16T19:35:27.310142Z",
          "iopub.status.busy": "2021-04-16T19:35:27.309624Z",
          "iopub.status.idle": "2021-04-16T19:35:27.311979Z",
          "shell.execute_reply": "2021-04-16T19:35:27.312474Z"
        },
        "id": "bA5EKAj_u1Mh",
        "outputId": "c33a75e1-ade1-4846-c51f-84cb164611d1",
        "colab": {
          "base_uri": "https://localhost:8080/"
        }
      },
      "outputs": [
        {
          "output_type": "execute_result",
          "data": {
            "text/plain": [
              "11"
            ]
          },
          "metadata": {},
          "execution_count": 52
        }
      ],
      "source": [
        "posterior2.max_prob()"
      ]
    },
    {
      "cell_type": "markdown",
      "metadata": {
        "id": "Ijq85prju1Mh"
      },
      "source": [
        "## Summary\n",
        "\n",
        "This chapter presents two topics that are almost unrelated except that they make the title of the chapter catchy.\n",
        "\n",
        "The first part of the chapter is about Bayes's Rule, evidence, and how we can quantify the strength of evidence using a likelihood ratio or Bayes factor.\n",
        "\n",
        "The second part is about `add_dist`, which computes the distribution of a sum.\n",
        "We can use this function to solve forward and inverse problems; that is, given the parameters of a system, we can compute the distribution of the data or, given the data, we can compute the distribution of the parameters.\n",
        "\n",
        "In the next chapter, we'll compute distributions for minimums and maximums, and use them to solve more Bayesian problems.\n",
        "But first you might want to work on these exercises."
      ]
    },
    {
      "cell_type": "markdown",
      "metadata": {
        "id": "w7YFAjRJu1Mi"
      },
      "source": [
        "## Exercises"
      ]
    },
    {
      "cell_type": "markdown",
      "metadata": {
        "id": "MobYYJjKu1Mi"
      },
      "source": [
        "**Exercise:** Let's use Bayes's Rule to solve the Elvis problem from <<_Distributions>>:\n",
        "\n",
        "> Elvis Presley had a twin brother who died at birth. What is the probability that Elvis was an identical twin?\n",
        "\n",
        "In 1935, about 2/3 of twins were fraternal and 1/3 were identical.\n",
        "The question contains two pieces of information we can use to update this prior.\n",
        "\n",
        "* First, Elvis's twin was also male, which is more likely if they were identical twins, with a likelihood ratio of 2.\n",
        "\n",
        "* Also, Elvis's twin died at birth, which is more likely if they were identical twins, with a likelihood ratio of 1.25.\n",
        "\n",
        "If you are curious about where those numbers come from, I wrote [a blog post about it](https://www.allendowney.com/blog/2020/01/28/the-elvis-problem-revisited)."
      ]
    },
    {
      "cell_type": "code",
      "execution_count": 56,
      "metadata": {
        "execution": {
          "iopub.execute_input": "2021-04-16T19:35:27.315665Z",
          "iopub.status.busy": "2021-04-16T19:35:27.315244Z",
          "iopub.status.idle": "2021-04-16T19:35:27.317350Z",
          "shell.execute_reply": "2021-04-16T19:35:27.317875Z"
        },
        "id": "y-OdxEcdu1Mi",
        "outputId": "753e0867-3a87-4ec4-efab-080e54df4a47",
        "colab": {
          "base_uri": "https://localhost:8080/"
        }
      },
      "outputs": [
        {
          "output_type": "execute_result",
          "data": {
            "text/plain": [
              "0.5555555555555555"
            ]
          },
          "metadata": {},
          "execution_count": 56
        }
      ],
      "source": [
        "# Solution goes here\n",
        "\n",
        "likelihood_ratio1 = 2\n",
        "likelihood_ratio2 = 1.25\n",
        "post_odds = odds(1/3) * likelihood_ratio1 * likelihood_ratio2\n",
        "prob(post_odds)"
      ]
    },
    {
      "cell_type": "code",
      "execution_count": null,
      "metadata": {
        "execution": {
          "iopub.execute_input": "2021-04-16T19:35:27.320891Z",
          "iopub.status.busy": "2021-04-16T19:35:27.320486Z",
          "iopub.status.idle": "2021-04-16T19:35:27.322254Z",
          "shell.execute_reply": "2021-04-16T19:35:27.322625Z"
        },
        "id": "iYnCs4G4u1Mi"
      },
      "outputs": [],
      "source": [
        "# Solution goes here"
      ]
    },
    {
      "cell_type": "code",
      "execution_count": null,
      "metadata": {
        "execution": {
          "iopub.execute_input": "2021-04-16T19:35:27.326406Z",
          "iopub.status.busy": "2021-04-16T19:35:27.325724Z",
          "iopub.status.idle": "2021-04-16T19:35:27.328858Z",
          "shell.execute_reply": "2021-04-16T19:35:27.328390Z"
        },
        "id": "6vbmSWgeu1Mi"
      },
      "outputs": [],
      "source": [
        "# Solution goes here"
      ]
    },
    {
      "cell_type": "markdown",
      "metadata": {
        "id": "vsvmDDVzu1Mi"
      },
      "source": [
        "**Exercise:** The following is an [interview question that appeared on glassdoor.com](https://www.glassdoor.com/Interview/You-re-about-to-get-on-a-plane-to-Seattle-You-want-to-know-if-you-should-bring-an-umbrella-You-call-3-random-friends-of-y-QTN_519262.htm), attributed to Facebook:\n",
        "\n",
        "> You're about to get on a plane to Seattle. You want to know if you should bring an umbrella. You call 3 random friends of yours who live there and ask each independently if it's raining. Each of your friends has a 2/3 chance of telling you the truth and a 1/3 chance of messing with you by lying. All 3 friends tell you that \"Yes\" it is raining. What is the probability that it's actually raining in Seattle?\n",
        "\n",
        "Use Bayes's Rule to solve this problem.  As a prior you can assume that it rains in Seattle about 10% of the time.\n",
        "\n",
        "This question causes some confusion about the differences between Bayesian and frequentist interpretations of probability; if you are curious about this point, [I wrote a blog article about it](http://allendowney.blogspot.com/2016/09/bayess-theorem-is-not-optional.html)."
      ]
    },
    {
      "cell_type": "code",
      "execution_count": 58,
      "metadata": {
        "execution": {
          "iopub.execute_input": "2021-04-16T19:35:27.332446Z",
          "iopub.status.busy": "2021-04-16T19:35:27.331910Z",
          "iopub.status.idle": "2021-04-16T19:35:27.333826Z",
          "shell.execute_reply": "2021-04-16T19:35:27.334261Z"
        },
        "id": "xWFN3Zbgu1Mi",
        "outputId": "62749306-564e-439b-ac18-4dcff466c2ba",
        "colab": {
          "base_uri": "https://localhost:8080/"
        }
      },
      "outputs": [
        {
          "output_type": "execute_result",
          "data": {
            "text/plain": [
              "0.4705882352941177"
            ]
          },
          "metadata": {},
          "execution_count": 58
        }
      ],
      "source": [
        "# Solution goes here\n",
        "prior_odds = odds(0.1)\n",
        "post_odds = prior_odds * 2 * 2 * 2\n",
        "prob(post_odds)"
      ]
    },
    {
      "cell_type": "code",
      "execution_count": null,
      "metadata": {
        "execution": {
          "iopub.execute_input": "2021-04-16T19:35:27.337763Z",
          "iopub.status.busy": "2021-04-16T19:35:27.337222Z",
          "iopub.status.idle": "2021-04-16T19:35:27.339316Z",
          "shell.execute_reply": "2021-04-16T19:35:27.339799Z"
        },
        "id": "OhZjshV7u1Mi"
      },
      "outputs": [],
      "source": [
        "# Solution goes here"
      ]
    },
    {
      "cell_type": "code",
      "execution_count": null,
      "metadata": {
        "execution": {
          "iopub.execute_input": "2021-04-16T19:35:27.344018Z",
          "iopub.status.busy": "2021-04-16T19:35:27.343298Z",
          "iopub.status.idle": "2021-04-16T19:35:27.346940Z",
          "shell.execute_reply": "2021-04-16T19:35:27.346413Z"
        },
        "id": "eAAYGZiau1Mi"
      },
      "outputs": [],
      "source": [
        "# Solution goes here"
      ]
    },
    {
      "cell_type": "markdown",
      "metadata": {
        "id": "BMMo3aBGu1Mi"
      },
      "source": [
        "**Exercise:** [According to the CDC](https://www.cdc.gov/tobacco/data_statistics/fact_sheets/health_effects/effects_cig_smoking), people who smoke are about 25 times more likely to develop lung cancer than nonsmokers.\n",
        "\n",
        "[Also according to the CDC](https://www.cdc.gov/tobacco/data_statistics/fact_sheets/adult_data/cig_smoking/index.htm), about 14\\% of adults in the U.S. are smokers.\n",
        "If you learn that someone has lung cancer, what is the probability they are a smoker?"
      ]
    },
    {
      "cell_type": "code",
      "execution_count": 59,
      "metadata": {
        "execution": {
          "iopub.execute_input": "2021-04-16T19:35:27.350794Z",
          "iopub.status.busy": "2021-04-16T19:35:27.350217Z",
          "iopub.status.idle": "2021-04-16T19:35:27.352716Z",
          "shell.execute_reply": "2021-04-16T19:35:27.352226Z"
        },
        "id": "UV1ajwCFu1Mi",
        "outputId": "d94a4936-15b2-4b2c-9152-40b88b8ca27a",
        "colab": {
          "base_uri": "https://localhost:8080/"
        }
      },
      "outputs": [
        {
          "output_type": "execute_result",
          "data": {
            "text/plain": [
              "0.8027522935779816"
            ]
          },
          "metadata": {},
          "execution_count": 59
        }
      ],
      "source": [
        "# Solution goes here\n",
        "post_odds = odds(0.14) * 25\n",
        "prob(post_odds)"
      ]
    },
    {
      "cell_type": "code",
      "execution_count": null,
      "metadata": {
        "execution": {
          "iopub.execute_input": "2021-04-16T19:35:27.356825Z",
          "iopub.status.busy": "2021-04-16T19:35:27.356098Z",
          "iopub.status.idle": "2021-04-16T19:35:27.358326Z",
          "shell.execute_reply": "2021-04-16T19:35:27.358809Z"
        },
        "id": "mfkd87WLu1Mi"
      },
      "outputs": [],
      "source": [
        "# Solution goes here"
      ]
    },
    {
      "cell_type": "code",
      "execution_count": null,
      "metadata": {
        "execution": {
          "iopub.execute_input": "2021-04-16T19:35:27.363702Z",
          "iopub.status.busy": "2021-04-16T19:35:27.362765Z",
          "iopub.status.idle": "2021-04-16T19:35:27.365904Z",
          "shell.execute_reply": "2021-04-16T19:35:27.366304Z"
        },
        "id": "FB2tjBaFu1Mi"
      },
      "outputs": [],
      "source": [
        "# Solution goes here"
      ]
    },
    {
      "cell_type": "markdown",
      "metadata": {
        "id": "vDFQ4OP3u1Mi"
      },
      "source": [
        "**Exercise:** In *Dungeons & Dragons*, the amount of damage a goblin can withstand is the sum of two six-sided dice. The amount of damage you inflict with a short sword is determined by rolling one six-sided die.\n",
        "A goblin is defeated if the total damage you inflict is greater than or equal to the amount it can withstand.\n",
        "\n",
        "Suppose you are fighting a goblin and you have already inflicted 3 points of damage. What is your probability of defeating the goblin with your next successful attack?\n",
        "\n",
        "Hint: You can use `Pmf.sub_dist` to subtract a constant amount, like 3, from a `Pmf`."
      ]
    },
    {
      "cell_type": "code",
      "execution_count": 70,
      "metadata": {
        "execution": {
          "iopub.execute_input": "2021-04-16T19:35:27.370205Z",
          "iopub.status.busy": "2021-04-16T19:35:27.369557Z",
          "iopub.status.idle": "2021-04-16T19:35:27.371649Z",
          "shell.execute_reply": "2021-04-16T19:35:27.371182Z"
        },
        "id": "ISlt2w38u1Mi",
        "outputId": "e259e843-7c02-4bf9-fe5d-ebd0d0588b32",
        "colab": {
          "base_uri": "https://localhost:8080/",
          "height": 314
        }
      },
      "outputs": [
        {
          "output_type": "execute_result",
          "data": {
            "text/plain": [
              "0.4545454545454545"
            ]
          },
          "metadata": {},
          "execution_count": 70
        },
        {
          "output_type": "display_data",
          "data": {
            "text/plain": [
              "<Figure size 432x288 with 1 Axes>"
            ],
            "image/png": "[encoded data removed]"
          },
          "metadata": {
            "needs_background": "light"
          }
        }
      ],
      "source": [
        "# Solution goes here\n",
        "\n",
        "d6 = make_die(6)\n",
        "hp_before = Pmf.add_dist(d6, d6)\n",
        "\n",
        "hp_after = Pmf.sub_dist(hp_before, 3)\n",
        "\n",
        "# 합이 2, 3일때의 사후확률을 0으로 할당\n",
        "hp_after[[-1, 0]] = 0\n",
        "hp_after.normalize()\n",
        "\n",
        "damage = d6\n",
        "\n",
        "hp_after.bar(label='Hit points')\n",
        "damage.plot(label='Damage', color='C1')\n",
        "decorate_dice('The Goblin Problem')\n",
        "\n",
        "points_left = Pmf.sub_dist(hp_after, damage)\n",
        "\n",
        "points_left.prob_le(0)"
      ]
    },
    {
      "cell_type": "code",
      "execution_count": null,
      "metadata": {
        "execution": {
          "iopub.execute_input": "2021-04-16T19:35:27.375761Z",
          "iopub.status.busy": "2021-04-16T19:35:27.375251Z",
          "iopub.status.idle": "2021-04-16T19:35:27.377911Z",
          "shell.execute_reply": "2021-04-16T19:35:27.377227Z"
        },
        "id": "Ej_yKcEWu1Mi"
      },
      "outputs": [],
      "source": [
        "\n",
        "# Solution goes here"
      ]
    },
    {
      "cell_type": "code",
      "execution_count": null,
      "metadata": {
        "id": "yXiBPvy-u1Mi"
      },
      "outputs": [],
      "source": [
        "# Solution goes here"
      ]
    },
    {
      "cell_type": "code",
      "execution_count": null,
      "metadata": {
        "id": "vUftVgmHu1Mi"
      },
      "outputs": [],
      "source": [
        "# Solution goes here"
      ]
    },
    {
      "cell_type": "code",
      "execution_count": null,
      "metadata": {
        "execution": {
          "iopub.execute_input": "2021-04-16T19:35:27.382061Z",
          "iopub.status.busy": "2021-04-16T19:35:27.381402Z",
          "iopub.status.idle": "2021-04-16T19:35:27.383660Z",
          "shell.execute_reply": "2021-04-16T19:35:27.383155Z"
        },
        "id": "kbfmNxIXu1Mi"
      },
      "outputs": [],
      "source": [
        "# Solution goes here"
      ]
    },
    {
      "cell_type": "code",
      "execution_count": null,
      "metadata": {
        "execution": {
          "iopub.execute_input": "2021-04-16T19:35:27.424920Z",
          "iopub.status.busy": "2021-04-16T19:35:27.406232Z",
          "iopub.status.idle": "2021-04-16T19:35:27.539862Z",
          "shell.execute_reply": "2021-04-16T19:35:27.539344Z"
        },
        "id": "UMfpuqoxu1Mi"
      },
      "outputs": [],
      "source": [
        "# Solution goes here"
      ]
    },
    {
      "cell_type": "code",
      "execution_count": null,
      "metadata": {
        "execution": {
          "iopub.execute_input": "2021-04-16T19:35:27.544172Z",
          "iopub.status.busy": "2021-04-16T19:35:27.543760Z",
          "iopub.status.idle": "2021-04-16T19:35:27.546538Z",
          "shell.execute_reply": "2021-04-16T19:35:27.547016Z"
        },
        "id": "OV4IgpeDu1Mi"
      },
      "outputs": [],
      "source": [
        "# Solution goes here"
      ]
    },
    {
      "cell_type": "code",
      "execution_count": null,
      "metadata": {
        "execution": {
          "iopub.execute_input": "2021-04-16T19:35:27.550649Z",
          "iopub.status.busy": "2021-04-16T19:35:27.550237Z",
          "iopub.status.idle": "2021-04-16T19:35:27.555283Z",
          "shell.execute_reply": "2021-04-16T19:35:27.554906Z"
        },
        "id": "g0j9evp9u1Mi"
      },
      "outputs": [],
      "source": [
        "# Solution goes here"
      ]
    },
    {
      "cell_type": "markdown",
      "metadata": {
        "id": "TYOb4Uk7u1Mi"
      },
      "source": [
        "**Exercise:** Suppose I have a box with a 6-sided die, an 8-sided die, and a 12-sided die.\n",
        "I choose one of the dice at random, roll it twice, multiply the outcomes, and report that the product is 12.\n",
        "What is the probability that I chose the 8-sided die?\n",
        "\n",
        "Hint: `Pmf` provides a function called `mul_dist` that takes two `Pmf` objects and returns a `Pmf` that represents the distribution of the product."
      ]
    },
    {
      "cell_type": "code",
      "execution_count": 88,
      "metadata": {
        "execution": {
          "iopub.execute_input": "2021-04-16T19:35:27.559242Z",
          "iopub.status.busy": "2021-04-16T19:35:27.558669Z",
          "iopub.status.idle": "2021-04-16T19:35:27.560621Z",
          "shell.execute_reply": "2021-04-16T19:35:27.561052Z"
        },
        "id": "u1Y7wYcQu1Mi",
        "outputId": "50c2781b-bd6d-42d2-ddcb-bf2f5e35958a",
        "colab": {
          "base_uri": "https://localhost:8080/",
          "height": 143
        }
      },
      "outputs": [
        {
          "output_type": "execute_result",
          "data": {
            "text/plain": [
              "6     0.516129\n",
              "8     0.290323\n",
              "12    0.193548\n",
              "Name: , dtype: float64"
            ],
            "text/html": [
              "<div>\n",
              "<style scoped>\n",
              "    .dataframe tbody tr th:only-of-type {\n",
              "        vertical-align: middle;\n",
              "    }\n",
              "\n",
              "    .dataframe tbody tr th {\n",
              "        vertical-align: top;\n",
              "    }\n",
              "\n",
              "    .dataframe thead th {\n",
              "        text-align: right;\n",
              "    }\n",
              "</style>\n",
              "<table border=\"1\" class=\"dataframe\">\n",
              "  <thead>\n",
              "    <tr style=\"text-align: right;\">\n",
              "      <th></th>\n",
              "      <th>probs</th>\n",
              "    </tr>\n",
              "  </thead>\n",
              "  <tbody>\n",
              "    <tr>\n",
              "      <th>6</th>\n",
              "      <td>0.516129</td>\n",
              "    </tr>\n",
              "    <tr>\n",
              "      <th>8</th>\n",
              "      <td>0.290323</td>\n",
              "    </tr>\n",
              "    <tr>\n",
              "      <th>12</th>\n",
              "      <td>0.193548</td>\n",
              "    </tr>\n",
              "  </tbody>\n",
              "</table>\n",
              "</div>"
            ]
          },
          "metadata": {},
          "execution_count": 88
        }
      ],
      "source": [
        "# Solution goes here\n",
        "\n",
        "prior = Pmf(1, [6, 8, 12])\n",
        "\n",
        "d6 = make_die(6)\n",
        "d8 = make_die(8)\n",
        "d12 = make_die(12)\n",
        "res6 = Pmf.mul_dist(d6, d6)\n",
        "res8 = Pmf.mul_dist(d8, d8)\n",
        "res12 = Pmf.mul_dist(d12, d12)\n",
        "\n",
        "res6[12], res8[12], res12[12]\n",
        "\n",
        "post = prior * [res6[12], res8[12], res12[12]]\n",
        "post.normalize()\n",
        "post"
      ]
    },
    {
      "cell_type": "code",
      "execution_count": null,
      "metadata": {
        "execution": {
          "iopub.execute_input": "2021-04-16T19:35:27.570896Z",
          "iopub.status.busy": "2021-04-16T19:35:27.570353Z",
          "iopub.status.idle": "2021-04-16T19:35:27.574763Z",
          "shell.execute_reply": "2021-04-16T19:35:27.575226Z"
        },
        "id": "hRYD5Q8Pu1Mi"
      },
      "outputs": [],
      "source": [
        "# Solution goes here"
      ]
    },
    {
      "cell_type": "code",
      "execution_count": null,
      "metadata": {
        "execution": {
          "iopub.execute_input": "2021-04-16T19:35:27.582633Z",
          "iopub.status.busy": "2021-04-16T19:35:27.580097Z",
          "iopub.status.idle": "2021-04-16T19:35:27.584876Z",
          "shell.execute_reply": "2021-04-16T19:35:27.585267Z"
        },
        "id": "A963r7Ysu1Mi"
      },
      "outputs": [],
      "source": [
        "# Solution goes here"
      ]
    },
    {
      "cell_type": "code",
      "execution_count": null,
      "metadata": {
        "execution": {
          "iopub.execute_input": "2021-04-16T19:35:27.591475Z",
          "iopub.status.busy": "2021-04-16T19:35:27.590954Z",
          "iopub.status.idle": "2021-04-16T19:35:27.593367Z",
          "shell.execute_reply": "2021-04-16T19:35:27.593715Z"
        },
        "id": "4ytjvp8qu1Mj"
      },
      "outputs": [],
      "source": [
        "# Solution goes here"
      ]
    },
    {
      "cell_type": "markdown",
      "metadata": {
        "id": "lKXTu8Qru1Mj"
      },
      "source": [
        "**Exercise:** *Betrayal at House on the Hill* is a strategy game in which characters with different attributes explore a haunted house.  Depending on their attributes, the characters roll different numbers of dice.  For example, if attempting a task that depends on knowledge, Professor Longfellow rolls 5 dice, Madame Zostra rolls 4, and Ox Bellows rolls 3.  Each die yields 0, 1, or 2 with equal probability.  \n",
        "\n",
        "If a randomly chosen character attempts a task three times and rolls a total of 3 on the first attempt, 4 on the second, and 5 on the third, which character do you think it was?"
      ]
    },
    {
      "cell_type": "code",
      "execution_count": 109,
      "metadata": {
        "execution": {
          "iopub.execute_input": "2021-04-16T19:35:27.599975Z",
          "iopub.status.busy": "2021-04-16T19:35:27.599314Z",
          "iopub.status.idle": "2021-04-16T19:35:27.602133Z",
          "shell.execute_reply": "2021-04-16T19:35:27.602555Z"
        },
        "id": "wO8YYGgDu1Mj",
        "outputId": "f1483e27-b22c-4ac9-bc20-9f187a6c42d4",
        "colab": {
          "base_uri": "https://localhost:8080/",
          "height": 143
        }
      },
      "outputs": [
        {
          "output_type": "execute_result",
          "data": {
            "text/plain": [
              "Prof      0.235762\n",
              "Madame    0.449704\n",
              "Ox        0.314534\n",
              "Name: , dtype: float64"
            ],
            "text/html": [
              "<div>\n",
              "<style scoped>\n",
              "    .dataframe tbody tr th:only-of-type {\n",
              "        vertical-align: middle;\n",
              "    }\n",
              "\n",
              "    .dataframe tbody tr th {\n",
              "        vertical-align: top;\n",
              "    }\n",
              "\n",
              "    .dataframe thead th {\n",
              "        text-align: right;\n",
              "    }\n",
              "</style>\n",
              "<table border=\"1\" class=\"dataframe\">\n",
              "  <thead>\n",
              "    <tr style=\"text-align: right;\">\n",
              "      <th></th>\n",
              "      <th>probs</th>\n",
              "    </tr>\n",
              "  </thead>\n",
              "  <tbody>\n",
              "    <tr>\n",
              "      <th>Prof</th>\n",
              "      <td>0.235762</td>\n",
              "    </tr>\n",
              "    <tr>\n",
              "      <th>Madame</th>\n",
              "      <td>0.449704</td>\n",
              "    </tr>\n",
              "    <tr>\n",
              "      <th>Ox</th>\n",
              "      <td>0.314534</td>\n",
              "    </tr>\n",
              "  </tbody>\n",
              "</table>\n",
              "</div>"
            ]
          },
          "metadata": {},
          "execution_count": 109
        }
      ],
      "source": [
        "# Solution goes here\n",
        "\n",
        "# 5번 던짐\n",
        "prior = Pmf(1/3, [0, 1, 2])\n",
        "tmp = Pmf(1/3, [0, 1, 2])\n",
        "for _ in range(4):\n",
        "  tmp = Pmf.add_dist(tmp, prior)\n",
        "Prof = tmp\n",
        "# 4번 던짐\n",
        "prior = Pmf(1/3, [0, 1, 2])\n",
        "tmp = Pmf(1/3, [0, 1, 2])\n",
        "for _ in range(3):\n",
        "  tmp = Pmf.add_dist(tmp, prior)\n",
        "Madame = tmp\n",
        "# 3번 던짐\n",
        "prior = Pmf(1/3, [0, 1, 2])\n",
        "tmp = Pmf(1/3, [0, 1, 2])\n",
        "for _ in range(2):\n",
        "  tmp = Pmf.add_dist(tmp, prior)\n",
        "Ox = tmp\n",
        "\n",
        "prior = Pmf(1, ['Prof', 'Madame', 'Ox'])\n",
        "\n",
        "post = prior * [Prof[3], Madame[3], Ox[3]] * [Prof[4], Madame[4], Ox[4]] * [Prof[5], Madame[5], Ox[5]]\n",
        "post.normalize()\n",
        "post "
      ]
    },
    {
      "cell_type": "markdown",
      "metadata": {
        "id": "ArTgto_Pu1Mj"
      },
      "source": [
        "**Exercise:** There are 538 members of the United States Congress. Suppose we audit their investment portfolios and find that 312 of them out-perform the market.\n",
        "Let's assume that an honest member of Congress has only a 50% chance of out-performing the market, but a dishonest member who trades on inside information has a 90% chance.  How many members of Congress are honest?"
      ]
    },
    {
      "cell_type": "code",
      "execution_count": 131,
      "metadata": {
        "execution": {
          "iopub.execute_input": "2021-04-16T19:35:27.667020Z",
          "iopub.status.busy": "2021-04-16T19:35:27.666574Z",
          "iopub.status.idle": "2021-04-16T19:35:29.234154Z",
          "shell.execute_reply": "2021-04-16T19:35:29.233711Z"
        },
        "id": "PID-J1P_u1Mj",
        "outputId": "19edff82-b64d-480c-cd0d-590c973c6021",
        "colab": {
          "base_uri": "https://localhost:8080/"
        }
      },
      "outputs": [
        {
          "output_type": "stream",
          "name": "stderr",
          "text": [
            "<ipython-input-131-8d5e59c53ed6>:16: PerformanceWarning: DataFrame is highly fragmented.  This is usually the result of calling `frame.insert` many times, which has poor performance.  Consider joining all columns at once using pd.concat(axis=1) instead.  To get a de-fragmented frame, use `newframe = frame.copy()`\n",
            "  table[num_sensitive] = dist_total\n"
          ]
        }
      ],
      "source": [
        "# Solution goes here\n",
        "\n",
        "prior = Pmf(1, np.arange(n+1))\n",
        "n = 538\n",
        "\n",
        "import pandas as pd\n",
        "\n",
        "table = pd.DataFrame()\n",
        "for num_sensitive in range(0, n+1):\n",
        "    num_insensitive = n - num_sensitive\n",
        "\n",
        "    dist_sensitive = make_binomial(num_sensitive, 0.5)\n",
        "    dist_insensitive = make_binomial(num_insensitive, 0.9)\n",
        "\n",
        "    dist_total = Pmf.add_dist(dist_sensitive, dist_insensitive)    \n",
        "    table[num_sensitive] = dist_total"
      ]
    },
    {
      "cell_type": "code",
      "execution_count": 132,
      "metadata": {
        "execution": {
          "iopub.execute_input": "2021-04-16T19:35:29.247538Z",
          "iopub.status.busy": "2021-04-16T19:35:29.246906Z",
          "iopub.status.idle": "2021-04-16T19:35:29.249712Z",
          "shell.execute_reply": "2021-04-16T19:35:29.249309Z"
        },
        "id": "06bCiKK7u1Mj",
        "outputId": "58457738-5104-440c-df43-6a43deea3cf5",
        "colab": {
          "base_uri": "https://localhost:8080/",
          "height": 282
        }
      },
      "outputs": [
        {
          "output_type": "stream",
          "name": "stdout",
          "text": [
            "430 431.48821145019957\n"
          ]
        },
        {
          "output_type": "display_data",
          "data": {
            "text/plain": [
              "<Figure size 432x288 with 1 Axes>"
            ],
            "image/png": "[encoded data removed]"
          },
          "metadata": {
            "needs_background": "light"
          }
        }
      ],
      "source": [
        "# Solution goes here\n",
        "likelihood = table.loc[312]\n",
        "posterior = prior * likelihood\n",
        "posterior.normalize()\n",
        "posterior.plot()\n",
        "print(posterior.max_prob(), posterior.mean())"
      ]
    },
    {
      "cell_type": "code",
      "execution_count": null,
      "metadata": {
        "execution": {
          "iopub.execute_input": "2021-04-16T19:35:29.291044Z",
          "iopub.status.busy": "2021-04-16T19:35:29.290611Z",
          "iopub.status.idle": "2021-04-16T19:35:29.403725Z",
          "shell.execute_reply": "2021-04-16T19:35:29.403346Z"
        },
        "id": "_GKL6fs5u1Mj"
      },
      "outputs": [],
      "source": [
        "# Solution goes here"
      ]
    },
    {
      "cell_type": "code",
      "execution_count": null,
      "metadata": {
        "execution": {
          "iopub.execute_input": "2021-04-16T19:35:29.407201Z",
          "iopub.status.busy": "2021-04-16T19:35:29.406723Z",
          "iopub.status.idle": "2021-04-16T19:35:29.411010Z",
          "shell.execute_reply": "2021-04-16T19:35:29.411524Z"
        },
        "id": "KSqpGtnnu1Mj"
      },
      "outputs": [],
      "source": [
        "# Solution goes here"
      ]
    },
    {
      "cell_type": "code",
      "execution_count": null,
      "metadata": {
        "execution": {
          "iopub.execute_input": "2021-04-16T19:35:29.415545Z",
          "iopub.status.busy": "2021-04-16T19:35:29.415072Z",
          "iopub.status.idle": "2021-04-16T19:35:29.420156Z",
          "shell.execute_reply": "2021-04-16T19:35:29.419744Z"
        },
        "id": "uFXXSEgtu1Mj"
      },
      "outputs": [],
      "source": [
        "# Solution goes here"
      ]
    },
    {
      "cell_type": "code",
      "execution_count": null,
      "metadata": {
        "id": "IZVsbWwku1Mj"
      },
      "outputs": [],
      "source": []
    }
  ],
  "metadata": {
    "celltoolbar": "Tags",
    "kernelspec": {
      "display_name": "Python 3",
      "language": "python",
      "name": "python3"
    },
    "language_info": {
      "codemirror_mode": {
        "name": "ipython",
        "version": 3
      },
      "file_extension": ".py",
      "mimetype": "text/x-python",
      "name": "python",
      "nbconvert_exporter": "python",
      "pygments_lexer": "ipython3",
      "version": "3.8.12"
    },
    "colab": {
      "provenance": [],
      "include_colab_link": true
    }
  },
  "nbformat": 4,
  "nbformat_minor": 0
}