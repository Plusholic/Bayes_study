{
  "cells": [
    {
      "cell_type": "markdown",
      "metadata": {
        "id": "bLlJ9ZLQFOB7"
      },
      "source": [
        "# Probability"
      ]
    },
    {
      "cell_type": "markdown",
      "metadata": {
        "tags": [],
        "id": "-LiC-8AjFOB8"
      },
      "source": [
        "Think Bayes, Second Edition\n",
        "\n",
        "Copyright 2020 Allen B. Downey\n",
        "\n",
        "License: [Attribution-NonCommercial-ShareAlike 4.0 International (CC BY-NC-SA 4.0)](https://creativecommons.org/licenses/by-nc-sa/4.0/)"
      ]
    },
    {
      "cell_type": "markdown",
      "metadata": {
        "id": "muwWZwsXFOB8"
      },
      "source": [
        "The foundation of Bayesian statistics is Bayes's Theorem, and the foundation of Bayes's Theorem is conditional probability.  \n",
        "\n",
        "In this chapter, we'll start with conditional probability, derive Bayes's Theorem, and demonstrate it using a real dataset.  In the next chapter, we'll use Bayes's Theorem to solve problems related to conditional probability.  In the chapters that follow, we'll make the transition from Bayes's Theorem to Bayesian statistics, and I'll explain the difference."
      ]
    },
    {
      "cell_type": "markdown",
      "metadata": {
        "id": "fPHzC1ObFOB8"
      },
      "source": [
        "## Linda the Banker\n",
        "\n",
        "To introduce conditional probability, I'll use an example from a [famous experiment by Tversky and Kahneman](https://en.wikipedia.org/wiki/Conjunction_fallacy), who posed the following question:\n",
        "\n",
        "> Linda is 31 years old, single, outspoken, and very bright. She majored in philosophy. As a student, she was deeply concerned with issues of discrimination and social justice, and also participated in anti-nuclear demonstrations.  Which is more probable?\n",
        "> 1. Linda is a bank teller.\n",
        "> 2. Linda is a bank teller and is active in the feminist movement.\n",
        "\n",
        "Many people choose the second answer, presumably because it seems more consistent with the description.  It seems uncharacteristic if Linda is *just* a bank teller; it seems more consistent if she is also a feminist."
      ]
    },
    {
      "cell_type": "markdown",
      "metadata": {
        "id": "3bFjIZbjFOB9"
      },
      "source": [
        "But the second answer cannot be \"more probable\", as the question asks.  Suppose we find 1000 people who fit Linda's description and 10 of them work as bank tellers.  How many of them are also feminists?  At most, all 10 of them are; in that case, the two options are *equally* probable.  If fewer than 10 are, the second option is *less* probable.  But there is no way the second option can be *more* probable.\n",
        "\n",
        "If you were inclined to choose the second option, you are in good company.  The biologist [Stephen J. Gould wrote](https://doi.org/10.1080/09332480.1989.10554932) :\n",
        "\n",
        "> I am particularly fond of this example because I know that the [second] statement is least probable, yet a little [homunculus](https://en.wikipedia.org/wiki/Homunculus_argument) in my head continues to jump up and down, shouting at me, \"but she can't just be a bank teller; read the description.\"\n",
        "\n",
        "If the little person in your head is still unhappy, maybe this chapter will help."
      ]
    },
    {
      "cell_type": "markdown",
      "metadata": {
        "id": "hYonQaG3FOB9"
      },
      "source": [
        "## Probability\n",
        "\n",
        "At this point I should provide a definition of \"probability\", but that [turns out to be surprisingly difficult](https://en.wikipedia.org/wiki/Probability_interpretations).  To avoid getting stuck before we start, we will use a simple definition for now and refine it later: A **probability** is a fraction of a finite set.\n",
        "\n",
        "For example, if we survey 1000 people, and 20 of them are bank tellers, the fraction that work as bank tellers is 0.02 or 2\\%.  If we choose a person from this population at random, the probability that they are a bank teller is 2\\%.\n",
        "By \"at random\" I mean that every person in the dataset has the same chance of being chosen.\n",
        "\n",
        "With this definition and an appropriate dataset, we can compute probabilities by counting.\n",
        "To demonstrate, I'll use data from the [General Social Survey](http://gss.norc.org/) (GSS).  "
      ]
    },
    {
      "cell_type": "markdown",
      "metadata": {
        "tags": [],
        "id": "r5gQFyw1FOB9"
      },
      "source": [
        "The following cell downloads the data."
      ]
    },
    {
      "cell_type": "code",
      "execution_count": 1,
      "metadata": {
        "execution": {
          "iopub.execute_input": "2021-04-16T19:35:08.628591Z",
          "iopub.status.busy": "2021-04-16T19:35:08.627766Z",
          "iopub.status.idle": "2021-04-16T19:35:08.630508Z",
          "shell.execute_reply": "2021-04-16T19:35:08.629988Z"
        },
        "tags": [],
        "colab": {
          "base_uri": "https://localhost:8080/"
        },
        "id": "_U42-CZbFOB9",
        "outputId": "0d755184-b0ac-4f3f-cf67-4b1005afe59e"
      },
      "outputs": [
        {
          "output_type": "stream",
          "name": "stdout",
          "text": [
            "Downloaded gss_bayes.csv\n"
          ]
        }
      ],
      "source": [
        "# Load the data file\n",
        "\n",
        "from os.path import basename, exists\n",
        "\n",
        "def download(url):\n",
        "    filename = basename(url)\n",
        "    if not exists(filename):\n",
        "        from urllib.request import urlretrieve\n",
        "        local, _ = urlretrieve(url, filename)\n",
        "        print('Downloaded ' + local)\n",
        "    \n",
        "download('https://github.com/AllenDowney/ThinkBayes2/raw/master/data/gss_bayes.csv')"
      ]
    },
    {
      "cell_type": "markdown",
      "metadata": {
        "id": "GLjzKc6PFOB-"
      },
      "source": [
        "I'll use Pandas to read the data and store it in a `DataFrame`."
      ]
    },
    {
      "cell_type": "code",
      "execution_count": 3,
      "metadata": {
        "execution": {
          "iopub.execute_input": "2021-04-16T19:35:08.634488Z",
          "iopub.status.busy": "2021-04-16T19:35:08.633720Z",
          "iopub.status.idle": "2021-04-16T19:35:09.081049Z",
          "shell.execute_reply": "2021-04-16T19:35:09.081454Z"
        },
        "colab": {
          "base_uri": "https://localhost:8080/"
        },
        "id": "o_2p1zIiFOB_",
        "outputId": "93f860ea-baa3-4a95-9c53-482dec335ff1"
      },
      "outputs": [
        {
          "output_type": "execute_result",
          "data": {
            "text/plain": [
              "(        year   age  sex  polviews  partyid  indus10\n",
              " caseid                                             \n",
              " 1       1974  21.0    1       4.0      2.0   4970.0\n",
              " 2       1974  41.0    1       5.0      0.0   9160.0\n",
              " 5       1974  58.0    2       6.0      1.0   2670.0\n",
              " 6       1974  30.0    1       5.0      4.0   6870.0\n",
              " 7       1974  48.0    1       5.0      4.0   7860.0, 49290)"
            ]
          },
          "metadata": {},
          "execution_count": 3
        }
      ],
      "source": [
        "import pandas as pd\n",
        "\n",
        "gss = pd.read_csv('gss_bayes.csv', index_col=0)\n",
        "gss.head(), gss.__len__()"
      ]
    },
    {
      "cell_type": "markdown",
      "metadata": {
        "id": "3M4frEEIFOB_"
      },
      "source": [
        "The `DataFrame` has one row for each person surveyed and one column for each variable I selected.\n",
        "\n",
        "The columns are\n",
        "\n",
        "* `caseid`: Respondent id (which is the index of the table).\n",
        "\n",
        "* `year`: Year when the respondent was surveyed.\n",
        "\n",
        "* `age`: Respondent's age when surveyed.\n",
        "\n",
        "* `sex`: Male or female.\n",
        "\n",
        "* `polviews`: Political views on a range from liberal to conservative.\n",
        "\n",
        "* `partyid`: Political party affiliation, Democrat, Independent, or Republican.\n",
        "\n",
        "* `indus10`: [Code](https://www.census.gov/cgi-bin/sssd/naics/naicsrch?chart=2007) for the industry the respondent works in.\n",
        "\n",
        "Let's look at these variables in more detail, starting with `indus10`."
      ]
    },
    {
      "cell_type": "markdown",
      "metadata": {
        "id": "AjZnUrlvFOCA"
      },
      "source": [
        "## Fraction of Bankers\n",
        "\n",
        "The code for \"Banking and related activities\" is 6870, so we can select bankers like this:"
      ]
    },
    {
      "cell_type": "code",
      "execution_count": 4,
      "metadata": {
        "execution": {
          "iopub.execute_input": "2021-04-16T19:35:09.085579Z",
          "iopub.status.busy": "2021-04-16T19:35:09.084990Z",
          "iopub.status.idle": "2021-04-16T19:35:09.096470Z",
          "shell.execute_reply": "2021-04-16T19:35:09.095986Z"
        },
        "colab": {
          "base_uri": "https://localhost:8080/"
        },
        "id": "zmrUTxnZFOCA",
        "outputId": "0dfe073d-8dc6-479c-89aa-02e5d24b765a"
      },
      "outputs": [
        {
          "output_type": "execute_result",
          "data": {
            "text/plain": [
              "caseid\n",
              "1    False\n",
              "2    False\n",
              "5    False\n",
              "6     True\n",
              "7    False\n",
              "Name: indus10, dtype: bool"
            ]
          },
          "metadata": {},
          "execution_count": 4
        }
      ],
      "source": [
        "banker = (gss['indus10'] == 6870)\n",
        "banker.head()"
      ]
    },
    {
      "cell_type": "markdown",
      "metadata": {
        "id": "X6jdP1x2FOCA"
      },
      "source": [
        "The result is a Pandas `Series` that contains the Boolean values `True` and `False`.\n",
        "\n",
        "If we use the `sum` function on this `Series`, it treats `True` as 1 and `False` as 0, so the total is the number of bankers."
      ]
    },
    {
      "cell_type": "code",
      "execution_count": 5,
      "metadata": {
        "execution": {
          "iopub.execute_input": "2021-04-16T19:35:09.100573Z",
          "iopub.status.busy": "2021-04-16T19:35:09.100000Z",
          "iopub.status.idle": "2021-04-16T19:35:09.103808Z",
          "shell.execute_reply": "2021-04-16T19:35:09.103159Z"
        },
        "colab": {
          "base_uri": "https://localhost:8080/"
        },
        "id": "lzjRZwd_FOCA",
        "outputId": "aabf0774-f6a1-4d1f-c1ef-f899bb5ccfac"
      },
      "outputs": [
        {
          "output_type": "execute_result",
          "data": {
            "text/plain": [
              "728"
            ]
          },
          "metadata": {},
          "execution_count": 5
        }
      ],
      "source": [
        "banker.sum()"
      ]
    },
    {
      "cell_type": "markdown",
      "metadata": {
        "id": "hfelHhS7FOCA"
      },
      "source": [
        "In this dataset, there are 728 bankers.\n",
        "\n",
        "To compute the *fraction* of bankers, we can use the `mean` function, which computes the fraction of `True` values in the `Series`:"
      ]
    },
    {
      "cell_type": "code",
      "execution_count": 6,
      "metadata": {
        "execution": {
          "iopub.execute_input": "2021-04-16T19:35:09.108607Z",
          "iopub.status.busy": "2021-04-16T19:35:09.107935Z",
          "iopub.status.idle": "2021-04-16T19:35:09.110861Z",
          "shell.execute_reply": "2021-04-16T19:35:09.111310Z"
        },
        "colab": {
          "base_uri": "https://localhost:8080/"
        },
        "id": "N10vTwlvFOCA",
        "outputId": "367b7b96-665a-45a2-8441-bb2468abddb1"
      },
      "outputs": [
        {
          "output_type": "execute_result",
          "data": {
            "text/plain": [
              "0.014769730168391155"
            ]
          },
          "metadata": {},
          "execution_count": 6
        }
      ],
      "source": [
        "banker.mean()"
      ]
    },
    {
      "cell_type": "markdown",
      "metadata": {
        "id": "jJowo2xUFOCA"
      },
      "source": [
        "About 1.5% of the respondents work in banking, so if we choose a random person from the dataset, the probability they are a banker is about 1.5%."
      ]
    },
    {
      "cell_type": "markdown",
      "metadata": {
        "id": "HT0AD5ZMFOCB"
      },
      "source": [
        "## The Probability Function\n",
        "\n",
        "I'll put the code from the previous section in a function that takes a Boolean series and returns a probability:"
      ]
    },
    {
      "cell_type": "code",
      "execution_count": 7,
      "metadata": {
        "execution": {
          "iopub.execute_input": "2021-04-16T19:35:09.115436Z",
          "iopub.status.busy": "2021-04-16T19:35:09.114857Z",
          "iopub.status.idle": "2021-04-16T19:35:09.116926Z",
          "shell.execute_reply": "2021-04-16T19:35:09.117430Z"
        },
        "id": "VHFy7vj9FOCB"
      },
      "outputs": [],
      "source": [
        "def prob(A):\n",
        "    \"\"\"Computes the probability of a proposition, A.\"\"\"    \n",
        "    return A.mean()"
      ]
    },
    {
      "cell_type": "markdown",
      "metadata": {
        "id": "n0s1w2osFOCB"
      },
      "source": [
        "So we can compute the fraction of bankers like this:"
      ]
    },
    {
      "cell_type": "code",
      "execution_count": 8,
      "metadata": {
        "execution": {
          "iopub.execute_input": "2021-04-16T19:35:09.121943Z",
          "iopub.status.busy": "2021-04-16T19:35:09.121067Z",
          "iopub.status.idle": "2021-04-16T19:35:09.124766Z",
          "shell.execute_reply": "2021-04-16T19:35:09.125312Z"
        },
        "colab": {
          "base_uri": "https://localhost:8080/"
        },
        "id": "_G-4wX2AFOCB",
        "outputId": "d5de1066-b30f-4df3-9eb8-10c32f7c7a16"
      },
      "outputs": [
        {
          "output_type": "execute_result",
          "data": {
            "text/plain": [
              "0.014769730168391155"
            ]
          },
          "metadata": {},
          "execution_count": 8
        }
      ],
      "source": [
        "prob(banker)"
      ]
    },
    {
      "cell_type": "markdown",
      "metadata": {
        "id": "uqH85aXFFOCB"
      },
      "source": [
        "Now let's look at another variable in this dataset.\n",
        "The values of the column `sex` are encoded like this:\n",
        "\n",
        "```\n",
        "1    Male\n",
        "2    Female\n",
        "```\n",
        "\n",
        "So we can make a Boolean series that is `True` for female respondents and `False` otherwise."
      ]
    },
    {
      "cell_type": "code",
      "execution_count": 9,
      "metadata": {
        "execution": {
          "iopub.execute_input": "2021-04-16T19:35:09.133453Z",
          "iopub.status.busy": "2021-04-16T19:35:09.132833Z",
          "iopub.status.idle": "2021-04-16T19:35:09.135227Z",
          "shell.execute_reply": "2021-04-16T19:35:09.134787Z"
        },
        "id": "e4acvXNBFOCB"
      },
      "outputs": [],
      "source": [
        "female = (gss['sex'] == 2)"
      ]
    },
    {
      "cell_type": "markdown",
      "metadata": {
        "id": "bt5NJQFOFOCB"
      },
      "source": [
        "And use it to compute the fraction of respondents who are women."
      ]
    },
    {
      "cell_type": "code",
      "execution_count": 10,
      "metadata": {
        "execution": {
          "iopub.execute_input": "2021-04-16T19:35:09.138777Z",
          "iopub.status.busy": "2021-04-16T19:35:09.138234Z",
          "iopub.status.idle": "2021-04-16T19:35:09.140987Z",
          "shell.execute_reply": "2021-04-16T19:35:09.140543Z"
        },
        "colab": {
          "base_uri": "https://localhost:8080/"
        },
        "id": "Cr5ydi36FOCB",
        "outputId": "a73367ea-9ebf-434c-ec5d-327dd86988ae"
      },
      "outputs": [
        {
          "output_type": "execute_result",
          "data": {
            "text/plain": [
              "0.5378575776019476"
            ]
          },
          "metadata": {},
          "execution_count": 10
        }
      ],
      "source": [
        "prob(female)"
      ]
    },
    {
      "cell_type": "markdown",
      "metadata": {
        "id": "yAqe9VtLFOCC"
      },
      "source": [
        "The fraction of women in this dataset is higher than in the adult U.S. population because [the GSS does not include people living in institutions](https://gss.norc.org/faq) like prisons and military housing, and those populations are more likely to be male."
      ]
    },
    {
      "cell_type": "markdown",
      "metadata": {
        "id": "uRZeMkI7FOCC"
      },
      "source": [
        "## Political Views and Parties\n",
        "\n",
        "The other variables we'll consider are `polviews`, which describes the political views of the respondents, and `partyid`, which describes their affiliation with a political party.\n",
        "\n",
        "The values of `polviews` are on a seven-point scale:\n",
        "\n",
        "```\n",
        "1\tExtremely liberal\n",
        "2\tLiberal\n",
        "3\tSlightly liberal\n",
        "4\tModerate\n",
        "5\tSlightly conservative\n",
        "6\tConservative\n",
        "7\tExtremely conservative\n",
        "```\n",
        "\n",
        "I'll define `liberal` to be `True` for anyone whose response is \"Extremely liberal\", \"Liberal\", or \"Slightly liberal\"."
      ]
    },
    {
      "cell_type": "code",
      "execution_count": 11,
      "metadata": {
        "execution": {
          "iopub.execute_input": "2021-04-16T19:35:09.144820Z",
          "iopub.status.busy": "2021-04-16T19:35:09.144315Z",
          "iopub.status.idle": "2021-04-16T19:35:09.146158Z",
          "shell.execute_reply": "2021-04-16T19:35:09.146493Z"
        },
        "id": "myja0g-HFOCC"
      },
      "outputs": [],
      "source": [
        "liberal = (gss['polviews'] <= 3)"
      ]
    },
    {
      "cell_type": "markdown",
      "metadata": {
        "id": "d_vGa-s2FOCC"
      },
      "source": [
        "Here's the fraction of respondents who are liberal by this definition."
      ]
    },
    {
      "cell_type": "code",
      "execution_count": 12,
      "metadata": {
        "execution": {
          "iopub.execute_input": "2021-04-16T19:35:09.150191Z",
          "iopub.status.busy": "2021-04-16T19:35:09.149628Z",
          "iopub.status.idle": "2021-04-16T19:35:09.152382Z",
          "shell.execute_reply": "2021-04-16T19:35:09.152013Z"
        },
        "colab": {
          "base_uri": "https://localhost:8080/"
        },
        "id": "ccU-meWeFOCC",
        "outputId": "c0b36229-fe25-4803-c510-6216367dec5e"
      },
      "outputs": [
        {
          "output_type": "execute_result",
          "data": {
            "text/plain": [
              "0.27374721038750255"
            ]
          },
          "metadata": {},
          "execution_count": 12
        }
      ],
      "source": [
        "prob(liberal)"
      ]
    },
    {
      "cell_type": "markdown",
      "metadata": {
        "id": "6hEUknzFFOCC"
      },
      "source": [
        "If we choose a random person in this dataset, the probability they are liberal is about 27%."
      ]
    },
    {
      "cell_type": "markdown",
      "metadata": {
        "id": "1L3OU6z5FOCC"
      },
      "source": [
        "The values of `partyid` are encoded like this:\n",
        "\n",
        "```\n",
        "0\tStrong democrat\n",
        "1\tNot strong democrat\n",
        "2\tIndependent, near democrat\n",
        "3\tIndependent\n",
        "4\tIndependent, near republican\n",
        "5\tNot strong republican\n",
        "6\tStrong republican\n",
        "7\tOther party\n",
        "```\n",
        "\n",
        "I'll define `democrat` to include respondents who chose \"Strong democrat\" or \"Not strong democrat\":"
      ]
    },
    {
      "cell_type": "code",
      "execution_count": 13,
      "metadata": {
        "execution": {
          "iopub.execute_input": "2021-04-16T19:35:09.156357Z",
          "iopub.status.busy": "2021-04-16T19:35:09.155780Z",
          "iopub.status.idle": "2021-04-16T19:35:09.158246Z",
          "shell.execute_reply": "2021-04-16T19:35:09.157752Z"
        },
        "id": "VyeCGHKtFOCC"
      },
      "outputs": [],
      "source": [
        "democrat = (gss['partyid'] <= 1)"
      ]
    },
    {
      "cell_type": "markdown",
      "metadata": {
        "id": "eDpr2S-uFOCC"
      },
      "source": [
        "And here's the fraction of respondents who are Democrats, by this definition."
      ]
    },
    {
      "cell_type": "code",
      "execution_count": 14,
      "metadata": {
        "execution": {
          "iopub.execute_input": "2021-04-16T19:35:09.162885Z",
          "iopub.status.busy": "2021-04-16T19:35:09.162111Z",
          "iopub.status.idle": "2021-04-16T19:35:09.164826Z",
          "shell.execute_reply": "2021-04-16T19:35:09.165317Z"
        },
        "colab": {
          "base_uri": "https://localhost:8080/"
        },
        "id": "Ie6HlpuKFOCC",
        "outputId": "aaf44529-ce9b-4f52-c9ca-e798e63ac69c"
      },
      "outputs": [
        {
          "output_type": "execute_result",
          "data": {
            "text/plain": [
              "0.3662609048488537"
            ]
          },
          "metadata": {},
          "execution_count": 14
        }
      ],
      "source": [
        "prob(democrat)"
      ]
    },
    {
      "cell_type": "markdown",
      "metadata": {
        "id": "4keorSdIFOCD"
      },
      "source": [
        "## Conjunction\n",
        "\n",
        "Now that we have a definition of probability and a function that computes it, let's move on to conjunction.\n",
        "\n",
        "\"Conjunction\" is another name for the logical `and` operation.  If you have two [propositions](https://en.wikipedia.org/wiki/Proposition), `A` and `B`, the conjunction `A and B` is `True` if both `A` and `B` are `True`, and `False` otherwise.\n",
        "\n",
        "If we have two Boolean series, we can use the `&` operator to compute their conjunction.\n",
        "For example, we have already computed the probability that a respondent is a banker."
      ]
    },
    {
      "cell_type": "code",
      "execution_count": 15,
      "metadata": {
        "execution": {
          "iopub.execute_input": "2021-04-16T19:35:09.169647Z",
          "iopub.status.busy": "2021-04-16T19:35:09.168929Z",
          "iopub.status.idle": "2021-04-16T19:35:09.171685Z",
          "shell.execute_reply": "2021-04-16T19:35:09.171252Z"
        },
        "colab": {
          "base_uri": "https://localhost:8080/"
        },
        "id": "P7UBDw3PFOCD",
        "outputId": "be9ee284-de35-484d-bb39-fbe000749087"
      },
      "outputs": [
        {
          "output_type": "execute_result",
          "data": {
            "text/plain": [
              "0.014769730168391155"
            ]
          },
          "metadata": {},
          "execution_count": 15
        }
      ],
      "source": [
        "prob(banker)"
      ]
    },
    {
      "cell_type": "markdown",
      "metadata": {
        "id": "6clLQ90GFOCD"
      },
      "source": [
        "And the probability that they are a Democrat:"
      ]
    },
    {
      "cell_type": "code",
      "execution_count": 16,
      "metadata": {
        "execution": {
          "iopub.execute_input": "2021-04-16T19:35:09.175131Z",
          "iopub.status.busy": "2021-04-16T19:35:09.174679Z",
          "iopub.status.idle": "2021-04-16T19:35:09.176933Z",
          "shell.execute_reply": "2021-04-16T19:35:09.177292Z"
        },
        "colab": {
          "base_uri": "https://localhost:8080/"
        },
        "id": "-CywZDR9FOCD",
        "outputId": "187bba8d-8d29-40fb-9a37-7b156dc3e645"
      },
      "outputs": [
        {
          "output_type": "execute_result",
          "data": {
            "text/plain": [
              "0.3662609048488537"
            ]
          },
          "metadata": {},
          "execution_count": 16
        }
      ],
      "source": [
        "prob(democrat)"
      ]
    },
    {
      "cell_type": "markdown",
      "metadata": {
        "id": "IaLqCn8UFOCD"
      },
      "source": [
        "Now we can compute the probability that a respondent is a banker *and* a Democrat:"
      ]
    },
    {
      "cell_type": "code",
      "execution_count": 17,
      "metadata": {
        "execution": {
          "iopub.execute_input": "2021-04-16T19:35:09.180713Z",
          "iopub.status.busy": "2021-04-16T19:35:09.180011Z",
          "iopub.status.idle": "2021-04-16T19:35:09.183970Z",
          "shell.execute_reply": "2021-04-16T19:35:09.183516Z"
        },
        "colab": {
          "base_uri": "https://localhost:8080/"
        },
        "id": "bCJ7ltBNFOCD",
        "outputId": "a386628c-b3f2-4499-9611-14f16c64a4f4"
      },
      "outputs": [
        {
          "output_type": "execute_result",
          "data": {
            "text/plain": [
              "0.004686548995739501"
            ]
          },
          "metadata": {},
          "execution_count": 17
        }
      ],
      "source": [
        "prob(banker & democrat)"
      ]
    },
    {
      "cell_type": "markdown",
      "metadata": {
        "id": "soF0-c5_FOCD"
      },
      "source": [
        "As we should expect, `prob(banker & democrat)` is less than `prob(banker)`, because not all bankers are Democrats.\n",
        "\n",
        "We expect conjunction to be commutative; that is, `A & B` should be the same as `B & A`.  To check, we can also compute `prob(democrat & banker)`:"
      ]
    },
    {
      "cell_type": "code",
      "execution_count": 21,
      "metadata": {
        "execution": {
          "iopub.execute_input": "2021-04-16T19:35:09.187308Z",
          "iopub.status.busy": "2021-04-16T19:35:09.186747Z",
          "iopub.status.idle": "2021-04-16T19:35:09.189804Z",
          "shell.execute_reply": "2021-04-16T19:35:09.190185Z"
        },
        "colab": {
          "base_uri": "https://localhost:8080/"
        },
        "id": "EGdTQbizFOCD",
        "outputId": "0fcacdc0-2265-4a39-de05-ec949672a74d"
      },
      "outputs": [
        {
          "output_type": "execute_result",
          "data": {
            "text/plain": [
              "0.004686548995739501"
            ]
          },
          "metadata": {},
          "execution_count": 21
        }
      ],
      "source": [
        "prob(democrat & banker)"
      ]
    },
    {
      "cell_type": "markdown",
      "metadata": {
        "id": "-2RULvWrFOCD"
      },
      "source": [
        "As expected, they are the same."
      ]
    },
    {
      "cell_type": "markdown",
      "metadata": {
        "id": "e5wrzWuyFOCD"
      },
      "source": [
        "## Conditional Probability\n",
        "\n",
        "Conditional probability is a probability that depends on a condition, but that might not be the most helpful definition.  Here are some examples:\n",
        "\n",
        "* What is the probability that a respondent is a Democrat, given that they are liberal?\n",
        "\n",
        "* What is the probability that a respondent is female, given that they are a banker?\n",
        "\n",
        "* What is the probability that a respondent is liberal, given that they are female?\n",
        "\n",
        "Let's start with the first one, which we can interpret like this: \"Of all the respondents who are liberal, what fraction are Democrats?\"\n",
        "\n",
        "We can compute this probability in two steps:\n",
        "\n",
        "1. Select all respondents who are liberal.\n",
        "\n",
        "2. Compute the fraction of the selected respondents who are Democrats.\n",
        "\n",
        "To select liberal respondents, we can use the bracket operator, `[]`, like this:"
      ]
    },
    {
      "cell_type": "code",
      "execution_count": 22,
      "metadata": {
        "execution": {
          "iopub.execute_input": "2021-04-16T19:35:09.193582Z",
          "iopub.status.busy": "2021-04-16T19:35:09.192986Z",
          "iopub.status.idle": "2021-04-16T19:35:09.196312Z",
          "shell.execute_reply": "2021-04-16T19:35:09.195843Z"
        },
        "id": "1ugZQiWoFOCD"
      },
      "outputs": [],
      "source": [
        "selected = democrat[liberal]"
      ]
    },
    {
      "cell_type": "markdown",
      "metadata": {
        "id": "fy0gKHAAFOCD"
      },
      "source": [
        "`selected` contains the values of `democrat` for liberal respondents, so `prob(selected)` is the fraction of liberals who are Democrats:"
      ]
    },
    {
      "cell_type": "code",
      "execution_count": 23,
      "metadata": {
        "execution": {
          "iopub.execute_input": "2021-04-16T19:35:09.200734Z",
          "iopub.status.busy": "2021-04-16T19:35:09.199974Z",
          "iopub.status.idle": "2021-04-16T19:35:09.202760Z",
          "shell.execute_reply": "2021-04-16T19:35:09.203214Z"
        },
        "colab": {
          "base_uri": "https://localhost:8080/"
        },
        "id": "bTmTUhOeFOCD",
        "outputId": "c8b8c876-91e9-4276-e587-9cac65bfa59c"
      },
      "outputs": [
        {
          "output_type": "execute_result",
          "data": {
            "text/plain": [
              "0.5206403320240125"
            ]
          },
          "metadata": {},
          "execution_count": 23
        }
      ],
      "source": [
        "prob(selected)"
      ]
    },
    {
      "cell_type": "markdown",
      "metadata": {
        "id": "fd4LqqIpFOCD"
      },
      "source": [
        "A little more than half of liberals are Democrats.  If that result is lower than you expected, keep in mind:\n",
        "\n",
        "1. We used a somewhat strict definition of \"Democrat\", excluding Independents who \"lean\" democratic.\n",
        "\n",
        "2. The dataset includes respondents as far back as 1974; in the early part of this interval, there was less alignment between political views and party affiliation, compared to the present.\n",
        "\n",
        "Let's try the second example, \"What is the probability that a respondent is female, given that they are a banker?\"\n",
        "We can interpret that to mean, \"Of all respondents who are bankers, what fraction are female?\"\n",
        "\n",
        "Again, we'll use the bracket operator to select only the bankers and `prob` to compute the fraction that are female."
      ]
    },
    {
      "cell_type": "code",
      "execution_count": 24,
      "metadata": {
        "execution": {
          "iopub.execute_input": "2021-04-16T19:35:09.206724Z",
          "iopub.status.busy": "2021-04-16T19:35:09.206015Z",
          "iopub.status.idle": "2021-04-16T19:35:09.209768Z",
          "shell.execute_reply": "2021-04-16T19:35:09.210120Z"
        },
        "colab": {
          "base_uri": "https://localhost:8080/"
        },
        "id": "ZFko-SuVFOCE",
        "outputId": "5371d461-4664-4f8e-efd5-2d540e161970"
      },
      "outputs": [
        {
          "output_type": "execute_result",
          "data": {
            "text/plain": [
              "0.7706043956043956"
            ]
          },
          "metadata": {},
          "execution_count": 24
        }
      ],
      "source": [
        "selected = female[banker]\n",
        "prob(selected)"
      ]
    },
    {
      "cell_type": "markdown",
      "metadata": {
        "id": "GdAG3bfoFOCE"
      },
      "source": [
        "About 77% of the bankers in this dataset are female.\n",
        "\n",
        "Let's wrap this computation in a function.\n",
        "I'll define `conditional` to take two Boolean series, `proposition` and `given`, and compute the conditional probability of `proposition` conditioned on `given`:"
      ]
    },
    {
      "cell_type": "code",
      "execution_count": 25,
      "metadata": {
        "execution": {
          "iopub.execute_input": "2021-04-16T19:35:09.213058Z",
          "iopub.status.busy": "2021-04-16T19:35:09.212636Z",
          "iopub.status.idle": "2021-04-16T19:35:09.214860Z",
          "shell.execute_reply": "2021-04-16T19:35:09.214485Z"
        },
        "id": "Jg-LRipCFOCE"
      },
      "outputs": [],
      "source": [
        "def conditional(proposition, given):\n",
        "    \"\"\"Probability of A conditioned on given.\"\"\"\n",
        "    return prob(proposition[given])"
      ]
    },
    {
      "cell_type": "markdown",
      "metadata": {
        "id": "TDRu6NrsFOCE"
      },
      "source": [
        "We can use `conditional` to compute the probability that a respondent is liberal given that they are female."
      ]
    },
    {
      "cell_type": "code",
      "execution_count": 26,
      "metadata": {
        "execution": {
          "iopub.execute_input": "2021-04-16T19:35:09.218614Z",
          "iopub.status.busy": "2021-04-16T19:35:09.218019Z",
          "iopub.status.idle": "2021-04-16T19:35:09.222351Z",
          "shell.execute_reply": "2021-04-16T19:35:09.221981Z"
        },
        "colab": {
          "base_uri": "https://localhost:8080/"
        },
        "id": "c3evEJDiFOCE",
        "outputId": "c0e62803-d20b-4b42-a4bf-391670a9fc63"
      },
      "outputs": [
        {
          "output_type": "execute_result",
          "data": {
            "text/plain": [
              "0.27581004111500884"
            ]
          },
          "metadata": {},
          "execution_count": 26
        }
      ],
      "source": [
        "conditional(liberal, given=female)"
      ]
    },
    {
      "cell_type": "markdown",
      "metadata": {
        "id": "SEl86DqCFOCE"
      },
      "source": [
        "About 28% of female respondents are liberal.\n",
        "\n",
        "I included the keyword, `given`, along with the parameter, `female`, to make this expression more readable."
      ]
    },
    {
      "cell_type": "markdown",
      "metadata": {
        "id": "62is6XHKFOCE"
      },
      "source": [
        "## Conditional Probability Is Not Commutative\n",
        "\n",
        "We have seen that conjunction is commutative; that is, `prob(A & B)` is always equal to `prob(B & A)`.\n",
        "\n",
        "But conditional probability is *not* commutative; that is, `conditional(A, B)` is not the same as `conditional(B, A)`.\n",
        "\n",
        "That should be clear if we look at an example.  Previously, we computed the probability a respondent is female, given that they are banker."
      ]
    },
    {
      "cell_type": "code",
      "execution_count": 27,
      "metadata": {
        "execution": {
          "iopub.execute_input": "2021-04-16T19:35:09.225222Z",
          "iopub.status.busy": "2021-04-16T19:35:09.224726Z",
          "iopub.status.idle": "2021-04-16T19:35:09.228199Z",
          "shell.execute_reply": "2021-04-16T19:35:09.227808Z"
        },
        "colab": {
          "base_uri": "https://localhost:8080/"
        },
        "id": "ZNRuTT68FOCE",
        "outputId": "39ee1293-c817-4bde-8c7a-5ede06535d08"
      },
      "outputs": [
        {
          "output_type": "execute_result",
          "data": {
            "text/plain": [
              "0.7706043956043956"
            ]
          },
          "metadata": {},
          "execution_count": 27
        }
      ],
      "source": [
        "conditional(female, given=banker)"
      ]
    },
    {
      "cell_type": "markdown",
      "metadata": {
        "id": "tlasr7VUFOCE"
      },
      "source": [
        "The result shows that the majority of bankers are female.  That is not the same as the probability that a respondent is a banker, given that they are female:"
      ]
    },
    {
      "cell_type": "code",
      "execution_count": 28,
      "metadata": {
        "execution": {
          "iopub.execute_input": "2021-04-16T19:35:09.231432Z",
          "iopub.status.busy": "2021-04-16T19:35:09.230897Z",
          "iopub.status.idle": "2021-04-16T19:35:09.235411Z",
          "shell.execute_reply": "2021-04-16T19:35:09.235854Z"
        },
        "colab": {
          "base_uri": "https://localhost:8080/"
        },
        "id": "_deNmGQSFOCE",
        "outputId": "5b9a45a6-b839-412e-d312-6f718ea579fb"
      },
      "outputs": [
        {
          "output_type": "execute_result",
          "data": {
            "text/plain": [
              "0.02116102749801969"
            ]
          },
          "metadata": {},
          "execution_count": 28
        }
      ],
      "source": [
        "conditional(banker, given=female)"
      ]
    },
    {
      "cell_type": "markdown",
      "metadata": {
        "id": "3UExxkhQFOCE"
      },
      "source": [
        "Only about 2% of female respondents are bankers.\n",
        "\n",
        "I hope this example makes it clear that conditional probability is not commutative, and maybe it was already clear to you.  Nevertheless, it is a common error to confuse `conditional(A, B)` and `conditional(B, A)`.  We'll see some examples later."
      ]
    },
    {
      "cell_type": "markdown",
      "metadata": {
        "id": "7fGFLLDWFOCE"
      },
      "source": [
        "## Condition and Conjunction\n",
        "\n",
        "We can combine conditional probability and conjunction.  For example, here's the probability a respondent is female, given that they are a liberal Democrat."
      ]
    },
    {
      "cell_type": "code",
      "execution_count": 29,
      "metadata": {
        "execution": {
          "iopub.execute_input": "2021-04-16T19:35:09.239595Z",
          "iopub.status.busy": "2021-04-16T19:35:09.239062Z",
          "iopub.status.idle": "2021-04-16T19:35:09.244206Z",
          "shell.execute_reply": "2021-04-16T19:35:09.244621Z"
        },
        "colab": {
          "base_uri": "https://localhost:8080/"
        },
        "id": "1rqYcRHIFOCE",
        "outputId": "8677bcc1-b74e-43fb-dc3e-3708c7d628f8"
      },
      "outputs": [
        {
          "output_type": "execute_result",
          "data": {
            "text/plain": [
              "0.576085409252669"
            ]
          },
          "metadata": {},
          "execution_count": 29
        }
      ],
      "source": [
        "conditional(female, given=liberal & democrat)"
      ]
    },
    {
      "cell_type": "markdown",
      "metadata": {
        "id": "U2QG82iEFOCE"
      },
      "source": [
        "About 57% of liberal Democrats are female.\n",
        "\n",
        "And here's the probability they are a liberal female, given that they are a banker:"
      ]
    },
    {
      "cell_type": "code",
      "execution_count": 30,
      "metadata": {
        "execution": {
          "iopub.execute_input": "2021-04-16T19:35:09.247749Z",
          "iopub.status.busy": "2021-04-16T19:35:09.247310Z",
          "iopub.status.idle": "2021-04-16T19:35:09.251132Z",
          "shell.execute_reply": "2021-04-16T19:35:09.250686Z"
        },
        "colab": {
          "base_uri": "https://localhost:8080/"
        },
        "id": "3OQ8vCMKFOCF",
        "outputId": "defc9594-9e94-4fff-be2e-6c4c3f3fdc29"
      },
      "outputs": [
        {
          "output_type": "execute_result",
          "data": {
            "text/plain": [
              "0.17307692307692307"
            ]
          },
          "metadata": {},
          "execution_count": 30
        }
      ],
      "source": [
        "conditional(liberal & female, given=banker)"
      ]
    },
    {
      "cell_type": "markdown",
      "metadata": {
        "id": "RSEQlvXqFOCF"
      },
      "source": [
        "About 17% of bankers are liberal women."
      ]
    },
    {
      "cell_type": "markdown",
      "metadata": {
        "id": "JPzndAVWFOCF"
      },
      "source": [
        "## Laws of Probability\n",
        "\n",
        "In the next few sections, we'll derive three relationships between conjunction and conditional probability:\n",
        "\n",
        "* Theorem 1: Using a conjunction to compute a conditional probability.\n",
        "\n",
        "* Theorem 2: Using a conditional probability to compute a conjunction.\n",
        "\n",
        "* Theorem 3: Using `conditional(A, B)` to compute `conditional(B, A)`.\n",
        "\n",
        "Theorem 3 is also known as Bayes's Theorem.\n",
        "\n",
        "I'll write these theorems using mathematical notation for probability:\n",
        "\n",
        "* $P(A)$ is the probability of proposition $A$.\n",
        "\n",
        "* $P(A~\\mathrm{and}~B)$ is the probability of the conjunction of $A$ and $B$, that is, the probability that both are true.\n",
        "\n",
        "* $P(A | B)$ is the conditional probability of $A$ given that $B$ is true.  The vertical line between $A$ and $B$ is pronounced \"given\". \n",
        "\n",
        "With that, we are ready for Theorem 1."
      ]
    },
    {
      "cell_type": "markdown",
      "metadata": {
        "id": "dgLTD2ELFOCF"
      },
      "source": [
        "### Theorem 1\n",
        "\n",
        "What fraction of bankers are female?  We have already seen one way to compute the answer:\n",
        "\n",
        "1. Use the bracket operator to select the bankers, then\n",
        "\n",
        "2. Use `mean` to compute the fraction of bankers who are female.\n",
        "\n",
        "We can write these steps like this:"
      ]
    },
    {
      "cell_type": "code",
      "execution_count": 31,
      "metadata": {
        "execution": {
          "iopub.execute_input": "2021-04-16T19:35:09.254022Z",
          "iopub.status.busy": "2021-04-16T19:35:09.253618Z",
          "iopub.status.idle": "2021-04-16T19:35:09.257836Z",
          "shell.execute_reply": "2021-04-16T19:35:09.258250Z"
        },
        "colab": {
          "base_uri": "https://localhost:8080/"
        },
        "id": "wsHrAZL_FOCF",
        "outputId": "91a0cec8-326a-4ae6-eabd-003ed5ab9ca4"
      },
      "outputs": [
        {
          "output_type": "execute_result",
          "data": {
            "text/plain": [
              "0.7706043956043956"
            ]
          },
          "metadata": {},
          "execution_count": 31
        }
      ],
      "source": [
        "female[banker].mean()"
      ]
    },
    {
      "cell_type": "markdown",
      "metadata": {
        "id": "x6pyKVEdFOCF"
      },
      "source": [
        "Or we can use the `conditional` function, which does the same thing:"
      ]
    },
    {
      "cell_type": "code",
      "execution_count": 32,
      "metadata": {
        "execution": {
          "iopub.execute_input": "2021-04-16T19:35:09.261661Z",
          "iopub.status.busy": "2021-04-16T19:35:09.260776Z",
          "iopub.status.idle": "2021-04-16T19:35:09.264587Z",
          "shell.execute_reply": "2021-04-16T19:35:09.264191Z"
        },
        "colab": {
          "base_uri": "https://localhost:8080/"
        },
        "id": "kYwDki8IFOCF",
        "outputId": "9377d1c5-b36f-4dd3-e3b4-6f45b7b59637"
      },
      "outputs": [
        {
          "output_type": "execute_result",
          "data": {
            "text/plain": [
              "0.7706043956043956"
            ]
          },
          "metadata": {},
          "execution_count": 32
        }
      ],
      "source": [
        "conditional(female, given=banker)"
      ]
    },
    {
      "cell_type": "markdown",
      "metadata": {
        "id": "eo-n0KsPFOCF"
      },
      "source": [
        "But there is another way to compute this conditional probability, by computing the ratio of two probabilities:\n",
        "\n",
        "1. The fraction of respondents who are female bankers, and\n",
        "\n",
        "2. The fraction of respondents who are bankers.\n",
        "\n",
        "In other words: of all the bankers, what fraction are female bankers?\n",
        "Here's how we compute this ratio."
      ]
    },
    {
      "cell_type": "code",
      "execution_count": 33,
      "metadata": {
        "execution": {
          "iopub.execute_input": "2021-04-16T19:35:09.268221Z",
          "iopub.status.busy": "2021-04-16T19:35:09.267591Z",
          "iopub.status.idle": "2021-04-16T19:35:09.271822Z",
          "shell.execute_reply": "2021-04-16T19:35:09.271337Z"
        },
        "colab": {
          "base_uri": "https://localhost:8080/"
        },
        "id": "okDr49P4FOCF",
        "outputId": "387f862a-faf8-47e4-b1ce-c194ef7d1083"
      },
      "outputs": [
        {
          "output_type": "execute_result",
          "data": {
            "text/plain": [
              "0.7706043956043956"
            ]
          },
          "metadata": {},
          "execution_count": 33
        }
      ],
      "source": [
        "prob(female & banker) / prob(banker)"
      ]
    },
    {
      "cell_type": "markdown",
      "metadata": {
        "id": "-OSUZDGXFOCF"
      },
      "source": [
        "The result is the same.  This example demonstrates a general rule that relates conditional probability and conjunction.  Here's what it looks like in math notation:\n",
        "\n",
        "$$P(A|B) = \\frac{P(A~\\mathrm{and}~B)}{P(B)}$$\n",
        "\n",
        "And that's Theorem 1."
      ]
    },
    {
      "cell_type": "markdown",
      "metadata": {
        "id": "FwT-ADMBFOCF"
      },
      "source": [
        "### Theorem 2\n",
        "\n",
        "If we start with Theorem 1 and multiply both sides by $P(B)$, we get Theorem 2.\n",
        "\n",
        "$$P(A~\\mathrm{and}~B) = P(B) ~ P(A|B)$$\n",
        "\n",
        "This formula suggests a second way to compute a conjunction: instead of using the `&` operator, we can compute the product of two probabilities.\n",
        "\n",
        "Let's see if it works for `liberal` and `democrat`.  Here's the result using `&`:"
      ]
    },
    {
      "cell_type": "code",
      "execution_count": 34,
      "metadata": {
        "execution": {
          "iopub.execute_input": "2021-04-16T19:35:09.275335Z",
          "iopub.status.busy": "2021-04-16T19:35:09.274699Z",
          "iopub.status.idle": "2021-04-16T19:35:09.278134Z",
          "shell.execute_reply": "2021-04-16T19:35:09.277739Z"
        },
        "colab": {
          "base_uri": "https://localhost:8080/"
        },
        "id": "S_VWpn_DFOCF",
        "outputId": "7506e1c3-ebfe-44ce-c48d-5c08e34ce744"
      },
      "outputs": [
        {
          "output_type": "execute_result",
          "data": {
            "text/plain": [
              "0.1425238385067965"
            ]
          },
          "metadata": {},
          "execution_count": 34
        }
      ],
      "source": [
        "prob(liberal & democrat)"
      ]
    },
    {
      "cell_type": "markdown",
      "metadata": {
        "id": "fS_DXz-PFOCG"
      },
      "source": [
        "And here's the result using Theorem 2:"
      ]
    },
    {
      "cell_type": "code",
      "execution_count": 35,
      "metadata": {
        "execution": {
          "iopub.execute_input": "2021-04-16T19:35:09.282010Z",
          "iopub.status.busy": "2021-04-16T19:35:09.281020Z",
          "iopub.status.idle": "2021-04-16T19:35:09.285790Z",
          "shell.execute_reply": "2021-04-16T19:35:09.286268Z"
        },
        "colab": {
          "base_uri": "https://localhost:8080/"
        },
        "id": "e4qDwZF5FOCG",
        "outputId": "dac47a54-b8d0-4647-e0f4-48f82f1b86d3"
      },
      "outputs": [
        {
          "output_type": "execute_result",
          "data": {
            "text/plain": [
              "0.1425238385067965"
            ]
          },
          "metadata": {},
          "execution_count": 35
        }
      ],
      "source": [
        "prob(democrat) * conditional(liberal, democrat)"
      ]
    },
    {
      "cell_type": "markdown",
      "metadata": {
        "id": "o3by_z78FOCG"
      },
      "source": [
        "They are the same."
      ]
    },
    {
      "cell_type": "markdown",
      "metadata": {
        "id": "7hzHxyTOFOCG"
      },
      "source": [
        "### Theorem 3\n",
        "\n",
        "We have established that conjunction is commutative.  In math notation, that means:\n",
        "\n",
        "$$P(A~\\mathrm{and}~B) = P(B~\\mathrm{and}~A)$$\n",
        "\n",
        "If we apply Theorem 2 to both sides, we have\n",
        "\n",
        "$$P(B) P(A|B) = P(A) P(B|A)$$\n",
        "\n",
        "Here's one way to interpret that: if you want to check $A$ and $B$, you can do it in either order:\n",
        "\n",
        "1. You can check $B$ first, then $A$ conditioned on $B$, or\n",
        "\n",
        "2. You can check $A$ first, then $B$ conditioned on $A$.\n",
        "\n",
        "If we divide through by $P(B)$, we get Theorem 3:\n",
        "\n",
        "$$P(A|B) = \\frac{P(A) P(B|A)}{P(B)}$$\n",
        "\n",
        "And that, my friends, is Bayes's Theorem.\n",
        "\n",
        "To see how it works, let's compute the fraction of bankers who are liberal, first using `conditional`:"
      ]
    },
    {
      "cell_type": "code",
      "execution_count": 36,
      "metadata": {
        "execution": {
          "iopub.execute_input": "2021-04-16T19:35:09.289892Z",
          "iopub.status.busy": "2021-04-16T19:35:09.289327Z",
          "iopub.status.idle": "2021-04-16T19:35:09.292846Z",
          "shell.execute_reply": "2021-04-16T19:35:09.293307Z"
        },
        "colab": {
          "base_uri": "https://localhost:8080/"
        },
        "id": "NqnoebWpFOCG",
        "outputId": "f946d5d5-8c3d-4361-f459-01e84269d40c"
      },
      "outputs": [
        {
          "output_type": "execute_result",
          "data": {
            "text/plain": [
              "0.2239010989010989"
            ]
          },
          "metadata": {},
          "execution_count": 36
        }
      ],
      "source": [
        "conditional(liberal, given=banker)"
      ]
    },
    {
      "cell_type": "markdown",
      "metadata": {
        "id": "s2_zhrzXFOCG"
      },
      "source": [
        "Now using Bayes's Theorem:"
      ]
    },
    {
      "cell_type": "code",
      "execution_count": 37,
      "metadata": {
        "execution": {
          "iopub.execute_input": "2021-04-16T19:35:09.296917Z",
          "iopub.status.busy": "2021-04-16T19:35:09.296411Z",
          "iopub.status.idle": "2021-04-16T19:35:09.302183Z",
          "shell.execute_reply": "2021-04-16T19:35:09.301729Z"
        },
        "colab": {
          "base_uri": "https://localhost:8080/"
        },
        "id": "73eopwa9FOCG",
        "outputId": "9df88da9-320e-47fa-902e-3ce1373611b2"
      },
      "outputs": [
        {
          "output_type": "execute_result",
          "data": {
            "text/plain": [
              "0.2239010989010989"
            ]
          },
          "metadata": {},
          "execution_count": 37
        }
      ],
      "source": [
        "prob(liberal) * conditional(banker, liberal) / prob(banker)"
      ]
    },
    {
      "cell_type": "markdown",
      "metadata": {
        "id": "PAqVwID6FOCG"
      },
      "source": [
        "They are the same."
      ]
    },
    {
      "cell_type": "markdown",
      "metadata": {
        "id": "K6Wj4VgdFOCG"
      },
      "source": [
        "### The Law of Total Probability\n",
        "\n",
        "In addition to these three theorems, there's one more thing we'll need to do Bayesian statistics: the law of total probability.\n",
        "Here's one form of the law, expressed in mathematical notation:\n",
        "\n",
        "$$P(A) = P(B_1 \\mathrm{and} A) + P(B_2 \\mathrm{and} A)$$\n",
        "\n",
        "In words, the total probability of $A$ is the sum of two possibilities: either $B_1$ and $A$ are true or $B_2$ and $A$ are true.\n",
        "But this law applies only if $B_1$ and $B_2$ are:\n",
        "\n",
        "* Mutually exclusive, which means that only one of them can be true, and\n",
        "\n",
        "* Collectively exhaustive, which means that one of them must be true.\n",
        "\n",
        "As an example, let's use this law to compute the probability that a respondent is a banker.\n",
        "We can compute it directly like this:"
      ]
    },
    {
      "cell_type": "code",
      "execution_count": 38,
      "metadata": {
        "execution": {
          "iopub.execute_input": "2021-04-16T19:35:09.306120Z",
          "iopub.status.busy": "2021-04-16T19:35:09.305480Z",
          "iopub.status.idle": "2021-04-16T19:35:09.308555Z",
          "shell.execute_reply": "2021-04-16T19:35:09.309041Z"
        },
        "colab": {
          "base_uri": "https://localhost:8080/"
        },
        "id": "OHfsv9uIFOCG",
        "outputId": "eafc30a6-f9f1-4801-b09a-1cccb752882f"
      },
      "outputs": [
        {
          "output_type": "execute_result",
          "data": {
            "text/plain": [
              "0.014769730168391155"
            ]
          },
          "metadata": {},
          "execution_count": 38
        }
      ],
      "source": [
        "prob(banker)"
      ]
    },
    {
      "cell_type": "markdown",
      "metadata": {
        "id": "T5cQO5p1FOCH"
      },
      "source": [
        "So let's confirm that we get the same thing if we compute male and female bankers separately.\n",
        "\n",
        "In this dataset all respondents are designated male or female.  Recently, the GSS Board of Overseers announced that they will add more inclusive gender questions to the survey (you can read more about this issue, and their decision, at <https://gender.stanford.edu/news-publications/gender-news/more-inclusive-gender-questions-added-general-social-survey>.\n",
        "\n",
        "\n",
        "We already have a Boolean `Series` that is `True` for female respondents.\n",
        "Here's the complementary `Series` for male respondents."
      ]
    },
    {
      "cell_type": "code",
      "execution_count": 39,
      "metadata": {
        "execution": {
          "iopub.execute_input": "2021-04-16T19:35:09.313714Z",
          "iopub.status.busy": "2021-04-16T19:35:09.312851Z",
          "iopub.status.idle": "2021-04-16T19:35:09.315579Z",
          "shell.execute_reply": "2021-04-16T19:35:09.315077Z"
        },
        "id": "0bLMEOHiFOCH"
      },
      "outputs": [],
      "source": [
        "male = (gss['sex'] == 1)"
      ]
    },
    {
      "cell_type": "markdown",
      "metadata": {
        "id": "NqM6mXsnFOCH"
      },
      "source": [
        "Now we can compute the total probability of `banker` like this. "
      ]
    },
    {
      "cell_type": "code",
      "execution_count": 40,
      "metadata": {
        "execution": {
          "iopub.execute_input": "2021-04-16T19:35:09.320293Z",
          "iopub.status.busy": "2021-04-16T19:35:09.319613Z",
          "iopub.status.idle": "2021-04-16T19:35:09.323814Z",
          "shell.execute_reply": "2021-04-16T19:35:09.324375Z"
        },
        "colab": {
          "base_uri": "https://localhost:8080/"
        },
        "id": "U2qQilJ7FOCH",
        "outputId": "fdf0e706-b971-4043-ca53-14607ca7765a"
      },
      "outputs": [
        {
          "output_type": "execute_result",
          "data": {
            "text/plain": [
              "0.014769730168391155"
            ]
          },
          "metadata": {},
          "execution_count": 40
        }
      ],
      "source": [
        "prob(male & banker) + prob(female & banker)"
      ]
    },
    {
      "cell_type": "markdown",
      "metadata": {
        "id": "cNY3ocmcFOCH"
      },
      "source": [
        "Because `male` and `female` are mutually exclusive and collectively exhaustive (MECE), we get the same result we got by computing the probability of `banker` directly.\n",
        "\n",
        "Applying Theorem 2, we can also write the law of total probability like this:\n",
        "\n",
        "$$P(A) = P(B_1) P(A|B_1) + P(B_2) P(A|B_2)$$\n",
        "\n",
        "And we can test it with the same example:"
      ]
    },
    {
      "cell_type": "code",
      "execution_count": 41,
      "metadata": {
        "execution": {
          "iopub.execute_input": "2021-04-16T19:35:09.330125Z",
          "iopub.status.busy": "2021-04-16T19:35:09.328968Z",
          "iopub.status.idle": "2021-04-16T19:35:09.336156Z",
          "shell.execute_reply": "2021-04-16T19:35:09.335726Z"
        },
        "colab": {
          "base_uri": "https://localhost:8080/"
        },
        "id": "1eofYiIEFOCH",
        "outputId": "3212a3b6-5b27-43de-de45-ac85254abd87"
      },
      "outputs": [
        {
          "output_type": "execute_result",
          "data": {
            "text/plain": [
              "0.014769730168391153"
            ]
          },
          "metadata": {},
          "execution_count": 41
        }
      ],
      "source": [
        "(prob(male) * conditional(banker, given=male) +\n",
        "prob(female) * conditional(banker, given=female))"
      ]
    },
    {
      "cell_type": "markdown",
      "metadata": {
        "id": "I7Y0J9ZiFOCH"
      },
      "source": [
        "When there are more than two conditions, it is more concise to write the law of total probability as a summation:\n",
        "\n",
        "$$P(A) = \\sum_i P(B_i) P(A|B_i)$$\n",
        "\n",
        "Again, this holds as long as the conditions, $B_i$ are mutually exclusive and collectively exhaustive.\n",
        "As an example, let's consider `polviews`, which has seven different values."
      ]
    },
    {
      "cell_type": "code",
      "execution_count": 43,
      "metadata": {
        "execution": {
          "iopub.execute_input": "2021-04-16T19:35:09.340326Z",
          "iopub.status.busy": "2021-04-16T19:35:09.339575Z",
          "iopub.status.idle": "2021-04-16T19:35:09.345569Z",
          "shell.execute_reply": "2021-04-16T19:35:09.345920Z"
        },
        "colab": {
          "base_uri": "https://localhost:8080/"
        },
        "id": "oOfS49ypFOCH",
        "outputId": "afa1178b-2714-45fd-b42d-e4bc4e01c598"
      },
      "outputs": [
        {
          "output_type": "execute_result",
          "data": {
            "text/plain": [
              "1.0     1442\n",
              "2.0     5808\n",
              "3.0     6243\n",
              "4.0    18943\n",
              "5.0     7940\n",
              "6.0     7319\n",
              "7.0     1595\n",
              "Name: polviews, dtype: int64"
            ]
          },
          "metadata": {},
          "execution_count": 43
        }
      ],
      "source": [
        "B = gss['polviews']\n",
        "B.value_counts().sort_index()"
      ]
    },
    {
      "cell_type": "markdown",
      "metadata": {
        "id": "9A7ZbBcsFOCH"
      },
      "source": [
        "On this scale, `4.0` represents \"Moderate\".\n",
        "So we can compute the probability of a moderate banker like this:"
      ]
    },
    {
      "cell_type": "code",
      "execution_count": 44,
      "metadata": {
        "execution": {
          "iopub.execute_input": "2021-04-16T19:35:09.349523Z",
          "iopub.status.busy": "2021-04-16T19:35:09.348794Z",
          "iopub.status.idle": "2021-04-16T19:35:09.354627Z",
          "shell.execute_reply": "2021-04-16T19:35:09.354093Z"
        },
        "colab": {
          "base_uri": "https://localhost:8080/"
        },
        "id": "yhqJKJpqFOCH",
        "outputId": "f53198dd-69b7-4db0-e0be-423c8c42de70"
      },
      "outputs": [
        {
          "output_type": "execute_result",
          "data": {
            "text/plain": [
              "0.005822682085615744"
            ]
          },
          "metadata": {},
          "execution_count": 44
        }
      ],
      "source": [
        "i = 4\n",
        "prob(B==i) * conditional(banker, B==i)"
      ]
    },
    {
      "cell_type": "markdown",
      "metadata": {
        "id": "2SbrsQCDFOCH"
      },
      "source": [
        "And we can use `sum` and a [generator expression](https://www.johndcook.com/blog/2020/01/15/generator-expression/) to compute the summation."
      ]
    },
    {
      "cell_type": "code",
      "execution_count": 45,
      "metadata": {
        "execution": {
          "iopub.execute_input": "2021-04-16T19:35:09.358978Z",
          "iopub.status.busy": "2021-04-16T19:35:09.358491Z",
          "iopub.status.idle": "2021-04-16T19:35:09.371125Z",
          "shell.execute_reply": "2021-04-16T19:35:09.370597Z"
        },
        "colab": {
          "base_uri": "https://localhost:8080/"
        },
        "id": "bK5ucq5dFOCH",
        "outputId": "f5e711d2-2697-40c8-c9db-d680efcb9b48"
      },
      "outputs": [
        {
          "output_type": "execute_result",
          "data": {
            "text/plain": [
              "0.014769730168391157"
            ]
          },
          "metadata": {},
          "execution_count": 45
        }
      ],
      "source": [
        "sum(prob(B==i) * conditional(banker, B==i)\n",
        "    for i in range(1, 8))"
      ]
    },
    {
      "cell_type": "markdown",
      "metadata": {
        "id": "XccFIOcJFOCH"
      },
      "source": [
        "The result is the same.\n",
        "\n",
        "In this example, using the law of total probability is a lot more work than computing the probability directly, but it will turn out to be useful, I promise."
      ]
    },
    {
      "cell_type": "markdown",
      "metadata": {
        "id": "2z5gI6RoFOCH"
      },
      "source": [
        "## Summary\n",
        "\n",
        "Here's what we have so far:\n",
        "\n",
        "**Theorem 1** gives us a way to compute a conditional probability using a conjunction:\n",
        "\n",
        "$$P(A|B) = \\frac{P(A~\\mathrm{and}~B)}{P(B)}$$\n",
        "\n",
        "**Theorem 2** gives us a way to compute a conjunction using a conditional probability:\n",
        "\n",
        "$$P(A~\\mathrm{and}~B) = P(B) P(A|B)$$\n",
        "\n",
        "**Theorem 3**, also known as Bayes's Theorem, gives us a way to get from $P(A|B)$ to $P(B|A)$, or the other way around:\n",
        "\n",
        "$$P(A|B) = \\frac{P(A) P(B|A)}{P(B)}$$\n",
        "\n",
        "**The Law of Total Probability** provides a way to compute probabilities by adding up the pieces:\n",
        "\n",
        "$$P(A) = \\sum_i P(B_i) P(A|B_i)$$\n",
        "\n",
        "At this point you might ask, \"So what?\"  If we have all of the data, we can compute any probability we want, any conjunction, or any conditional probability, just by counting.  We don't have to use these formulas.\n",
        "\n",
        "And you are right, *if* we have all of the data.  But often we don't, and in that case, these formulas can be pretty useful -- especially Bayes's Theorem.\n",
        "In the next chapter, we'll see how."
      ]
    },
    {
      "cell_type": "markdown",
      "metadata": {
        "id": "87-mvq-cFOCI"
      },
      "source": [
        "## Exercises"
      ]
    },
    {
      "cell_type": "markdown",
      "metadata": {
        "id": "EUpb6FPLFOCI"
      },
      "source": [
        "**Exercise:** Let's use the tools in this chapter to solve a variation of the Linda problem.\n",
        "\n",
        "> Linda is 31 years old, single, outspoken, and very bright. She majored in philosophy. As a student, she was deeply concerned with issues of discrimination and social justice, and also participated in anti-nuclear demonstrations.  Which is more probable?\n",
        "> 1. Linda is a banker.\n",
        "> 2. Linda is a banker and considers herself a liberal Democrat.\n",
        "\n",
        "To answer this question, compute \n",
        "\n",
        "* The probability that Linda is a female banker,\n",
        "\n",
        "* The probability that Linda is a liberal female banker, and\n",
        "\n",
        "* The probability that Linda is a liberal female banker and a Democrat."
      ]
    },
    {
      "cell_type": "code",
      "execution_count": 46,
      "metadata": {
        "execution": {
          "iopub.execute_input": "2021-04-16T19:35:09.375687Z",
          "iopub.status.busy": "2021-04-16T19:35:09.374854Z",
          "iopub.status.idle": "2021-04-16T19:35:09.379273Z",
          "shell.execute_reply": "2021-04-16T19:35:09.378643Z"
        },
        "colab": {
          "base_uri": "https://localhost:8080/"
        },
        "id": "R2YXYUlMFOCI",
        "outputId": "d7b3f3b8-ba19-4d6d-92a4-d32bed9474e0"
      },
      "outputs": [
        {
          "output_type": "execute_result",
          "data": {
            "text/plain": [
              "0.5378575776019476"
            ]
          },
          "metadata": {},
          "execution_count": 46
        }
      ],
      "source": [
        "# Solution goes here\n",
        "\n",
        "# 린다가 여성 은행원일일 확률\n",
        "prob(female)"
      ]
    },
    {
      "cell_type": "code",
      "execution_count": 53,
      "metadata": {
        "execution": {
          "iopub.execute_input": "2021-04-16T19:35:09.383986Z",
          "iopub.status.busy": "2021-04-16T19:35:09.383142Z",
          "iopub.status.idle": "2021-04-16T19:35:09.386942Z",
          "shell.execute_reply": "2021-04-16T19:35:09.387425Z"
        },
        "colab": {
          "base_uri": "https://localhost:8080/"
        },
        "id": "jCtNMNQZFOCI",
        "outputId": "48e1c9d0-7a53-4481-a959-4853c00376d3"
      },
      "outputs": [
        {
          "output_type": "execute_result",
          "data": {
            "text/plain": [
              "(0.14723701145431284, 0.015297220531547981)"
            ]
          },
          "metadata": {},
          "execution_count": 53
        }
      ],
      "source": [
        "# Solution goes here\n",
        "# 진보 성향의 여성 은행원일 확률\n",
        "prob(B<=3 & female) # prob(B<=3) * prob(female) 이 같으려면 독립시행이어야함"
      ]
    },
    {
      "cell_type": "code",
      "execution_count": 54,
      "metadata": {
        "execution": {
          "iopub.execute_input": "2021-04-16T19:35:09.391539Z",
          "iopub.status.busy": "2021-04-16T19:35:09.390944Z",
          "iopub.status.idle": "2021-04-16T19:35:09.395260Z",
          "shell.execute_reply": "2021-04-16T19:35:09.395740Z"
        },
        "colab": {
          "base_uri": "https://localhost:8080/"
        },
        "id": "GIW-Nnp9FOCI",
        "outputId": "f2a8d0b7-ac19-4df5-f63b-d4fc81b0ac69"
      },
      "outputs": [
        {
          "output_type": "execute_result",
          "data": {
            "text/plain": [
              "0.008703590992087645"
            ]
          },
          "metadata": {},
          "execution_count": 54
        }
      ],
      "source": [
        "# Solution goes here\n",
        "# 진보 성향의 여성 은행원, 민주당원\n",
        "prob(B<=3 & female & democrat)\n"
      ]
    },
    {
      "cell_type": "markdown",
      "metadata": {
        "id": "6FZBS74iFOCI"
      },
      "source": [
        "**Exercise:** Use `conditional` to compute the following probabilities:\n",
        "\n",
        "* What is the probability that a respondent is liberal, given that they are a Democrat?\n",
        "\n",
        "* What is the probability that a respondent is a Democrat, given that they are liberal?\n",
        "\n",
        "Think carefully about the order of the arguments you pass to `conditional`."
      ]
    },
    {
      "cell_type": "code",
      "execution_count": 55,
      "metadata": {
        "execution": {
          "iopub.execute_input": "2021-04-16T19:35:09.399461Z",
          "iopub.status.busy": "2021-04-16T19:35:09.398872Z",
          "iopub.status.idle": "2021-04-16T19:35:09.403442Z",
          "shell.execute_reply": "2021-04-16T19:35:09.403943Z"
        },
        "colab": {
          "base_uri": "https://localhost:8080/"
        },
        "id": "B9uofJ5JFOCI",
        "outputId": "bd8d9c25-c4c2-4c91-d5a0-f3fd8f76950c"
      },
      "outputs": [
        {
          "output_type": "execute_result",
          "data": {
            "text/plain": [
              "0.3891320002215698"
            ]
          },
          "metadata": {},
          "execution_count": 55
        }
      ],
      "source": [
        "# Solution goes here\n",
        "# 민주당원일경우 진보성향일확률\n",
        "conditional(B<=3, given = democrat)"
      ]
    },
    {
      "cell_type": "code",
      "execution_count": 56,
      "metadata": {
        "execution": {
          "iopub.execute_input": "2021-04-16T19:35:09.407668Z",
          "iopub.status.busy": "2021-04-16T19:35:09.407123Z",
          "iopub.status.idle": "2021-04-16T19:35:09.411160Z",
          "shell.execute_reply": "2021-04-16T19:35:09.411604Z"
        },
        "colab": {
          "base_uri": "https://localhost:8080/"
        },
        "id": "voGD1vXKFOCI",
        "outputId": "046ebb3a-47ea-4300-f341-f8a1ea08154c"
      },
      "outputs": [
        {
          "output_type": "execute_result",
          "data": {
            "text/plain": [
              "0.5206403320240125"
            ]
          },
          "metadata": {},
          "execution_count": 56
        }
      ],
      "source": [
        "# Solution goes here\n",
        "# 진보성향일경우 민주당원일 확률\n",
        "conditional(democrat, given=B<=3)"
      ]
    },
    {
      "cell_type": "markdown",
      "metadata": {
        "id": "4lp15Nl5FOCI"
      },
      "source": [
        "**Exercise:** There's a [famous quote](https://quoteinvestigator.com/2014/02/24/heart-head/) about young people, old people, liberals, and conservatives that goes something like:\n",
        "\n",
        "> If you are not a liberal at 25, you have no heart. If you are not a conservative at 35, you have no brain.\n",
        "\n",
        "Whether you agree with this proposition or not, it suggests some probabilities we can compute as an exercise.\n",
        "Rather than use the specific ages 25 and 35, let's define `young` and `old` as under 30 or over 65:"
      ]
    },
    {
      "cell_type": "code",
      "execution_count": 57,
      "metadata": {
        "execution": {
          "iopub.execute_input": "2021-04-16T19:35:09.415701Z",
          "iopub.status.busy": "2021-04-16T19:35:09.415139Z",
          "iopub.status.idle": "2021-04-16T19:35:09.418451Z",
          "shell.execute_reply": "2021-04-16T19:35:09.418810Z"
        },
        "colab": {
          "base_uri": "https://localhost:8080/"
        },
        "id": "CE3VIqwIFOCI",
        "outputId": "94fa875b-e89b-4b74-c7e0-6972f8bae1b5"
      },
      "outputs": [
        {
          "output_type": "execute_result",
          "data": {
            "text/plain": [
              "0.19435991073240008"
            ]
          },
          "metadata": {},
          "execution_count": 57
        }
      ],
      "source": [
        "young = (gss['age'] < 30)\n",
        "prob(young)"
      ]
    },
    {
      "cell_type": "code",
      "execution_count": 58,
      "metadata": {
        "execution": {
          "iopub.execute_input": "2021-04-16T19:35:09.423028Z",
          "iopub.status.busy": "2021-04-16T19:35:09.422417Z",
          "iopub.status.idle": "2021-04-16T19:35:09.425586Z",
          "shell.execute_reply": "2021-04-16T19:35:09.425960Z"
        },
        "colab": {
          "base_uri": "https://localhost:8080/"
        },
        "id": "vPb6-g2eFOCI",
        "outputId": "c98ccbd2-e655-4f44-ee88-0e5d65daac48"
      },
      "outputs": [
        {
          "output_type": "execute_result",
          "data": {
            "text/plain": [
              "0.17328058429701765"
            ]
          },
          "metadata": {},
          "execution_count": 58
        }
      ],
      "source": [
        "old = (gss['age'] >= 65)\n",
        "prob(old)"
      ]
    },
    {
      "cell_type": "markdown",
      "metadata": {
        "id": "c7HqSKmqFOCI"
      },
      "source": [
        "For these thresholds, I chose round numbers near the 20th and 80th percentiles.  Depending on your age, you may or may not agree with these definitions of \"young\" and \"old\".\n",
        "\n",
        "I'll define `conservative` as someone whose political views are \"Conservative\", \"Slightly Conservative\", or \"Extremely Conservative\"."
      ]
    },
    {
      "cell_type": "code",
      "execution_count": 59,
      "metadata": {
        "execution": {
          "iopub.execute_input": "2021-04-16T19:35:09.429448Z",
          "iopub.status.busy": "2021-04-16T19:35:09.428975Z",
          "iopub.status.idle": "2021-04-16T19:35:09.432387Z",
          "shell.execute_reply": "2021-04-16T19:35:09.432875Z"
        },
        "colab": {
          "base_uri": "https://localhost:8080/"
        },
        "id": "nZk6Ys7YFOCI",
        "outputId": "34edeaf5-a14b-4262-d21f-693a099c8f9b"
      },
      "outputs": [
        {
          "output_type": "execute_result",
          "data": {
            "text/plain": [
              "0.3419354838709677"
            ]
          },
          "metadata": {},
          "execution_count": 59
        }
      ],
      "source": [
        "conservative = (gss['polviews'] >= 5)\n",
        "prob(conservative)"
      ]
    },
    {
      "cell_type": "markdown",
      "metadata": {
        "id": "1WvGIJsUFOCI"
      },
      "source": [
        "Use `prob` and `conditional` to compute the following probabilities.\n",
        "\n",
        "* What is the probability that a randomly chosen respondent is a young liberal?\n",
        "\n",
        "* What is the probability that a young person is liberal?\n",
        "\n",
        "* What fraction of respondents are old conservatives?\n",
        "\n",
        "* What fraction of conservatives are old?\n",
        "\n",
        "For each statement, think about whether it is expressing a conjunction, a conditional probability, or both.\n",
        "\n",
        "For the conditional probabilities, be careful about the order of the arguments.\n",
        "If your answer to the last question is greater than 30%, you have it backwards!"
      ]
    },
    {
      "cell_type": "code",
      "execution_count": 60,
      "metadata": {
        "execution": {
          "iopub.execute_input": "2021-04-16T19:35:09.436838Z",
          "iopub.status.busy": "2021-04-16T19:35:09.436245Z",
          "iopub.status.idle": "2021-04-16T19:35:09.439984Z",
          "shell.execute_reply": "2021-04-16T19:35:09.440468Z"
        },
        "colab": {
          "base_uri": "https://localhost:8080/"
        },
        "id": "hLw2H5NDFOCJ",
        "outputId": "2ef78f9a-1d89-4e82-bd2f-d66c19ee5401"
      },
      "outputs": [
        {
          "output_type": "execute_result",
          "data": {
            "text/plain": [
              "0.006553053357679042"
            ]
          },
          "metadata": {},
          "execution_count": 60
        }
      ],
      "source": [
        "# Solution goes here\n",
        "# 임의로 고른 응답자가 젊은 진보 성향일 확률\n",
        "prob(B<=3 & young)"
      ]
    },
    {
      "cell_type": "code",
      "execution_count": 61,
      "metadata": {
        "execution": {
          "iopub.execute_input": "2021-04-16T19:35:09.443827Z",
          "iopub.status.busy": "2021-04-16T19:35:09.443300Z",
          "iopub.status.idle": "2021-04-16T19:35:09.447774Z",
          "shell.execute_reply": "2021-04-16T19:35:09.447317Z"
        },
        "colab": {
          "base_uri": "https://localhost:8080/"
        },
        "id": "wMxJLztdFOCJ",
        "outputId": "06d4d9fb-d602-4a54-8d26-85dc8bc32df9"
      },
      "outputs": [
        {
          "output_type": "execute_result",
          "data": {
            "text/plain": [
              "0.338517745302714"
            ]
          },
          "metadata": {},
          "execution_count": 61
        }
      ],
      "source": [
        "# Solution goes here\n",
        "# 젊은 사람이 진보적일 확률\n",
        "conditional(B<=3, given=young)"
      ]
    },
    {
      "cell_type": "code",
      "execution_count": 63,
      "metadata": {
        "execution": {
          "iopub.execute_input": "2021-04-16T19:35:09.451326Z",
          "iopub.status.busy": "2021-04-16T19:35:09.450505Z",
          "iopub.status.idle": "2021-04-16T19:35:09.455557Z",
          "shell.execute_reply": "2021-04-16T19:35:09.455085Z"
        },
        "colab": {
          "base_uri": "https://localhost:8080/"
        },
        "id": "j24gGKs6FOCJ",
        "outputId": "eee7c3d2-fdf0-4798-cb42-27c8ba1f9303"
      },
      "outputs": [
        {
          "output_type": "execute_result",
          "data": {
            "text/plain": [
              "1.0"
            ]
          },
          "metadata": {},
          "execution_count": 63
        }
      ],
      "source": [
        "# Solution goes here\n",
        "# 응답자가 늙고 보수성향일 확률\n",
        "prob(B>=5 & old)"
      ]
    },
    {
      "cell_type": "code",
      "execution_count": 64,
      "metadata": {
        "execution": {
          "iopub.execute_input": "2021-04-16T19:35:09.458973Z",
          "iopub.status.busy": "2021-04-16T19:35:09.458445Z",
          "iopub.status.idle": "2021-04-16T19:35:09.462616Z",
          "shell.execute_reply": "2021-04-16T19:35:09.463061Z"
        },
        "colab": {
          "base_uri": "https://localhost:8080/"
        },
        "id": "RVVOnkUNFOCJ",
        "outputId": "6f467f88-5b5b-4526-86d4-4b531e99cebb"
      },
      "outputs": [
        {
          "output_type": "execute_result",
          "data": {
            "text/plain": [
              "0.19597721609113564"
            ]
          },
          "metadata": {},
          "execution_count": 64
        }
      ],
      "source": [
        "# Solution goes here\n",
        "# 보수 성향인 사람들이 늙었을 확률\n",
        "conditional(old, given=B>=5)"
      ]
    },
    {
      "cell_type": "markdown",
      "metadata": {
        "id": "t6fDZC-lFOCJ"
      },
      "source": []
    }
  ],
  "metadata": {
    "celltoolbar": "Tags",
    "kernelspec": {
      "display_name": "Python 3 (ipykernel)",
      "language": "python",
      "name": "python3"
    },
    "language_info": {
      "codemirror_mode": {
        "name": "ipython",
        "version": 3
      },
      "file_extension": ".py",
      "mimetype": "text/x-python",
      "name": "python",
      "nbconvert_exporter": "python",
      "pygments_lexer": "ipython3",
      "version": "3.9.12"
    },
    "colab": {
      "provenance": []
    }
  },
  "nbformat": 4,
  "nbformat_minor": 0
}