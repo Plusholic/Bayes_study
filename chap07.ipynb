{
  "cells": [
    {
      "cell_type": "markdown",
      "metadata": {
        "id": "DSOvhxKAA49K"
      },
      "source": [
        "# Minimum, Maximum, and Mixture"
      ]
    },
    {
      "cell_type": "markdown",
      "metadata": {
        "tags": [],
        "id": "qiIAA870A49M"
      },
      "source": [
        "Think Bayes, Second Edition\n",
        "\n",
        "Copyright 2020 Allen B. Downey\n",
        "\n",
        "License: [Attribution-NonCommercial-ShareAlike 4.0 International (CC BY-NC-SA 4.0)](https://creativecommons.org/licenses/by-nc-sa/4.0/)"
      ]
    },
    {
      "cell_type": "code",
      "execution_count": 1,
      "metadata": {
        "execution": {
          "iopub.execute_input": "2021-04-16T19:35:30.749769Z",
          "iopub.status.busy": "2021-04-16T19:35:30.748995Z",
          "iopub.status.idle": "2021-04-16T19:35:30.752221Z",
          "shell.execute_reply": "2021-04-16T19:35:30.751509Z"
        },
        "tags": [],
        "colab": {
          "base_uri": "https://localhost:8080/"
        },
        "id": "5sdcIUQ3A49M",
        "outputId": "6f189e72-5e48-442f-a653-9b07da99db00"
      },
      "outputs": [
        {
          "output_type": "stream",
          "name": "stdout",
          "text": [
            "Looking in indexes: https://pypi.org/simple, https://us-python.pkg.dev/colab-wheels/public/simple/\n",
            "Collecting empiricaldist\n",
            "  Downloading empiricaldist-0.6.8.tar.gz (12 kB)\n",
            "  Installing build dependencies ... \u001b[?25l\u001b[?25hdone\n",
            "  Getting requirements to build wheel ... \u001b[?25l\u001b[?25hdone\n",
            "  Preparing metadata (pyproject.toml) ... \u001b[?25l\u001b[?25hdone\n",
            "Building wheels for collected packages: empiricaldist\n",
            "  Building wheel for empiricaldist (pyproject.toml) ... \u001b[?25l\u001b[?25hdone\n",
            "  Created wheel for empiricaldist: filename=empiricaldist-0.6.8-py3-none-any.whl size=12122 sha256=fcac37f82d30d870fc11d515964bf6aeef75f8e2e4993b796f45d9805bd152ca\n",
            "  Stored in directory: /root/.cache/pip/wheels/c2/2f/73/700abc644ee5aba92a8b40552794103c445cd47fcdfe7828f7\n",
            "Successfully built empiricaldist\n",
            "Installing collected packages: empiricaldist\n",
            "Successfully installed empiricaldist-0.6.8\n"
          ]
        }
      ],
      "source": [
        "# If we're running on Colab, install empiricaldist\n",
        "# https://pypi.org/project/empiricaldist/\n",
        "\n",
        "import sys\n",
        "IN_COLAB = 'google.colab' in sys.modules\n",
        "\n",
        "if IN_COLAB:\n",
        "    !pip install empiricaldist"
      ]
    },
    {
      "cell_type": "code",
      "execution_count": 2,
      "metadata": {
        "execution": {
          "iopub.execute_input": "2021-04-16T19:35:30.756174Z",
          "iopub.status.busy": "2021-04-16T19:35:30.755765Z",
          "iopub.status.idle": "2021-04-16T19:35:30.757511Z",
          "shell.execute_reply": "2021-04-16T19:35:30.757889Z"
        },
        "tags": [],
        "colab": {
          "base_uri": "https://localhost:8080/"
        },
        "id": "KTWikYJtA49N",
        "outputId": "47662965-5caa-42d9-d9e6-fc5707822626"
      },
      "outputs": [
        {
          "output_type": "stream",
          "name": "stdout",
          "text": [
            "Downloaded utils.py\n"
          ]
        }
      ],
      "source": [
        "# Get utils.py\n",
        "\n",
        "from os.path import basename, exists\n",
        "\n",
        "def download(url):\n",
        "    filename = basename(url)\n",
        "    if not exists(filename):\n",
        "        from urllib.request import urlretrieve\n",
        "        local, _ = urlretrieve(url, filename)\n",
        "        print('Downloaded ' + local)\n",
        "    \n",
        "download('https://github.com/AllenDowney/ThinkBayes2/raw/master/soln/utils.py')"
      ]
    },
    {
      "cell_type": "code",
      "execution_count": 3,
      "metadata": {
        "execution": {
          "iopub.execute_input": "2021-04-16T19:35:30.760611Z",
          "iopub.status.busy": "2021-04-16T19:35:30.760188Z",
          "iopub.status.idle": "2021-04-16T19:35:31.437686Z",
          "shell.execute_reply": "2021-04-16T19:35:31.438042Z"
        },
        "tags": [],
        "id": "Ei49JWGYA49N"
      },
      "outputs": [],
      "source": [
        "from utils import set_pyplot_params\n",
        "set_pyplot_params()"
      ]
    },
    {
      "cell_type": "markdown",
      "metadata": {
        "id": "a15-AzIhA49N"
      },
      "source": [
        "In the previous chapter we computed distributions of sums.\n",
        "In this chapter, we'll compute distributions of minimums and maximums, and use them to solve both forward and inverse problems.\n",
        "\n",
        "Then we'll look at distributions that are mixtures of other distributions, which will turn out to be particularly useful for making predictions.\n",
        "\n",
        "But we'll start with a powerful tool for working with distributions, the cumulative distribution function."
      ]
    },
    {
      "cell_type": "markdown",
      "metadata": {
        "id": "nr3G6qTNA49N"
      },
      "source": [
        "## Cumulative Distribution Functions\n",
        "\n",
        "So far we have been using probability mass functions to represent distributions.\n",
        "A useful alternative is the **cumulative distribution function**, or CDF.\n",
        "\n",
        "As an example, I'll use the posterior distribution from the Euro problem, which we computed in <<_BayesianEstimation>>.\n",
        "\n",
        "Here's the uniform prior we started with."
      ]
    },
    {
      "cell_type": "code",
      "execution_count": 4,
      "metadata": {
        "execution": {
          "iopub.execute_input": "2021-04-16T19:35:31.442337Z",
          "iopub.status.busy": "2021-04-16T19:35:31.441797Z",
          "iopub.status.idle": "2021-04-16T19:35:31.443480Z",
          "shell.execute_reply": "2021-04-16T19:35:31.443832Z"
        },
        "id": "ZEdqHY95A49N"
      },
      "outputs": [],
      "source": [
        "import numpy as np\n",
        "from empiricaldist import Pmf\n",
        "\n",
        "hypos = np.linspace(0, 1, 101)\n",
        "pmf = Pmf(1, hypos)\n",
        "data = 140, 250"
      ]
    },
    {
      "cell_type": "markdown",
      "metadata": {
        "id": "61BzwLwVA49O"
      },
      "source": [
        "And here's the update."
      ]
    },
    {
      "cell_type": "code",
      "execution_count": 5,
      "metadata": {
        "execution": {
          "iopub.execute_input": "2021-04-16T19:35:31.447686Z",
          "iopub.status.busy": "2021-04-16T19:35:31.447185Z",
          "iopub.status.idle": "2021-04-16T19:35:31.449283Z",
          "shell.execute_reply": "2021-04-16T19:35:31.448866Z"
        },
        "id": "eUm3VHFmA49O"
      },
      "outputs": [],
      "source": [
        "from scipy.stats import binom\n",
        "\n",
        "def update_binomial(pmf, data):\n",
        "    \"\"\"이항분포를 사용한 pmf 갱신\"\"\"\n",
        "    k, n = data\n",
        "    xs = pmf.qs\n",
        "    likelihood = binom.pmf(k, n, xs)\n",
        "    pmf *= likelihood\n",
        "    pmf.normalize()"
      ]
    },
    {
      "cell_type": "code",
      "execution_count": 6,
      "metadata": {
        "execution": {
          "iopub.execute_input": "2021-04-16T19:35:31.454274Z",
          "iopub.status.busy": "2021-04-16T19:35:31.453576Z",
          "iopub.status.idle": "2021-04-16T19:35:31.459248Z",
          "shell.execute_reply": "2021-04-16T19:35:31.458812Z"
        },
        "id": "Htq_GC_TA49O"
      },
      "outputs": [],
      "source": [
        "update_binomial(pmf, data)"
      ]
    },
    {
      "cell_type": "markdown",
      "metadata": {
        "id": "zjfezUlpA49O"
      },
      "source": [
        "The CDF is the cumulative sum of the PMF, so we can compute it like this:"
      ]
    },
    {
      "cell_type": "code",
      "execution_count": 7,
      "metadata": {
        "execution": {
          "iopub.execute_input": "2021-04-16T19:35:31.462631Z",
          "iopub.status.busy": "2021-04-16T19:35:31.462163Z",
          "iopub.status.idle": "2021-04-16T19:35:31.463845Z",
          "shell.execute_reply": "2021-04-16T19:35:31.464199Z"
        },
        "id": "AKZolmMZA49O"
      },
      "outputs": [],
      "source": [
        "cumulative = pmf.cumsum()"
      ]
    },
    {
      "cell_type": "markdown",
      "metadata": {
        "id": "w3C-qI_AA49O"
      },
      "source": [
        "Here's what it looks like, along with the PMF."
      ]
    },
    {
      "cell_type": "code",
      "execution_count": 8,
      "metadata": {
        "execution": {
          "iopub.execute_input": "2021-04-16T19:35:31.467579Z",
          "iopub.status.busy": "2021-04-16T19:35:31.467137Z",
          "iopub.status.idle": "2021-04-16T19:35:31.469147Z",
          "shell.execute_reply": "2021-04-16T19:35:31.468672Z"
        },
        "tags": [],
        "id": "BxeVZQ5UA49O"
      },
      "outputs": [],
      "source": [
        "from utils import decorate\n",
        "\n",
        "def decorate_euro(title):\n",
        "    decorate(xlabel='Proportion of heads (x)',\n",
        "             ylabel='Probability',\n",
        "             title=title)"
      ]
    },
    {
      "cell_type": "code",
      "execution_count": 9,
      "metadata": {
        "execution": {
          "iopub.execute_input": "2021-04-16T19:35:31.474021Z",
          "iopub.status.busy": "2021-04-16T19:35:31.472944Z",
          "iopub.status.idle": "2021-04-16T19:35:31.677455Z",
          "shell.execute_reply": "2021-04-16T19:35:31.677848Z"
        },
        "tags": [],
        "colab": {
          "base_uri": "https://localhost:8080/",
          "height": 297
        },
        "id": "Dbt4P7ZkA49O",
        "outputId": "5e815f38-5b3b-4ca7-f16a-1206b9df89d6"
      },
      "outputs": [
        {
          "output_type": "display_data",
          "data": {
            "text/plain": [
              "<Figure size 432x288 with 1 Axes>"
            ],
            "image/png": "[encoded data removed]"
          },
          "metadata": {
            "needs_background": "light"
          }
        }
      ],
      "source": [
        "cumulative.plot(label='CDF')\n",
        "pmf.plot(label='PMF')\n",
        "decorate_euro(title='Posterior distribution for the Euro problem')"
      ]
    },
    {
      "cell_type": "markdown",
      "metadata": {
        "id": "7NKJfniqA49O"
      },
      "source": [
        "The range of the CDF is always from 0 to 1, in contrast with the PMF, where the maximum can be any probability.\n",
        "\n",
        "The result from `cumsum` is a Pandas `Series`, so we can use the bracket operator to select an element:"
      ]
    },
    {
      "cell_type": "code",
      "execution_count": 10,
      "metadata": {
        "execution": {
          "iopub.execute_input": "2021-04-16T19:35:31.681378Z",
          "iopub.status.busy": "2021-04-16T19:35:31.680792Z",
          "iopub.status.idle": "2021-04-16T19:35:31.684176Z",
          "shell.execute_reply": "2021-04-16T19:35:31.683818Z"
        },
        "colab": {
          "base_uri": "https://localhost:8080/"
        },
        "id": "HX8dP36zA49P",
        "outputId": "67163af5-f90f-4a7c-df5c-af5bb2c07be0"
      },
      "outputs": [
        {
          "output_type": "execute_result",
          "data": {
            "text/plain": [
              "0.9638303193984255"
            ]
          },
          "metadata": {},
          "execution_count": 10
        }
      ],
      "source": [
        "cumulative[0.61]"
      ]
    },
    {
      "cell_type": "markdown",
      "metadata": {
        "id": "slRm7gm2A49P"
      },
      "source": [
        "\b결과는 0.96으로, 이는 0.61과 같거나 이보다 작은 값에 대한 총 확률이 96%라는 뜻이다.\n",
        "\n",
        "To go the other way --- to look up a probability and get the corresponding quantile --- we can use interpolation:"
      ]
    },
    {
      "cell_type": "code",
      "execution_count": 11,
      "metadata": {
        "execution": {
          "iopub.execute_input": "2021-04-16T19:35:31.688718Z",
          "iopub.status.busy": "2021-04-16T19:35:31.688069Z",
          "iopub.status.idle": "2021-04-16T19:35:31.691063Z",
          "shell.execute_reply": "2021-04-16T19:35:31.690624Z"
        },
        "colab": {
          "base_uri": "https://localhost:8080/"
        },
        "id": "RjR6h3ZjA49P",
        "outputId": "bf03a541-875c-438f-bb54-3756c30a2b4f"
      },
      "outputs": [
        {
          "output_type": "execute_result",
          "data": {
            "text/plain": [
              "array(0.60890171)"
            ]
          },
          "metadata": {},
          "execution_count": 11
        }
      ],
      "source": [
        "from scipy.interpolate import interp1d\n",
        "\n",
        "ps = cumulative.values\n",
        "qs = cumulative.index\n",
        "\n",
        "interp = interp1d(ps, qs)\n",
        "interp(0.96)"
      ]
    },
    {
      "cell_type": "markdown",
      "metadata": {
        "id": "4ZlAxFC7A49P"
      },
      "source": [
        "결과는 약 0.61이므로, 이 분포의 96분위에 해당하는 값이 0.61임을 알 수 있다.\n",
        "\n",
        "`empiricaldist` provides a class called `Cdf` that represents a cumulative distribution function.\n",
        "Given a `Pmf`, you can compute a `Cdf` like this:"
      ]
    },
    {
      "cell_type": "code",
      "execution_count": 12,
      "metadata": {
        "execution": {
          "iopub.execute_input": "2021-04-16T19:35:31.694831Z",
          "iopub.status.busy": "2021-04-16T19:35:31.694113Z",
          "iopub.status.idle": "2021-04-16T19:35:31.696012Z",
          "shell.execute_reply": "2021-04-16T19:35:31.696439Z"
        },
        "id": "LUfriCPBA49P"
      },
      "outputs": [],
      "source": [
        "cdf = pmf.make_cdf()"
      ]
    },
    {
      "cell_type": "markdown",
      "metadata": {
        "id": "nGEKcS_QA49P"
      },
      "source": [
        "`make_cdf` uses `np.cumsum` to compute the cumulative sum of the probabilities.\n",
        "\n",
        "You can use brackets to select an element from a `Cdf`:"
      ]
    },
    {
      "cell_type": "code",
      "execution_count": 13,
      "metadata": {
        "execution": {
          "iopub.execute_input": "2021-04-16T19:35:31.700286Z",
          "iopub.status.busy": "2021-04-16T19:35:31.699659Z",
          "iopub.status.idle": "2021-04-16T19:35:31.702626Z",
          "shell.execute_reply": "2021-04-16T19:35:31.703050Z"
        },
        "colab": {
          "base_uri": "https://localhost:8080/"
        },
        "id": "1NFx8BYBA49P",
        "outputId": "2a6ee039-7585-497a-abbb-17c7ae611435"
      },
      "outputs": [
        {
          "output_type": "execute_result",
          "data": {
            "text/plain": [
              "0.9638303193984255"
            ]
          },
          "metadata": {},
          "execution_count": 13
        }
      ],
      "source": [
        "cdf[0.61]"
      ]
    },
    {
      "cell_type": "markdown",
      "metadata": {
        "id": "v0MiVSPQA49P"
      },
      "source": [
        "But if you look up a quantity that's not in the distribution, you get a `KeyError`.\n"
      ]
    },
    {
      "cell_type": "code",
      "execution_count": 14,
      "metadata": {
        "execution": {
          "iopub.execute_input": "2021-04-16T19:35:31.707236Z",
          "iopub.status.busy": "2021-04-16T19:35:31.706612Z",
          "iopub.status.idle": "2021-04-16T19:35:31.709290Z",
          "shell.execute_reply": "2021-04-16T19:35:31.709801Z"
        },
        "tags": [],
        "colab": {
          "base_uri": "https://localhost:8080/"
        },
        "id": "6_vxl9mRA49P",
        "outputId": "e6306a6b-4b15-40bf-ceaf-e286ab4105e6"
      },
      "outputs": [
        {
          "output_type": "stream",
          "name": "stdout",
          "text": [
            "KeyError(0.615)\n"
          ]
        }
      ],
      "source": [
        "try:\n",
        "    cdf[0.615]\n",
        "except KeyError as e:\n",
        "    print(repr(e))"
      ]
    },
    {
      "cell_type": "markdown",
      "metadata": {
        "id": "mIiaSv3qA49P"
      },
      "source": [
        "To avoid this problem, you can call a `Cdf` as a function, using parentheses.\n",
        "If the argument does not appear in the `Cdf`, it interpolates between quantities."
      ]
    },
    {
      "cell_type": "code",
      "execution_count": 15,
      "metadata": {
        "execution": {
          "iopub.execute_input": "2021-04-16T19:35:31.714823Z",
          "iopub.status.busy": "2021-04-16T19:35:31.714082Z",
          "iopub.status.idle": "2021-04-16T19:35:31.718078Z",
          "shell.execute_reply": "2021-04-16T19:35:31.717545Z"
        },
        "colab": {
          "base_uri": "https://localhost:8080/"
        },
        "id": "bkkfdzBfA49P",
        "outputId": "b91220c7-f29d-4e15-a0ee-8b7c1c2514e9"
      },
      "outputs": [
        {
          "output_type": "execute_result",
          "data": {
            "text/plain": [
              "array(0.96383032)"
            ]
          },
          "metadata": {},
          "execution_count": 15
        }
      ],
      "source": [
        "cdf(0.615)"
      ]
    },
    {
      "cell_type": "markdown",
      "metadata": {
        "id": "DaHSI3QGA49P"
      },
      "source": [
        "Going the other way, you can use `quantile` to look up a cumulative probability and get the corresponding quantity:\n"
      ]
    },
    {
      "cell_type": "code",
      "execution_count": 16,
      "metadata": {
        "execution": {
          "iopub.execute_input": "2021-04-16T19:35:31.722903Z",
          "iopub.status.busy": "2021-04-16T19:35:31.722203Z",
          "iopub.status.idle": "2021-04-16T19:35:31.725892Z",
          "shell.execute_reply": "2021-04-16T19:35:31.725379Z"
        },
        "colab": {
          "base_uri": "https://localhost:8080/"
        },
        "id": "G3NM9hfHA49P",
        "outputId": "bf1545a2-d6a0-4a0a-811c-b87dd06a7580"
      },
      "outputs": [
        {
          "output_type": "execute_result",
          "data": {
            "text/plain": [
              "array(0.61)"
            ]
          },
          "metadata": {},
          "execution_count": 16
        }
      ],
      "source": [
        "cdf.quantile(0.9638303)"
      ]
    },
    {
      "cell_type": "markdown",
      "metadata": {
        "id": "qrjdodfTA49P"
      },
      "source": [
        "`Cdf` also provides `credible_interval`, which computes a credible interval that contains the given probability:\n"
      ]
    },
    {
      "cell_type": "code",
      "execution_count": 17,
      "metadata": {
        "execution": {
          "iopub.execute_input": "2021-04-16T19:35:31.730655Z",
          "iopub.status.busy": "2021-04-16T19:35:31.730044Z",
          "iopub.status.idle": "2021-04-16T19:35:31.733376Z",
          "shell.execute_reply": "2021-04-16T19:35:31.733908Z"
        },
        "colab": {
          "base_uri": "https://localhost:8080/"
        },
        "id": "g-gbmBWRA49P",
        "outputId": "6c7d2ef1-72ff-4b5e-f345-833c654951d5"
      },
      "outputs": [
        {
          "output_type": "execute_result",
          "data": {
            "text/plain": [
              "array([0.51, 0.61])"
            ]
          },
          "metadata": {},
          "execution_count": 17
        }
      ],
      "source": [
        "cdf.credible_interval(0.9)"
      ]
    },
    {
      "cell_type": "markdown",
      "metadata": {
        "id": "LOoH3EKBA49P"
      },
      "source": [
        "CDFs and PMFs are equivalent in the sense that they contain the\n",
        "same information about the distribution, and you can always convert\n",
        "from one to the other.\n",
        "Given a `Cdf`, you can get the equivalent `Pmf` like this:"
      ]
    },
    {
      "cell_type": "code",
      "execution_count": 18,
      "metadata": {
        "execution": {
          "iopub.execute_input": "2021-04-16T19:35:31.738651Z",
          "iopub.status.busy": "2021-04-16T19:35:31.738024Z",
          "iopub.status.idle": "2021-04-16T19:35:31.740320Z",
          "shell.execute_reply": "2021-04-16T19:35:31.740851Z"
        },
        "id": "S1xdgHV5A49P"
      },
      "outputs": [],
      "source": [
        "pmf = cdf.make_pmf()"
      ]
    },
    {
      "cell_type": "markdown",
      "metadata": {
        "id": "cbMeWvt8A49Q"
      },
      "source": [
        "`make_pmf` uses `np.diff` to compute differences between consecutive cumulative probabilities.\n",
        "\n",
        "One reason `Cdf` objects are useful is that they compute quantiles efficiently.\n",
        "Another is that they make it easy to compute the distribution of a maximum or minimum, as we'll see in the next section."
      ]
    },
    {
      "cell_type": "markdown",
      "metadata": {
        "id": "gfGHwgIIA49Q"
      },
      "source": [
        "## Best Three of Four\n",
        "\n",
        "In *Dungeons & Dragons*, each character has six attributes: strength, intelligence, wisdom, dexterity, constitution, and charisma.\n",
        "\n",
        "새로운 캐릭터를 만들 때는, 플레이어는 각 능력치에 대해 육면체 주사위 4개를 굴린 후 이 중 세 개의 높은 값을 더한다. 예를 들어, 내가 근력을 얻고자 주사위 4개를 굴려서 1, 2, 3, 4가 나왔다면, 내 캐릭터의 근력은 제일 낮은 값 1을 제외한 2, 3, 4의 합인 9이다.\n",
        "\n",
        "As an exercise, let's figure out the distribution of these attributes.\n",
        "Then, for each character, we'll figure out the distribution of their best attribute.\n",
        "\n",
        "I'll import two functions from the previous chapter: `make_die`, which makes a `Pmf` that represents the outcome of rolling a die, and `add_dist_seq`, which takes a sequence of `Pmf` objects and computes the distribution of their sum.\n",
        "\n",
        "Here's a `Pmf` that represents a six-sided die and a sequence with three references to it."
      ]
    },
    {
      "cell_type": "code",
      "execution_count": 19,
      "metadata": {
        "execution": {
          "iopub.execute_input": "2021-04-16T19:35:31.746067Z",
          "iopub.status.busy": "2021-04-16T19:35:31.745270Z",
          "iopub.status.idle": "2021-04-16T19:35:31.748598Z",
          "shell.execute_reply": "2021-04-16T19:35:31.747789Z"
        },
        "id": "CQ2d9vyZA49Q"
      },
      "outputs": [],
      "source": [
        "from utils import make_die\n",
        "\n",
        "die = make_die(6)\n",
        "dice = [die] * 3"
      ]
    },
    {
      "cell_type": "code",
      "source": [
        "dice"
      ],
      "metadata": {
        "colab": {
          "base_uri": "https://localhost:8080/"
        },
        "id": "w-vPiJ58CeQ7",
        "outputId": "a299c728-44f6-47bd-9cd0-da101260676b"
      },
      "execution_count": 20,
      "outputs": [
        {
          "output_type": "execute_result",
          "data": {
            "text/plain": [
              "[1    0.166667\n",
              " 2    0.166667\n",
              " 3    0.166667\n",
              " 4    0.166667\n",
              " 5    0.166667\n",
              " 6    0.166667\n",
              " Name: , dtype: float64, 1    0.166667\n",
              " 2    0.166667\n",
              " 3    0.166667\n",
              " 4    0.166667\n",
              " 5    0.166667\n",
              " 6    0.166667\n",
              " Name: , dtype: float64, 1    0.166667\n",
              " 2    0.166667\n",
              " 3    0.166667\n",
              " 4    0.166667\n",
              " 5    0.166667\n",
              " 6    0.166667\n",
              " Name: , dtype: float64]"
            ]
          },
          "metadata": {},
          "execution_count": 20
        }
      ]
    },
    {
      "cell_type": "markdown",
      "metadata": {
        "id": "--IBaeE2A49Q"
      },
      "source": [
        "세 주사위 결과값의 합의 분포"
      ]
    },
    {
      "cell_type": "code",
      "execution_count": 21,
      "metadata": {
        "execution": {
          "iopub.execute_input": "2021-04-16T19:35:31.755067Z",
          "iopub.status.busy": "2021-04-16T19:35:31.753615Z",
          "iopub.status.idle": "2021-04-16T19:35:31.757421Z",
          "shell.execute_reply": "2021-04-16T19:35:31.757933Z"
        },
        "id": "YuLb3u1SA49Q"
      },
      "outputs": [],
      "source": [
        "from utils import add_dist_seq\n",
        "\n",
        "pmf_3d6 = add_dist_seq(dice)"
      ]
    },
    {
      "cell_type": "markdown",
      "metadata": {
        "id": "kU2LcdPhA49Q"
      },
      "source": [
        "Here's what it looks like:"
      ]
    },
    {
      "cell_type": "code",
      "execution_count": 22,
      "metadata": {
        "execution": {
          "iopub.execute_input": "2021-04-16T19:35:31.762372Z",
          "iopub.status.busy": "2021-04-16T19:35:31.761881Z",
          "iopub.status.idle": "2021-04-16T19:35:31.764211Z",
          "shell.execute_reply": "2021-04-16T19:35:31.763786Z"
        },
        "tags": [],
        "id": "LlUCpxuxA49Q"
      },
      "outputs": [],
      "source": [
        "def decorate_dice(title=''):\n",
        "    decorate(xlabel='Outcome',\n",
        "             ylabel='PMF',\n",
        "             title=title)"
      ]
    },
    {
      "cell_type": "code",
      "execution_count": 23,
      "metadata": {
        "execution": {
          "iopub.execute_input": "2021-04-16T19:35:31.799186Z",
          "iopub.status.busy": "2021-04-16T19:35:31.784859Z",
          "iopub.status.idle": "2021-04-16T19:35:31.931262Z",
          "shell.execute_reply": "2021-04-16T19:35:31.930892Z"
        },
        "tags": [],
        "colab": {
          "base_uri": "https://localhost:8080/",
          "height": 297
        },
        "id": "dqUuI3boA49Q",
        "outputId": "f26cfb87-c623-41e4-f631-48d7e0cf580d"
      },
      "outputs": [
        {
          "output_type": "display_data",
          "data": {
            "text/plain": [
              "<Figure size 432x288 with 1 Axes>"
            ],
            "image/png": "[encoded data removed]"
          },
          "metadata": {
            "needs_background": "light"
          }
        }
      ],
      "source": [
        "pmf_3d6.plot()\n",
        "decorate_dice('Distribution of attributes')"
      ]
    },
    {
      "cell_type": "markdown",
      "metadata": {
        "id": "s359P0YrA49Q"
      },
      "source": [
        "If we roll four dice and add up the best three, computing the distribution of the sum is a bit more complicated.\n",
        "I'll estimate the distribution by simulating 10,000 rolls.\n",
        "\n",
        "First I'll create an array of random values from 1 to 6, with 10,000 rows and 4 columns:"
      ]
    },
    {
      "cell_type": "code",
      "execution_count": 24,
      "metadata": {
        "execution": {
          "iopub.execute_input": "2021-04-16T19:35:31.934466Z",
          "iopub.status.busy": "2021-04-16T19:35:31.934017Z",
          "iopub.status.idle": "2021-04-16T19:35:31.936034Z",
          "shell.execute_reply": "2021-04-16T19:35:31.936379Z"
        },
        "id": "8rCmrT85A49Q"
      },
      "outputs": [],
      "source": [
        "n = 10000\n",
        "a = np.random.randint(1, 7, size=(n, 4))"
      ]
    },
    {
      "cell_type": "markdown",
      "metadata": {
        "id": "7jD6d1h0A49Q"
      },
      "source": [
        "각 행에서 세 개의 높은 값을 찾기 위해, `axis=1` 로 설정해서 새로 정렬하자. 이렇게 하면 각 행에서 낮은 값부터 큰 값으로 값이 정렬된다.der."
      ]
    },
    {
      "cell_type": "code",
      "execution_count": 25,
      "metadata": {
        "execution": {
          "iopub.execute_input": "2021-04-16T19:35:31.939312Z",
          "iopub.status.busy": "2021-04-16T19:35:31.938870Z",
          "iopub.status.idle": "2021-04-16T19:35:31.940846Z",
          "shell.execute_reply": "2021-04-16T19:35:31.941280Z"
        },
        "id": "LaPv9HpmA49Q"
      },
      "outputs": [],
      "source": [
        "a.sort(axis=1)"
      ]
    },
    {
      "cell_type": "markdown",
      "metadata": {
        "id": "dwtP1YfxA49Q"
      },
      "source": [
        "끝의 세 열을 선택하고 이 값을 더한다."
      ]
    },
    {
      "cell_type": "code",
      "execution_count": 26,
      "metadata": {
        "execution": {
          "iopub.execute_input": "2021-04-16T19:35:31.944292Z",
          "iopub.status.busy": "2021-04-16T19:35:31.943874Z",
          "iopub.status.idle": "2021-04-16T19:35:31.945874Z",
          "shell.execute_reply": "2021-04-16T19:35:31.946275Z"
        },
        "id": "W7jp6PzGA49Q"
      },
      "outputs": [],
      "source": [
        "t = a[:, 1:].sum(axis=1)"
      ]
    },
    {
      "cell_type": "markdown",
      "metadata": {
        "id": "j0VW7YC4A49Q"
      },
      "source": [
        "Now `t` is an array with a single column and 10,000 rows.\n",
        "We can compute the PMF of the values in `t` like this:"
      ]
    },
    {
      "cell_type": "code",
      "execution_count": 27,
      "metadata": {
        "execution": {
          "iopub.execute_input": "2021-04-16T19:35:31.950862Z",
          "iopub.status.busy": "2021-04-16T19:35:31.949475Z",
          "iopub.status.idle": "2021-04-16T19:35:31.953994Z",
          "shell.execute_reply": "2021-04-16T19:35:31.953526Z"
        },
        "id": "u855rx9IA49Q"
      },
      "outputs": [],
      "source": [
        "pmf_best3 = Pmf.from_seq(t)"
      ]
    },
    {
      "cell_type": "markdown",
      "metadata": {
        "id": "yrGhcJ7-A49Q"
      },
      "source": [
        "The following figure shows the distribution of the sum of three dice, `pmf_3d6`, and the distribution of the best three out of four, `pmf_best3`."
      ]
    },
    {
      "cell_type": "code",
      "execution_count": 28,
      "metadata": {
        "execution": {
          "iopub.execute_input": "2021-04-16T19:35:31.997678Z",
          "iopub.status.busy": "2021-04-16T19:35:31.996921Z",
          "iopub.status.idle": "2021-04-16T19:35:32.130553Z",
          "shell.execute_reply": "2021-04-16T19:35:32.130960Z"
        },
        "tags": [],
        "colab": {
          "base_uri": "https://localhost:8080/",
          "height": 297
        },
        "id": "3wNUgj1fA49Q",
        "outputId": "3ee1fbf9-d8d8-455c-add3-689f5ca3ee02"
      },
      "outputs": [
        {
          "output_type": "display_data",
          "data": {
            "text/plain": [
              "<Figure size 432x288 with 1 Axes>"
            ],
            "image/png": "[encoded data removed]"
          },
          "metadata": {
            "needs_background": "light"
          }
        }
      ],
      "source": [
        "pmf_3d6.plot(label='sum of 3 dice')\n",
        "pmf_best3.plot(label='best 3 of 4', ls='--')\n",
        "\n",
        "decorate_dice('Distribution of attributes')"
      ]
    },
    {
      "cell_type": "markdown",
      "metadata": {
        "id": "YgejIYC7A49Q"
      },
      "source": [
        "예상했겠지만, 넷 중 높은 값 셋을 고르는 것이 좀 더 높은 값을 내는 경향이 있다.\n",
        "\n",
        "다음으로는 네 주사위 값 중 세 개를 더해서 만든 각 여섯 개의 능력치 중 최댓값의 분포를 찾아보자"
      ]
    },
    {
      "cell_type": "markdown",
      "metadata": {
        "id": "EeqkiuwBA49Q"
      },
      "source": [
        "## Maximum\n",
        "\n",
        "To compute the distribution of a maximum or minimum, we can make good use of the cumulative distribution function.\n",
        "First, I'll compute the `Cdf` of the best three of four distribution:"
      ]
    },
    {
      "cell_type": "code",
      "execution_count": 29,
      "metadata": {
        "execution": {
          "iopub.execute_input": "2021-04-16T19:35:32.134886Z",
          "iopub.status.busy": "2021-04-16T19:35:32.134220Z",
          "iopub.status.idle": "2021-04-16T19:35:32.135956Z",
          "shell.execute_reply": "2021-04-16T19:35:32.136306Z"
        },
        "id": "Lp8oWhOXA49Q"
      },
      "outputs": [],
      "source": [
        "cdf_best3 = pmf_best3.make_cdf()"
      ]
    },
    {
      "cell_type": "markdown",
      "metadata": {
        "id": "PqqMVnjVA49Q"
      },
      "source": [
        "`Cdf(x)`는 `x`보다 같거나 작은 값에 대한 확률의 합임을 기억하자. 즉, 이 분포에서 임의로 고른 값이 `x`보다 같거나 작을 확률이다.\n",
        "\n",
        "이 분포에서 6개의 값을 골랐다고 가정해보자. 모든 6개의 값이 `x`보다 같거나 작을 확률은 `Cdf(x)`를 6 제곱한 값으로, 다음과 같이 구할 수 있다."
      ]
    },
    {
      "cell_type": "code",
      "execution_count": 30,
      "metadata": {
        "execution": {
          "iopub.execute_input": "2021-04-16T19:35:32.141260Z",
          "iopub.status.busy": "2021-04-16T19:35:32.140745Z",
          "iopub.status.idle": "2021-04-16T19:35:32.143280Z",
          "shell.execute_reply": "2021-04-16T19:35:32.143621Z"
        },
        "tags": [],
        "colab": {
          "base_uri": "https://localhost:8080/"
        },
        "id": "iyVqCDrQA49Q",
        "outputId": "783298d6-725e-4cb6-a846-59d26b67dc8b"
      },
      "outputs": [
        {
          "output_type": "execute_result",
          "data": {
            "text/plain": [
              "3     4.096000e-21\n",
              "4     6.321363e-15\n",
              "5     5.289853e-12\n",
              "6     8.372020e-10\n",
              "7     4.261131e-08\n",
              "8     1.534708e-06\n",
              "9     3.516183e-05\n",
              "10    4.576324e-04\n",
              "11    3.411853e-03\n",
              "12    1.809901e-02\n",
              "13    7.100539e-02\n",
              "14    2.016936e-01\n",
              "15    4.351236e-01\n",
              "16    7.094730e-01\n",
              "17    9.044430e-01\n",
              "18    1.000000e+00\n",
              "Name: , dtype: float64"
            ]
          },
          "metadata": {},
          "execution_count": 30
        }
      ],
      "source": [
        "cdf_best3**6"
      ]
    },
    {
      "cell_type": "markdown",
      "metadata": {
        "id": "elz4DXe0A49R"
      },
      "source": [
        "If all 6 values are less than or equal to `x`, that means that their maximum is less than or equal to `x`.\n",
        "So the result is the CDF of their maximum.\n",
        "We can convert it to a `Cdf` object, like this:"
      ]
    },
    {
      "cell_type": "code",
      "execution_count": 31,
      "metadata": {
        "execution": {
          "iopub.execute_input": "2021-04-16T19:35:32.147141Z",
          "iopub.status.busy": "2021-04-16T19:35:32.146607Z",
          "iopub.status.idle": "2021-04-16T19:35:32.148575Z",
          "shell.execute_reply": "2021-04-16T19:35:32.148928Z"
        },
        "id": "SoAgwm_nA49R"
      },
      "outputs": [],
      "source": [
        "from empiricaldist import Cdf\n",
        "\n",
        "cdf_max6 = Cdf(cdf_best3**6)"
      ]
    },
    {
      "cell_type": "markdown",
      "metadata": {
        "tags": [],
        "id": "DCfdajHDA49R"
      },
      "source": [
        "And compute the equivalent `Pmf` like this:"
      ]
    },
    {
      "cell_type": "code",
      "execution_count": 32,
      "metadata": {
        "execution": {
          "iopub.execute_input": "2021-04-16T19:35:32.152335Z",
          "iopub.status.busy": "2021-04-16T19:35:32.151777Z",
          "iopub.status.idle": "2021-04-16T19:35:32.153560Z",
          "shell.execute_reply": "2021-04-16T19:35:32.154071Z"
        },
        "tags": [],
        "id": "kcCdUssYA49R"
      },
      "outputs": [],
      "source": [
        "pmf_max6 = cdf_max6.make_pmf()"
      ]
    },
    {
      "cell_type": "markdown",
      "metadata": {
        "tags": [],
        "id": "64uX8fN-A49R"
      },
      "source": [
        "The following figure shows the result."
      ]
    },
    {
      "cell_type": "code",
      "execution_count": 33,
      "metadata": {
        "execution": {
          "iopub.execute_input": "2021-04-16T19:35:32.174609Z",
          "iopub.status.busy": "2021-04-16T19:35:32.169559Z",
          "iopub.status.idle": "2021-04-16T19:35:32.328490Z",
          "shell.execute_reply": "2021-04-16T19:35:32.328844Z"
        },
        "tags": [],
        "colab": {
          "base_uri": "https://localhost:8080/",
          "height": 297
        },
        "id": "1pxx46r7A49R",
        "outputId": "53746cea-2fb0-42fd-c45c-c3703035a2ad"
      },
      "outputs": [
        {
          "output_type": "display_data",
          "data": {
            "text/plain": [
              "<Figure size 432x288 with 1 Axes>"
            ],
            "image/png": "[encoded data removed]"
          },
          "metadata": {
            "needs_background": "light"
          }
        }
      ],
      "source": [
        "pmf_max6.plot(label='max of 6 attributes')\n",
        "\n",
        "decorate_dice('Distribution of attributes')"
      ]
    },
    {
      "cell_type": "markdown",
      "metadata": {
        "tags": [],
        "id": "m1-loJRRA49R"
      },
      "source": [
        "Most characters have at least one attribute greater than 12; almost 10% of them have an 18."
      ]
    },
    {
      "cell_type": "markdown",
      "metadata": {
        "id": "Bft7628fA49R"
      },
      "source": [
        "The following figure shows the CDFs for the three distributions we have computed."
      ]
    },
    {
      "cell_type": "code",
      "execution_count": 34,
      "metadata": {
        "execution": {
          "iopub.execute_input": "2021-04-16T19:35:32.376448Z",
          "iopub.status.busy": "2021-04-16T19:35:32.371540Z",
          "iopub.status.idle": "2021-04-16T19:35:32.535663Z",
          "shell.execute_reply": "2021-04-16T19:35:32.536011Z"
        },
        "tags": [],
        "colab": {
          "base_uri": "https://localhost:8080/",
          "height": 297
        },
        "id": "bi1e7RQjA49R",
        "outputId": "0c378035-dcbd-4120-d73e-030bffa282d5"
      },
      "outputs": [
        {
          "output_type": "display_data",
          "data": {
            "text/plain": [
              "<Figure size 432x288 with 1 Axes>"
            ],
            "image/png": "[encoded data removed]"
          },
          "metadata": {
            "needs_background": "light"
          }
        }
      ],
      "source": [
        "import matplotlib.pyplot as plt\n",
        "\n",
        "cdf_3d6 = pmf_3d6.make_cdf()\n",
        "cdf_3d6.plot(label='sum of 3 dice')\n",
        "\n",
        "cdf_best3 = pmf_best3.make_cdf()\n",
        "cdf_best3.plot(label='best 3 of 4 dice', ls='--')\n",
        "\n",
        "cdf_max6.plot(label='max of 6 attributes', ls=':')\n",
        "\n",
        "decorate_dice('Distribution of attributes')\n",
        "plt.ylabel('CDF');"
      ]
    },
    {
      "cell_type": "markdown",
      "metadata": {
        "id": "ZyfYJOU7A49R"
      },
      "source": [
        "`Cdf` provides `max_dist`, which does the same computation, so we can also compute the `Cdf` of the maximum like this:"
      ]
    },
    {
      "cell_type": "code",
      "execution_count": 35,
      "metadata": {
        "execution": {
          "iopub.execute_input": "2021-04-16T19:35:32.539561Z",
          "iopub.status.busy": "2021-04-16T19:35:32.539069Z",
          "iopub.status.idle": "2021-04-16T19:35:32.541075Z",
          "shell.execute_reply": "2021-04-16T19:35:32.540695Z"
        },
        "id": "aqd-Z4JfA49R"
      },
      "outputs": [],
      "source": [
        "cdf_max_dist6 = cdf_best3.max_dist(6)"
      ]
    },
    {
      "cell_type": "markdown",
      "metadata": {
        "tags": [],
        "id": "DGOlGtWPA49R"
      },
      "source": [
        "And we can confirm that the differences are small."
      ]
    },
    {
      "cell_type": "code",
      "execution_count": 36,
      "metadata": {
        "execution": {
          "iopub.execute_input": "2021-04-16T19:35:32.544620Z",
          "iopub.status.busy": "2021-04-16T19:35:32.544171Z",
          "iopub.status.idle": "2021-04-16T19:35:32.546496Z",
          "shell.execute_reply": "2021-04-16T19:35:32.546875Z"
        },
        "tags": [],
        "colab": {
          "base_uri": "https://localhost:8080/"
        },
        "id": "2_OVRmPCA49R",
        "outputId": "05561e83-2d78-4e89-ed71-1ba3825baab3"
      },
      "outputs": [
        {
          "output_type": "execute_result",
          "data": {
            "text/plain": [
              "True"
            ]
          },
          "metadata": {},
          "execution_count": 36
        }
      ],
      "source": [
        "np.allclose(cdf_max_dist6, cdf_max6)"
      ]
    },
    {
      "cell_type": "markdown",
      "metadata": {
        "id": "wslDmZkEA49R"
      },
      "source": [
        "In the next section we'll find the distribution of the minimum.\n",
        "The process is similar, but a little more complicated.\n",
        "See if you can figure it out before you go on."
      ]
    },
    {
      "cell_type": "markdown",
      "metadata": {
        "id": "aPUzOjaOA49R"
      },
      "source": [
        "## Minimum\n",
        "\n",
        "In the previous section we computed the distribution of a character's best attribute.\n",
        "\b최저 능력치 분포를 알아볼 차례이다.\n",
        "\n",
        "To compute the distribution of the minimum, we'll use the **complementary CDF**, which we can compute like this:"
      ]
    },
    {
      "cell_type": "code",
      "execution_count": 37,
      "metadata": {
        "execution": {
          "iopub.execute_input": "2021-04-16T19:35:32.550107Z",
          "iopub.status.busy": "2021-04-16T19:35:32.549668Z",
          "iopub.status.idle": "2021-04-16T19:35:32.551795Z",
          "shell.execute_reply": "2021-04-16T19:35:32.552222Z"
        },
        "id": "5GeEL7UHA49R"
      },
      "outputs": [],
      "source": [
        "prob_gt = 1 - cdf_best3"
      ]
    },
    {
      "cell_type": "markdown",
      "metadata": {
        "id": "EyYh97_0A49R"
      },
      "source": [
        "변수 이름에서 알 수 있듯 complementary CDF는 `x` 보다 큰 분포상의 값에 대한 확률이다. 모든 6개의 값이 `x`를 초과할 확률은 다음과 같다."
      ]
    },
    {
      "cell_type": "code",
      "execution_count": 38,
      "metadata": {
        "execution": {
          "iopub.execute_input": "2021-04-16T19:35:32.556052Z",
          "iopub.status.busy": "2021-04-16T19:35:32.555455Z",
          "iopub.status.idle": "2021-04-16T19:35:32.557352Z",
          "shell.execute_reply": "2021-04-16T19:35:32.557778Z"
        },
        "id": "3gbJ_RXNA49R"
      },
      "outputs": [],
      "source": [
        "prob_gt6 = prob_gt**6"
      ]
    },
    {
      "cell_type": "markdown",
      "metadata": {
        "id": "USROPmt8A49R"
      },
      "source": [
        "만약 6개 속성값 모두가 `x`를 초과한다면, 최솟값 역시 `x`를 초과하므로 `prob_gt6`은 최소값의 complementary CDF가 된다.즉, 다음과 같이 최소값의 CDF를 구할 수 있다."
      ]
    },
    {
      "cell_type": "code",
      "execution_count": 39,
      "metadata": {
        "execution": {
          "iopub.execute_input": "2021-04-16T19:35:32.561848Z",
          "iopub.status.busy": "2021-04-16T19:35:32.561049Z",
          "iopub.status.idle": "2021-04-16T19:35:32.562922Z",
          "shell.execute_reply": "2021-04-16T19:35:32.563376Z"
        },
        "id": "oJQxT-63A49R"
      },
      "outputs": [],
      "source": [
        "prob_le6 = 1 - prob_gt6"
      ]
    },
    {
      "cell_type": "markdown",
      "metadata": {
        "id": "qOPFl5qqA49S"
      },
      "source": [
        "The result is a Pandas `Series` that represents the CDF of the minimum of six attributes.  We can put those values in a `Cdf` object like this:"
      ]
    },
    {
      "cell_type": "code",
      "execution_count": 40,
      "metadata": {
        "execution": {
          "iopub.execute_input": "2021-04-16T19:35:32.566892Z",
          "iopub.status.busy": "2021-04-16T19:35:32.566369Z",
          "iopub.status.idle": "2021-04-16T19:35:32.568328Z",
          "shell.execute_reply": "2021-04-16T19:35:32.568768Z"
        },
        "id": "0PMkoe3EA49S"
      },
      "outputs": [],
      "source": [
        "cdf_min6 = Cdf(prob_le6)"
      ]
    },
    {
      "cell_type": "markdown",
      "metadata": {
        "id": "o15Vl7aQA49S"
      },
      "source": [
        "Here's what it looks like, along with the distribution of the maximum."
      ]
    },
    {
      "cell_type": "code",
      "execution_count": 41,
      "metadata": {
        "execution": {
          "iopub.execute_input": "2021-04-16T19:35:32.613126Z",
          "iopub.status.busy": "2021-04-16T19:35:32.604907Z",
          "iopub.status.idle": "2021-04-16T19:35:32.762095Z",
          "shell.execute_reply": "2021-04-16T19:35:32.761655Z"
        },
        "tags": [],
        "colab": {
          "base_uri": "https://localhost:8080/",
          "height": 297
        },
        "id": "VdpSXkMFA49S",
        "outputId": "3a062b66-5ce0-435f-b88f-bce5cb3fe317"
      },
      "outputs": [
        {
          "output_type": "display_data",
          "data": {
            "text/plain": [
              "<Figure size 432x288 with 1 Axes>"
            ],
            "image/png": "[encoded data removed]"
          },
          "metadata": {
            "needs_background": "light"
          }
        }
      ],
      "source": [
        "cdf_min6.plot(color='C4', label='minimum of 6')\n",
        "cdf_max6.plot(color='C2', label='maximum of 6', ls=':')\n",
        "decorate_dice('Minimum and maximum of six attributes')\n",
        "plt.ylabel('CDF');"
      ]
    },
    {
      "cell_type": "markdown",
      "metadata": {
        "id": "sw3gGtUVA49S"
      },
      "source": [
        "`Cdf` provides `min_dist`, which does the same computation, so we can also compute the `Cdf` of the minimum like this:"
      ]
    },
    {
      "cell_type": "code",
      "execution_count": 42,
      "metadata": {
        "execution": {
          "iopub.execute_input": "2021-04-16T19:35:32.766536Z",
          "iopub.status.busy": "2021-04-16T19:35:32.766111Z",
          "iopub.status.idle": "2021-04-16T19:35:32.767892Z",
          "shell.execute_reply": "2021-04-16T19:35:32.768318Z"
        },
        "id": "CpcA9BxhA49S"
      },
      "outputs": [],
      "source": [
        "cdf_min_dist6 = cdf_best3.min_dist(6)"
      ]
    },
    {
      "cell_type": "markdown",
      "metadata": {
        "id": "mlPOOAQvA49S"
      },
      "source": [
        "And we can confirm that the differences are small."
      ]
    },
    {
      "cell_type": "code",
      "execution_count": 43,
      "metadata": {
        "execution": {
          "iopub.execute_input": "2021-04-16T19:35:32.772657Z",
          "iopub.status.busy": "2021-04-16T19:35:32.772097Z",
          "iopub.status.idle": "2021-04-16T19:35:32.774638Z",
          "shell.execute_reply": "2021-04-16T19:35:32.775069Z"
        },
        "colab": {
          "base_uri": "https://localhost:8080/"
        },
        "id": "RvzuI4gWA49S",
        "outputId": "2842fdd6-2986-425b-c289-c846792a77af"
      },
      "outputs": [
        {
          "output_type": "execute_result",
          "data": {
            "text/plain": [
              "True"
            ]
          },
          "metadata": {},
          "execution_count": 43
        }
      ],
      "source": [
        "np.allclose(cdf_min_dist6, cdf_min6)"
      ]
    },
    {
      "cell_type": "markdown",
      "metadata": {
        "id": "kwLCnCv_A49S"
      },
      "source": [
        "In the exercises at the end of this chapter, you'll use distributions of the minimum and maximum to do Bayesian inference.\n",
        "But first we'll see what happens when we mix distributions."
      ]
    },
    {
      "cell_type": "markdown",
      "metadata": {
        "id": "jeJzNTAAA49S"
      },
      "source": [
        "## Mixture\n",
        "\n",
        "In this section I'll show how we can compute a distribution which is a mixture of other distributions.\n",
        "I'll explain what that means with some simple examples;\n",
        "then, more usefully, we'll see how these mixtures are used to make predictions.\n",
        "\n",
        "Here's another example inspired by *Dungeons & Dragons*:\n",
        "\n",
        "* \b당신의 캐릭터가 한 손에는 단도로, 다른 손에는 단검으로 무장했다고 가정하자.\n",
        "\n",
        "* 각 단계에서, 가지고 있는 두 개의 무기 중 임의로 하나를 골라 괴물을 공격한다.\n",
        "\n",
        "* 단도는 사면체 주사위를 한 번 굴려서 나온 결과만큼의 피해를 주고, 단검은 육면체 주사위를 한 번 굴린 결과만큼의 피해를 준다.\n",
        "\n",
        "이 때 각 단계에서 주게 되는 피해의 분포는 어떻게 될까?\n",
        "\n",
        "이 질문에 답하기 위해, 사면체 주사위와 육면체 주사위를 나타내는 `Pmf`를 만들어보자."
      ]
    },
    {
      "cell_type": "code",
      "execution_count": 44,
      "metadata": {
        "execution": {
          "iopub.execute_input": "2021-04-16T19:35:32.779457Z",
          "iopub.status.busy": "2021-04-16T19:35:32.778936Z",
          "iopub.status.idle": "2021-04-16T19:35:32.781650Z",
          "shell.execute_reply": "2021-04-16T19:35:32.781084Z"
        },
        "id": "oHk8bk5yA49S"
      },
      "outputs": [],
      "source": [
        "d4 = make_die(4)\n",
        "d6 = make_die(6)"
      ]
    },
    {
      "cell_type": "markdown",
      "metadata": {
        "id": "45Q7eVxGA49S"
      },
      "source": [
        "Now, let's compute the probability you inflict 1 point of damage.\n",
        "\n",
        "* 단도로 공격한 경우의 확률은 1/4이다.\n",
        "\n",
        "* 단검으로 공격한 경우는 1/6이다.\n",
        "\n",
        "각 무기를 고를 확률은 1/2이므로, 총 확률은 둘의 평균이다."
      ]
    },
    {
      "cell_type": "code",
      "execution_count": 45,
      "metadata": {
        "execution": {
          "iopub.execute_input": "2021-04-16T19:35:32.786557Z",
          "iopub.status.busy": "2021-04-16T19:35:32.785642Z",
          "iopub.status.idle": "2021-04-16T19:35:32.788922Z",
          "shell.execute_reply": "2021-04-16T19:35:32.789450Z"
        },
        "colab": {
          "base_uri": "https://localhost:8080/"
        },
        "id": "xDWSFmoDA49S",
        "outputId": "c0ce42e4-5f8d-481c-8645-ae0d3413fe8e"
      },
      "outputs": [
        {
          "output_type": "execute_result",
          "data": {
            "text/plain": [
              "0.20833333333333331"
            ]
          },
          "metadata": {},
          "execution_count": 45
        }
      ],
      "source": [
        "prob_1 = (d4(1) + d6(1)) / 2\n",
        "prob_1"
      ]
    },
    {
      "cell_type": "markdown",
      "metadata": {
        "id": "jX0rIaAGA49S"
      },
      "source": [
        "2, 3, 4가 나올 확률 역시 이와 동일하지만, 5와 6의 경우는 다르다. 이 두 값은 사면체 주사위에서는 나올 수 없기 때문이다."
      ]
    },
    {
      "cell_type": "code",
      "execution_count": 46,
      "metadata": {
        "execution": {
          "iopub.execute_input": "2021-04-16T19:35:32.794121Z",
          "iopub.status.busy": "2021-04-16T19:35:32.793553Z",
          "iopub.status.idle": "2021-04-16T19:35:32.796490Z",
          "shell.execute_reply": "2021-04-16T19:35:32.796042Z"
        },
        "colab": {
          "base_uri": "https://localhost:8080/"
        },
        "id": "Zs9vM4DnA49S",
        "outputId": "5b92cbb3-bba8-45b4-9758-88856a135cad"
      },
      "outputs": [
        {
          "output_type": "execute_result",
          "data": {
            "text/plain": [
              "0.08333333333333333"
            ]
          },
          "metadata": {},
          "execution_count": 46
        }
      ],
      "source": [
        "prob_6 = (d4(6) + d6(6)) / 2\n",
        "prob_6"
      ]
    },
    {
      "cell_type": "markdown",
      "metadata": {
        "id": "bhi9SEqbA49S"
      },
      "source": [
        "이 혼합 분포를 구하려면, 가능한 결괏값에 대해 반복적으로 계산해서 확률을 구하면 된다. 하지만 여기서는 동일한 연산을 `+` 연산자를 사용한다."
      ]
    },
    {
      "cell_type": "code",
      "execution_count": 47,
      "metadata": {
        "execution": {
          "iopub.execute_input": "2021-04-16T19:35:32.802178Z",
          "iopub.status.busy": "2021-04-16T19:35:32.801710Z",
          "iopub.status.idle": "2021-04-16T19:35:32.803562Z",
          "shell.execute_reply": "2021-04-16T19:35:32.803939Z"
        },
        "id": "nGXUhDdrA49S"
      },
      "outputs": [],
      "source": [
        "mix1 = (d4 + d6) / 2"
      ]
    },
    {
      "cell_type": "markdown",
      "metadata": {
        "id": "Pkhmfv_rA49S"
      },
      "source": [
        "Here's what the mixture of these distributions looks like."
      ]
    },
    {
      "cell_type": "code",
      "execution_count": 48,
      "metadata": {
        "execution": {
          "iopub.execute_input": "2021-04-16T19:35:32.828505Z",
          "iopub.status.busy": "2021-04-16T19:35:32.820367Z",
          "iopub.status.idle": "2021-04-16T19:35:32.966618Z",
          "shell.execute_reply": "2021-04-16T19:35:32.966177Z"
        },
        "tags": [],
        "colab": {
          "base_uri": "https://localhost:8080/",
          "height": 297
        },
        "id": "YnprF3LmA49S",
        "outputId": "d3733bcd-4b43-40cc-ce7c-ffd172ad6b54"
      },
      "outputs": [
        {
          "output_type": "display_data",
          "data": {
            "text/plain": [
              "<Figure size 432x288 with 1 Axes>"
            ],
            "image/png": "[encoded data removed]"
          },
          "metadata": {
            "needs_background": "light"
          }
        }
      ],
      "source": [
        "mix1.bar(alpha=0.7)\n",
        "decorate_dice('Mixture of one 4-sided and one 6-sided die')"
      ]
    },
    {
      "cell_type": "markdown",
      "metadata": {
        "id": "M26bhCXPA49S"
      },
      "source": [
        "이제 세 마리의 괴물과 전투하고 있다고 가정하자.\n",
        "\n",
        "* 한 마리는 곤봉을 들고 있고, 이는 사면체 주사위 하나의 결과에 따른 피해를 준다.\n",
        "* 한 마리는 철퇴를 들고 있고, 이는 육면체 주사위 하나의 결과에 따른 피해를 준다.\n",
        "* 나머지 한 마리는 육척봉을 들고 있고, 이 경우도 육면체 주사위 하나의 결과에 따른 피해를 준다.\n",
        "\n",
        "매 회 이 몬스터 중 하나에게 공격당하게 된다. 이 몬스터들이 주는 피해의 분포를 찾기 위해 다음과 같이 이 분포에 대해 가중 평균을 구해보자."
      ]
    },
    {
      "cell_type": "code",
      "execution_count": 49,
      "metadata": {
        "execution": {
          "iopub.execute_input": "2021-04-16T19:35:32.971304Z",
          "iopub.status.busy": "2021-04-16T19:35:32.970806Z",
          "iopub.status.idle": "2021-04-16T19:35:32.972845Z",
          "shell.execute_reply": "2021-04-16T19:35:32.972416Z"
        },
        "id": "1QhKQveOA49T"
      },
      "outputs": [],
      "source": [
        "mix2 = (d4 + 2*d6) / 3"
      ]
    },
    {
      "cell_type": "markdown",
      "metadata": {
        "id": "H9KoPQlsA49T"
      },
      "source": [
        "This distribution is a mixture of one 4-sided die and two 6-sided dice.\n",
        "Here's what it looks like."
      ]
    },
    {
      "cell_type": "code",
      "execution_count": 50,
      "metadata": {
        "execution": {
          "iopub.execute_input": "2021-04-16T19:35:32.995932Z",
          "iopub.status.busy": "2021-04-16T19:35:32.995150Z",
          "iopub.status.idle": "2021-04-16T19:35:33.117724Z",
          "shell.execute_reply": "2021-04-16T19:35:33.117207Z"
        },
        "tags": [],
        "colab": {
          "base_uri": "https://localhost:8080/",
          "height": 297
        },
        "id": "tHfFUNBIA49T",
        "outputId": "2f1ab47d-9da1-4929-c39f-885aa4d74258"
      },
      "outputs": [
        {
          "output_type": "display_data",
          "data": {
            "text/plain": [
              "<Figure size 432x288 with 1 Axes>"
            ],
            "image/png": "[encoded data removed]"
          },
          "metadata": {
            "needs_background": "light"
          }
        }
      ],
      "source": [
        "mix2.bar(alpha=0.7)\n",
        "decorate_dice('Mixture of one 4-sided and two 6-sided die')"
      ]
    },
    {
      "cell_type": "markdown",
      "metadata": {
        "id": "Dm-8VawBA49T"
      },
      "source": [
        "In this section we used the `+` operator, which adds the probabilities in the distributions, not to be confused with `Pmf.add_dist`, which computes the distribution of the sum of the distributions.\n",
        "\n",
        "To demonstrate the difference, I'll use `Pmf.add_dist` to compute the distribution of the total damage done per round, which is the sum of the two mixtures:"
      ]
    },
    {
      "cell_type": "code",
      "execution_count": 51,
      "metadata": {
        "execution": {
          "iopub.execute_input": "2021-04-16T19:35:33.122025Z",
          "iopub.status.busy": "2021-04-16T19:35:33.121481Z",
          "iopub.status.idle": "2021-04-16T19:35:33.123747Z",
          "shell.execute_reply": "2021-04-16T19:35:33.123236Z"
        },
        "id": "Kbf79RonA49T"
      },
      "outputs": [],
      "source": [
        "total_damage = Pmf.add_dist(mix1, mix2)"
      ]
    },
    {
      "cell_type": "markdown",
      "metadata": {
        "id": "AOhtX5pnA49T"
      },
      "source": [
        "And here's what it looks like."
      ]
    },
    {
      "cell_type": "code",
      "execution_count": 52,
      "metadata": {
        "execution": {
          "iopub.execute_input": "2021-04-16T19:35:33.139228Z",
          "iopub.status.busy": "2021-04-16T19:35:33.136581Z",
          "iopub.status.idle": "2021-04-16T19:35:33.278941Z",
          "shell.execute_reply": "2021-04-16T19:35:33.279427Z"
        },
        "colab": {
          "base_uri": "https://localhost:8080/",
          "height": 297
        },
        "id": "sburz1dbA49T",
        "outputId": "900041fe-406d-4545-c0b3-9d3f7ff21ac8"
      },
      "outputs": [
        {
          "output_type": "display_data",
          "data": {
            "text/plain": [
              "<Figure size 432x288 with 1 Axes>"
            ],
            "image/png": "[encoded data removed]"
          },
          "metadata": {
            "needs_background": "light"
          }
        }
      ],
      "source": [
        "total_damage.bar(alpha=0.7)\n",
        "decorate_dice('Total damage inflicted by both parties')"
      ]
    },
    {
      "cell_type": "markdown",
      "metadata": {
        "id": "8CEEmNwaA49T"
      },
      "source": [
        "## General Mixtures\n",
        "\n",
        "In the previous section we computed mixtures in an *ad hoc* way.\n",
        "Now we'll see a more general solution.\n",
        "In future chapters, we'll use this solution to generate predictions for real-world problems, not just role-playing games.\n",
        "But if you'll bear with me, we'll continue the previous example for one more section.\n",
        "\n",
        "세 마리의 괴물이 추가로 전투에 참여했다. 각 괴물을 팔면체 주사위를 한 번 굴린 결과만큼의 피해를 주는 전투용 도끼를 가지고 있다. 여전히 회당 임의로 선택된 한 마리의 괴물만 공격하므로, 이 때 몬스터에 의한 피해는 다음의 혼합이다.\n",
        "\n",
        "* One 4-sided die,\n",
        "* Two 6-sided dice, and\n",
        "* Three 8-sided dice.\n",
        "\n",
        "I'll use a `Pmf` to represent a randomly chosen monster:"
      ]
    },
    {
      "cell_type": "code",
      "execution_count": 53,
      "metadata": {
        "execution": {
          "iopub.execute_input": "2021-04-16T19:35:33.286725Z",
          "iopub.status.busy": "2021-04-16T19:35:33.284730Z",
          "iopub.status.idle": "2021-04-16T19:35:33.290910Z",
          "shell.execute_reply": "2021-04-16T19:35:33.290555Z"
        },
        "colab": {
          "base_uri": "https://localhost:8080/",
          "height": 143
        },
        "id": "BvDYPDqHA49T",
        "outputId": "2142f9e6-4b30-4257-f2f0-6e5827e9552b"
      },
      "outputs": [
        {
          "output_type": "execute_result",
          "data": {
            "text/plain": [
              "4    0.166667\n",
              "6    0.333333\n",
              "8    0.500000\n",
              "Name: , dtype: float64"
            ],
            "text/html": [
              "<div>\n",
              "<style scoped>\n",
              "    .dataframe tbody tr th:only-of-type {\n",
              "        vertical-align: middle;\n",
              "    }\n",
              "\n",
              "    .dataframe tbody tr th {\n",
              "        vertical-align: top;\n",
              "    }\n",
              "\n",
              "    .dataframe thead th {\n",
              "        text-align: right;\n",
              "    }\n",
              "</style>\n",
              "<table border=\"1\" class=\"dataframe\">\n",
              "  <thead>\n",
              "    <tr style=\"text-align: right;\">\n",
              "      <th></th>\n",
              "      <th>probs</th>\n",
              "    </tr>\n",
              "  </thead>\n",
              "  <tbody>\n",
              "    <tr>\n",
              "      <th>4</th>\n",
              "      <td>0.166667</td>\n",
              "    </tr>\n",
              "    <tr>\n",
              "      <th>6</th>\n",
              "      <td>0.333333</td>\n",
              "    </tr>\n",
              "    <tr>\n",
              "      <th>8</th>\n",
              "      <td>0.500000</td>\n",
              "    </tr>\n",
              "  </tbody>\n",
              "</table>\n",
              "</div>"
            ]
          },
          "metadata": {},
          "execution_count": 53
        }
      ],
      "source": [
        "hypos = [4,6,8]\n",
        "counts = [1,2,3]\n",
        "pmf_dice = Pmf(counts, hypos)\n",
        "pmf_dice.normalize()\n",
        "pmf_dice"
      ]
    },
    {
      "cell_type": "markdown",
      "metadata": {
        "id": "Ord_v_odA49T"
      },
      "source": [
        "이 분포는 주사위 종류와 각 주사위를 굴릴 확률을 나타낸다. 예를 들어, 여섯 괴물 중 한 마리가 단도를 들고 있으므로, 사면체 주사위를 굴릴 확률은 1/6이다.\n",
        "\n",
        "Next I'll make a sequence of `Pmf` objects to represent the dice:"
      ]
    },
    {
      "cell_type": "code",
      "execution_count": 54,
      "metadata": {
        "execution": {
          "iopub.execute_input": "2021-04-16T19:35:33.294783Z",
          "iopub.status.busy": "2021-04-16T19:35:33.294222Z",
          "iopub.status.idle": "2021-04-16T19:35:33.295894Z",
          "shell.execute_reply": "2021-04-16T19:35:33.296242Z"
        },
        "id": "LKlwGpnhA49T"
      },
      "outputs": [],
      "source": [
        "dice = [make_die(sides) for sides in hypos]"
      ]
    },
    {
      "cell_type": "markdown",
      "metadata": {
        "id": "uqdfoSOPA49T"
      },
      "source": [
        "To compute the distribution of the mixture, I'll compute the weighted average of the dice, using the probabilities in `pmf_dice` as the weights.\n",
        "\n",
        "To express this computation concisely, it is convenient to put the distributions into a Pandas `DataFrame`:"
      ]
    },
    {
      "cell_type": "code",
      "execution_count": 55,
      "metadata": {
        "execution": {
          "iopub.execute_input": "2021-04-16T19:35:33.300969Z",
          "iopub.status.busy": "2021-04-16T19:35:33.300520Z",
          "iopub.status.idle": "2021-04-16T19:35:33.309423Z",
          "shell.execute_reply": "2021-04-16T19:35:33.309778Z"
        },
        "colab": {
          "base_uri": "https://localhost:8080/",
          "height": 143
        },
        "id": "92rpcczWA49T",
        "outputId": "c22bba38-67cb-466e-9a1f-353bfd8d5350"
      },
      "outputs": [
        {
          "output_type": "execute_result",
          "data": {
            "text/plain": [
              "         1         2         3         4         5         6      7      8\n",
              "  0.250000  0.250000  0.250000  0.250000       NaN       NaN    NaN    NaN\n",
              "  0.166667  0.166667  0.166667  0.166667  0.166667  0.166667    NaN    NaN\n",
              "  0.125000  0.125000  0.125000  0.125000  0.125000  0.125000  0.125  0.125"
            ],
            "text/html": [
              "\n",
              "  <div id=\"df-f07e708e-9c9b-4871-b28e-34c60ee1b30a\">\n",
              "    <div class=\"colab-df-container\">\n",
              "      <div>\n",
              "<style scoped>\n",
              "    .dataframe tbody tr th:only-of-type {\n",
              "        vertical-align: middle;\n",
              "    }\n",
              "\n",
              "    .dataframe tbody tr th {\n",
              "        vertical-align: top;\n",
              "    }\n",
              "\n",
              "    .dataframe thead th {\n",
              "        text-align: right;\n",
              "    }\n",
              "</style>\n",
              "<table border=\"1\" class=\"dataframe\">\n",
              "  <thead>\n",
              "    <tr style=\"text-align: right;\">\n",
              "      <th></th>\n",
              "      <th>1</th>\n",
              "      <th>2</th>\n",
              "      <th>3</th>\n",
              "      <th>4</th>\n",
              "      <th>5</th>\n",
              "      <th>6</th>\n",
              "      <th>7</th>\n",
              "      <th>8</th>\n",
              "    </tr>\n",
              "  </thead>\n",
              "  <tbody>\n",
              "    <tr>\n",
              "      <th></th>\n",
              "      <td>0.250000</td>\n",
              "      <td>0.250000</td>\n",
              "      <td>0.250000</td>\n",
              "      <td>0.250000</td>\n",
              "      <td>NaN</td>\n",
              "      <td>NaN</td>\n",
              "      <td>NaN</td>\n",
              "      <td>NaN</td>\n",
              "    </tr>\n",
              "    <tr>\n",
              "      <th></th>\n",
              "      <td>0.166667</td>\n",
              "      <td>0.166667</td>\n",
              "      <td>0.166667</td>\n",
              "      <td>0.166667</td>\n",
              "      <td>0.166667</td>\n",
              "      <td>0.166667</td>\n",
              "      <td>NaN</td>\n",
              "      <td>NaN</td>\n",
              "    </tr>\n",
              "    <tr>\n",
              "      <th></th>\n",
              "      <td>0.125000</td>\n",
              "      <td>0.125000</td>\n",
              "      <td>0.125000</td>\n",
              "      <td>0.125000</td>\n",
              "      <td>0.125000</td>\n",
              "      <td>0.125000</td>\n",
              "      <td>0.125</td>\n",
              "      <td>0.125</td>\n",
              "    </tr>\n",
              "  </tbody>\n",
              "</table>\n",
              "</div>\n",
              "      <button class=\"colab-df-convert\" onclick=\"convertToInteractive('df-f07e708e-9c9b-4871-b28e-34c60ee1b30a')\"\n",
              "              title=\"Convert this dataframe to an interactive table.\"\n",
              "              style=\"display:none;\">\n",
              "        \n",
              "  <svg xmlns=\"http://www.w3.org/2000/svg\" height=\"24px\"viewBox=\"0 0 24 24\"\n",
              "       width=\"24px\">\n",
              "    <path d=\"M0 0h24v24H0V0z\" fill=\"none\"/>\n",
              "    <path d=\"M18.56 5.44l.94 2.06.94-2.06 2.06-.94-2.06-.94-.94-2.06-.94 2.06-2.06.94zm-11 1L8.5 8.5l.94-2.06 2.06-.94-2.06-.94L8.5 2.5l-.94 2.06-2.06.94zm10 10l.94 2.06.94-2.06 2.06-.94-2.06-.94-.94-2.06-.94 2.06-2.06.94z\"/><path d=\"M17.41 7.96l-1.37-1.37c-.4-.4-.92-.59-1.43-.59-.52 0-1.04.2-1.43.59L10.3 9.45l-7.72 7.72c-.78.78-.78 2.05 0 2.83L4 21.41c.39.39.9.59 1.41.59.51 0 1.02-.2 1.41-.59l7.78-7.78 2.81-2.81c.8-.78.8-2.07 0-2.86zM5.41 20L4 18.59l7.72-7.72 1.47 1.35L5.41 20z\"/>\n",
              "  </svg>\n",
              "      </button>\n",
              "      \n",
              "  <style>\n",
              "    .colab-df-container {\n",
              "      display:flex;\n",
              "      flex-wrap:wrap;\n",
              "      gap: 12px;\n",
              "    }\n",
              "\n",
              "    .colab-df-convert {\n",
              "      background-color: #E8F0FE;\n",
              "      border: none;\n",
              "      border-radius: 50%;\n",
              "      cursor: pointer;\n",
              "      display: none;\n",
              "      fill: #1967D2;\n",
              "      height: 32px;\n",
              "      padding: 0 0 0 0;\n",
              "      width: 32px;\n",
              "    }\n",
              "\n",
              "    .colab-df-convert:hover {\n",
              "      background-color: #E2EBFA;\n",
              "      box-shadow: 0px 1px 2px rgba(60, 64, 67, 0.3), 0px 1px 3px 1px rgba(60, 64, 67, 0.15);\n",
              "      fill: #174EA6;\n",
              "    }\n",
              "\n",
              "    [theme=dark] .colab-df-convert {\n",
              "      background-color: #3B4455;\n",
              "      fill: #D2E3FC;\n",
              "    }\n",
              "\n",
              "    [theme=dark] .colab-df-convert:hover {\n",
              "      background-color: #434B5C;\n",
              "      box-shadow: 0px 1px 3px 1px rgba(0, 0, 0, 0.15);\n",
              "      filter: drop-shadow(0px 1px 2px rgba(0, 0, 0, 0.3));\n",
              "      fill: #FFFFFF;\n",
              "    }\n",
              "  </style>\n",
              "\n",
              "      <script>\n",
              "        const buttonEl =\n",
              "          document.querySelector('#df-f07e708e-9c9b-4871-b28e-34c60ee1b30a button.colab-df-convert');\n",
              "        buttonEl.style.display =\n",
              "          google.colab.kernel.accessAllowed ? 'block' : 'none';\n",
              "\n",
              "        async function convertToInteractive(key) {\n",
              "          const element = document.querySelector('#df-f07e708e-9c9b-4871-b28e-34c60ee1b30a');\n",
              "          const dataTable =\n",
              "            await google.colab.kernel.invokeFunction('convertToInteractive',\n",
              "                                                     [key], {});\n",
              "          if (!dataTable) return;\n",
              "\n",
              "          const docLinkHtml = 'Like what you see? Visit the ' +\n",
              "            '<a target=\"_blank\" href=https://colab.research.google.com/notebooks/data_table.ipynb>data table notebook</a>'\n",
              "            + ' to learn more about interactive tables.';\n",
              "          element.innerHTML = '';\n",
              "          dataTable['output_type'] = 'display_data';\n",
              "          await google.colab.output.renderOutput(dataTable, element);\n",
              "          const docLink = document.createElement('div');\n",
              "          docLink.innerHTML = docLinkHtml;\n",
              "          element.appendChild(docLink);\n",
              "        }\n",
              "      </script>\n",
              "    </div>\n",
              "  </div>\n",
              "  "
            ]
          },
          "metadata": {},
          "execution_count": 55
        }
      ],
      "source": [
        "import pandas as pd\n",
        "\n",
        "pd.DataFrame(dice)"
      ]
    },
    {
      "cell_type": "markdown",
      "metadata": {
        "id": "-U2gGPjkA49T"
      },
      "source": [
        "The result is a `DataFrame` with one row for each distribution and one column for each possible outcome.\n",
        "Not all rows are the same length, so Pandas fills the extra spaces with the special value `NaN`, which stands for \"not a number\".\n",
        "We can use `fillna` to replace the `NaN` values with 0."
      ]
    },
    {
      "cell_type": "raw",
      "metadata": {
        "execution": {
          "iopub.execute_input": "2021-04-12T15:01:40.666810Z",
          "iopub.status.busy": "2021-04-12T15:01:40.666262Z",
          "iopub.status.idle": "2021-04-12T15:01:40.669604Z",
          "shell.execute_reply": "2021-04-12T15:01:40.669178Z"
        },
        "id": "wEbhuGI9A49T"
      },
      "source": [
        "pd.DataFrame(dice).fillna(0)"
      ]
    },
    {
      "cell_type": "markdown",
      "metadata": {
        "id": "bLOqm4IbA49T"
      },
      "source": [
        "The next step is to multiply each row by the probabilities in `pmf_dice`, which turns out to be easier if we transpose the matrix so the distributions run down the columns rather than across the rows:"
      ]
    },
    {
      "cell_type": "code",
      "execution_count": 56,
      "metadata": {
        "execution": {
          "iopub.execute_input": "2021-04-16T19:35:33.314949Z",
          "iopub.status.busy": "2021-04-16T19:35:33.314409Z",
          "iopub.status.idle": "2021-04-16T19:35:33.316129Z",
          "shell.execute_reply": "2021-04-16T19:35:33.316499Z"
        },
        "id": "vOpM1jZfA49T"
      },
      "outputs": [],
      "source": [
        "df = pd.DataFrame(dice).fillna(0).transpose()"
      ]
    },
    {
      "cell_type": "code",
      "execution_count": 57,
      "metadata": {
        "execution": {
          "iopub.execute_input": "2021-04-16T19:35:33.324161Z",
          "iopub.status.busy": "2021-04-16T19:35:33.323375Z",
          "iopub.status.idle": "2021-04-16T19:35:33.326601Z",
          "shell.execute_reply": "2021-04-16T19:35:33.326987Z"
        },
        "tags": [],
        "colab": {
          "base_uri": "https://localhost:8080/",
          "height": 283
        },
        "id": "_qpWPgHeA49T",
        "outputId": "fd925f37-40c7-4fb6-c1de-1d76af63eb4b"
      },
      "outputs": [
        {
          "output_type": "execute_result",
          "data": {
            "text/plain": [
              "                        \n",
              "1  0.25  0.166667  0.125\n",
              "2  0.25  0.166667  0.125\n",
              "3  0.25  0.166667  0.125\n",
              "4  0.25  0.166667  0.125\n",
              "5  0.00  0.166667  0.125\n",
              "6  0.00  0.166667  0.125\n",
              "7  0.00  0.000000  0.125\n",
              "8  0.00  0.000000  0.125"
            ],
            "text/html": [
              "\n",
              "  <div id=\"df-bbab0d4f-5399-4ec9-975b-28e093d993ac\">\n",
              "    <div class=\"colab-df-container\">\n",
              "      <div>\n",
              "<style scoped>\n",
              "    .dataframe tbody tr th:only-of-type {\n",
              "        vertical-align: middle;\n",
              "    }\n",
              "\n",
              "    .dataframe tbody tr th {\n",
              "        vertical-align: top;\n",
              "    }\n",
              "\n",
              "    .dataframe thead th {\n",
              "        text-align: right;\n",
              "    }\n",
              "</style>\n",
              "<table border=\"1\" class=\"dataframe\">\n",
              "  <thead>\n",
              "    <tr style=\"text-align: right;\">\n",
              "      <th></th>\n",
              "      <th></th>\n",
              "      <th></th>\n",
              "      <th></th>\n",
              "    </tr>\n",
              "  </thead>\n",
              "  <tbody>\n",
              "    <tr>\n",
              "      <th>1</th>\n",
              "      <td>0.25</td>\n",
              "      <td>0.166667</td>\n",
              "      <td>0.125</td>\n",
              "    </tr>\n",
              "    <tr>\n",
              "      <th>2</th>\n",
              "      <td>0.25</td>\n",
              "      <td>0.166667</td>\n",
              "      <td>0.125</td>\n",
              "    </tr>\n",
              "    <tr>\n",
              "      <th>3</th>\n",
              "      <td>0.25</td>\n",
              "      <td>0.166667</td>\n",
              "      <td>0.125</td>\n",
              "    </tr>\n",
              "    <tr>\n",
              "      <th>4</th>\n",
              "      <td>0.25</td>\n",
              "      <td>0.166667</td>\n",
              "      <td>0.125</td>\n",
              "    </tr>\n",
              "    <tr>\n",
              "      <th>5</th>\n",
              "      <td>0.00</td>\n",
              "      <td>0.166667</td>\n",
              "      <td>0.125</td>\n",
              "    </tr>\n",
              "    <tr>\n",
              "      <th>6</th>\n",
              "      <td>0.00</td>\n",
              "      <td>0.166667</td>\n",
              "      <td>0.125</td>\n",
              "    </tr>\n",
              "    <tr>\n",
              "      <th>7</th>\n",
              "      <td>0.00</td>\n",
              "      <td>0.000000</td>\n",
              "      <td>0.125</td>\n",
              "    </tr>\n",
              "    <tr>\n",
              "      <th>8</th>\n",
              "      <td>0.00</td>\n",
              "      <td>0.000000</td>\n",
              "      <td>0.125</td>\n",
              "    </tr>\n",
              "  </tbody>\n",
              "</table>\n",
              "</div>\n",
              "      <button class=\"colab-df-convert\" onclick=\"convertToInteractive('df-bbab0d4f-5399-4ec9-975b-28e093d993ac')\"\n",
              "              title=\"Convert this dataframe to an interactive table.\"\n",
              "              style=\"display:none;\">\n",
              "        \n",
              "  <svg xmlns=\"http://www.w3.org/2000/svg\" height=\"24px\"viewBox=\"0 0 24 24\"\n",
              "       width=\"24px\">\n",
              "    <path d=\"M0 0h24v24H0V0z\" fill=\"none\"/>\n",
              "    <path d=\"M18.56 5.44l.94 2.06.94-2.06 2.06-.94-2.06-.94-.94-2.06-.94 2.06-2.06.94zm-11 1L8.5 8.5l.94-2.06 2.06-.94-2.06-.94L8.5 2.5l-.94 2.06-2.06.94zm10 10l.94 2.06.94-2.06 2.06-.94-2.06-.94-.94-2.06-.94 2.06-2.06.94z\"/><path d=\"M17.41 7.96l-1.37-1.37c-.4-.4-.92-.59-1.43-.59-.52 0-1.04.2-1.43.59L10.3 9.45l-7.72 7.72c-.78.78-.78 2.05 0 2.83L4 21.41c.39.39.9.59 1.41.59.51 0 1.02-.2 1.41-.59l7.78-7.78 2.81-2.81c.8-.78.8-2.07 0-2.86zM5.41 20L4 18.59l7.72-7.72 1.47 1.35L5.41 20z\"/>\n",
              "  </svg>\n",
              "      </button>\n",
              "      \n",
              "  <style>\n",
              "    .colab-df-container {\n",
              "      display:flex;\n",
              "      flex-wrap:wrap;\n",
              "      gap: 12px;\n",
              "    }\n",
              "\n",
              "    .colab-df-convert {\n",
              "      background-color: #E8F0FE;\n",
              "      border: none;\n",
              "      border-radius: 50%;\n",
              "      cursor: pointer;\n",
              "      display: none;\n",
              "      fill: #1967D2;\n",
              "      height: 32px;\n",
              "      padding: 0 0 0 0;\n",
              "      width: 32px;\n",
              "    }\n",
              "\n",
              "    .colab-df-convert:hover {\n",
              "      background-color: #E2EBFA;\n",
              "      box-shadow: 0px 1px 2px rgba(60, 64, 67, 0.3), 0px 1px 3px 1px rgba(60, 64, 67, 0.15);\n",
              "      fill: #174EA6;\n",
              "    }\n",
              "\n",
              "    [theme=dark] .colab-df-convert {\n",
              "      background-color: #3B4455;\n",
              "      fill: #D2E3FC;\n",
              "    }\n",
              "\n",
              "    [theme=dark] .colab-df-convert:hover {\n",
              "      background-color: #434B5C;\n",
              "      box-shadow: 0px 1px 3px 1px rgba(0, 0, 0, 0.15);\n",
              "      filter: drop-shadow(0px 1px 2px rgba(0, 0, 0, 0.3));\n",
              "      fill: #FFFFFF;\n",
              "    }\n",
              "  </style>\n",
              "\n",
              "      <script>\n",
              "        const buttonEl =\n",
              "          document.querySelector('#df-bbab0d4f-5399-4ec9-975b-28e093d993ac button.colab-df-convert');\n",
              "        buttonEl.style.display =\n",
              "          google.colab.kernel.accessAllowed ? 'block' : 'none';\n",
              "\n",
              "        async function convertToInteractive(key) {\n",
              "          const element = document.querySelector('#df-bbab0d4f-5399-4ec9-975b-28e093d993ac');\n",
              "          const dataTable =\n",
              "            await google.colab.kernel.invokeFunction('convertToInteractive',\n",
              "                                                     [key], {});\n",
              "          if (!dataTable) return;\n",
              "\n",
              "          const docLinkHtml = 'Like what you see? Visit the ' +\n",
              "            '<a target=\"_blank\" href=https://colab.research.google.com/notebooks/data_table.ipynb>data table notebook</a>'\n",
              "            + ' to learn more about interactive tables.';\n",
              "          element.innerHTML = '';\n",
              "          dataTable['output_type'] = 'display_data';\n",
              "          await google.colab.output.renderOutput(dataTable, element);\n",
              "          const docLink = document.createElement('div');\n",
              "          docLink.innerHTML = docLinkHtml;\n",
              "          element.appendChild(docLink);\n",
              "        }\n",
              "      </script>\n",
              "    </div>\n",
              "  </div>\n",
              "  "
            ]
          },
          "metadata": {},
          "execution_count": 57
        }
      ],
      "source": [
        "df"
      ]
    },
    {
      "cell_type": "markdown",
      "metadata": {
        "id": "hMiMpxFBA49T"
      },
      "source": [
        "Now we can multiply by the probabilities in `pmf_dice`:\n"
      ]
    },
    {
      "cell_type": "code",
      "execution_count": 58,
      "metadata": {
        "execution": {
          "iopub.execute_input": "2021-04-16T19:35:33.330625Z",
          "iopub.status.busy": "2021-04-16T19:35:33.328502Z",
          "iopub.status.idle": "2021-04-16T19:35:33.332816Z",
          "shell.execute_reply": "2021-04-16T19:35:33.332380Z"
        },
        "id": "-qVp3VBUA49T"
      },
      "outputs": [],
      "source": [
        "df *= pmf_dice.ps"
      ]
    },
    {
      "cell_type": "code",
      "execution_count": 59,
      "metadata": {
        "execution": {
          "iopub.execute_input": "2021-04-16T19:35:33.340823Z",
          "iopub.status.busy": "2021-04-16T19:35:33.340224Z",
          "iopub.status.idle": "2021-04-16T19:35:33.343890Z",
          "shell.execute_reply": "2021-04-16T19:35:33.343386Z"
        },
        "colab": {
          "base_uri": "https://localhost:8080/",
          "height": 283
        },
        "id": "utHxwo7MA49T",
        "outputId": "23fe6e07-1e2e-4a08-a87c-e8b39cebd0cf"
      },
      "outputs": [
        {
          "output_type": "execute_result",
          "data": {
            "text/plain": [
              "                             \n",
              "1  0.041667  0.055556  0.0625\n",
              "2  0.041667  0.055556  0.0625\n",
              "3  0.041667  0.055556  0.0625\n",
              "4  0.041667  0.055556  0.0625\n",
              "5  0.000000  0.055556  0.0625\n",
              "6  0.000000  0.055556  0.0625\n",
              "7  0.000000  0.000000  0.0625\n",
              "8  0.000000  0.000000  0.0625"
            ],
            "text/html": [
              "\n",
              "  <div id=\"df-f33fc0a9-bdc0-4a5c-912c-81e470f6789e\">\n",
              "    <div class=\"colab-df-container\">\n",
              "      <div>\n",
              "<style scoped>\n",
              "    .dataframe tbody tr th:only-of-type {\n",
              "        vertical-align: middle;\n",
              "    }\n",
              "\n",
              "    .dataframe tbody tr th {\n",
              "        vertical-align: top;\n",
              "    }\n",
              "\n",
              "    .dataframe thead th {\n",
              "        text-align: right;\n",
              "    }\n",
              "</style>\n",
              "<table border=\"1\" class=\"dataframe\">\n",
              "  <thead>\n",
              "    <tr style=\"text-align: right;\">\n",
              "      <th></th>\n",
              "      <th></th>\n",
              "      <th></th>\n",
              "      <th></th>\n",
              "    </tr>\n",
              "  </thead>\n",
              "  <tbody>\n",
              "    <tr>\n",
              "      <th>1</th>\n",
              "      <td>0.041667</td>\n",
              "      <td>0.055556</td>\n",
              "      <td>0.0625</td>\n",
              "    </tr>\n",
              "    <tr>\n",
              "      <th>2</th>\n",
              "      <td>0.041667</td>\n",
              "      <td>0.055556</td>\n",
              "      <td>0.0625</td>\n",
              "    </tr>\n",
              "    <tr>\n",
              "      <th>3</th>\n",
              "      <td>0.041667</td>\n",
              "      <td>0.055556</td>\n",
              "      <td>0.0625</td>\n",
              "    </tr>\n",
              "    <tr>\n",
              "      <th>4</th>\n",
              "      <td>0.041667</td>\n",
              "      <td>0.055556</td>\n",
              "      <td>0.0625</td>\n",
              "    </tr>\n",
              "    <tr>\n",
              "      <th>5</th>\n",
              "      <td>0.000000</td>\n",
              "      <td>0.055556</td>\n",
              "      <td>0.0625</td>\n",
              "    </tr>\n",
              "    <tr>\n",
              "      <th>6</th>\n",
              "      <td>0.000000</td>\n",
              "      <td>0.055556</td>\n",
              "      <td>0.0625</td>\n",
              "    </tr>\n",
              "    <tr>\n",
              "      <th>7</th>\n",
              "      <td>0.000000</td>\n",
              "      <td>0.000000</td>\n",
              "      <td>0.0625</td>\n",
              "    </tr>\n",
              "    <tr>\n",
              "      <th>8</th>\n",
              "      <td>0.000000</td>\n",
              "      <td>0.000000</td>\n",
              "      <td>0.0625</td>\n",
              "    </tr>\n",
              "  </tbody>\n",
              "</table>\n",
              "</div>\n",
              "      <button class=\"colab-df-convert\" onclick=\"convertToInteractive('df-f33fc0a9-bdc0-4a5c-912c-81e470f6789e')\"\n",
              "              title=\"Convert this dataframe to an interactive table.\"\n",
              "              style=\"display:none;\">\n",
              "        \n",
              "  <svg xmlns=\"http://www.w3.org/2000/svg\" height=\"24px\"viewBox=\"0 0 24 24\"\n",
              "       width=\"24px\">\n",
              "    <path d=\"M0 0h24v24H0V0z\" fill=\"none\"/>\n",
              "    <path d=\"M18.56 5.44l.94 2.06.94-2.06 2.06-.94-2.06-.94-.94-2.06-.94 2.06-2.06.94zm-11 1L8.5 8.5l.94-2.06 2.06-.94-2.06-.94L8.5 2.5l-.94 2.06-2.06.94zm10 10l.94 2.06.94-2.06 2.06-.94-2.06-.94-.94-2.06-.94 2.06-2.06.94z\"/><path d=\"M17.41 7.96l-1.37-1.37c-.4-.4-.92-.59-1.43-.59-.52 0-1.04.2-1.43.59L10.3 9.45l-7.72 7.72c-.78.78-.78 2.05 0 2.83L4 21.41c.39.39.9.59 1.41.59.51 0 1.02-.2 1.41-.59l7.78-7.78 2.81-2.81c.8-.78.8-2.07 0-2.86zM5.41 20L4 18.59l7.72-7.72 1.47 1.35L5.41 20z\"/>\n",
              "  </svg>\n",
              "      </button>\n",
              "      \n",
              "  <style>\n",
              "    .colab-df-container {\n",
              "      display:flex;\n",
              "      flex-wrap:wrap;\n",
              "      gap: 12px;\n",
              "    }\n",
              "\n",
              "    .colab-df-convert {\n",
              "      background-color: #E8F0FE;\n",
              "      border: none;\n",
              "      border-radius: 50%;\n",
              "      cursor: pointer;\n",
              "      display: none;\n",
              "      fill: #1967D2;\n",
              "      height: 32px;\n",
              "      padding: 0 0 0 0;\n",
              "      width: 32px;\n",
              "    }\n",
              "\n",
              "    .colab-df-convert:hover {\n",
              "      background-color: #E2EBFA;\n",
              "      box-shadow: 0px 1px 2px rgba(60, 64, 67, 0.3), 0px 1px 3px 1px rgba(60, 64, 67, 0.15);\n",
              "      fill: #174EA6;\n",
              "    }\n",
              "\n",
              "    [theme=dark] .colab-df-convert {\n",
              "      background-color: #3B4455;\n",
              "      fill: #D2E3FC;\n",
              "    }\n",
              "\n",
              "    [theme=dark] .colab-df-convert:hover {\n",
              "      background-color: #434B5C;\n",
              "      box-shadow: 0px 1px 3px 1px rgba(0, 0, 0, 0.15);\n",
              "      filter: drop-shadow(0px 1px 2px rgba(0, 0, 0, 0.3));\n",
              "      fill: #FFFFFF;\n",
              "    }\n",
              "  </style>\n",
              "\n",
              "      <script>\n",
              "        const buttonEl =\n",
              "          document.querySelector('#df-f33fc0a9-bdc0-4a5c-912c-81e470f6789e button.colab-df-convert');\n",
              "        buttonEl.style.display =\n",
              "          google.colab.kernel.accessAllowed ? 'block' : 'none';\n",
              "\n",
              "        async function convertToInteractive(key) {\n",
              "          const element = document.querySelector('#df-f33fc0a9-bdc0-4a5c-912c-81e470f6789e');\n",
              "          const dataTable =\n",
              "            await google.colab.kernel.invokeFunction('convertToInteractive',\n",
              "                                                     [key], {});\n",
              "          if (!dataTable) return;\n",
              "\n",
              "          const docLinkHtml = 'Like what you see? Visit the ' +\n",
              "            '<a target=\"_blank\" href=https://colab.research.google.com/notebooks/data_table.ipynb>data table notebook</a>'\n",
              "            + ' to learn more about interactive tables.';\n",
              "          element.innerHTML = '';\n",
              "          dataTable['output_type'] = 'display_data';\n",
              "          await google.colab.output.renderOutput(dataTable, element);\n",
              "          const docLink = document.createElement('div');\n",
              "          docLink.innerHTML = docLinkHtml;\n",
              "          element.appendChild(docLink);\n",
              "        }\n",
              "      </script>\n",
              "    </div>\n",
              "  </div>\n",
              "  "
            ]
          },
          "metadata": {},
          "execution_count": 59
        }
      ],
      "source": [
        "df"
      ]
    },
    {
      "cell_type": "markdown",
      "metadata": {
        "id": "aXPwvY0EA49T"
      },
      "source": [
        "And add up the weighted distributions:"
      ]
    },
    {
      "cell_type": "code",
      "execution_count": 60,
      "metadata": {
        "execution": {
          "iopub.execute_input": "2021-04-16T19:35:33.349701Z",
          "iopub.status.busy": "2021-04-16T19:35:33.348913Z",
          "iopub.status.idle": "2021-04-16T19:35:33.352453Z",
          "shell.execute_reply": "2021-04-16T19:35:33.351964Z"
        },
        "tags": [],
        "colab": {
          "base_uri": "https://localhost:8080/"
        },
        "id": "mB0DmRuOA49T",
        "outputId": "1a014cf7-3e4b-4b69-97af-891aaf8dbd03"
      },
      "outputs": [
        {
          "output_type": "execute_result",
          "data": {
            "text/plain": [
              "1    0.159722\n",
              "2    0.159722\n",
              "3    0.159722\n",
              "4    0.159722\n",
              "5    0.118056\n",
              "6    0.118056\n",
              "7    0.062500\n",
              "8    0.062500\n",
              "dtype: float64"
            ]
          },
          "metadata": {},
          "execution_count": 60
        }
      ],
      "source": [
        "df.sum(axis=1)"
      ]
    },
    {
      "cell_type": "markdown",
      "metadata": {
        "id": "bOr-jFdEA49T"
      },
      "source": [
        "The argument `axis=1` means we want to sum across the rows.\n",
        "The result is a Pandas `Series`.\n",
        "\n",
        "Putting it all together, here's a function that makes a weighted mixture of distributions."
      ]
    },
    {
      "cell_type": "code",
      "execution_count": 61,
      "metadata": {
        "execution": {
          "iopub.execute_input": "2021-04-16T19:35:33.356915Z",
          "iopub.status.busy": "2021-04-16T19:35:33.356141Z",
          "iopub.status.idle": "2021-04-16T19:35:33.358351Z",
          "shell.execute_reply": "2021-04-16T19:35:33.358991Z"
        },
        "id": "A7f8RlslA49T"
      },
      "outputs": [],
      "source": [
        "def make_mixture(pmf, pmf_seq):\n",
        "    \"\"\"Make a mixture of distributions.\"\"\"\n",
        "    df = pd.DataFrame(pmf_seq).fillna(0).transpose()\n",
        "    df *= np.array(pmf)\n",
        "    total = df.sum(axis=1)\n",
        "    return Pmf(total)"
      ]
    },
    {
      "cell_type": "markdown",
      "metadata": {
        "id": "cXct8LpBA49T"
      },
      "source": [
        "The first parameter is a `Pmf` that maps from each hypothesis to a probability.\n",
        "The second parameter is a sequence of `Pmf` objects, one for each hypothesis.\n",
        "We can call it like this:"
      ]
    },
    {
      "cell_type": "code",
      "execution_count": 62,
      "metadata": {
        "execution": {
          "iopub.execute_input": "2021-04-16T19:35:33.365638Z",
          "iopub.status.busy": "2021-04-16T19:35:33.363553Z",
          "iopub.status.idle": "2021-04-16T19:35:33.367689Z",
          "shell.execute_reply": "2021-04-16T19:35:33.368168Z"
        },
        "id": "5bpVXn5yA49U"
      },
      "outputs": [],
      "source": [
        "mix = make_mixture(pmf_dice, dice)"
      ]
    },
    {
      "cell_type": "markdown",
      "metadata": {
        "id": "0kGcDrdfA49U"
      },
      "source": [
        "And here's what it looks like."
      ]
    },
    {
      "cell_type": "code",
      "execution_count": 63,
      "metadata": {
        "execution": {
          "iopub.execute_input": "2021-04-16T19:35:33.399930Z",
          "iopub.status.busy": "2021-04-16T19:35:33.390116Z",
          "iopub.status.idle": "2021-04-16T19:35:33.566607Z",
          "shell.execute_reply": "2021-04-16T19:35:33.566961Z"
        },
        "tags": [],
        "colab": {
          "base_uri": "https://localhost:8080/",
          "height": 297
        },
        "id": "fTBw8s5xA49U",
        "outputId": "63d8df37-2b99-40f0-cb2d-6dfa7ac5bb2b"
      },
      "outputs": [
        {
          "output_type": "display_data",
          "data": {
            "text/plain": [
              "<Figure size 432x288 with 1 Axes>"
            ],
            "image/png": "[encoded data removed]"
          },
          "metadata": {
            "needs_background": "light"
          }
        }
      ],
      "source": [
        "mix.bar(label='mixture', alpha=0.6)\n",
        "decorate_dice('Distribution of damage with three different weapons')"
      ]
    },
    {
      "cell_type": "markdown",
      "metadata": {
        "id": "RHPn1wzkA49U"
      },
      "source": [
        "In this section I used Pandas so that `make_mixture` is concise, efficient, and hopefully not too hard to understand.\n",
        "In the exercises at the end of the chapter, you'll have a chance to practice with mixtures, and we will use `make_mixture` again in the next chapter."
      ]
    },
    {
      "cell_type": "markdown",
      "metadata": {
        "id": "mr7wg4WnA49U"
      },
      "source": [
        "## Summary\n",
        "\n",
        "This chapter introduces the `Cdf` object, which represents the cumulative distribution function (CDF).\n",
        "\n",
        "A `Pmf` and the corresponding `Cdf` are equivalent in the sense that they contain the same information, so you can convert from one to the other.  \n",
        "The primary difference between them is performance: some operations are faster and easier with a `Pmf`; others are faster with a `Cdf`.\n",
        "\n",
        "In this chapter we used `Cdf` objects to compute distributions of maximums and minimums; these distributions are useful for inference if we are given a maximum or minimum as data.\n",
        "You will see some examples in the exercises, and in future chapters.\n",
        "We also computed mixtures of distributions, which we will use in the next chapter to make predictions.\n",
        "\n",
        "But first you might want to work on these exercises."
      ]
    },
    {
      "cell_type": "markdown",
      "metadata": {
        "id": "RA9mbUDZA49U"
      },
      "source": [
        "## Exercises"
      ]
    },
    {
      "cell_type": "markdown",
      "metadata": {
        "id": "foKdHkH6A49U"
      },
      "source": [
        "**Exercise:** When you generate a D&D character, instead of rolling dice, you can use the \"standard array\" of attributes, which is 15, 14, 13, 12, 10, and 8.\n",
        "Do you think you are better off using the standard array or (literally) rolling the dice?\n",
        "\n",
        "Compare the distribution of the values in the standard array to the distribution we computed for the best three out of four:\n",
        "\n",
        "* Which distribution has higher mean?  Use the `mean` method.\n",
        "\n",
        "* Which distribution has higher standard deviation?  Use the `std` method.\n",
        "\n",
        "* The lowest value in the standard array is 8.  For each attribute, what is the probability of getting a value less than 8?  If you roll the dice six times, what's the probability that at least one of your attributes is less than 8?\n",
        "\n",
        "* The highest value in the standard array is 15.  For each attribute, what is the probability of getting a value greater than 15?  If you roll the dice six times, what's the probability that at least one of your attributes is greater than 15?"
      ]
    },
    {
      "cell_type": "markdown",
      "metadata": {
        "tags": [],
        "id": "WHfNrssQA49U"
      },
      "source": [
        "To get you started, here's a `Cdf` that represents the distribution of attributes in the standard array:"
      ]
    },
    {
      "cell_type": "code",
      "execution_count": 64,
      "metadata": {
        "execution": {
          "iopub.execute_input": "2021-04-16T19:35:33.571476Z",
          "iopub.status.busy": "2021-04-16T19:35:33.571037Z",
          "iopub.status.idle": "2021-04-16T19:35:33.573281Z",
          "shell.execute_reply": "2021-04-16T19:35:33.572815Z"
        },
        "tags": [],
        "id": "OnueaxgLA49U"
      },
      "outputs": [],
      "source": [
        "standard = [15,14,13,12,10,8]\n",
        "cdf_standard = Cdf.from_seq(standard)"
      ]
    },
    {
      "cell_type": "markdown",
      "metadata": {
        "tags": [],
        "id": "vURC4ZndA49U"
      },
      "source": [
        "We can compare it to the distribution of attributes you get by rolling four dice at adding up the best three."
      ]
    },
    {
      "cell_type": "code",
      "execution_count": 68,
      "metadata": {
        "execution": {
          "iopub.execute_input": "2021-04-16T19:35:33.667038Z",
          "iopub.status.busy": "2021-04-16T19:35:33.649741Z",
          "iopub.status.idle": "2021-04-16T19:35:33.820988Z",
          "shell.execute_reply": "2021-04-16T19:35:33.820486Z"
        },
        "tags": [],
        "colab": {
          "base_uri": "https://localhost:8080/",
          "height": 297
        },
        "id": "45XLhkApA49U",
        "outputId": "e4d4e6df-dfd0-4fa0-983b-825bba45651f"
      },
      "outputs": [
        {
          "output_type": "display_data",
          "data": {
            "text/plain": [
              "<Figure size 432x288 with 1 Axes>"
            ],
            "image/png": "[encoded data removed]"
          },
          "metadata": {
            "needs_background": "light"
          }
        }
      ],
      "source": [
        "cdf_best3.plot(label='best 3 of 4', color='C1', ls='--')\n",
        "cdf_standard.step(label='standard set', color='C7')\n",
        "\n",
        "decorate_dice('Distribution of attributes')\n",
        "plt.ylabel('CDF');"
      ]
    },
    {
      "cell_type": "markdown",
      "metadata": {
        "tags": [],
        "id": "TXYI0wdrA49U"
      },
      "source": [
        "I plotted `cdf_standard` as a step function to show more clearly that it contains only a few quantities."
      ]
    },
    {
      "cell_type": "code",
      "execution_count": 66,
      "metadata": {
        "execution": {
          "iopub.execute_input": "2021-04-16T19:35:33.825146Z",
          "iopub.status.busy": "2021-04-16T19:35:33.824423Z",
          "iopub.status.idle": "2021-04-16T19:35:33.827188Z",
          "shell.execute_reply": "2021-04-16T19:35:33.826753Z"
        },
        "colab": {
          "base_uri": "https://localhost:8080/"
        },
        "id": "0TO-_T0pA49U",
        "outputId": "6a8d7be9-1002-469e-907e-8d81cb7b67d4"
      },
      "outputs": [
        {
          "output_type": "stream",
          "name": "stdout",
          "text": [
            "평균 비교 12.2183, 12.0\n",
            "표준편차 비교 2.8740294205174726, 2.3804761428476167\n",
            "0.30615763900456217 0.30615763900456217\n",
            "0.5648763862158948 0.5648763862158951\n"
          ]
        }
      ],
      "source": [
        "# Solution goes here\n",
        "print(f'평균 비교 {cdf_best3.mean()}, {cdf_standard.mean()}')\n",
        "print(f'표준편차 비교 {cdf_best3.std()}, {cdf_standard.std()}')\n",
        "print(cdf_min6.lt_dist(8), 1 - (1-cdf_best3.lt_dist(8))**6)\n",
        "print(cdf_max6.gt_dist(15), 1 - (1-cdf_best3.gt_dist(15))**6)"
      ]
    },
    {
      "cell_type": "code",
      "execution_count": null,
      "metadata": {
        "execution": {
          "iopub.execute_input": "2021-04-16T19:35:33.858526Z",
          "iopub.status.busy": "2021-04-16T19:35:33.858063Z",
          "iopub.status.idle": "2021-04-16T19:35:33.860312Z",
          "shell.execute_reply": "2021-04-16T19:35:33.860666Z"
        },
        "id": "z0mXTHEvA49U"
      },
      "outputs": [],
      "source": [
        "# Solution goes here"
      ]
    },
    {
      "cell_type": "markdown",
      "metadata": {
        "id": "xJDD1nwRA49U"
      },
      "source": [
        "**Exercise:** Suppose you are fighting three monsters:\n",
        "\n",
        "* One is armed with a short sword that causes one 6-sided die of damage,\n",
        "\n",
        "* One is armed with a battle axe that causes one 8-sided die of damage, and\n",
        "\n",
        "* One is armed with a bastard sword that causes one 10-sided die of damage.\n",
        "\n",
        "One of the monsters, chosen at random, attacks you and does 1 point of damage.\n",
        "\n",
        "Which monster do you think it was?  Compute the posterior probability that each monster was the attacker.\n",
        "\n",
        "If the same monster attacks you again, what is the probability that you suffer 6 points of damage?\n",
        "\n",
        "Hint: Compute a posterior distribution as we have done before and pass it as one of the arguments to `make_mixture`."
      ]
    },
    {
      "cell_type": "code",
      "execution_count": 67,
      "metadata": {
        "execution": {
          "iopub.execute_input": "2021-04-16T19:35:33.869825Z",
          "iopub.status.busy": "2021-04-16T19:35:33.869229Z",
          "iopub.status.idle": "2021-04-16T19:35:33.871979Z",
          "shell.execute_reply": "2021-04-16T19:35:33.872359Z"
        },
        "colab": {
          "base_uri": "https://localhost:8080/",
          "height": 143
        },
        "id": "h0WjoQJpA49U",
        "outputId": "5be73462-b5a2-4dda-ad6a-5f73bcdcd9da"
      },
      "outputs": [
        {
          "output_type": "execute_result",
          "data": {
            "text/plain": [
              "6     0.425532\n",
              "8     0.319149\n",
              "10    0.255319\n",
              "Name: , dtype: float64"
            ],
            "text/html": [
              "<div>\n",
              "<style scoped>\n",
              "    .dataframe tbody tr th:only-of-type {\n",
              "        vertical-align: middle;\n",
              "    }\n",
              "\n",
              "    .dataframe tbody tr th {\n",
              "        vertical-align: top;\n",
              "    }\n",
              "\n",
              "    .dataframe thead th {\n",
              "        text-align: right;\n",
              "    }\n",
              "</style>\n",
              "<table border=\"1\" class=\"dataframe\">\n",
              "  <thead>\n",
              "    <tr style=\"text-align: right;\">\n",
              "      <th></th>\n",
              "      <th>probs</th>\n",
              "    </tr>\n",
              "  </thead>\n",
              "  <tbody>\n",
              "    <tr>\n",
              "      <th>6</th>\n",
              "      <td>0.425532</td>\n",
              "    </tr>\n",
              "    <tr>\n",
              "      <th>8</th>\n",
              "      <td>0.319149</td>\n",
              "    </tr>\n",
              "    <tr>\n",
              "      <th>10</th>\n",
              "      <td>0.255319</td>\n",
              "    </tr>\n",
              "  </tbody>\n",
              "</table>\n",
              "</div>"
            ]
          },
          "metadata": {},
          "execution_count": 67
        }
      ],
      "source": [
        "# Solution goes here\n",
        "hypos = [6, 8, 10]\n",
        "prior = Pmf(1, hypos)\n",
        "likelihood = 1/prior.qs\n",
        "posterior = prior * likelihood\n",
        "posterior.normalize()\n",
        "posterior"
      ]
    },
    {
      "cell_type": "code",
      "execution_count": 68,
      "metadata": {
        "execution": {
          "iopub.execute_input": "2021-04-16T19:35:33.876419Z",
          "iopub.status.busy": "2021-04-16T19:35:33.875994Z",
          "iopub.status.idle": "2021-04-16T19:35:33.877630Z",
          "shell.execute_reply": "2021-04-16T19:35:33.878036Z"
        },
        "id": "3IkU0pUKA49U"
      },
      "outputs": [],
      "source": [
        "# Solution goes here\n",
        "d6 = make_die(6)\n",
        "d8 = make_die(8)\n",
        "d10 = make_die(10)\n",
        "\n",
        "dice = d6, d8, d10"
      ]
    },
    {
      "cell_type": "code",
      "execution_count": 69,
      "metadata": {
        "execution": {
          "iopub.execute_input": "2021-04-16T19:35:33.903730Z",
          "iopub.status.busy": "2021-04-16T19:35:33.901601Z",
          "iopub.status.idle": "2021-04-16T19:35:34.009597Z",
          "shell.execute_reply": "2021-04-16T19:35:34.009942Z"
        },
        "colab": {
          "base_uri": "https://localhost:8080/",
          "height": 265
        },
        "id": "uy84JvH-A49U",
        "outputId": "eb608304-2daf-47df-a09e-50d7da56b9d4"
      },
      "outputs": [
        {
          "output_type": "display_data",
          "data": {
            "text/plain": [
              "<Figure size 432x288 with 1 Axes>"
            ],
            "image/png": "[encoded data removed]"
          },
          "metadata": {
            "needs_background": "light"
          }
        }
      ],
      "source": [
        "# Solution goes here\n",
        "mix3 = make_mixture(posterior, dice)\n",
        "mix3.bar()"
      ]
    },
    {
      "cell_type": "code",
      "execution_count": 70,
      "metadata": {
        "execution": {
          "iopub.execute_input": "2021-04-16T19:35:34.013646Z",
          "iopub.status.busy": "2021-04-16T19:35:34.013169Z",
          "iopub.status.idle": "2021-04-16T19:35:34.015385Z",
          "shell.execute_reply": "2021-04-16T19:35:34.015763Z"
        },
        "colab": {
          "base_uri": "https://localhost:8080/"
        },
        "id": "ft7rjoMcA49U",
        "outputId": "ba3649fe-f6b7-4268-a4dd-8e34bfddfba5"
      },
      "outputs": [
        {
          "output_type": "execute_result",
          "data": {
            "text/plain": [
              "0.13634751773049647"
            ]
          },
          "metadata": {},
          "execution_count": 70
        }
      ],
      "source": [
        "# Solution goes here\n",
        "mix3[6]"
      ]
    },
    {
      "cell_type": "markdown",
      "metadata": {
        "id": "5UQ_dLwhA49U"
      },
      "source": [
        "**Exercise:** Henri Poincaré was a French mathematician who taught at the Sorbonne around 1900. The following anecdote about him is probably fiction, but it makes an interesting probability problem.\n",
        "\n",
        "Supposedly Poincaré suspected that his local bakery was selling loaves of bread that were lighter than the advertised weight of 1 kg, so every day for a year he bought a loaf of bread, brought it home and weighed it. At the end of the year, he plotted the distribution of his measurements and showed that it fit a normal distribution with mean 950 g and standard deviation 50 g. He brought this evidence to the bread police, who gave the baker a warning.\n",
        "\n",
        "For the next year, Poincaré continued to weigh his bread every day. At the end of the year, he found that the average weight was 1000 g, just as it should be, but again he complained to the bread police, and this time they fined the baker.\n",
        "\n",
        "Why? Because the shape of the new distribution was asymmetric. Unlike the normal distribution, it was skewed to the right, which is consistent with the hypothesis that the baker was still making 950 g loaves, but deliberately giving Poincaré the heavier ones.\n",
        "\n",
        "To see whether this anecdote is plausible, let's suppose that when the baker sees Poincaré coming, he hefts `n` loaves of bread and gives Poincaré the heaviest one.  How many loaves would the baker have to heft to make the average of the maximum 1000 g?"
      ]
    },
    {
      "cell_type": "markdown",
      "metadata": {
        "tags": [],
        "id": "jTePqMggA49V"
      },
      "source": [
        "To get you started, I'll generate a year's worth of data from a normal distribution with the given parameters."
      ]
    },
    {
      "cell_type": "code",
      "execution_count": 71,
      "metadata": {
        "execution": {
          "iopub.execute_input": "2021-04-16T19:35:34.019380Z",
          "iopub.status.busy": "2021-04-16T19:35:34.018836Z",
          "iopub.status.idle": "2021-04-16T19:35:34.020500Z",
          "shell.execute_reply": "2021-04-16T19:35:34.020849Z"
        },
        "tags": [],
        "id": "_OFM9CJnA49V"
      },
      "outputs": [],
      "source": [
        "mean = 950\n",
        "std = 50\n",
        "\n",
        "np.random.seed(17)\n",
        "sample = np.random.normal(mean, std, size=365)"
      ]
    },
    {
      "cell_type": "code",
      "execution_count": 72,
      "metadata": {
        "execution": {
          "iopub.execute_input": "2021-04-16T19:35:34.027571Z",
          "iopub.status.busy": "2021-04-16T19:35:34.024739Z",
          "iopub.status.idle": "2021-04-16T19:35:34.031491Z",
          "shell.execute_reply": "2021-04-16T19:35:34.031066Z"
        },
        "colab": {
          "base_uri": "https://localhost:8080/"
        },
        "id": "l65Z4mO0A49V",
        "outputId": "f327d10d-0a38-4a33-97ec-541ebc111b5e"
      },
      "outputs": [
        {
          "output_type": "stream",
          "name": "stdout",
          "text": [
            "2 978.4666876067706\n",
            "3 992.7589004318227\n",
            "4 1002.0372868686195\n",
            "5 1008.8226939493089\n"
          ]
        }
      ],
      "source": [
        "# Solution goes here\n",
        "cdf = Cdf.from_seq(sample)\n",
        "\n",
        "for n in range(2, 6):\n",
        "    cdf_max = cdf.max_dist(n)\n",
        "    print(n, cdf_max.mean())"
      ]
    },
    {
      "cell_type": "code",
      "execution_count": 73,
      "metadata": {
        "execution": {
          "iopub.execute_input": "2021-04-16T19:35:34.071771Z",
          "iopub.status.busy": "2021-04-16T19:35:34.052696Z",
          "iopub.status.idle": "2021-04-16T19:35:34.214328Z",
          "shell.execute_reply": "2021-04-16T19:35:34.213871Z"
        },
        "colab": {
          "base_uri": "https://localhost:8080/"
        },
        "id": "qnbfGrEjA49V",
        "outputId": "be960271-dc77-4174-ad89-d5bb27aa2499"
      },
      "outputs": [
        {
          "output_type": "stream",
          "name": "stdout",
          "text": [
            "2 978.4666876067706\n",
            "3 992.7589004318227\n",
            "4 1002.0372868686195\n",
            "5 1008.8226939493089\n"
          ]
        }
      ],
      "source": [
        "# Solution goes here\n",
        "cdf = Cdf.from_seq(sample)\n",
        "\n",
        "for n in range(2, 6):\n",
        "    cdf_max = cdf.max_dist(n)\n",
        "    print(n, cdf_max.mean())"
      ]
    },
    {
      "cell_type": "code",
      "source": [],
      "metadata": {
        "id": "o-R2dmT-Mmnt"
      },
      "execution_count": null,
      "outputs": []
    }
  ],
  "metadata": {
    "celltoolbar": "Tags",
    "kernelspec": {
      "display_name": "Python 3 (ipykernel)",
      "language": "python",
      "name": "python3"
    },
    "language_info": {
      "codemirror_mode": {
        "name": "ipython",
        "version": 3
      },
      "file_extension": ".py",
      "mimetype": "text/x-python",
      "name": "python",
      "nbconvert_exporter": "python",
      "pygments_lexer": "ipython3",
      "version": "3.8.12"
    },
    "colab": {
      "provenance": []
    }
  },
  "nbformat": 4,
  "nbformat_minor": 0
}