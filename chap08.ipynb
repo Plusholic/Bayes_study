{
  "cells": [
    {
      "cell_type": "markdown",
      "metadata": {
        "id": "OFdjM2KZnoM8"
      },
      "source": [
        "# Poisson Processes"
      ]
    },
    {
      "cell_type": "markdown",
      "metadata": {
        "tags": [],
        "id": "mYBC_rTenoM9"
      },
      "source": [
        "Think Bayes, Second Edition\n",
        "\n",
        "Copyright 2020 Allen B. Downey\n",
        "\n",
        "License: [Attribution-NonCommercial-ShareAlike 4.0 International (CC BY-NC-SA 4.0)](https://creativecommons.org/licenses/by-nc-sa/4.0/)"
      ]
    },
    {
      "cell_type": "code",
      "execution_count": 1,
      "metadata": {
        "execution": {
          "iopub.execute_input": "2021-04-16T19:35:35.559580Z",
          "iopub.status.busy": "2021-04-16T19:35:35.558886Z",
          "iopub.status.idle": "2021-04-16T19:35:35.560949Z",
          "shell.execute_reply": "2021-04-16T19:35:35.561400Z"
        },
        "tags": [],
        "colab": {
          "base_uri": "https://localhost:8080/"
        },
        "id": "-pkXdB8dnoM9",
        "outputId": "520d4036-e33d-4cc3-bb31-9e2487cf4d4d"
      },
      "outputs": [
        {
          "output_type": "stream",
          "name": "stdout",
          "text": [
            "Looking in indexes: https://pypi.org/simple, https://us-python.pkg.dev/colab-wheels/public/simple/\n",
            "Collecting empiricaldist\n",
            "  Downloading empiricaldist-0.6.8.tar.gz (12 kB)\n",
            "  Installing build dependencies ... \u001b[?25l\u001b[?25hdone\n",
            "  Getting requirements to build wheel ... \u001b[?25l\u001b[?25hdone\n",
            "  Preparing metadata (pyproject.toml) ... \u001b[?25l\u001b[?25hdone\n",
            "Building wheels for collected packages: empiricaldist\n",
            "  Building wheel for empiricaldist (pyproject.toml) ... \u001b[?25l\u001b[?25hdone\n",
            "  Created wheel for empiricaldist: filename=empiricaldist-0.6.8-py3-none-any.whl size=12122 sha256=697ec974e3e59d688fa8586877648ea06f33118cf49dd5e033b06451619e75e5\n",
            "  Stored in directory: /root/.cache/pip/wheels/c2/2f/73/700abc644ee5aba92a8b40552794103c445cd47fcdfe7828f7\n",
            "Successfully built empiricaldist\n",
            "Installing collected packages: empiricaldist\n",
            "Successfully installed empiricaldist-0.6.8\n"
          ]
        }
      ],
      "source": [
        "# If we're running on Colab, install empiricaldist\n",
        "# https://pypi.org/project/empiricaldist/\n",
        "\n",
        "import sys\n",
        "IN_COLAB = 'google.colab' in sys.modules\n",
        "\n",
        "if IN_COLAB:\n",
        "    !pip install empiricaldist"
      ]
    },
    {
      "cell_type": "code",
      "execution_count": 2,
      "metadata": {
        "execution": {
          "iopub.execute_input": "2021-04-16T19:35:35.565677Z",
          "iopub.status.busy": "2021-04-16T19:35:35.564851Z",
          "iopub.status.idle": "2021-04-16T19:35:35.567533Z",
          "shell.execute_reply": "2021-04-16T19:35:35.566963Z"
        },
        "tags": [],
        "colab": {
          "base_uri": "https://localhost:8080/"
        },
        "id": "kBjVr-sbnoM-",
        "outputId": "9c8aa42d-3529-4425-8e3a-84dc6631505b"
      },
      "outputs": [
        {
          "output_type": "stream",
          "name": "stdout",
          "text": [
            "Downloaded utils.py\n"
          ]
        }
      ],
      "source": [
        "# Get utils.py\n",
        "\n",
        "from os.path import basename, exists\n",
        "\n",
        "def download(url):\n",
        "    filename = basename(url)\n",
        "    if not exists(filename):\n",
        "        from urllib.request import urlretrieve\n",
        "        local, _ = urlretrieve(url, filename)\n",
        "        print('Downloaded ' + local)\n",
        "    \n",
        "download('https://github.com/AllenDowney/ThinkBayes2/raw/master/soln/utils.py')"
      ]
    },
    {
      "cell_type": "code",
      "execution_count": 3,
      "metadata": {
        "execution": {
          "iopub.execute_input": "2021-04-16T19:35:35.573478Z",
          "iopub.status.busy": "2021-04-16T19:35:35.572460Z",
          "iopub.status.idle": "2021-04-16T19:35:36.312737Z",
          "shell.execute_reply": "2021-04-16T19:35:36.313087Z"
        },
        "tags": [],
        "id": "1VMjfNH5noM-"
      },
      "outputs": [],
      "source": [
        "from utils import set_pyplot_params\n",
        "set_pyplot_params()"
      ]
    },
    {
      "cell_type": "markdown",
      "metadata": {
        "id": "ts3hbbMdnoM-"
      },
      "source": [
        "This chapter introduces the [Poisson process](https://en.wikipedia.org/wiki/Poisson_point_process), which is a model used to describe events that occur at random intervals.\n",
        "As an example of a Poisson process, we'll model goal-scoring in soccer, which is American English for the game everyone else calls \"football\".\n",
        "We'll use goals scored in a game to estimate the parameter of a Poisson process; then we'll use the posterior distribution to make predictions.\n",
        "\n",
        "And we'll solve The World Cup Problem."
      ]
    },
    {
      "cell_type": "markdown",
      "metadata": {
        "id": "mO3GTKvInoM-"
      },
      "source": [
        "## The World Cup Problem\n",
        "\n",
        "In the 2018 FIFA World Cup final, France defeated Croatia 4 goals to 2.  Based on this outcome:\n",
        "\n",
        "1. How confident should we be that France is the better team?\n",
        "\n",
        "2. If the same teams played again, what is the chance France would win again?\n",
        "\n",
        "To answer these questions, we have to make some modeling decisions.\n",
        "\n",
        "* First, I'll assume that for any team against another team there is some unknown goal-scoring rate, measured in goals per game, which I'll denote with the Python variable `lam` or the Greek letter $\\lambda$, pronounced \"lambda\".\n",
        "\n",
        "* 두 번째로, 공이 골에 들어갈 확률은 경기 내내 동일하다고 가정한. 따라서 90분 경기에서 매분마다 득점 확률은 $\\lambda/90$이다..\n",
        "\n",
        "* 세 번째로, 한 팀에서는 일 분 내에 2점을 내지 않는다고 가정한다.\n",
        "\n",
        "Of course, none of these assumptions is completely true in the real world, but I think they are reasonable simplifications.\n",
        "As George Box said, \"All models are wrong; some are useful.\"\n",
        "(https://en.wikipedia.org/wiki/All_models_are_wrong).\n",
        "\n",
        "In this case, the model is useful because if these assumptions are \n",
        "true, at least roughly, the number of goals scored in a game follows a Poisson distribution, at least roughly."
      ]
    },
    {
      "cell_type": "markdown",
      "metadata": {
        "id": "ho4KgA-qnoM_"
      },
      "source": [
        "## The Poisson Distribution\n",
        "\n",
        "한 경기에서 골에 들어간 공의 수가 득점률 $\\lambda$ 인 포아송 분포를 따른다고 하면, k 점을 얻을 확률은 모든 양수 k에 대해 다음과 같다.\n",
        "\n",
        "$$\\lambda^k \\exp(-\\lambda) ~/~ k!$$\n",
        "\n",
        "for any non-negative value of $k$.\n",
        "\n",
        "SciPy provides a `poisson` object that represents a Poisson distribution.\n",
        "We can create one with $\\lambda=1.4$ like this:"
      ]
    },
    {
      "cell_type": "code",
      "execution_count": 4,
      "metadata": {
        "execution": {
          "iopub.execute_input": "2021-04-16T19:35:36.320352Z",
          "iopub.status.busy": "2021-04-16T19:35:36.319569Z",
          "iopub.status.idle": "2021-04-16T19:35:36.323543Z",
          "shell.execute_reply": "2021-04-16T19:35:36.324079Z"
        },
        "colab": {
          "base_uri": "https://localhost:8080/"
        },
        "id": "QNo_J3NNnoM_",
        "outputId": "a58691a6-461b-4613-b18a-1f0abff24888"
      },
      "outputs": [
        {
          "output_type": "execute_result",
          "data": {
            "text/plain": [
              "scipy.stats._distn_infrastructure.rv_discrete_frozen"
            ]
          },
          "metadata": {},
          "execution_count": 4
        }
      ],
      "source": [
        "from scipy.stats import poisson\n",
        "\n",
        "lam = 1.4\n",
        "dist = poisson(lam)\n",
        "type(dist)"
      ]
    },
    {
      "cell_type": "markdown",
      "metadata": {
        "id": "sbli67n9noM_"
      },
      "source": [
        "The result is an object that represents a \"frozen\" random variable and provides `pmf`, which evaluates the probability mass function of the Poisson distribution."
      ]
    },
    {
      "cell_type": "code",
      "execution_count": 5,
      "metadata": {
        "execution": {
          "iopub.execute_input": "2021-04-16T19:35:36.329080Z",
          "iopub.status.busy": "2021-04-16T19:35:36.328350Z",
          "iopub.status.idle": "2021-04-16T19:35:36.331701Z",
          "shell.execute_reply": "2021-04-16T19:35:36.332267Z"
        },
        "colab": {
          "base_uri": "https://localhost:8080/"
        },
        "id": "H-GmZ32VnoM_",
        "outputId": "9fb4a049-66cb-47e4-8b81-be0d380008e8"
      },
      "outputs": [
        {
          "output_type": "execute_result",
          "data": {
            "text/plain": [
              "0.039471954028253146"
            ]
          },
          "metadata": {},
          "execution_count": 5
        }
      ],
      "source": [
        "k = 4\n",
        "dist.pmf(k)"
      ]
    },
    {
      "cell_type": "markdown",
      "metadata": {
        "id": "WGw7fYzxnoNA"
      },
      "source": [
        "이 결과는 경기당 득점률이 1.4골인 경우, 한 경기에서 4점을 득점할 확률은 약 4%임을 뜻한다.\n",
        "\n",
        "We'll use the following function to make a `Pmf` that represents a Poisson distribution."
      ]
    },
    {
      "cell_type": "code",
      "execution_count": 6,
      "metadata": {
        "execution": {
          "iopub.execute_input": "2021-04-16T19:35:36.338086Z",
          "iopub.status.busy": "2021-04-16T19:35:36.337399Z",
          "iopub.status.idle": "2021-04-16T19:35:36.339498Z",
          "shell.execute_reply": "2021-04-16T19:35:36.338953Z"
        },
        "id": "Jzn_iY6InoNA"
      },
      "outputs": [],
      "source": [
        "from empiricaldist import Pmf\n",
        "\n",
        "def make_poisson_pmf(lam, qs):\n",
        "    \"\"\"Make a Pmf of a Poisson distribution.\"\"\"\n",
        "    ps = poisson(lam).pmf(qs)\n",
        "    pmf = Pmf(ps, qs)\n",
        "    pmf.normalize()\n",
        "    return pmf"
      ]
    },
    {
      "cell_type": "markdown",
      "metadata": {
        "id": "UkqZzRVmnoNA"
      },
      "source": [
        "`make_poisson_pmf` takes as parameters the goal-scoring rate, `lam`, and an array of quantities, `qs`, where it should evaluate the Poisson PMF.  It returns a `Pmf` object.\n",
        "\n",
        "For example, here's the distribution of goals scored for `lam=1.4`, computed for values of `k` from 0 to 9."
      ]
    },
    {
      "cell_type": "code",
      "execution_count": 7,
      "metadata": {
        "execution": {
          "iopub.execute_input": "2021-04-16T19:35:36.346180Z",
          "iopub.status.busy": "2021-04-16T19:35:36.345152Z",
          "iopub.status.idle": "2021-04-16T19:35:36.351746Z",
          "shell.execute_reply": "2021-04-16T19:35:36.351317Z"
        },
        "id": "06QzR9_8noNA"
      },
      "outputs": [],
      "source": [
        "import numpy as np\n",
        "\n",
        "lam = 1.4\n",
        "goals = np.arange(10)\n",
        "pmf_goals = make_poisson_pmf(lam, goals)"
      ]
    },
    {
      "cell_type": "markdown",
      "metadata": {
        "id": "vY-AybUynoNA"
      },
      "source": [
        "And here's what it looks like."
      ]
    },
    {
      "cell_type": "code",
      "execution_count": 8,
      "metadata": {
        "execution": {
          "iopub.execute_input": "2021-04-16T19:35:36.357426Z",
          "iopub.status.busy": "2021-04-16T19:35:36.356638Z",
          "iopub.status.idle": "2021-04-16T19:35:36.360496Z",
          "shell.execute_reply": "2021-04-16T19:35:36.360974Z"
        },
        "tags": [],
        "id": "acAX6alKnoNA"
      },
      "outputs": [],
      "source": [
        "from utils import decorate\n",
        "\n",
        "def decorate_goals(title=''):\n",
        "    decorate(xlabel='Number of goals',\n",
        "        ylabel='PMF',\n",
        "        title=title)"
      ]
    },
    {
      "cell_type": "code",
      "execution_count": 9,
      "metadata": {
        "execution": {
          "iopub.execute_input": "2021-04-16T19:35:36.365999Z",
          "iopub.status.busy": "2021-04-16T19:35:36.365195Z",
          "iopub.status.idle": "2021-04-16T19:35:36.806363Z",
          "shell.execute_reply": "2021-04-16T19:35:36.805860Z"
        },
        "tags": [],
        "colab": {
          "base_uri": "https://localhost:8080/",
          "height": 297
        },
        "id": "uCdyzgRYnoNA",
        "outputId": "7a364ca0-8d59-4a4b-9f02-f22ca79b8e14"
      },
      "outputs": [
        {
          "output_type": "display_data",
          "data": {
            "text/plain": [
              "<Figure size 432x288 with 1 Axes>"
            ],
            "image/png": "[encoded data removed]"
          },
          "metadata": {
            "needs_background": "light"
          }
        }
      ],
      "source": [
        "pmf_goals.bar(label=r'Poisson distribution with $\\lambda=1.4$')\n",
        "\n",
        "decorate_goals('Distribution of goals scored')"
      ]
    },
    {
      "cell_type": "markdown",
      "metadata": {
        "id": "zFCLoNuUnoNA"
      },
      "source": [
        "The most likely outcomes are 0, 1, and 2; higher values are possible but increasingly unlikely.\n",
        "Values above 7 are negligible.\n",
        "이 분포를 보면, 우리가 만약 득점율을 안다면 득점 수도 예측할 수 있음을 알 수 있다.\n",
        "\n",
        "Now let's turn it around: given a number of goals, what can we say about the goal-scoring rate?\n",
        "\n",
        "To answer that, we need to think about the prior distribution of `lam`, which represents the range of possible values and their probabilities before we see the score."
      ]
    },
    {
      "cell_type": "markdown",
      "metadata": {
        "id": "g1FAgX4pnoNA"
      },
      "source": [
        "## The Gamma Distribution\n",
        "\n",
        "If you have ever seen a soccer game, you have some information about `lam`.  In most games, teams score a few goals each.  In rare cases, a team might score more than 5 goals, but they almost never score more than 10.\n",
        "\n",
        "이전 월드컵의 데이터를 사용해서 각 팀이 평균 경기당 1.4점을 얻는다고 추정했다. 그러므로 `lam`의 평균을 1.4라고 설정한다.\n",
        "\n",
        "For a good team against a bad one, we expect `lam` to be higher; for a bad team against a good one, we expect it to be lower."
      ]
    },
    {
      "cell_type": "markdown",
      "metadata": {
        "id": "b0_7O8f3noNA"
      },
      "source": [
        "득점율의 분포를 모델링하기 위해서 여기서는 감마 분포를 사용했다. 이 분포를 선택한 이유는 다음과 같다.\n",
        "\n",
        "1. 득점율은 연속형이고 0 이상의 수이므로, 감마 분포가 이 범위의 값에 적합하다.\n",
        "\n",
        "2. 감마 분포는 평균값 `alpha`만을 매개변수로 사용한다. 따라서 평균값만으로 우리가 원하는 감마 분포를 만들기가 용이하다.\n",
        "\n",
        "3. 차차 살펴보겠지만 감마 분포의 형태는 우리가 축구의 점수에 대해서 아는 것을 생각해 봤을 때 괜찮은 선택지이다.\n",
        "\n",
        "And there's one more reason, which I will reveal in <<_ConjugatePriors>>.\n",
        "\n",
        "SciPy provides `gamma`, which creates an object that represents a gamma distribution.\n",
        "And the `gamma` object provides provides `pdf`, which evaluates the  **probability density function** (PDF) of the gamma distribution.\n",
        "\n",
        "Here's how we use it."
      ]
    },
    {
      "cell_type": "code",
      "execution_count": 10,
      "metadata": {
        "execution": {
          "iopub.execute_input": "2021-04-16T19:35:36.811180Z",
          "iopub.status.busy": "2021-04-16T19:35:36.810595Z",
          "iopub.status.idle": "2021-04-16T19:35:36.812206Z",
          "shell.execute_reply": "2021-04-16T19:35:36.812559Z"
        },
        "id": "AFJQI9B9noNA"
      },
      "outputs": [],
      "source": [
        "from scipy.stats import gamma\n",
        "\n",
        "alpha = 1.4\n",
        "qs = np.linspace(0, 10, 101)\n",
        "ps = gamma(alpha).pdf(qs)"
      ]
    },
    {
      "cell_type": "markdown",
      "metadata": {
        "id": "En_o_NnonoNB"
      },
      "source": [
        "The parameter, `alpha`, is the mean of the distribution.\n",
        "The `qs` are possible values of `lam` between 0 and 10.\n",
        "The `ps` are **probability densities**, which we can think of as unnormalized probabilities.\n",
        "\n",
        "To normalize them, we can put them in a `Pmf` and call `normalize`:"
      ]
    },
    {
      "cell_type": "code",
      "execution_count": 11,
      "metadata": {
        "execution": {
          "iopub.execute_input": "2021-04-16T19:35:36.817622Z",
          "iopub.status.busy": "2021-04-16T19:35:36.816921Z",
          "iopub.status.idle": "2021-04-16T19:35:36.820318Z",
          "shell.execute_reply": "2021-04-16T19:35:36.819842Z"
        },
        "tags": [],
        "colab": {
          "base_uri": "https://localhost:8080/"
        },
        "id": "mf48iUepnoNB",
        "outputId": "b5fac23f-eb8c-4745-ba05-6cbc16f6d223"
      },
      "outputs": [
        {
          "output_type": "execute_result",
          "data": {
            "text/plain": [
              "9.889360237140306"
            ]
          },
          "metadata": {},
          "execution_count": 11
        }
      ],
      "source": [
        "from empiricaldist import Pmf\n",
        "\n",
        "prior = Pmf(ps, qs)\n",
        "prior.normalize()"
      ]
    },
    {
      "cell_type": "markdown",
      "metadata": {
        "id": "XV46ZbwbnoNB"
      },
      "source": [
        "The result is a discrete approximation of a gamma distribution.\n",
        "Here's what it looks like."
      ]
    },
    {
      "cell_type": "code",
      "execution_count": 12,
      "metadata": {
        "execution": {
          "iopub.execute_input": "2021-04-16T19:35:36.824445Z",
          "iopub.status.busy": "2021-04-16T19:35:36.823630Z",
          "iopub.status.idle": "2021-04-16T19:35:36.826395Z",
          "shell.execute_reply": "2021-04-16T19:35:36.825832Z"
        },
        "tags": [],
        "id": "EXRZgIGznoNB"
      },
      "outputs": [],
      "source": [
        "def decorate_rate(title=''):\n",
        "    decorate(xlabel='Goal scoring rate (lam)',\n",
        "        ylabel='PMF',\n",
        "        title=title)"
      ]
    },
    {
      "cell_type": "code",
      "execution_count": 13,
      "metadata": {
        "execution": {
          "iopub.execute_input": "2021-04-16T19:35:36.861338Z",
          "iopub.status.busy": "2021-04-16T19:35:36.850188Z",
          "iopub.status.idle": "2021-04-16T19:35:36.973653Z",
          "shell.execute_reply": "2021-04-16T19:35:36.974165Z"
        },
        "tags": [],
        "colab": {
          "base_uri": "https://localhost:8080/",
          "height": 297
        },
        "id": "dMUpGHFvnoNB",
        "outputId": "31b1d2ee-9b80-4fe6-e803-2e0ea4112e18"
      },
      "outputs": [
        {
          "output_type": "display_data",
          "data": {
            "text/plain": [
              "<Figure size 432x288 with 1 Axes>"
            ],
            "image/png": "[encoded data removed]"
          },
          "metadata": {
            "needs_background": "light"
          }
        }
      ],
      "source": [
        "prior.plot(ls='--', label='prior', color='C5')\n",
        "decorate_rate(r'Prior distribution of $\\lambda$')"
      ]
    },
    {
      "cell_type": "markdown",
      "metadata": {
        "id": "rIIQ3VwznoNB"
      },
      "source": [
        "This distribution represents our prior knowledge about goal scoring: `lam` is usually less than 2, occasionally as high as 6, and seldom higher than that.  "
      ]
    },
    {
      "cell_type": "markdown",
      "metadata": {
        "tags": [],
        "id": "cpPuXp0CnoNB"
      },
      "source": [
        "And we can confirm that the mean is about 1.4."
      ]
    },
    {
      "cell_type": "code",
      "execution_count": 14,
      "metadata": {
        "execution": {
          "iopub.execute_input": "2021-04-16T19:35:36.977679Z",
          "iopub.status.busy": "2021-04-16T19:35:36.977270Z",
          "iopub.status.idle": "2021-04-16T19:35:36.981785Z",
          "shell.execute_reply": "2021-04-16T19:35:36.981415Z"
        },
        "tags": [],
        "colab": {
          "base_uri": "https://localhost:8080/"
        },
        "id": "1UhNW-RYnoNB",
        "outputId": "6e01ee40-6fe6-4e0d-edaf-cac1ca300ebc"
      },
      "outputs": [
        {
          "output_type": "execute_result",
          "data": {
            "text/plain": [
              "1.4140818156118378"
            ]
          },
          "metadata": {},
          "execution_count": 14
        }
      ],
      "source": [
        "prior.mean()"
      ]
    },
    {
      "cell_type": "markdown",
      "metadata": {
        "id": "pWNOkbxCnoNB"
      },
      "source": [
        "As usual, reasonable people could disagree about the details of the prior, but this is good enough to get started.  Let's do an update."
      ]
    },
    {
      "cell_type": "markdown",
      "metadata": {
        "id": "mxcjLeZHnoNB"
      },
      "source": [
        "## The Update\n",
        "\n",
        "득점률 $\\lambda$가 주어졌을 때, $k$만큼 득점할 확률을 구해야 한다고 해보자. 이는 명확하게 포아송 PMF를 구하면 해결할 수 있다.\n",
        "\n",
        "예를 들어 $\\lambda$가 1.4라면, 경기에서 4점을 낼 확률은 다음과 같다."
      ]
    },
    {
      "cell_type": "code",
      "execution_count": 15,
      "metadata": {
        "execution": {
          "iopub.execute_input": "2021-04-16T19:35:36.986101Z",
          "iopub.status.busy": "2021-04-16T19:35:36.985682Z",
          "iopub.status.idle": "2021-04-16T19:35:36.990357Z",
          "shell.execute_reply": "2021-04-16T19:35:36.989881Z"
        },
        "colab": {
          "base_uri": "https://localhost:8080/"
        },
        "id": "AgdFY6RJnoNB",
        "outputId": "9f1e6461-96e3-4788-fc59-88b1752f73aa"
      },
      "outputs": [
        {
          "output_type": "execute_result",
          "data": {
            "text/plain": [
              "0.039471954028253146"
            ]
          },
          "metadata": {},
          "execution_count": 15
        }
      ],
      "source": [
        "lam = 1.4\n",
        "k = 4\n",
        "poisson(lam).pmf(4)"
      ]
    },
    {
      "cell_type": "markdown",
      "metadata": {
        "id": "Ct_rf4w-noNB"
      },
      "source": [
        "Now suppose we are have an array of possible values for $\\lambda$; we can compute the likelihood of the data for each hypothetical value of `lam`, like this:"
      ]
    },
    {
      "cell_type": "code",
      "execution_count": 16,
      "metadata": {
        "execution": {
          "iopub.execute_input": "2021-04-16T19:35:36.994726Z",
          "iopub.status.busy": "2021-04-16T19:35:36.994093Z",
          "iopub.status.idle": "2021-04-16T19:35:36.996133Z",
          "shell.execute_reply": "2021-04-16T19:35:36.995693Z"
        },
        "id": "BKD_C2GZnoNB"
      },
      "outputs": [],
      "source": [
        "lams = prior.qs\n",
        "k = 4\n",
        "likelihood = poisson(lams).pmf(k)"
      ]
    },
    {
      "cell_type": "markdown",
      "metadata": {
        "id": "bEw3tQx4noNB"
      },
      "source": [
        "And that's all we need to do the update.\n",
        "To get the posterior distribution, we multiply the prior by the likelihoods we just computed and normalize the result.\n",
        "\n",
        "The following function encapsulates these steps."
      ]
    },
    {
      "cell_type": "code",
      "execution_count": 17,
      "metadata": {
        "execution": {
          "iopub.execute_input": "2021-04-16T19:35:36.999424Z",
          "iopub.status.busy": "2021-04-16T19:35:36.999004Z",
          "iopub.status.idle": "2021-04-16T19:35:37.000604Z",
          "shell.execute_reply": "2021-04-16T19:35:37.000963Z"
        },
        "id": "7uYvgFENnoNB"
      },
      "outputs": [],
      "source": [
        "def update_poisson(pmf, data):\n",
        "    \"\"\"Update Pmf with a Poisson likelihood.\"\"\"\n",
        "    k = data\n",
        "    lams = pmf.qs\n",
        "    likelihood = poisson(lams).pmf(k)\n",
        "    pmf *= likelihood\n",
        "    pmf.normalize()"
      ]
    },
    {
      "cell_type": "markdown",
      "metadata": {
        "id": "9wxQU2NQnoNB"
      },
      "source": [
        "The first parameter is the prior; the second is the number of goals.\n",
        "\n",
        "In the example, France scored 4 goals, so I'll make a copy of the prior and update it with the data."
      ]
    },
    {
      "cell_type": "code",
      "execution_count": 18,
      "metadata": {
        "execution": {
          "iopub.execute_input": "2021-04-16T19:35:37.006206Z",
          "iopub.status.busy": "2021-04-16T19:35:37.005520Z",
          "iopub.status.idle": "2021-04-16T19:35:37.007211Z",
          "shell.execute_reply": "2021-04-16T19:35:37.007583Z"
        },
        "id": "phrXWp4-noNB"
      },
      "outputs": [],
      "source": [
        "france = prior.copy()\n",
        "update_poisson(france, 4)"
      ]
    },
    {
      "cell_type": "markdown",
      "metadata": {
        "id": "9ni3pKctnoNB"
      },
      "source": [
        "Here's what the posterior distribution looks like, along with the prior."
      ]
    },
    {
      "cell_type": "code",
      "execution_count": 19,
      "metadata": {
        "execution": {
          "iopub.execute_input": "2021-04-16T19:35:37.028551Z",
          "iopub.status.busy": "2021-04-16T19:35:37.028101Z",
          "iopub.status.idle": "2021-04-16T19:35:37.185307Z",
          "shell.execute_reply": "2021-04-16T19:35:37.184888Z"
        },
        "tags": [],
        "colab": {
          "base_uri": "https://localhost:8080/",
          "height": 297
        },
        "id": "59ZuWE-RnoNB",
        "outputId": "5089c6f6-be57-400b-e99b-7154a72ae1f7"
      },
      "outputs": [
        {
          "output_type": "display_data",
          "data": {
            "text/plain": [
              "<Figure size 432x288 with 1 Axes>"
            ],
            "image/png": "[encoded data removed]"
          },
          "metadata": {
            "needs_background": "light"
          }
        }
      ],
      "source": [
        "prior.plot(ls='--', label='prior', color='C5')\n",
        "france.plot(label='France posterior', color='C3')\n",
        "\n",
        "decorate_rate('Posterior distribution for France')"
      ]
    },
    {
      "cell_type": "markdown",
      "metadata": {
        "id": "jHMFN2GMnoNB"
      },
      "source": [
        "The data, `k=4`, makes us think higher values of `lam` are more likely and lower values are less likely.  So the posterior distribution is shifted to the right.\n",
        "\n",
        "Let's do the same for Croatia:"
      ]
    },
    {
      "cell_type": "code",
      "execution_count": 20,
      "metadata": {
        "execution": {
          "iopub.execute_input": "2021-04-16T19:35:37.190240Z",
          "iopub.status.busy": "2021-04-16T19:35:37.189712Z",
          "iopub.status.idle": "2021-04-16T19:35:37.191717Z",
          "shell.execute_reply": "2021-04-16T19:35:37.192161Z"
        },
        "id": "n0Gb3ETGnoNB"
      },
      "outputs": [],
      "source": [
        "croatia = prior.copy()\n",
        "update_poisson(croatia, 2)"
      ]
    },
    {
      "cell_type": "markdown",
      "metadata": {
        "id": "agyk-h9AnoNC"
      },
      "source": [
        "And here are the results."
      ]
    },
    {
      "cell_type": "code",
      "execution_count": 21,
      "metadata": {
        "execution": {
          "iopub.execute_input": "2021-04-16T19:35:37.231183Z",
          "iopub.status.busy": "2021-04-16T19:35:37.225303Z",
          "iopub.status.idle": "2021-04-16T19:35:37.342248Z",
          "shell.execute_reply": "2021-04-16T19:35:37.341893Z"
        },
        "tags": [],
        "colab": {
          "base_uri": "https://localhost:8080/",
          "height": 297
        },
        "id": "JlW8wC9anoNC",
        "outputId": "c1b15d23-b61a-4035-fa51-32ce74aa6b7b"
      },
      "outputs": [
        {
          "output_type": "display_data",
          "data": {
            "text/plain": [
              "<Figure size 432x288 with 1 Axes>"
            ],
            "image/png": "[encoded data removed]"
          },
          "metadata": {
            "needs_background": "light"
          }
        }
      ],
      "source": [
        "prior.plot(ls='--', label='prior', color='C5')\n",
        "croatia.plot(label='Croatia posterior', color='C0')\n",
        "\n",
        "decorate_rate('Posterior distribution for Croatia')"
      ]
    },
    {
      "cell_type": "markdown",
      "metadata": {
        "id": "x03DI30WnoNC"
      },
      "source": [
        "Here are the posterior means for these distributions."
      ]
    },
    {
      "cell_type": "code",
      "execution_count": 22,
      "metadata": {
        "execution": {
          "iopub.execute_input": "2021-04-16T19:35:37.345387Z",
          "iopub.status.busy": "2021-04-16T19:35:37.344949Z",
          "iopub.status.idle": "2021-04-16T19:35:37.348895Z",
          "shell.execute_reply": "2021-04-16T19:35:37.349408Z"
        },
        "colab": {
          "base_uri": "https://localhost:8080/"
        },
        "id": "GMGmK1jpnoNC",
        "outputId": "9d6a9ac3-fc57-430c-aa1b-7e32d4b6d231"
      },
      "outputs": [
        {
          "output_type": "stream",
          "name": "stdout",
          "text": [
            "1.6999765866755225 2.699772393342308\n"
          ]
        }
      ],
      "source": [
        "print(croatia.mean(), france.mean())"
      ]
    },
    {
      "cell_type": "markdown",
      "metadata": {
        "id": "YjYjBH0XnoNC"
      },
      "source": [
        "사전분포의 평균은 약 1.4이다. 크로아티아가 두 골을 넣은 후, 사후확률의 평균은 사전확률 평균과 데이터의 중간 정도인 1.7이 되었다. 프랑스는 4점을 낸 후, 사후평균이 2.7이 되었다. 이 결과는 전형적인 베이지안 갱신이다. 사후분ㅇ포는 사전분포와 데이터 간의 절충안 어딘가에 위치한다."
      ]
    },
    {
      "cell_type": "markdown",
      "metadata": {
        "id": "ELB8D8gjnoNC"
      },
      "source": [
        "## Probability of Superiority\n",
        "\n",
        "지금까지 각 팀의 사후확률 분포를 살펴봤으니, 처음의 질문에 대답할 수 있다. 프랑스가 더 나은 팀일 가능성은 어느 정도일까?\n",
        "\n",
        "모델에서 더 나은 이란 말은 상대팀보다 득점률이 더 높다는 뜻이다. 사후분포를 사용해서 프랑스의 분포에서 임의의 값을 선택했을 때 이 값이 크로아티아의 분포에서 선택한 임의의 값보다 더 클 확률을 구할 수 있다. 한 가지 방법은 두 분포의 모든 값의 쌍을 나열한 후, 한 값이 다른 값보다 클 확률을 모두 더한다.\n",
        "\n",
        "One way to do that is to enumerate all pairs of values from the two distributions, adding up the total probability that one value exceeds the other."
      ]
    },
    {
      "cell_type": "code",
      "execution_count": 23,
      "metadata": {
        "execution": {
          "iopub.execute_input": "2021-04-16T19:35:37.352893Z",
          "iopub.status.busy": "2021-04-16T19:35:37.352483Z",
          "iopub.status.idle": "2021-04-16T19:35:37.355738Z",
          "shell.execute_reply": "2021-04-16T19:35:37.355251Z"
        },
        "id": "6cRDqXQJnoNC"
      },
      "outputs": [],
      "source": [
        "def prob_gt(pmf1, pmf2):\n",
        "    \"\"\"Compute the probability of superiority.\"\"\"\n",
        "    total = 0\n",
        "    for q1, p1 in pmf1.items():\n",
        "        for q2, p2 in pmf2.items():\n",
        "            if q1 > q2:\n",
        "                total += p1 * p2\n",
        "    return total"
      ]
    },
    {
      "cell_type": "markdown",
      "metadata": {
        "id": "7Mi2VmhwnoNC"
      },
      "source": [
        "This is similar to the method we use in <<_Addends>> to compute the distribution of a sum.\n",
        "Here's how we use it:"
      ]
    },
    {
      "cell_type": "code",
      "execution_count": 24,
      "metadata": {
        "execution": {
          "iopub.execute_input": "2021-04-16T19:35:37.361765Z",
          "iopub.status.busy": "2021-04-16T19:35:37.361299Z",
          "iopub.status.idle": "2021-04-16T19:35:37.363760Z",
          "shell.execute_reply": "2021-04-16T19:35:37.364124Z"
        },
        "colab": {
          "base_uri": "https://localhost:8080/"
        },
        "id": "b-aJj5UNnoNC",
        "outputId": "9034bb42-93eb-4b46-a8e4-1965c571496f"
      },
      "outputs": [
        {
          "output_type": "execute_result",
          "data": {
            "text/plain": [
              "0.7499366290930155"
            ]
          },
          "metadata": {},
          "execution_count": 24
        }
      ],
      "source": [
        "prob_gt(france, croatia)"
      ]
    },
    {
      "cell_type": "markdown",
      "metadata": {
        "id": "K2aKgLIcnoNC"
      },
      "source": [
        "`Pmf` provides a function that does the same thing."
      ]
    },
    {
      "cell_type": "code",
      "execution_count": 25,
      "metadata": {
        "execution": {
          "iopub.execute_input": "2021-04-16T19:35:37.367610Z",
          "iopub.status.busy": "2021-04-16T19:35:37.366920Z",
          "iopub.status.idle": "2021-04-16T19:35:37.370347Z",
          "shell.execute_reply": "2021-04-16T19:35:37.370715Z"
        },
        "colab": {
          "base_uri": "https://localhost:8080/"
        },
        "id": "f9suwTqCnoNC",
        "outputId": "2e038c34-88f6-4d62-9e4c-3249eb1b8437"
      },
      "outputs": [
        {
          "output_type": "execute_result",
          "data": {
            "text/plain": [
              "0.7499366290930174"
            ]
          },
          "metadata": {},
          "execution_count": 25
        }
      ],
      "source": [
        "Pmf.prob_gt(france, croatia)"
      ]
    },
    {
      "cell_type": "markdown",
      "metadata": {
        "id": "V7DoqmJ2noNC"
      },
      "source": [
        "The results are slightly different because `Pmf.prob_gt` uses array operators rather than `for` loops.\n",
        "\n",
        "Either way, the result is close to 75%.  So, on the basis of one game, we have moderate confidence that France is actually the better team.\n",
        "\n",
        "Of course, we should remember that this result is based on the assumption that the goal-scoring rate is constant.\n",
        "In reality, if a team is down by one goal, they might play more aggressively toward the end of the game, making them more likely to score, but also more likely to give up an additional goal.\n",
        "\n",
        "As always, the results are only as good as the model."
      ]
    },
    {
      "cell_type": "markdown",
      "metadata": {
        "id": "NcjKvaRFnoNC"
      },
      "source": [
        "## Predicting the Rematch\n",
        "\n",
        "그럼 이제 두 번째 질문을 살펴보자. 만약 같은 팀이 다시 경기를 한다면, 크로아티아가 다시 이길 확률은 얼마일까? 이 질문에 대답하려면, 한 팀이 얻을 점수에 대한 사후예측분포를 만들어야 한다.\n",
        "\n",
        "If we knew the goal scoring rate, `lam`, the distribution of goals would be a Poisson distribution with parameter `lam`.\n",
        "Since we don't know `lam`, the distribution of goals is a mixture of a Poisson distributions with different values of `lam`.\n",
        "\n",
        "First I'll generate a sequence of `Pmf` objects, one for each value of `lam`."
      ]
    },
    {
      "cell_type": "code",
      "execution_count": 26,
      "metadata": {
        "execution": {
          "iopub.execute_input": "2021-04-16T19:35:37.411054Z",
          "iopub.status.busy": "2021-04-16T19:35:37.394398Z",
          "iopub.status.idle": "2021-04-16T19:35:37.494790Z",
          "shell.execute_reply": "2021-04-16T19:35:37.494245Z"
        },
        "id": "aymPMS9mnoNC"
      },
      "outputs": [],
      "source": [
        "pmf_seq = [make_poisson_pmf(lam, goals) \n",
        "           for lam in prior.qs]"
      ]
    },
    {
      "cell_type": "markdown",
      "metadata": {
        "id": "QZF4-DKtnoNC"
      },
      "source": [
        "The following figure shows what these distributions look like for a few values of `lam`."
      ]
    },
    {
      "cell_type": "code",
      "execution_count": 27,
      "metadata": {
        "execution": {
          "iopub.execute_input": "2021-04-16T19:35:37.518985Z",
          "iopub.status.busy": "2021-04-16T19:35:37.518453Z",
          "iopub.status.idle": "2021-04-16T19:35:38.081641Z",
          "shell.execute_reply": "2021-04-16T19:35:38.082938Z"
        },
        "tags": [],
        "colab": {
          "base_uri": "https://localhost:8080/",
          "height": 297
        },
        "id": "QzbI3iCHnoNC",
        "outputId": "b1e953ac-8462-43b2-9024-e1314a98b30a"
      },
      "outputs": [
        {
          "output_type": "display_data",
          "data": {
            "text/plain": [
              "<Figure size 432x288 with 4 Axes>"
            ],
            "image/png": "[encoded data removed]"
          },
          "metadata": {
            "needs_background": "light"
          }
        }
      ],
      "source": [
        "import matplotlib.pyplot as plt\n",
        "\n",
        "for i, index in enumerate([10, 20, 30, 40]):\n",
        "    plt.subplot(2, 2, i+1)\n",
        "    lam = prior.qs[index]\n",
        "    pmf = pmf_seq[index]\n",
        "    pmf.bar(label=f'$\\lambda$ = {lam}', color='C3')\n",
        "    decorate_goals()"
      ]
    },
    {
      "cell_type": "markdown",
      "metadata": {
        "id": "lyNq5KmtnoNC"
      },
      "source": [
        "The predictive distribution is a mixture of these `Pmf` objects, weighted with the posterior probabilities.\n",
        "We can use `make_mixture` from <<_GeneralMixtures>> to compute this mixture."
      ]
    },
    {
      "cell_type": "code",
      "execution_count": 28,
      "metadata": {
        "execution": {
          "iopub.execute_input": "2021-04-16T19:35:38.175633Z",
          "iopub.status.busy": "2021-04-16T19:35:38.174868Z",
          "iopub.status.idle": "2021-04-16T19:35:38.178570Z",
          "shell.execute_reply": "2021-04-16T19:35:38.179238Z"
        },
        "id": "Fhp20AqXnoNC"
      },
      "outputs": [],
      "source": [
        "from utils import make_mixture\n",
        "\n",
        "pred_france = make_mixture(france, pmf_seq)"
      ]
    },
    {
      "cell_type": "markdown",
      "metadata": {
        "id": "XNb115TKnoNC"
      },
      "source": [
        "Here's the predictive distribution for the number of goals France would score in a rematch."
      ]
    },
    {
      "cell_type": "code",
      "execution_count": 29,
      "metadata": {
        "execution": {
          "iopub.execute_input": "2021-04-16T19:35:38.203125Z",
          "iopub.status.busy": "2021-04-16T19:35:38.202242Z",
          "iopub.status.idle": "2021-04-16T19:35:38.375595Z",
          "shell.execute_reply": "2021-04-16T19:35:38.375124Z"
        },
        "tags": [],
        "colab": {
          "base_uri": "https://localhost:8080/",
          "height": 297
        },
        "id": "QSN9gCDvnoNC",
        "outputId": "7ecab0b7-71f1-4816-998c-2309dde54cec"
      },
      "outputs": [
        {
          "output_type": "display_data",
          "data": {
            "text/plain": [
              "<Figure size 432x288 with 1 Axes>"
            ],
            "image/png": "[encoded data removed]"
          },
          "metadata": {
            "needs_background": "light"
          }
        }
      ],
      "source": [
        "pred_france.bar(color='C3', label='France')\n",
        "decorate_goals('Posterior predictive distribution')"
      ]
    },
    {
      "cell_type": "markdown",
      "metadata": {
        "id": "dmWBYe2InoNC"
      },
      "source": [
        "This distribution represents two sources of uncertainty: we don't know the actual value of `lam`, and even if we did, we would not know the number of goals in the next game.\n",
        "\n",
        "Here's the predictive distribution for Croatia."
      ]
    },
    {
      "cell_type": "code",
      "execution_count": 30,
      "metadata": {
        "execution": {
          "iopub.execute_input": "2021-04-16T19:35:38.388532Z",
          "iopub.status.busy": "2021-04-16T19:35:38.385236Z",
          "iopub.status.idle": "2021-04-16T19:35:38.392723Z",
          "shell.execute_reply": "2021-04-16T19:35:38.393065Z"
        },
        "id": "flqHCdvOnoNC"
      },
      "outputs": [],
      "source": [
        "pred_croatia = make_mixture(croatia, pmf_seq)"
      ]
    },
    {
      "cell_type": "code",
      "execution_count": 31,
      "metadata": {
        "execution": {
          "iopub.execute_input": "2021-04-16T19:35:38.412413Z",
          "iopub.status.busy": "2021-04-16T19:35:38.411968Z",
          "iopub.status.idle": "2021-04-16T19:35:38.571854Z",
          "shell.execute_reply": "2021-04-16T19:35:38.572272Z"
        },
        "scrolled": true,
        "tags": [],
        "colab": {
          "base_uri": "https://localhost:8080/",
          "height": 297
        },
        "id": "hlfRn6ztnoNC",
        "outputId": "14591d10-d93c-45f0-b33c-ff8a764d21c1"
      },
      "outputs": [
        {
          "output_type": "display_data",
          "data": {
            "text/plain": [
              "<Figure size 432x288 with 1 Axes>"
            ],
            "image/png": "[encoded data removed]"
          },
          "metadata": {
            "needs_background": "light"
          }
        }
      ],
      "source": [
        "pred_croatia.bar(color='C0', label='Croatia')\n",
        "decorate_goals('Posterior predictive distribution')"
      ]
    },
    {
      "cell_type": "markdown",
      "metadata": {
        "id": "r9f91IRDnoNC"
      },
      "source": [
        "We can use these distributions to compute the probability that France wins, loses, or ties the rematch."
      ]
    },
    {
      "cell_type": "code",
      "execution_count": 32,
      "metadata": {
        "execution": {
          "iopub.execute_input": "2021-04-16T19:35:38.575867Z",
          "iopub.status.busy": "2021-04-16T19:35:38.575226Z",
          "iopub.status.idle": "2021-04-16T19:35:38.578736Z",
          "shell.execute_reply": "2021-04-16T19:35:38.578262Z"
        },
        "colab": {
          "base_uri": "https://localhost:8080/"
        },
        "id": "cLMOFMoFnoND",
        "outputId": "58fe11d9-f591-4248-91e7-d297a8bcf44b"
      },
      "outputs": [
        {
          "output_type": "execute_result",
          "data": {
            "text/plain": [
              "0.5703522415934519"
            ]
          },
          "metadata": {},
          "execution_count": 32
        }
      ],
      "source": [
        "win = Pmf.prob_gt(pred_france, pred_croatia)\n",
        "win"
      ]
    },
    {
      "cell_type": "code",
      "execution_count": 33,
      "metadata": {
        "execution": {
          "iopub.execute_input": "2021-04-16T19:35:38.582943Z",
          "iopub.status.busy": "2021-04-16T19:35:38.582298Z",
          "iopub.status.idle": "2021-04-16T19:35:38.585664Z",
          "shell.execute_reply": "2021-04-16T19:35:38.585183Z"
        },
        "colab": {
          "base_uri": "https://localhost:8080/"
        },
        "id": "JeNRg9hXnoND",
        "outputId": "c3c4d4f5-8170-43df-ba38-74d3a251910e"
      },
      "outputs": [
        {
          "output_type": "execute_result",
          "data": {
            "text/plain": [
              "0.26443376257235873"
            ]
          },
          "metadata": {},
          "execution_count": 33
        }
      ],
      "source": [
        "lose = Pmf.prob_lt(pred_france, pred_croatia)\n",
        "lose"
      ]
    },
    {
      "cell_type": "code",
      "execution_count": 34,
      "metadata": {
        "execution": {
          "iopub.execute_input": "2021-04-16T19:35:38.590259Z",
          "iopub.status.busy": "2021-04-16T19:35:38.589444Z",
          "iopub.status.idle": "2021-04-16T19:35:38.593139Z",
          "shell.execute_reply": "2021-04-16T19:35:38.592536Z"
        },
        "colab": {
          "base_uri": "https://localhost:8080/"
        },
        "id": "quOkkamknoND",
        "outputId": "7bcd2fc1-d790-402e-baa9-33c2f074be6b"
      },
      "outputs": [
        {
          "output_type": "execute_result",
          "data": {
            "text/plain": [
              "0.16521399583418947"
            ]
          },
          "metadata": {},
          "execution_count": 34
        }
      ],
      "source": [
        "tie = Pmf.prob_eq(pred_france, pred_croatia)\n",
        "tie"
      ]
    },
    {
      "cell_type": "markdown",
      "metadata": {
        "id": "JBINmZoEnoND"
      },
      "source": [
        "Assuming that France wins half of the ties, their chance of winning the rematch is about 65%."
      ]
    },
    {
      "cell_type": "code",
      "execution_count": 35,
      "metadata": {
        "execution": {
          "iopub.execute_input": "2021-04-16T19:35:38.597954Z",
          "iopub.status.busy": "2021-04-16T19:35:38.597082Z",
          "iopub.status.idle": "2021-04-16T19:35:38.600558Z",
          "shell.execute_reply": "2021-04-16T19:35:38.601362Z"
        },
        "colab": {
          "base_uri": "https://localhost:8080/"
        },
        "id": "-iJni9H0noND",
        "outputId": "c108a0cd-285a-42a8-d9ef-aeec818ac918"
      },
      "outputs": [
        {
          "output_type": "execute_result",
          "data": {
            "text/plain": [
              "0.6529592395105466"
            ]
          },
          "metadata": {},
          "execution_count": 35
        }
      ],
      "source": [
        "win + tie/2"
      ]
    },
    {
      "cell_type": "markdown",
      "metadata": {
        "id": "W978bSWKnoND"
      },
      "source": [
        "This is a bit lower than their probability of superiority, which is 75%. And that makes sense, because we are less certain about the outcome of a single game than we are about the goal-scoring rates.\n",
        "Even if France is the better team, they might lose the game."
      ]
    },
    {
      "cell_type": "markdown",
      "metadata": {
        "id": "IHMLLGnsnoND"
      },
      "source": [
        "## The Exponential Distribution\n",
        "\n",
        "As an exercise at the end of this notebook, you'll have a chance to work on  the following variation on the World Cup Problem:\n",
        "\n",
        ">In the 2014 FIFA World Cup, Germany played Brazil in a semifinal match. Germany scored after 11 minutes and again at the 23 minute mark. At that point in the match, how many goals would you expect Germany to score after 90 minutes? What was the probability that they would score 5 more goals (as, in fact, they did)?\n",
        "\n",
        "In this version, notice that the data is not the number of goals in a fixed period of time, but the time between goals.\n",
        "\n",
        "To compute the likelihood of data like this, we can take advantage of the theory of Poisson processes again.  If each team has a constant goal-scoring rate, we expect the time between goals to follow an [exponential distribution](https://en.wikipedia.org/wiki/Exponential_distribution).\n",
        "\n",
        "If the goal-scoring rate is $\\lambda$, the probability of seeing an interval between goals of $t$ is proportional to the PDF of the exponential distribution:\n",
        "\n",
        "$$\\lambda \\exp(-\\lambda t)$$\n",
        "\n",
        "Because $t$ is a continuous quantity, the value of this expression is not a probability; it is a probability density.  However, it is proportional to the probability of the data, so we can use it as a likelihood in a Bayesian update.\n",
        "\n",
        "SciPy provides `expon`, which creates an object that represents an exponential distribution.\n",
        "However, it does not take `lam` as a parameter in the way you might expect, which makes it awkward to work with.\n",
        "Since the PDF of the exponential distribution is so easy to evaluate, I'll use my own function."
      ]
    },
    {
      "cell_type": "code",
      "execution_count": 36,
      "metadata": {
        "execution": {
          "iopub.execute_input": "2021-04-16T19:35:38.606263Z",
          "iopub.status.busy": "2021-04-16T19:35:38.605541Z",
          "iopub.status.idle": "2021-04-16T19:35:38.607919Z",
          "shell.execute_reply": "2021-04-16T19:35:38.607420Z"
        },
        "id": "UgjEgeyUnoND"
      },
      "outputs": [],
      "source": [
        "def expo_pdf(t, lam):\n",
        "    \"\"\"Compute the PDF of the exponential distribution.\"\"\"\n",
        "    return lam * np.exp(-lam * t)"
      ]
    },
    {
      "cell_type": "markdown",
      "metadata": {
        "id": "eVSf9gnvnoND"
      },
      "source": [
        "To see what the exponential distribution looks like, let's assume again that `lam` is 1.4; we can compute the distribution of $t$ like this:"
      ]
    },
    {
      "cell_type": "code",
      "execution_count": 37,
      "metadata": {
        "execution": {
          "iopub.execute_input": "2021-04-16T19:35:38.612959Z",
          "iopub.status.busy": "2021-04-16T19:35:38.612199Z",
          "iopub.status.idle": "2021-04-16T19:35:38.614877Z",
          "shell.execute_reply": "2021-04-16T19:35:38.614521Z"
        },
        "colab": {
          "base_uri": "https://localhost:8080/"
        },
        "id": "hZ1ZdpOwnoND",
        "outputId": "dbd906e0-26b6-423c-cde4-0cbeae9078ea"
      },
      "outputs": [
        {
          "output_type": "execute_result",
          "data": {
            "text/plain": [
              "25.616650745459093"
            ]
          },
          "metadata": {},
          "execution_count": 37
        }
      ],
      "source": [
        "lam = 1.4\n",
        "qs = np.linspace(0, 4, 101)\n",
        "ps = expo_pdf(qs, lam)\n",
        "pmf_time = Pmf(ps, qs)\n",
        "pmf_time.normalize()"
      ]
    },
    {
      "cell_type": "markdown",
      "metadata": {
        "id": "hxAOVcH4noND"
      },
      "source": [
        "And here's what it looks like:"
      ]
    },
    {
      "cell_type": "code",
      "execution_count": 38,
      "metadata": {
        "execution": {
          "iopub.execute_input": "2021-04-16T19:35:38.618454Z",
          "iopub.status.busy": "2021-04-16T19:35:38.617962Z",
          "iopub.status.idle": "2021-04-16T19:35:38.619909Z",
          "shell.execute_reply": "2021-04-16T19:35:38.620390Z"
        },
        "tags": [],
        "id": "cNgdcNI6noND"
      },
      "outputs": [],
      "source": [
        "def decorate_time(title=''):\n",
        "    decorate(xlabel='Time between goals (games)',\n",
        "             ylabel='PMF',\n",
        "             title=title)"
      ]
    },
    {
      "cell_type": "code",
      "execution_count": 39,
      "metadata": {
        "execution": {
          "iopub.execute_input": "2021-04-16T19:35:38.657510Z",
          "iopub.status.busy": "2021-04-16T19:35:38.643269Z",
          "iopub.status.idle": "2021-04-16T19:35:38.810844Z",
          "shell.execute_reply": "2021-04-16T19:35:38.811207Z"
        },
        "tags": [],
        "colab": {
          "base_uri": "https://localhost:8080/",
          "height": 297
        },
        "id": "6LDa28KknoND",
        "outputId": "d758589c-047c-47c5-e808-a14614536a30"
      },
      "outputs": [
        {
          "output_type": "display_data",
          "data": {
            "text/plain": [
              "<Figure size 432x288 with 1 Axes>"
            ],
            "image/png": "[encoded data removed]"
          },
          "metadata": {
            "needs_background": "light"
          }
        }
      ],
      "source": [
        "pmf_time.plot(label='exponential with $\\lambda$ = 1.4')\n",
        "\n",
        "decorate_time('Distribution of time between goals')"
      ]
    },
    {
      "cell_type": "markdown",
      "metadata": {
        "id": "hp_sv_7onoND"
      },
      "source": [
        "It is counterintuitive, but true, that the most likely time to score a goal is immediately.  After that, the probability of each successive interval is a little lower.\n",
        "\n",
        "With a goal-scoring rate of 1.4, it is possible that a team will take more than one game to score a goal, but it is unlikely that they will take more than two games."
      ]
    },
    {
      "cell_type": "markdown",
      "metadata": {
        "id": "qA6kgpcgnoND"
      },
      "source": [
        "## Summary\n",
        "\n",
        "This chapter introduces three new distributions, so it can be hard to keep them straight.\n",
        "Let's review:\n",
        "\n",
        "* If a system satisfies the assumptions of a Poisson model, the number of events in a period of time follows a Poisson distribution, which is a discrete distribution with integer quantities from 0 to infinity. In practice, we can usually ignore low-probability quantities above a finite limit.\n",
        "\n",
        "* Also under the Poisson model, the interval between events follows an exponential distribution, which is a continuous distribution with quantities from 0 to infinity. Because it is continuous, it is described by a probability density function (PDF) rather than a probability mass function (PMF). But when we use an exponential distribution to compute the likelihood of the data, we can treat densities as unnormalized probabilities.\n",
        "\n",
        "* The Poisson and exponential distributions are parameterized by an event rate, denoted $\\lambda$ or `lam`.\n",
        "\n",
        "* For the prior distribution of $\\lambda$, I used a gamma distribution, which is a continuous distribution with quantities from 0 to infinity, but I approximated it with a discrete, bounded PMF. The gamma distribution has one parameter, denoted $\\alpha$ or `alpha`, which is also its mean.\n",
        "\n",
        "I chose the gamma distribution because the shape is consistent with our background knowledge about goal-scoring rates.\n",
        "There are other distributions we could have used; however, we will see in <<_ConjugatePriors>> that the gamma distribution can be a particularly good choice.\n",
        "\n",
        "But we have a few things to do before we get there, starting with these exercises."
      ]
    },
    {
      "cell_type": "markdown",
      "metadata": {
        "id": "TQM-NClEnoND"
      },
      "source": [
        "## Exercises"
      ]
    },
    {
      "cell_type": "markdown",
      "metadata": {
        "id": "HovuGS38noND"
      },
      "source": [
        "**Exercise:** Let's finish the exercise we started:\n",
        "\n",
        "> 2014년 FIFA월드컵에서, 독일은 브라질과 준결승 경기를 가졌다. 독일은 11분 후와 23분 후에 한 번씩 득점을 했다. 이 경기에서, 90분 후 독일은 몇 점을 냈을까? 5개의 골을 더 넣었을 확률은 얼마일까?"
      ]
    },
    {
      "cell_type": "markdown",
      "metadata": {
        "id": "loZGGzLEnoND"
      },
      "source": [
        "Here are the steps I recommend:\n",
        "\n",
        "1. 앞서 사용한 것과 동일한 감마 사전분포를 사용해서, 각 가능한 `lam`에 대해 11분 후의 득점 수의 가능도를 구한다. 이 때 분을 경기 수로 변환하는 것을 잊지 말자.\n",
        "2. 독일의 첫 득점 후의 `lam`의 사후분포를 구한다.\n",
        "3. 12분이 더 지난 후에 한 점을 더 얻은 후 점수의 가능도를 구한 후 새로 갱신한다. 사전확률, 1점 득점후의 사후확률, 2점 득점 후의 사후확률을 그려본다.\n",
        "4. 독일이 남은 경기 시간인 90-23분 동안 얻을 점수의 사후예측분포를 구한다. 주의: 경기 시간의 비율에 대해 예측 득점 수를 어떻게 만들 지를 고민해야 한다.\n",
        "5. 남은 시간 동안 5점 이상의 점수를 얻을 확률을 구해보자."
      ]
    },
    {
      "cell_type": "code",
      "execution_count": 46,
      "metadata": {
        "execution": {
          "iopub.execute_input": "2021-04-16T19:35:38.815055Z",
          "iopub.status.busy": "2021-04-16T19:35:38.814508Z",
          "iopub.status.idle": "2021-04-16T19:35:38.816805Z",
          "shell.execute_reply": "2021-04-16T19:35:38.816456Z"
        },
        "colab": {
          "base_uri": "https://localhost:8080/"
        },
        "id": "XHoV8S8AnoND",
        "outputId": "2b4bf73c-ef61-49e5-e04b-0d25c316a5fe"
      },
      "outputs": [
        {
          "output_type": "stream",
          "name": "stdout",
          "text": [
            "2.1358882653086892 2.703059034926364\n"
          ]
        }
      ],
      "source": [
        "# Solution goes here\n",
        "def update_expo(pmf, data):\n",
        "    \"\"\"Update based on an observed interval\n",
        "    \n",
        "    pmf: prior PMF\n",
        "    data: time between goals in minutes\n",
        "    \"\"\"\n",
        "    t = data / 90\n",
        "    lams = pmf.qs\n",
        "    likelihood = expo_pdf(t, lams)\n",
        "    pmf *= likelihood\n",
        "    pmf.normalize()\n",
        "\n",
        "germany = prior.copy()\n",
        "update_expo(germany, 11)\n",
        "\n",
        "germany2 = germany.copy()\n",
        "update_expo(germany2, 12)\n",
        "\n",
        "print(germany.mean(), germany2.mean())"
      ]
    },
    {
      "cell_type": "code",
      "execution_count": 48,
      "metadata": {
        "execution": {
          "iopub.execute_input": "2021-04-16T19:35:38.822023Z",
          "iopub.status.busy": "2021-04-16T19:35:38.821587Z",
          "iopub.status.idle": "2021-04-16T19:35:38.823315Z",
          "shell.execute_reply": "2021-04-16T19:35:38.823760Z"
        },
        "colab": {
          "base_uri": "https://localhost:8080/",
          "height": 297
        },
        "id": "80rXILLCnoND",
        "outputId": "4ada889e-fb57-4799-d264-cdb10f987b5d"
      },
      "outputs": [
        {
          "output_type": "display_data",
          "data": {
            "text/plain": [
              "<Figure size 432x288 with 1 Axes>"
            ],
            "image/png": "[encoded data removed]"
          },
          "metadata": {
            "needs_background": "light"
          }
        }
      ],
      "source": [
        "# Solution goes here\n",
        "prior.plot(ls='--', label='prior', color='C5')\n",
        "germany.plot(color='C3', label='Posterior after 1 goal')\n",
        "germany2.plot(color='C16', label='Posterior after 2 goals')\n",
        "\n",
        "decorate_rate('Prior and posterior distributions')"
      ]
    },
    {
      "cell_type": "code",
      "execution_count": 49,
      "metadata": {
        "execution": {
          "iopub.execute_input": "2021-04-16T19:35:38.828321Z",
          "iopub.status.busy": "2021-04-16T19:35:38.827420Z",
          "iopub.status.idle": "2021-04-16T19:35:38.831037Z",
          "shell.execute_reply": "2021-04-16T19:35:38.830566Z"
        },
        "colab": {
          "base_uri": "https://localhost:8080/",
          "height": 314
        },
        "id": "D0V-HcpnnoND",
        "outputId": "e0de7c50-5b22-4320-ce2d-5fcf22a7d711"
      },
      "outputs": [
        {
          "output_type": "execute_result",
          "data": {
            "text/plain": [
              "0.09286200122834538"
            ]
          },
          "metadata": {},
          "execution_count": 49
        },
        {
          "output_type": "display_data",
          "data": {
            "text/plain": [
              "<Figure size 432x288 with 1 Axes>"
            ],
            "image/png": "[encoded data removed]"
          },
          "metadata": {
            "needs_background": "light"
          }
        }
      ],
      "source": [
        "# Solution goes here\n",
        "t = (90-23) / 90\n",
        "\n",
        "pmf_seq = [make_poisson_pmf(lam*t, goals) \n",
        "           for lam in germany2.qs]\n",
        "\n",
        "pred_germany2 = make_mixture(germany2, pmf_seq)\n",
        "pred_germany2.bar(color='C1', label='germany')\n",
        "decorate_goals('Posterior predictive distribution')\n",
        "pred_germany2[5]\n",
        "pred_germany2.prob_ge(5)"
      ]
    },
    {
      "cell_type": "code",
      "execution_count": 43,
      "metadata": {
        "execution": {
          "iopub.execute_input": "2021-04-16T19:35:38.880115Z",
          "iopub.status.busy": "2021-04-16T19:35:38.873830Z",
          "iopub.status.idle": "2021-04-16T19:35:38.999279Z",
          "shell.execute_reply": "2021-04-16T19:35:38.998901Z"
        },
        "id": "K5grEFupnoND"
      },
      "outputs": [],
      "source": [
        "# Solution goes here"
      ]
    },
    {
      "cell_type": "code",
      "execution_count": 44,
      "metadata": {
        "execution": {
          "iopub.execute_input": "2021-04-16T19:35:39.017480Z",
          "iopub.status.busy": "2021-04-16T19:35:39.012527Z",
          "iopub.status.idle": "2021-04-16T19:35:39.118263Z",
          "shell.execute_reply": "2021-04-16T19:35:39.117817Z"
        },
        "id": "fs0_0gLhnoND"
      },
      "outputs": [],
      "source": [
        "# Solution goes here"
      ]
    },
    {
      "cell_type": "code",
      "execution_count": null,
      "metadata": {
        "execution": {
          "iopub.execute_input": "2021-04-16T19:35:39.132602Z",
          "iopub.status.busy": "2021-04-16T19:35:39.130808Z",
          "iopub.status.idle": "2021-04-16T19:35:39.137447Z",
          "shell.execute_reply": "2021-04-16T19:35:39.137001Z"
        },
        "id": "M9SbSpxhnoND"
      },
      "outputs": [],
      "source": [
        "# Solution goes here"
      ]
    },
    {
      "cell_type": "code",
      "execution_count": null,
      "metadata": {
        "execution": {
          "iopub.execute_input": "2021-04-16T19:35:39.158798Z",
          "iopub.status.busy": "2021-04-16T19:35:39.158215Z",
          "iopub.status.idle": "2021-04-16T19:35:39.291504Z",
          "shell.execute_reply": "2021-04-16T19:35:39.291118Z"
        },
        "id": "lJdcyBT0noND"
      },
      "outputs": [],
      "source": [
        "# Solution goes here"
      ]
    },
    {
      "cell_type": "code",
      "execution_count": null,
      "metadata": {
        "execution": {
          "iopub.execute_input": "2021-04-16T19:35:39.294944Z",
          "iopub.status.busy": "2021-04-16T19:35:39.294527Z",
          "iopub.status.idle": "2021-04-16T19:35:39.299061Z",
          "shell.execute_reply": "2021-04-16T19:35:39.298714Z"
        },
        "id": "Z0rL7NiVnoND"
      },
      "outputs": [],
      "source": [
        "# Solution goes here"
      ]
    },
    {
      "cell_type": "code",
      "execution_count": null,
      "metadata": {
        "execution": {
          "iopub.execute_input": "2021-04-16T19:35:39.302588Z",
          "iopub.status.busy": "2021-04-16T19:35:39.302155Z",
          "iopub.status.idle": "2021-04-16T19:35:39.306746Z",
          "shell.execute_reply": "2021-04-16T19:35:39.306108Z"
        },
        "id": "yQRp-kvQnoNE"
      },
      "outputs": [],
      "source": [
        "# Solution goes here"
      ]
    },
    {
      "cell_type": "markdown",
      "metadata": {
        "id": "tWyPIwy_noNE"
      },
      "source": [
        "**Exercise:** 월드컵 문제의 첫 번째 버전으로 돌아가서, 프랑스와 크로아티아가 경기를 한다고 가정하자. 이 때 프랑스가 먼저 득점할 확률은 얼마인가?"
      ]
    },
    {
      "cell_type": "markdown",
      "metadata": {
        "tags": [],
        "id": "HGvmXDganoNE"
      },
      "source": [
        "Hint: Compute the posterior predictive distribution for the time until the first goal by making a mixture of exponential distributions.  You can use the following function to make a PMF that approximates an exponential distribution."
      ]
    },
    {
      "cell_type": "code",
      "execution_count": 50,
      "metadata": {
        "execution": {
          "iopub.execute_input": "2021-04-16T19:35:39.310510Z",
          "iopub.status.busy": "2021-04-16T19:35:39.310077Z",
          "iopub.status.idle": "2021-04-16T19:35:39.311871Z",
          "shell.execute_reply": "2021-04-16T19:35:39.312246Z"
        },
        "tags": [],
        "id": "bxNJPLiGnoNE"
      },
      "outputs": [],
      "source": [
        "def make_expo_pmf(lam, high):\n",
        "    \"\"\"Make a PMF of an exponential distribution.\n",
        "    \n",
        "    lam: event rate\n",
        "    high: upper bound on the interval `t`\n",
        "    \n",
        "    returns: Pmf of the interval between events\n",
        "    \"\"\"\n",
        "    qs = np.linspace(0, high, 101)\n",
        "    ps = expo_pdf(qs, lam)\n",
        "    pmf = Pmf(ps, qs)\n",
        "    pmf.normalize()\n",
        "    return pmf"
      ]
    },
    {
      "cell_type": "code",
      "execution_count": 51,
      "metadata": {
        "execution": {
          "iopub.execute_input": "2021-04-16T19:35:39.368616Z",
          "iopub.status.busy": "2021-04-16T19:35:39.368114Z",
          "iopub.status.idle": "2021-04-16T19:35:39.369779Z",
          "shell.execute_reply": "2021-04-16T19:35:39.370158Z"
        },
        "colab": {
          "base_uri": "https://localhost:8080/",
          "height": 297
        },
        "id": "qlMXtbuRnoNE",
        "outputId": "e31eedd9-7eb4-48a3-bb40-34a06fa02544"
      },
      "outputs": [
        {
          "output_type": "display_data",
          "data": {
            "text/plain": [
              "<Figure size 432x288 with 1 Axes>"
            ],
            "image/png": "[encoded data removed]"
          },
          "metadata": {
            "needs_background": "light"
          }
        }
      ],
      "source": [
        "# Solution goes here\n",
        "pmf_seq = [make_expo_pmf(lam, high=4) for lam in prior.qs]\n",
        "pred_france = make_mixture(france, pmf_seq)\n",
        "pred_croatia = make_mixture(croatia, pmf_seq)\n",
        "\n",
        "pred_france.plot(label='France', color='C3')\n",
        "pred_croatia.plot(label='Croatia', color='C0')\n",
        "\n",
        "decorate_time('Posterior predictive distribution')"
      ]
    },
    {
      "cell_type": "code",
      "execution_count": 52,
      "metadata": {
        "execution": {
          "iopub.execute_input": "2021-04-16T19:35:39.379507Z",
          "iopub.status.busy": "2021-04-16T19:35:39.379076Z",
          "iopub.status.idle": "2021-04-16T19:35:39.409912Z",
          "shell.execute_reply": "2021-04-16T19:35:39.409484Z"
        },
        "colab": {
          "base_uri": "https://localhost:8080/"
        },
        "id": "6dSiyGb2noNE",
        "outputId": "99bef3cb-dbb9-4765-ef9d-a629ac8804a7"
      },
      "outputs": [
        {
          "output_type": "execute_result",
          "data": {
            "text/plain": [
              "0.5904596116867543"
            ]
          },
          "metadata": {},
          "execution_count": 52
        }
      ],
      "source": [
        "# Solution goes here\n",
        "Pmf.prob_lt(pred_france, pred_croatia)"
      ]
    },
    {
      "cell_type": "code",
      "execution_count": null,
      "metadata": {
        "execution": {
          "iopub.execute_input": "2021-04-16T19:35:39.448811Z",
          "iopub.status.busy": "2021-04-16T19:35:39.440846Z",
          "iopub.status.idle": "2021-04-16T19:35:39.601265Z",
          "shell.execute_reply": "2021-04-16T19:35:39.601621Z"
        },
        "id": "zWxBsfhWnoNE"
      },
      "outputs": [],
      "source": [
        "# Solution goes here"
      ]
    },
    {
      "cell_type": "code",
      "execution_count": null,
      "metadata": {
        "execution": {
          "iopub.execute_input": "2021-04-16T19:35:39.605608Z",
          "iopub.status.busy": "2021-04-16T19:35:39.604876Z",
          "iopub.status.idle": "2021-04-16T19:35:39.607907Z",
          "shell.execute_reply": "2021-04-16T19:35:39.607362Z"
        },
        "id": "jJRtkr8rnoNE"
      },
      "outputs": [],
      "source": [
        "# Solution goes here"
      ]
    },
    {
      "cell_type": "markdown",
      "metadata": {
        "id": "eocAjWY6noNE"
      },
      "source": [
        "**Exercise:** In the 2010-11 National Hockey League (NHL) Finals, my beloved Boston\n",
        "Bruins played a best-of-seven championship series against the despised\n",
        "Vancouver Canucks.  Boston lost the first two games 0-1 and 2-3, then\n",
        "won the next two games 8-1 and 4-0.  At this point in the series, what\n",
        "is the probability that Boston will win the next game, and what is\n",
        "their probability of winning the championship?\n",
        "\n",
        "To choose a prior distribution, I got some statistics from\n",
        "http://www.nhl.com, specifically the average goals per game\n",
        "for each team in the 2010-11 season.  The distribution is well modeled by a gamma distribution with mean 2.8.\n",
        "\n",
        "In what ways do you think the outcome of these games might violate the assumptions of the Poisson model?  How would these violations affect your predictions?"
      ]
    },
    {
      "cell_type": "code",
      "execution_count": 53,
      "metadata": {
        "execution": {
          "iopub.execute_input": "2021-04-16T19:35:39.611311Z",
          "iopub.status.busy": "2021-04-16T19:35:39.610761Z",
          "iopub.status.idle": "2021-04-16T19:35:39.612613Z",
          "shell.execute_reply": "2021-04-16T19:35:39.613050Z"
        },
        "colab": {
          "base_uri": "https://localhost:8080/"
        },
        "id": "mosvc6z6noNE",
        "outputId": "b98c78e2-af56-4405-e1ef-bbf276fe8c39"
      },
      "outputs": [
        {
          "output_type": "execute_result",
          "data": {
            "text/plain": [
              "6.666325137469514"
            ]
          },
          "metadata": {},
          "execution_count": 53
        }
      ],
      "source": [
        "# Solution goes here\n",
        "\n",
        "from scipy.stats import gamma\n",
        "\n",
        "alpha = 2.8\n",
        "qs = np.linspace(0, 15, 101)\n",
        "ps = gamma.pdf(qs, alpha)\n",
        "prior_hockey = Pmf(ps, qs)\n",
        "prior_hockey.normalize()"
      ]
    },
    {
      "cell_type": "code",
      "execution_count": 54,
      "metadata": {
        "execution": {
          "iopub.execute_input": "2021-04-16T19:35:39.619564Z",
          "iopub.status.busy": "2021-04-16T19:35:39.618800Z",
          "iopub.status.idle": "2021-04-16T19:35:39.622375Z",
          "shell.execute_reply": "2021-04-16T19:35:39.621760Z"
        },
        "colab": {
          "base_uri": "https://localhost:8080/",
          "height": 314
        },
        "id": "CnZYjhqNnoNE",
        "outputId": "ca0d3a40-f05c-4bac-e2c3-ad3af12e7a06"
      },
      "outputs": [
        {
          "output_type": "execute_result",
          "data": {
            "text/plain": [
              "2.7997400090376567"
            ]
          },
          "metadata": {},
          "execution_count": 54
        },
        {
          "output_type": "display_data",
          "data": {
            "text/plain": [
              "<Figure size 432x288 with 1 Axes>"
            ],
            "image/png": "[encoded data removed]"
          },
          "metadata": {
            "needs_background": "light"
          }
        }
      ],
      "source": [
        "# Solution goes here\n",
        "\n",
        "prior_hockey.plot(ls='--', color='C5')\n",
        "decorate_rate('Prior distribution for hockey')\n",
        "prior_hockey.mean()"
      ]
    },
    {
      "cell_type": "code",
      "execution_count": 55,
      "metadata": {
        "execution": {
          "iopub.execute_input": "2021-04-16T19:35:39.637525Z",
          "iopub.status.busy": "2021-04-16T19:35:39.634539Z",
          "iopub.status.idle": "2021-04-16T19:35:39.789592Z",
          "shell.execute_reply": "2021-04-16T19:35:39.789137Z"
        },
        "colab": {
          "base_uri": "https://localhost:8080/"
        },
        "id": "D0YsVEfJnoNE",
        "outputId": "d6ee0297-1ee8-4666-95cc-ab0fedacfa79"
      },
      "outputs": [
        {
          "output_type": "execute_result",
          "data": {
            "text/plain": [
              "3.3599999999999985"
            ]
          },
          "metadata": {},
          "execution_count": 55
        }
      ],
      "source": [
        "# Solution goes here\n",
        "\n",
        "bruins = prior_hockey.copy()\n",
        "for data in [0, 2, 8, 4]:\n",
        "    update_poisson(bruins, data)\n",
        "    \n",
        "bruins.mean()"
      ]
    },
    {
      "cell_type": "code",
      "execution_count": 56,
      "metadata": {
        "execution": {
          "iopub.execute_input": "2021-04-16T19:35:39.800657Z",
          "iopub.status.busy": "2021-04-16T19:35:39.800187Z",
          "iopub.status.idle": "2021-04-16T19:35:39.802525Z",
          "shell.execute_reply": "2021-04-16T19:35:39.802876Z"
        },
        "colab": {
          "base_uri": "https://localhost:8080/"
        },
        "id": "sm7-Vjz-noNE",
        "outputId": "d9dd1922-4dc1-43d6-c3ec-4ce3377e26aa"
      },
      "outputs": [
        {
          "output_type": "execute_result",
          "data": {
            "text/plain": [
              "1.5599999606443666"
            ]
          },
          "metadata": {},
          "execution_count": 56
        }
      ],
      "source": [
        "# Solution goes here\n",
        "\n",
        "canucks = prior_hockey.copy()\n",
        "for data in [1, 3, 1, 0]:\n",
        "    update_poisson(canucks, data)\n",
        "    \n",
        "canucks.mean()"
      ]
    },
    {
      "cell_type": "code",
      "execution_count": 57,
      "metadata": {
        "execution": {
          "iopub.execute_input": "2021-04-16T19:35:39.815048Z",
          "iopub.status.busy": "2021-04-16T19:35:39.814400Z",
          "iopub.status.idle": "2021-04-16T19:35:39.817231Z",
          "shell.execute_reply": "2021-04-16T19:35:39.817589Z"
        },
        "colab": {
          "base_uri": "https://localhost:8080/",
          "height": 297
        },
        "id": "CO8FkJgGnoNE",
        "outputId": "60746cf1-78d4-462f-8564-5c78e20697e4"
      },
      "outputs": [
        {
          "output_type": "display_data",
          "data": {
            "text/plain": [
              "<Figure size 432x288 with 1 Axes>"
            ],
            "image/png": "[encoded data removed]"
          },
          "metadata": {
            "needs_background": "light"
          }
        }
      ],
      "source": [
        "# Solution goes \n",
        "\n",
        "canucks.plot(label='Canucks')\n",
        "bruins.plot(label='Bruins')\n",
        "\n",
        "decorate_rate('Posterior distributions')"
      ]
    },
    {
      "cell_type": "code",
      "execution_count": 58,
      "metadata": {
        "execution": {
          "iopub.execute_input": "2021-04-16T19:35:39.864860Z",
          "iopub.status.busy": "2021-04-16T19:35:39.845438Z",
          "iopub.status.idle": "2021-04-16T19:35:40.011253Z",
          "shell.execute_reply": "2021-04-16T19:35:40.010825Z"
        },
        "id": "_Oeu7I4dnoNE"
      },
      "outputs": [],
      "source": [
        "\n",
        "\n",
        "goals = np.arange(15)\n",
        "pmf_seq = [make_poisson_pmf(lam, goals) for lam in bruins.qs]"
      ]
    },
    {
      "cell_type": "code",
      "execution_count": 59,
      "metadata": {
        "execution": {
          "iopub.execute_input": "2021-04-16T19:35:40.018735Z",
          "iopub.status.busy": "2021-04-16T19:35:40.016139Z",
          "iopub.status.idle": "2021-04-16T19:35:40.134862Z",
          "shell.execute_reply": "2021-04-16T19:35:40.134445Z"
        },
        "colab": {
          "base_uri": "https://localhost:8080/",
          "height": 297
        },
        "id": "bVCEcRTtnoNE",
        "outputId": "984b5bfd-f6fe-4a9b-a523-377324aef127"
      },
      "outputs": [
        {
          "output_type": "display_data",
          "data": {
            "text/plain": [
              "<Figure size 432x288 with 1 Axes>"
            ],
            "image/png": "[encoded data removed]"
          },
          "metadata": {
            "needs_background": "light"
          }
        }
      ],
      "source": [
        "# Solution goes here\n",
        "\n",
        "pred_bruins = make_mixture(bruins, pmf_seq)\n",
        "\n",
        "pred_bruins.bar(label='Bruins', color='C1')\n",
        "decorate_goals('Posterior predictive distribution')"
      ]
    },
    {
      "cell_type": "code",
      "execution_count": 60,
      "metadata": {
        "execution": {
          "iopub.execute_input": "2021-04-16T19:35:40.144335Z",
          "iopub.status.busy": "2021-04-16T19:35:40.143540Z",
          "iopub.status.idle": "2021-04-16T19:35:40.375993Z",
          "shell.execute_reply": "2021-04-16T19:35:40.375477Z"
        },
        "colab": {
          "base_uri": "https://localhost:8080/",
          "height": 297
        },
        "id": "BtWHc9YBnoNE",
        "outputId": "909bd390-ada4-44f8-eb14-1d4d3c125732"
      },
      "outputs": [
        {
          "output_type": "display_data",
          "data": {
            "text/plain": [
              "<Figure size 432x288 with 1 Axes>"
            ],
            "image/png": "[encoded data removed]"
          },
          "metadata": {
            "needs_background": "light"
          }
        }
      ],
      "source": [
        "# Solution goes here\n",
        "\n",
        "pred_canucks = make_mixture(canucks, pmf_seq)\n",
        "\n",
        "pred_canucks.bar(label='Canucks')\n",
        "decorate_goals('Posterior predictive distribution')"
      ]
    },
    {
      "cell_type": "code",
      "execution_count": 61,
      "metadata": {
        "execution": {
          "iopub.execute_input": "2021-04-16T19:35:40.389727Z",
          "iopub.status.busy": "2021-04-16T19:35:40.389285Z",
          "iopub.status.idle": "2021-04-16T19:35:40.629676Z",
          "shell.execute_reply": "2021-04-16T19:35:40.629239Z"
        },
        "colab": {
          "base_uri": "https://localhost:8080/"
        },
        "id": "wD26D-T2noNE",
        "outputId": "d37147ae-5ebb-4b0c-d324-56f2cfeee2e8"
      },
      "outputs": [
        {
          "output_type": "execute_result",
          "data": {
            "text/plain": [
              "(0.7038631514645926, 0.16111690750716465, 0.1350199410282429)"
            ]
          },
          "metadata": {},
          "execution_count": 61
        }
      ],
      "source": [
        "# Solution goes here\n",
        "\n",
        "win = Pmf.prob_gt(pred_bruins, pred_canucks)\n",
        "lose = Pmf.prob_lt(pred_bruins, pred_canucks)\n",
        "tie = Pmf.prob_eq(pred_bruins, pred_canucks)\n",
        "\n",
        "win, lose, tie"
      ]
    },
    {
      "cell_type": "code",
      "execution_count": 62,
      "metadata": {
        "execution": {
          "iopub.execute_input": "2021-04-16T19:35:40.634426Z",
          "iopub.status.busy": "2021-04-16T19:35:40.633703Z",
          "iopub.status.idle": "2021-04-16T19:35:40.636896Z",
          "shell.execute_reply": "2021-04-16T19:35:40.636374Z"
        },
        "colab": {
          "base_uri": "https://localhost:8080/"
        },
        "id": "hPlRnceCnoNE",
        "outputId": "8cd2b22d-99da-4720-8af9-3be21f8a8b6b"
      },
      "outputs": [
        {
          "output_type": "execute_result",
          "data": {
            "text/plain": [
              "0.771373121978714"
            ]
          },
          "metadata": {},
          "execution_count": 62
        }
      ],
      "source": [
        "# Solution goes here\n",
        "p = win + tie/2\n",
        "p"
      ]
    },
    {
      "cell_type": "code",
      "execution_count": 63,
      "metadata": {
        "execution": {
          "iopub.execute_input": "2021-04-16T19:35:40.641477Z",
          "iopub.status.busy": "2021-04-16T19:35:40.640795Z",
          "iopub.status.idle": "2021-04-16T19:35:40.643879Z",
          "shell.execute_reply": "2021-04-16T19:35:40.644307Z"
        },
        "colab": {
          "base_uri": "https://localhost:8080/"
        },
        "id": "k6X8A7-WnoNE",
        "outputId": "9d0186d2-4422-457d-a89d-b70dcb2b184c"
      },
      "outputs": [
        {
          "output_type": "execute_result",
          "data": {
            "text/plain": [
              "0.8670900197850085"
            ]
          },
          "metadata": {},
          "execution_count": 63
        }
      ],
      "source": [
        "# Solution goes here\n",
        "from scipy.stats import binom\n",
        "\n",
        "n = 3\n",
        "a = binom.pmf([2,3], n, p)\n",
        "a.sum()"
      ]
    },
    {
      "cell_type": "code",
      "execution_count": 64,
      "metadata": {
        "execution": {
          "iopub.execute_input": "2021-04-16T19:35:40.649670Z",
          "iopub.status.busy": "2021-04-16T19:35:40.648993Z",
          "iopub.status.idle": "2021-04-16T19:35:40.652576Z",
          "shell.execute_reply": "2021-04-16T19:35:40.652015Z"
        },
        "id": "FxyrmqZ2noNE"
      },
      "outputs": [],
      "source": [
        "# Solution goes here"
      ]
    },
    {
      "cell_type": "code",
      "execution_count": 64,
      "metadata": {
        "id": "JFxpRnBqnoNE"
      },
      "outputs": [],
      "source": []
    }
  ],
  "metadata": {
    "celltoolbar": "Tags",
    "kernelspec": {
      "display_name": "Python 3 (ipykernel)",
      "language": "python",
      "name": "python3"
    },
    "language_info": {
      "codemirror_mode": {
        "name": "ipython",
        "version": 3
      },
      "file_extension": ".py",
      "mimetype": "text/x-python",
      "name": "python",
      "nbconvert_exporter": "python",
      "pygments_lexer": "ipython3",
      "version": "3.8.12"
    },
    "colab": {
      "provenance": []
    }
  },
  "nbformat": 4,
  "nbformat_minor": 0
}